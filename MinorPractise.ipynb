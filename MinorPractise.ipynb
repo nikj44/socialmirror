{
 "cells": [
  {
   "cell_type": "markdown",
   "metadata": {},
   "source": [
    "<div class=\"alert alert-block alert-success\">\n",
    "This is a green background\n",
    "</div>"
   ]
  },
  {
   "cell_type": "code",
   "execution_count": 1,
   "metadata": {
    "colab": {},
    "colab_type": "code",
    "id": "Wv46R86Xd2og"
   },
   "outputs": [
    {
     "ename": "SyntaxError",
     "evalue": "invalid syntax (<ipython-input-1-6e76a0992122>, line 1)",
     "output_type": "error",
     "traceback": [
      "\u001b[1;36m  File \u001b[1;32m\"<ipython-input-1-6e76a0992122>\"\u001b[1;36m, line \u001b[1;32m1\u001b[0m\n\u001b[1;33m    <div class=\"alert alert-block alert-success\">\u001b[0m\n\u001b[1;37m    ^\u001b[0m\n\u001b[1;31mSyntaxError\u001b[0m\u001b[1;31m:\u001b[0m invalid syntax\n"
     ]
    }
   ],
   "source": [
    "from textblob import TextBlob"
   ]
  },
  {
   "cell_type": "code",
   "execution_count": 6,
   "metadata": {
    "colab": {
     "base_uri": "https://localhost:8080/",
     "height": 1000
    },
    "colab_type": "code",
    "id": "vCRTz-U6eVZC",
    "outputId": "8bdf52ae-8135-4b2a-e1e7-3fc6d1e7a0e9"
   },
   "outputs": [
    {
     "name": "stdout",
     "output_type": "stream",
     "text": [
      "showing info https://raw.githubusercontent.com/nltk/nltk_data/gh-pages/index.xml\n"
     ]
    },
    {
     "name": "stderr",
     "output_type": "stream",
     "text": [
      "[nltk_data] Downloading package punkt to C:\\Users\\Nikhil\n",
      "[nltk_data]     Jain\\AppData\\Roaming\\nltk_data...\n",
      "[nltk_data]   Package punkt is already up-to-date!\n"
     ]
    },
    {
     "data": {
      "text/plain": [
       "True"
      ]
     },
     "execution_count": 6,
     "metadata": {},
     "output_type": "execute_result"
    }
   ],
   "source": [
    "import nltk\n",
    "nltk.download()\n",
    "nltk.download('punkt')"
   ]
  },
  {
   "cell_type": "code",
   "execution_count": 7,
   "metadata": {
    "colab": {
     "base_uri": "https://localhost:8080/",
     "height": 187
    },
    "colab_type": "code",
    "id": "F1sAYSZ4eqqJ",
    "outputId": "7dfebb32-2ae2-42ec-fad9-c30de3362cfb"
   },
   "outputs": [
    {
     "data": {
      "text/plain": [
       "[('Nikhil', 'NNP'),\n",
       " ('Abhishek', 'NNP'),\n",
       " ('and', 'CC'),\n",
       " ('Harshit', 'NNP'),\n",
       " ('are', 'VBP'),\n",
       " ('making', 'VBG'),\n",
       " ('this', 'DT'),\n",
       " ('great', 'JJ'),\n",
       " ('minor', 'JJ'),\n",
       " ('project', 'NN')]"
      ]
     },
     "execution_count": 7,
     "metadata": {},
     "output_type": "execute_result"
    }
   ],
   "source": [
    "wiki = TextBlob(\"Nikhil, Abhishek and Harshit are making this great minor project\")\n",
    "wiki.tags"
   ]
  },
  {
   "cell_type": "code",
   "execution_count": 8,
   "metadata": {
    "colab": {
     "base_uri": "https://localhost:8080/",
     "height": 34
    },
    "colab_type": "code",
    "id": "4-9Vx_qBiPqx",
    "outputId": "2490d7c0-1274-442d-de57-0ab7c4de97be"
   },
   "outputs": [
    {
     "data": {
      "text/plain": [
       "WordList(['Nikhil', 'Abhishek', 'and', 'Harshit', 'are', 'making', 'this', 'great', 'minor', 'project'])"
      ]
     },
     "execution_count": 8,
     "metadata": {},
     "output_type": "execute_result"
    }
   ],
   "source": [
    "wiki.words"
   ]
  },
  {
   "cell_type": "code",
   "execution_count": 9,
   "metadata": {
    "colab": {
     "base_uri": "https://localhost:8080/",
     "height": 34
    },
    "colab_type": "code",
    "id": "brCPpR9Om1zi",
    "outputId": "2f5a9fc8-a284-4bc0-e729-d3e64a9b98ca"
   },
   "outputs": [
    {
     "data": {
      "text/plain": [
       "0.375"
      ]
     },
     "execution_count": 9,
     "metadata": {},
     "output_type": "execute_result"
    }
   ],
   "source": [
    "wiki.sentiment.polarity"
   ]
  },
  {
   "cell_type": "code",
   "execution_count": 10,
   "metadata": {
    "colab": {
     "base_uri": "https://localhost:8080/",
     "height": 187
    },
    "colab_type": "code",
    "id": "Tl3VJw-Tm7l-",
    "outputId": "8b0096cf-ee52-4993-9be0-28eb1ea02e61"
   },
   "outputs": [
    {
     "data": {
      "text/plain": [
       "[('Nikhil', 'NNP'),\n",
       " ('Abhishek', 'NNP'),\n",
       " ('and', 'CC'),\n",
       " ('Harshit', 'NNP'),\n",
       " ('are', 'VBP'),\n",
       " ('making', 'VBG'),\n",
       " ('this', 'DT'),\n",
       " ('bad', 'JJ'),\n",
       " ('minor', 'NN'),\n",
       " ('project', 'NN')]"
      ]
     },
     "execution_count": 10,
     "metadata": {},
     "output_type": "execute_result"
    }
   ],
   "source": [
    "wiki2 = TextBlob(\"Nikhil, Abhishek and Harshit are making this bad minor project\")\n",
    "wiki2.tags"
   ]
  },
  {
   "cell_type": "code",
   "execution_count": 11,
   "metadata": {
    "colab": {
     "base_uri": "https://localhost:8080/",
     "height": 34
    },
    "colab_type": "code",
    "id": "IgCUpHtNnXUa",
    "outputId": "1a6351b9-6637-4e85-f7f3-e937cb5aa45f"
   },
   "outputs": [
    {
     "data": {
      "text/plain": [
       "-0.37499999999999994"
      ]
     },
     "execution_count": 11,
     "metadata": {},
     "output_type": "execute_result"
    }
   ],
   "source": [
    "wiki2.sentiment.polarity"
   ]
  },
  {
   "cell_type": "code",
   "execution_count": 12,
   "metadata": {
    "colab": {},
    "colab_type": "code",
    "id": "BLoc-YI9na8g"
   },
   "outputs": [],
   "source": [
    "import tweepy"
   ]
  },
  {
   "cell_type": "code",
   "execution_count": 13,
   "metadata": {
    "colab": {},
    "colab_type": "code",
    "id": "lL-0puu-n627"
   },
   "outputs": [],
   "source": [
    "access_token = '740071211523264512-a4CDoXv6L3ZP8v41QyLnWo2rTW0Rum7'\n",
    "access_token_secret = 'Eu3qrJNGL3ocGZNOt7dm3bG4LvwjBxNfLeIsaveqPCmRT'\n",
    "\n",
    "api_key = '6CjV0v3Fl63O1uhBKiUbuHUux'\n",
    "api_secret_key = 'rlRxuUl5nBRAG7hY3wAf1NeCQgNwa3bGtJgV9fgQDoZDl2AQOx'"
   ]
  },
  {
   "cell_type": "code",
   "execution_count": 14,
   "metadata": {
    "colab": {},
    "colab_type": "code",
    "id": "6loEiOpTy2es"
   },
   "outputs": [],
   "source": [
    "auth = tweepy.OAuthHandler(api_key, api_secret_key)\n",
    "auth.set_access_token(access_token, access_token_secret)"
   ]
  },
  {
   "cell_type": "code",
   "execution_count": 15,
   "metadata": {
    "colab": {},
    "colab_type": "code",
    "id": "RW0qwmRVzgWO"
   },
   "outputs": [],
   "source": [
    "api = tweepy.API(auth)"
   ]
  },
  {
   "cell_type": "code",
   "execution_count": 16,
   "metadata": {
    "colab": {
     "base_uri": "https://localhost:8080/",
     "height": 595
    },
    "colab_type": "code",
    "id": "ISllvr1q0a5u",
    "outputId": "a39c7c51-c89b-4e96-82c5-18f5a2021023"
   },
   "outputs": [
    {
     "name": "stdout",
     "output_type": "stream",
     "text": [
      "RT @RealMattCouch: Now Chris Wallace is attacking President Trump for saying patients with little to no help should take Hydroxychloroquine…\n",
      "Sentiment(polarity=-0.1875, subjectivity=0.5)\n",
      "@jeffreysthayer @TheRightMelissa It seems the wonder drug Trump prescribed the nation has slowed the curve in New Y… https://t.co/drviOe4Wvm\n",
      "Sentiment(polarity=0.13636363636363635, subjectivity=0.45454545454545453)\n",
      "RT @CGTNOfficial: Canadian Prime Minister @JustinTrudeau said on Saturday that Canada will not take retaliatory measures against the United…\n",
      "Sentiment(polarity=0.0, subjectivity=0.0)\n",
      "RT @Inevitable_ET: Majority of twitter trends right now are attacking Trump. \n",
      "\n",
      "Smells like fear.\n",
      "Sentiment(polarity=0.2857142857142857, subjectivity=0.5357142857142857)\n",
      "RT @tedcruz: Failing to prepare? Yes, fed govt should have done more, but you &amp; Obama ran the executive branch for EIGHT years, you deplete…\n",
      "Sentiment(polarity=0.5, subjectivity=0.5)\n",
      "RT @DianeHerrmann8: @RodneyCaston I think our oversight committee needs to check out the shaddow companies set up w/ Trump &amp; Novartis.\n",
      "Sentiment(polarity=0.0, subjectivity=0.0)\n",
      "RT @ddale8: Here’s Trump’s public schedule for tomorrow. (Public schedules don’t include all of a president’s activities.) https://t.co/m3s…\n",
      "Sentiment(polarity=0.0, subjectivity=0.06666666666666667)\n",
      "RT @e2pilot: Democrats 1933: “The only thing we have to fear is fear itself\"\n",
      "\n",
      "Democrats 2020: \"The only thing we have to fear is Trump bein…\n",
      "Sentiment(polarity=0.0, subjectivity=1.0)\n",
      "@joescuba007 @Nick07088476 @AGHamilton29 @GlennKesslerWP That was 2 weeks ago. Last week was double this, 6 million… https://t.co/2IlsnrGGyD\n",
      "Sentiment(polarity=0.0, subjectivity=0.03333333333333333)\n",
      "RT @SenSchumer: President Trump hates when people say what he doesn’t want to hear: The truth.\n",
      "\n",
      "Our country is a better place because of pa…\n",
      "Sentiment(polarity=0.5, subjectivity=0.5)\n",
      "RT @Jali_Cat: Gawwww SHUT UPPPPPPP!\n",
      "\n",
      "Are YOU SICK of these unhinged TDS ppl at @NBCNews &amp; their CONSTANT negativity &amp; hate??\n",
      "\n",
      "FYI @DrNatali…\n",
      "Sentiment(polarity=-0.5047619047619047, subjectivity=0.6968253968253969)\n",
      "RT @JoeBiden: Every day that Donald Trump refuses to use the full power of the Defense Production Act further threatens American lives.\n",
      "Sentiment(polarity=0.11666666666666665, subjectivity=0.35000000000000003)\n",
      "RT @RealAmyKennedy: @SirRudolf714 @DemSocialistUS @JoeBiden It would not be a 5-4 court if Trump didn't win in 2016, despite the constant r…\n",
      "Sentiment(polarity=0.4, subjectivity=0.3666666666666667)\n",
      "RT @MalcolmNance: QUESTION: Who is getting rich off Trump’s  pushing cholorquine? #WhoIsGettingTheMoney\n",
      "Sentiment(polarity=0.375, subjectivity=0.75)\n",
      "RT @washingtonpost: Inspector general who handled Ukraine whistleblower complaint says ‘it’s hard not to think’ he was fired by Trump for d…\n",
      "Sentiment(polarity=-0.18055555555555555, subjectivity=0.4138888888888889)\n"
     ]
    }
   ],
   "source": [
    "public_tweets = api.search('Trump')\n",
    "for tweet in public_tweets:\n",
    "  print(tweet.text)\n",
    "  analysis = TextBlob(tweet.text)\n",
    "  print(analysis.sentiment)\n"
   ]
  },
  {
   "cell_type": "code",
   "execution_count": null,
   "metadata": {
    "colab": {},
    "colab_type": "code",
    "id": "NNOWHTf81UPo"
   },
   "outputs": [],
   "source": []
  },
  {
   "cell_type": "code",
   "execution_count": null,
   "metadata": {},
   "outputs": [],
   "source": []
  }
 ],
 "metadata": {
  "accelerator": "GPU",
  "colab": {
   "name": "MinorPractise.ipynb",
   "provenance": []
  },
  "kernelspec": {
   "display_name": "Python 3",
   "language": "python",
   "name": "python3"
  },
  "language_info": {
   "codemirror_mode": {
    "name": "ipython",
    "version": 3
   },
   "file_extension": ".py",
   "mimetype": "text/x-python",
   "name": "python",
   "nbconvert_exporter": "python",
   "pygments_lexer": "ipython3",
   "version": "3.7.7"
  }
 },
 "nbformat": 4,
 "nbformat_minor": 1
}
