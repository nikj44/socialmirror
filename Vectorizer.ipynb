{
 "cells": [
  {
   "cell_type": "code",
   "execution_count": 1,
   "metadata": {
    "colab": {},
    "colab_type": "code",
    "id": "JNxyFBjb562U"
   },
   "outputs": [],
   "source": [
    "#Installing Standard Libraries\n",
    "import pandas as pd\n",
    "import matplotlib.pyplot as plt\n",
    "import numpy as np\n",
    "import nltk\n",
    "import string\n",
    "import re\n",
    "%matplotlib inline\n",
    "pd.set_option('display.max_colwidth', 100)\n",
    "import nltk\n",
    "import re\n",
    "from nltk.corpus import stopwords\n",
    "ps = nltk.PorterStemmer()"
   ]
  },
  {
   "cell_type": "markdown",
   "metadata": {},
   "source": [
    "# Installing Libraries"
   ]
  },
  {
   "cell_type": "code",
   "execution_count": 2,
   "metadata": {
    "colab": {},
    "colab_type": "code",
    "id": "pvq-b0RA5s53"
   },
   "outputs": [],
   "source": [
    "from sklearn.feature_extraction.text import CountVectorizer\n",
    "from sklearn.feature_extraction.text import TfidfVectorizer"
   ]
  },
  {
   "cell_type": "markdown",
   "metadata": {},
   "source": [
    "# Checking CountVectorizer"
   ]
  },
  {
   "cell_type": "code",
   "execution_count": 3,
   "metadata": {
    "colab": {
     "base_uri": "https://localhost:8080/",
     "height": 470
    },
    "colab_type": "code",
    "id": "40jnmr7e53x9",
    "outputId": "f9f6bdc8-6a41-44d9-c96d-9d208c2c0cb0"
   },
   "outputs": [
    {
     "name": "stdout",
     "output_type": "stream",
     "text": [
      "{'this': 9, 'program': 8, 'is': 4, 'created': 2, 'by': 1, 'nikhil': 7, 'jain': 5, 'has': 3, 'many': 6, 'applications': 0}\n",
      "['applications', 'by', 'created', 'has', 'is', 'jain', 'many', 'nikhil', 'program', 'this']\n",
      "(3, 10)\n",
      "[[0 1 1 0 1 1 0 1 1 1]\n",
      " [0 0 1 1 0 0 0 1 1 1]\n",
      " [1 0 0 1 0 0 1 0 1 1]]\n",
      "  (0, 1)\t1\n",
      "  (0, 2)\t1\n",
      "  (0, 4)\t1\n",
      "  (0, 5)\t1\n",
      "  (0, 7)\t1\n",
      "  (0, 8)\t1\n",
      "  (0, 9)\t1\n",
      "  (1, 2)\t1\n",
      "  (1, 3)\t1\n",
      "  (1, 7)\t1\n",
      "  (1, 8)\t1\n",
      "  (1, 9)\t1\n",
      "  (2, 0)\t1\n",
      "  (2, 3)\t1\n",
      "  (2, 6)\t1\n",
      "  (2, 8)\t1\n",
      "  (2, 9)\t1\n",
      "   applications  by  created  has  is  jain  many  nikhil  program  this\n",
      "0             0   1        1    0   1     1     0       1        1     1\n",
      "1             0   0        1    1   0     0     0       1        1     1\n",
      "2             1   0        0    1   0     0     1       0        1     1\n"
     ]
    }
   ],
   "source": [
    "#Dimensional analysis of countvectorizer\n",
    "cv = CountVectorizer()\n",
    "\n",
    "corpus = [\"This program is created by Nikhil Jain\",\n",
    "         \"Nikhil has created this program\",\n",
    "         \"This program has many applications\"]\n",
    "\n",
    "X = cv.fit(corpus)\n",
    "print(X.vocabulary_)\n",
    "print(cv.get_feature_names())\n",
    "\n",
    "X = cv.transform(corpus)\n",
    "#X = cv.fit_transform(corpus) #combinng fit and transform in one step\n",
    "print(X.shape)\n",
    "print(X.toarray())\n",
    "print(X)\n",
    "\n",
    "df_demo_cv = pd.DataFrame(X.toarray(), columns = cv.get_feature_names())\n",
    "print(df_demo_cv)"
   ]
  },
  {
   "cell_type": "markdown",
   "metadata": {},
   "source": [
    "# Custom Clean Function"
   ]
  },
  {
   "cell_type": "code",
   "execution_count": 4,
   "metadata": {
    "colab": {
     "base_uri": "https://localhost:8080/",
     "height": 50
    },
    "colab_type": "code",
    "id": "8zzwTZLp5-QA",
    "outputId": "2ad54e02-6db8-46bf-9890-24792cda71c4"
   },
   "outputs": [
    {
     "name": "stderr",
     "output_type": "stream",
     "text": [
      "[nltk_data] Downloading package stopwords to C:\\Users\\Nikhil\n",
      "[nltk_data]     Jain\\AppData\\Roaming\\nltk_data...\n",
      "[nltk_data]   Package stopwords is already up-to-date!\n"
     ]
    }
   ],
   "source": [
    "from nltk.corpus import stopwords\n",
    "nltk.download('stopwords')\n",
    "stopword = nltk.corpus.stopwords.words('english')\n",
    "stopword.append('label')\n",
    "\n",
    "pd.options.mode.chained_assignment = None  # default='warn'\n",
    "\n",
    "\n",
    "#custiom clean function\n",
    "def clean_text(text):\n",
    "    text_lc = \"\".join([word.lower() for word in text if word not in string.punctuation]) # remove puntuation\n",
    "    text_rc = re.sub('[0-9]+', ' ', text_lc)\n",
    "    tokens = re.split('\\W+', text_rc)    # tokenization\n",
    "    text = [ps.stem(word) for word in tokens if word not in stopword]  # remove stopwords and stemming\n",
    "    return text"
   ]
  },
  {
   "cell_type": "code",
   "execution_count": null,
   "metadata": {
    "colab": {
     "base_uri": "https://localhost:8080/",
     "height": 74,
     "resources": {
      "http://localhost:8080/nbextensions/google.colab/files.js": {
       "data": "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",
       "headers": [
        [
         "content-type",
         "application/javascript"
        ]
       ],
       "ok": true,
       "status": 200,
       "status_text": ""
      }
     }
    },
    "colab_type": "code",
    "id": "OTP48-R26sgW",
    "outputId": "80f06f86-a525-488b-bc67-861a111213f7"
   },
   "outputs": [],
   "source": []
  },
  {
   "cell_type": "code",
   "execution_count": 5,
   "metadata": {
    "colab": {},
    "colab_type": "code",
    "id": "hOlFmph--9yk"
   },
   "outputs": [],
   "source": [
    "tweets_all = pd.read_csv(\"tweets_all_csv.csv\") "
   ]
  },
  {
   "cell_type": "code",
   "execution_count": 9,
   "metadata": {
    "colab": {
     "base_uri": "https://localhost:8080/",
     "height": 402
    },
    "colab_type": "code",
    "id": "dgUA6i1s6BeP",
    "outputId": "02a6734c-bd22-488d-b1c8-d95e2d1c90f7"
   },
   "outputs": [
    {
     "data": {
      "text/html": [
       "<div>\n",
       "<style scoped>\n",
       "    .dataframe tbody tr th:only-of-type {\n",
       "        vertical-align: middle;\n",
       "    }\n",
       "\n",
       "    .dataframe tbody tr th {\n",
       "        vertical-align: top;\n",
       "    }\n",
       "\n",
       "    .dataframe thead th {\n",
       "        text-align: right;\n",
       "    }\n",
       "</style>\n",
       "<table border=\"1\" class=\"dataframe\">\n",
       "  <thead>\n",
       "    <tr style=\"text-align: right;\">\n",
       "      <th></th>\n",
       "      <th>Unnamed: 0</th>\n",
       "      <th>label</th>\n",
       "      <th>tweet_id</th>\n",
       "      <th>date_time</th>\n",
       "      <th>user_id</th>\n",
       "      <th>tweet</th>\n",
       "    </tr>\n",
       "  </thead>\n",
       "  <tbody>\n",
       "    <tr>\n",
       "      <th>25000</th>\n",
       "      <td>795000</td>\n",
       "      <td>0</td>\n",
       "      <td>2327193206</td>\n",
       "      <td>Thu Jun 25 08:02:16 PDT 2009</td>\n",
       "      <td>djcampos</td>\n",
       "      <td>Blah 5am still up  daang I got deep problems</td>\n",
       "    </tr>\n",
       "    <tr>\n",
       "      <th>25001</th>\n",
       "      <td>795001</td>\n",
       "      <td>0</td>\n",
       "      <td>2327193455</td>\n",
       "      <td>Thu Jun 25 08:02:17 PDT 2009</td>\n",
       "      <td>RKF</td>\n",
       "      <td>@jenspeedy I would suggest avoiding 360 Living.  Not goodness    Try contacting Scott at MKCC mk...</td>\n",
       "    </tr>\n",
       "    <tr>\n",
       "      <th>25002</th>\n",
       "      <td>795002</td>\n",
       "      <td>0</td>\n",
       "      <td>2327193641</td>\n",
       "      <td>Thu Jun 25 08:02:18 PDT 2009</td>\n",
       "      <td>AnaHertz</td>\n",
       "      <td>@alexbroun I didn't convince myself I was fat and ugly someone else did a pretty good job of tha...</td>\n",
       "    </tr>\n",
       "    <tr>\n",
       "      <th>25003</th>\n",
       "      <td>795003</td>\n",
       "      <td>0</td>\n",
       "      <td>2327193806</td>\n",
       "      <td>Thu Jun 25 08:02:18 PDT 2009</td>\n",
       "      <td>yenafer</td>\n",
       "      <td>@spotzle @jstarrh check on sunscreen, snacks, towels, suits, kids  drinks, bags and tape for boy...</td>\n",
       "    </tr>\n",
       "    <tr>\n",
       "      <th>25004</th>\n",
       "      <td>795004</td>\n",
       "      <td>0</td>\n",
       "      <td>2327193864</td>\n",
       "      <td>Thu Jun 25 08:02:19 PDT 2009</td>\n",
       "      <td>eppoponotumus</td>\n",
       "      <td>im sitting alone at TTE myself without my two michigan sisters for the first time in a decade.</td>\n",
       "    </tr>\n",
       "    <tr>\n",
       "      <th>...</th>\n",
       "      <td>...</td>\n",
       "      <td>...</td>\n",
       "      <td>...</td>\n",
       "      <td>...</td>\n",
       "      <td>...</td>\n",
       "      <td>...</td>\n",
       "    </tr>\n",
       "    <tr>\n",
       "      <th>34995</th>\n",
       "      <td>804995</td>\n",
       "      <td>1</td>\n",
       "      <td>1468599688</td>\n",
       "      <td>Tue Apr 07 02:39:04 PDT 2009</td>\n",
       "      <td>joscelinyeo</td>\n",
       "      <td>@ickleoriental hahahha.. U obviously don't hv one!! But maybe u can give me advice?  Fdw.. Forei...</td>\n",
       "    </tr>\n",
       "    <tr>\n",
       "      <th>34996</th>\n",
       "      <td>804996</td>\n",
       "      <td>1</td>\n",
       "      <td>1468599702</td>\n",
       "      <td>Tue Apr 07 02:39:04 PDT 2009</td>\n",
       "      <td>serengetisunset</td>\n",
       "      <td>@juliekoh It's an internet term, but it's spilled over into common use, in real life</td>\n",
       "    </tr>\n",
       "    <tr>\n",
       "      <th>34997</th>\n",
       "      <td>804997</td>\n",
       "      <td>1</td>\n",
       "      <td>1468599765</td>\n",
       "      <td>Tue Apr 07 02:39:06 PDT 2009</td>\n",
       "      <td>broombeck</td>\n",
       "      <td>new day.... NEW TRACK!!!!</td>\n",
       "    </tr>\n",
       "    <tr>\n",
       "      <th>34998</th>\n",
       "      <td>804998</td>\n",
       "      <td>1</td>\n",
       "      <td>1468599793</td>\n",
       "      <td>Tue Apr 07 02:39:07 PDT 2009</td>\n",
       "      <td>aptronym</td>\n",
       "      <td>@foodieguide Okay we need to have a competition to see whether you or I have the dodgiest Canton...</td>\n",
       "    </tr>\n",
       "    <tr>\n",
       "      <th>34999</th>\n",
       "      <td>804999</td>\n",
       "      <td>1</td>\n",
       "      <td>1468599816</td>\n",
       "      <td>Tue Apr 07 02:39:06 PDT 2009</td>\n",
       "      <td>hybrid756</td>\n",
       "      <td>@PerfectElement noooooooo i wish, I just saw it advertised, lmao. I am going for this one!!</td>\n",
       "    </tr>\n",
       "  </tbody>\n",
       "</table>\n",
       "<p>10000 rows × 6 columns</p>\n",
       "</div>"
      ],
      "text/plain": [
       "       Unnamed: 0  label    tweet_id                     date_time  \\\n",
       "25000      795000      0  2327193206  Thu Jun 25 08:02:16 PDT 2009   \n",
       "25001      795001      0  2327193455  Thu Jun 25 08:02:17 PDT 2009   \n",
       "25002      795002      0  2327193641  Thu Jun 25 08:02:18 PDT 2009   \n",
       "25003      795003      0  2327193806  Thu Jun 25 08:02:18 PDT 2009   \n",
       "25004      795004      0  2327193864  Thu Jun 25 08:02:19 PDT 2009   \n",
       "...           ...    ...         ...                           ...   \n",
       "34995      804995      1  1468599688  Tue Apr 07 02:39:04 PDT 2009   \n",
       "34996      804996      1  1468599702  Tue Apr 07 02:39:04 PDT 2009   \n",
       "34997      804997      1  1468599765  Tue Apr 07 02:39:06 PDT 2009   \n",
       "34998      804998      1  1468599793  Tue Apr 07 02:39:07 PDT 2009   \n",
       "34999      804999      1  1468599816  Tue Apr 07 02:39:06 PDT 2009   \n",
       "\n",
       "               user_id  \\\n",
       "25000         djcampos   \n",
       "25001              RKF   \n",
       "25002         AnaHertz   \n",
       "25003          yenafer   \n",
       "25004    eppoponotumus   \n",
       "...                ...   \n",
       "34995      joscelinyeo   \n",
       "34996  serengetisunset   \n",
       "34997        broombeck   \n",
       "34998         aptronym   \n",
       "34999        hybrid756   \n",
       "\n",
       "                                                                                                     tweet  \n",
       "25000                                                         Blah 5am still up  daang I got deep problems  \n",
       "25001  @jenspeedy I would suggest avoiding 360 Living.  Not goodness    Try contacting Scott at MKCC mk...  \n",
       "25002  @alexbroun I didn't convince myself I was fat and ugly someone else did a pretty good job of tha...  \n",
       "25003  @spotzle @jstarrh check on sunscreen, snacks, towels, suits, kids  drinks, bags and tape for boy...  \n",
       "25004     im sitting alone at TTE myself without my two michigan sisters for the first time in a decade.    \n",
       "...                                                                                                    ...  \n",
       "34995  @ickleoriental hahahha.. U obviously don't hv one!! But maybe u can give me advice?  Fdw.. Forei...  \n",
       "34996                @juliekoh It's an internet term, but it's spilled over into common use, in real life   \n",
       "34997                                                                           new day.... NEW TRACK!!!!   \n",
       "34998  @foodieguide Okay we need to have a competition to see whether you or I have the dodgiest Canton...  \n",
       "34999         @PerfectElement noooooooo i wish, I just saw it advertised, lmao. I am going for this one!!   \n",
       "\n",
       "[10000 rows x 6 columns]"
      ]
     },
     "execution_count": 9,
     "metadata": {},
     "output_type": "execute_result"
    }
   ],
   "source": [
    "tweets_less = tweets_all[25000:35000]\n",
    "tweets_less"
   ]
  },
  {
   "cell_type": "code",
   "execution_count": 10,
   "metadata": {
    "colab": {
     "base_uri": "https://localhost:8080/",
     "height": 218
    },
    "colab_type": "code",
    "id": "qjlHyFQN6BVQ",
    "outputId": "747b1c67-847c-4163-ab09-ba705fb6745c"
   },
   "outputs": [
    {
     "data": {
      "text/plain": [
       "<bound method NDFrame.head of 25000    0\n",
       "25001    0\n",
       "25002    0\n",
       "25003    0\n",
       "25004    0\n",
       "        ..\n",
       "34995    1\n",
       "34996    1\n",
       "34997    1\n",
       "34998    1\n",
       "34999    1\n",
       "Name: label, Length: 10000, dtype: int64>"
      ]
     },
     "execution_count": 10,
     "metadata": {},
     "output_type": "execute_result"
    }
   ],
   "source": [
    "tweets_less['label'].head"
   ]
  },
  {
   "cell_type": "code",
   "execution_count": 11,
   "metadata": {
    "colab": {
     "base_uri": "https://localhost:8080/",
     "height": 67
    },
    "colab_type": "code",
    "id": "mCnaQteh6BRw",
    "outputId": "b963ae69-568d-4c65-b790-685cf790f4b8"
   },
   "outputs": [
    {
     "data": {
      "text/plain": [
       "1    5001\n",
       "0    4999\n",
       "Name: label, dtype: int64"
      ]
     },
     "execution_count": 11,
     "metadata": {},
     "output_type": "execute_result"
    }
   ],
   "source": [
    "tweets_less['label'].value_counts()"
   ]
  },
  {
   "cell_type": "markdown",
   "metadata": {},
   "source": [
    "# Feature Names for CV"
   ]
  },
  {
   "cell_type": "code",
   "execution_count": 12,
   "metadata": {
    "colab": {
     "base_uri": "https://localhost:8080/",
     "height": 34
    },
    "colab_type": "code",
    "id": "nDom0MIq6BO3",
    "outputId": "9adc9c6b-4623-4ebc-86e0-34fa3ca3a68b"
   },
   "outputs": [
    {
     "name": "stdout",
     "output_type": "stream",
     "text": [
      "(10000, 15989)\n"
     ]
    }
   ],
   "source": [
    "cv1 = CountVectorizer(analyzer = clean_text)\n",
    "\n",
    "X = cv1.fit_transform(tweets_less['tweet'])\n",
    "print(X.shape) \n",
    "#so for example 10 rows, having 69 unique tokens, or features, or columns, or words"
   ]
  },
  {
   "cell_type": "code",
   "execution_count": 13,
   "metadata": {
    "colab": {
     "base_uri": "https://localhost:8080/",
     "height": 54
    },
    "colab_type": "code",
    "id": "L0iVqtbP6BLB",
    "outputId": "445708cf-705d-404b-fce1-060f82188dbb"
   },
   "outputs": [
    {
     "name": "stdout",
     "output_type": "stream",
     "text": [
      "['', 'aaaaag', 'aaaaahhh', 'aaaaahhhh', 'aaaall', 'aaaand', 'aaaawwwhey', 'aaah', 'aaajaayradd', 'aaargh', 'aaarrrrgghhhh', 'aaaww', 'aaawwww', 'aad', 'aahoogendoorn', 'aaminahh', 'aampj', 'aargh', 'aaronfilmmak', 'aaronmiciah', 'aaronshal', 'aaru', 'abacab', 'abay', 'abbi', 'abbyjeann', 'abc', 'abcdefglyni', 'abcess', 'abdomen', 'abegrub', 'aber', 'aberdeenfc', 'aberystwythart', 'abhisheknagar', 'abhishektiwari', 'abhishekupadhya', 'abi', 'abigail', 'abigaillovesy', 'abik', 'abil', 'abipip', 'abisignorelli', 'abit', 'abl', 'ablt', 'abolish', 'aboogi', 'abroad', 'absolut', 'absolutley', 'absorb', 'abt', 'abus', 'ac', 'acabo', 'academi', 'accent', 'accept', 'access', 'accessquot', 'accid', 'accident', 'accom', 'accomod', 'accompani', 'accomplish', 'accord', 'account', 'accountlook', 'accross', 'accshan', 'acct', 'accur', 'accus', 'ace', 'acebowman', 'ach', 'achaha', 'achen', 'achetã', 'achiev', 'achievin', 'achil', 'achm', 'ack', 'ackin', 'acknowledg', 'acland', 'acm', 'acmast', 'acowboyswif', 'across', 'acsam', 'act', 'action', 'actionscriptxml', 'activ', 'activist', 'actor', 'actress', 'actual', 'actuali', 'acupunctur', 'ad', 'adalinelangton', 'adalinemus', 'adam', 'adambuxton', 'adamcsmith', 'adamdext', 'adamdscott', 'adamjackson', 'adamlawlz', 'adammshankman', 'adamrburton', 'adamrothwel', 'adamspiel', 'adapaavi', 'adapt', 'aday', 'add', 'addi', 'addict', 'addit', 'additon', 'addl', 'address', 'addthi', 'addx', 'adel', 'adelaideh', 'adelin', 'adelineski', 'adenik', 'adhochazel', 'adik', 'adisson', 'adium', 'adjust', 'adm', 'admetcetera', 'admin', 'administr', 'admir', 'admiss', 'admit', 'adnam', 'adob', 'adolesc', 'ador', 'adoracion', 'adotmdot', 'adrianaacosta', 'adrianalemu', 'adrianna', 'adricorn', 'adrielhampton', 'adriman', 'adriyah', 'adtech', 'adult', 'adulthood', 'advanc', 'advantag', 'adventur', 'advert', 'advertis', 'advic', 'adword', 'ae', 'aesthet', 'af', 'afallendevil', 'afar', 'affect', 'affirm', 'afford', 'afghanartistri', 'afl', 'afraid', 'african', 'afterallfor', 'aftermidnightproject', 'afternoon', 'afterparti', 'afterward', 'aftr', 'againn', 'againnyaha', 'againright', 'againso', 'againstil', 'againwhilst', 'againwith', 'againï', 'age', 'agen', 'agenc', 'agentbooth', 'agentofchang', 'agghhhh', 'aggress', 'agil', 'ago', 'agomi', 'agre', 'agreefallout', 'agreemad', 'agress', 'agua', 'ah', 'aha', 'ahah', 'ahaha', 'ahahagood', 'ahahah', 'ahahaha', 'ahahhaha', 'ahan', 'ahanoth', 'ahead', 'aheartofstar', 'ahem', 'ahern', 'ahh', 'ahha', 'ahhaahhaha', 'ahhah', 'ahhcolleg', 'ahhh', 'ahhhh', 'ahhhhh', 'ahhhhhhhhhhhhh', 'ahhhsign', 'ahhsudden', 'ahi', 'ahm', 'ahnoth', 'ahupuaa', 'ai', 'aid', 'aiden', 'aidenchan', 'aiduong', 'aiesec', 'aig', 'aight', 'aikabel', 'aileenabigail', 'aileenburn', 'aim', 'aime', 'aimeenbarn', 'ainaalano', 'aint', 'aintitcoolcom', 'aior', 'aiorselvar', 'aiport', 'air', 'airfiel', 'airlin', 'airnchoo', 'airopium', 'airplan', 'airplanemancf', 'airport', 'airrip', 'airrun', 'aisha', 'aisl', 'aiya', 'aiyanasimon', 'aja', 'ajbomb', 'ajschokora', 'aka', 'akali', 'akelaa', 'akhepcat', 'akimbo', 'akita', 'akmedia', 'akng', 'ako', 'akshatk', 'aktual', 'al', 'ala', 'alabast', 'alam', 'alameda', 'alamia', 'alan', 'alancostello', 'alandistro', 'alannanoel', 'alarm', 'alaska', 'alaskaair', 'albarn', 'albedo', 'albert', 'albertusdima', 'albinla', 'album', 'alcarcalimo', 'alcohol', 'aldoturangan', 'ale', 'aleevz', 'alefragisp', 'alert', 'alex', 'alexa', 'alexand', 'alexandramus', 'alexbroun', 'alexcashcash', 'alexcov', 'alexcraven', 'alexhighton', 'alexiaaa', 'alexmetr', 'alexpuig', 'alextrafford', 'alexx', 'alfi', 'algorithm', 'ali', 'alic', 'alicam', 'alicemainz', 'aliceverheij', 'alicia', 'alien', 'alienwar', 'align', 'alima', 'alioswald', 'aliredd', 'alirght', 'alisonhogarth', 'aliv', 'alivei', 'alivequot', 'alixsay', 'aliza', 'alizasherman', 'alkar', 'all', 'alla', 'allan', 'allanahk', 'allanatrogu', 'allegori', 'allen', 'allenjesson', 'allerg', 'allergi', 'alley', 'alleycat', 'allianc', 'allin', 'alllerg', 'alllll', 'allllll', 'allo', 'alloc', 'allow', 'allowancesheesh', 'allsort', 'allstarsonlin', 'alltooyoung', 'allway', 'allygee', 'almahh', 'almalacubana', 'almost', 'almostmayb', 'almostsurpris', 'alon', 'along', 'alonp', 'alot', 'alpaca', 'alpha', 'alphabetlqu', 'alphabit', 'alr', 'alrdi', 'alread', 'alreadi', 'alright', 'alrighti', 'alrit', 'also', 'alter', 'altern', 'although', 'alton', 'aluminum', 'alvhin', 'alvinkoay', 'alway', 'alweer', 'alwi', 'alyaqasthari', 'alzheimersadd', 'amaaaz', 'amalia', 'amanda', 'amandablum', 'amandadiva', 'amandaenjoy', 'amandahess', 'amandanicol', 'amandayoung', 'amariss', 'amaz', 'amazin', 'amazing', 'amazingg', 'amazinggg', 'amazingli', 'amazon', 'amazondotjon', 'amb', 'amber', 'amberbenson', 'ambercantrel', 'amberlili', 'amberlov', 'ambermunst', 'ambi', 'ambien', 'amedelrivero', 'amelia', 'amen', 'america', 'americah', 'american', 'amerika', 'amerikag', 'amethystfirefli', 'amfinish', 'amgiv', 'ami', 'amidst', 'amielr', 'amiestreet', 'amif', 'amineb', 'amish', 'amitsaha', 'amo', 'amoir', 'among', 'amongst', 'amount', 'amouto', 'amozon', 'amp', 'ampcatalognum', 'amphi', 'ampim', 'ampmak', 'ampmartidlutsdollamplevelyesampmothercatalognum', 'ampmt', 'amptitletwitterfrenzi', 'amritsar', 'amsterdam', 'amus', 'amyg', 'amyknapp', 'amylynnequist', 'amypalko', 'amyshel', 'an', 'ana', 'anahã', 'anal', 'analys', 'analysi', 'anaperiodista', 'anasalido', 'anash', 'anastasia', 'anatomi', 'anbudanbala', 'anchorag', 'anchorwoman', 'andakilsa', 'andami', 'andcalebsay', 'anddog', 'ander', 'andersen', 'anderson', 'anderssaugstrup', 'andhika', 'andi', 'andiismilez', 'andinto', 'andor', 'andrea', 'andreasauwaert', 'andrew', 'andrewcilleytmailcom', 'andrewdev', 'andrewgoodman', 'andrewhansen', 'andrewmey', 'andrewrimm', 'andrewrondeau', 'andrewsbit', 'andrewu', 'android', 'andybumatai', 'andyclemmensen', 'andydavi', 'andymccullough', 'andyvv', 'anefallarm', 'aneh', 'anferney', 'ang', 'anga', 'angel', 'angelalpev', 'angelamaria', 'angelasiracusa', 'angelastyl', 'angelawb', 'angelhugzzzzzzzzzzzz', 'angelicmischief', 'angelina', 'angelitapita', 'angelsmind', 'angelsquot', 'anger', 'angi', 'angiebatgirl', 'angiebert', 'angiekaybe', 'angiem', 'angieruiz', 'angiewrit', 'angilena', 'angri', 'angriiiii', 'angst', 'anguaji', 'anguish', 'angw', 'angwaage', 'anh', 'ani', 'aniita', 'anikaramirez', 'anim', 'animalquot', 'aniqax', 'anith', 'aniversari', 'anjelicaca', 'anjulinz', 'ankeshk', 'anki', 'ankl', 'ann', 'anna', 'annaarco', 'annaasaywhat', 'annabanaboo', 'annabelle', 'annablackabi', 'annara', 'annaraven', 'annasaccon', 'annekaf', 'annepmitchel', 'anneversteeg', 'annex', 'anni', 'annikara', 'anniversari', 'annnd', 'anno', 'announc', 'annoy', 'annoyedsaturdayschool', 'annoyingli', 'anomit', 'anonym', 'anoth', 'anotha', 'anotherjulia', 'anouk', 'anounc', 'anraiki', 'ansa', 'ansaaaudi', 'answer', 'ansya', 'ant', 'antartica', 'anthonycashcash', 'anthonyj', 'anthonymoyl', 'anthonyraneri', 'anti', 'antibiot', 'antibreakag', 'antibulli', 'antipov', 'antisoci', 'antonio', 'antonioj', 'antwoordbiblio', 'anuheajam', 'anwer', 'anxieti', 'anxiou', 'anybodi', 'anyhow', 'anymor', 'anyon', 'anyoneeee', 'anyplac', 'anyth', 'anythin', 'anytim', 'anywat', 'anyway', 'anywayby', 'anywaysss', 'anywher', 'aokiqiao', 'aol', 'aout', 'ap', 'apac', 'apach', 'apapachito', 'apar', 'aparajuli', 'apart', 'apartmentbut', 'apartquot', 'apartï', 'ape', 'apettit', 'apfel', 'api', 'apleaforaaron', 'apollo', 'apolog', 'aporto', 'apothecaryjeri', 'app', 'appalachaintrail', 'appalachian', 'appar', 'appear', 'appet', 'appetit', 'appl', 'applebe', 'appleccsf', 'applejacqu', 'applequot', 'applesauc', 'appli', 'applic', 'appoint', 'apprciat', 'apprecait', 'appreci', 'appreciatedim', 'approach', 'appropri', 'approv', 'approx', 'appt', 'apreezyl', 'april', 'aprildont', 'aprilfmay', 'aprilgod', 'aprilmiss', 'apt', 'aptana', 'aptim', 'apvladimir', 'aquarium', 'aqui', 'arab', 'arabsodmg', 'arataka', 'aravindjos', 'araza', 'architek', 'archuleta', 'arctic', 'ardenkhan', 'area', 'areamalta', 'arena', 'arent', 'arfanchaudhri', 'argh', 'arghhhh', 'argo', 'argu', 'argument', 'arh', 'arhi', 'ari', 'arielbh', 'ariesgirl', 'ariherzog', 'aritzia', 'arizona', 'arjankram', 'ark', 'arlasalcedo', 'arlenecd', 'arm', 'armada', 'armi', 'armin', 'arn', 'aroseofthank', 'around', 'aroundd', 'aroundmi', 'aroundwond', 'arp', 'arrang', 'arreeyi', 'arrest', 'arrgh', 'arriv', 'arrow', 'ars', 'art', 'artemisrex', 'artfir', 'arthimeera', 'articl', 'artist', 'artistictim', 'artistwel', 'artwork', 'artytyp', 'asap', 'asda', 'aseemsood', 'ash', 'ashct', 'ashdi', 'ashh', 'ashi', 'ashleeadam', 'ashley', 'ashleyadriana', 'ashleynk', 'ashleyrusso', 'ashleysay', 'ashnash', 'ashton', 'ashtont', 'ashuchan', 'ashuhbot', 'ashumitt', 'ashvala', 'asia', 'asiago', 'asiam', 'asianpersuazion', 'asid', 'asisharabi', 'ask', 'askar', 'asleeep', 'asleep', 'asleepand', 'asmodian', 'asomm', 'asosnat', 'asp', 'aspaonlin', 'aspect', 'asphyxi', 'aspir', 'ass', 'assant', 'assault', 'asscanc', 'assembl', 'assess', 'asshatteri', 'assign', 'assignmentcelebr', 'assist', 'asss', 'asssss', 'asst', 'assum', 'assur', 'assy', 'astartiel', 'astovidiu', 'astro', 'asu', 'asurana', 'aswel', 'aswinanand', 'atampt', 'ate', 'atebit', 'athen', 'ativan', 'ativey', 'atl', 'atlanta', 'atleast', 'atm', 'atmospher', 'atomickelli', 'atomictiki', 'atr', 'attach', 'attack', 'attempt', 'attempthi', 'attend', 'attent', 'attitud', 'attitude', 'attn', 'attorneyhogan', 'attract', 'attractmod', 'atwood', 'atxggranado', 'au', 'aubrey', 'auction', 'auctionrebel', 'audienc', 'audio', 'audiobooth', 'audit', 'audrey', 'audrina', 'aue', 'auf', 'aughmi', 'august', 'augustineiv', 'augusto', 'augustographi', 'aulia', 'aunt', 'auntcorna', 'aunti', 'aur', 'ausserdem', 'aussi', 'aussieali', 'aussiecyn', 'austin', 'austinmil', 'australia', 'australian', 'austria', 'austrian', 'authent', 'author', 'auto', 'autobot', 'autograph', 'autom', 'automat', 'autumn', 'auxillo', 'ava', 'avaibl', 'avail', 'availablequot', 'avalon', 'avang', 'avatar', 'avenu', 'avenuei', 'averag', 'averydol', 'averygoodyear', 'avi', 'avin', 'avocardo', 'avoid', 'avvi', 'aw', 'awak', 'awakemi', 'awaken', 'awar', 'award', 'away', 'awayand', 'awaybooo', 'awayjust', 'awaymi', 'awayrip', 'awayso', 'awe', 'aweosm', 'awesom', 'awesome', 'awesomelt', 'awesomesauc', 'awesometi', 'awh', 'awhil', 'awkward', 'awman', 'awn', 'awrest', 'awsom', 'aww', 'awwh', 'awwstop', 'awwthat', 'awww', 'awwwh', 'awwwlfarrah', 'awwwthat', 'awwww', 'awwwww', 'awwwwwh', 'awwwwwwwww', 'awwwwwwwwwwwwwwwh', 'axe', 'axel', 'axisport', 'axn', 'aye', 'ayei', 'ayo', 'ayumirollan', 'az', 'azelm', 'azlem', 'azmamakim', 'azuritetalk', 'b', 'ba', 'baaaaack', 'baaaaad', 'baaack', 'baawwnggggg', 'bab', 'baba', 'babbl', 'babe', 'babefranzi', 'babi', 'babiiesss', 'babiii', 'babsya', 'babybandit', 'babycak', 'babycakessss', 'babyfeet', 'babygirl', 'babyknightowl', 'babyloiysta', 'babylon', 'babylov', 'babymakinmachin', 'babyminaa', 'babysit', 'babysitterdirec', 'babythebear', 'babyxxxxx', 'bac', 'back', 'backbut', 'backend', 'background', 'backi', 'backneck', 'backpack', 'backstreet', 'backup', 'backward', 'backyard', 'bacn', 'bacon', 'bacteri', 'bacteria', 'bad', 'badanoth', 'badass', 'badd', 'badddd', 'badg', 'badheh', 'badi', 'badli', 'badminton', 'badmonkeh', 'badneg', 'bag', 'bagay', 'bagel', 'baghhh', 'bagl', 'bagsak', 'bah', 'baha', 'bahama', 'bahnight', 'bait', 'bak', 'bake', 'baker', 'bakergirl', 'bakeri', 'bakula', 'bal', 'balanc', 'balconi', 'bale', 'balik', 'ball', 'ballookey', 'balmainbel', 'baltacha', 'bam', 'bambam', 'bamboo', 'bambulkask', 'bampb', 'bampw', 'ban', 'banana', 'bananatoffe', 'bananza', 'band', 'bandag', 'bandaid', 'bandquot', 'bandung', 'bandwagon', 'bandwidth', 'bang', 'bangalor', 'banggggg', 'banj', 'banjbillion', 'banjo', 'bank', 'banner', 'banosne', 'bansal', 'baphomet', 'bar', 'baradrss', 'barbara', 'barbecu', 'barbi', 'barcelona', 'barcod', 'bare', 'barefoot', 'bargain', 'baristaalmost', 'bark', 'barnoah', 'barri', 'barrymor', 'bart', 'bartledoo', 'baru', 'base', 'basebal', 'basement', 'bash', 'basi', 'basibanget', 'basic', 'basij', 'basketbal', 'bass', 'bastard', 'bat', 'bata', 'bataan', 'batch', 'bath', 'bathbad', 'bathroom', 'bathtub', 'batt', 'batter', 'batteri', 'battl', 'battlefield', 'baumarkt', 'bawl', 'bay', 'bazaar', 'bazbiz', 'bb', 'bball', 'bbbboooorrrriiinnnggg', 'bbc', 'bberri', 'bbi', 'bbkwieen', 'bbm', 'bbq', 'bbqnyc', 'bbyboyyyi', 'bbz', 'bc', 'bcbournemouth', 'bcoz', 'bcum', 'bcuz', 'bd', 'bday', 'bdebow', 'bdiako', 'bea', 'beach', 'beachbar', 'beachitup', 'beacon', 'bead', 'beadiejay', 'beagl', 'bean', 'beani', 'beanxcor', 'bear', 'beard', 'beast', 'beastoftra', 'beat', 'beaten', 'beatl', 'beauti', 'beautiful', 'beautifulpyr', 'beautygirl', 'beaver', 'bebe', 'bebo', 'bebop', 'bec', 'becam', 'becauseth', 'becca', 'bech', 'becher', 'beckett', 'becki', 'beckinsal', 'beckyg', 'beckyhoward', 'beckymedsg', 'becom', 'becomin', 'becuas', 'becuz', 'bed', 'bedbound', 'bedbug', 'bedbut', 'bedcouldnt', 'bedhav', 'bedresttri', 'bedroom', 'bedso', 'bedtim', 'bee', 'beeb', 'beeeeeeeyatch', 'beefquot', 'beejiv', 'beejiveim', 'beer', 'beerwar', 'beet', 'beezi', 'beforehand', 'beforeit', 'beforemiss', 'beg', 'began', 'beggin', 'begin', 'begun', 'behav', 'behind', 'bei', 'beij', 'beijingboyc', 'bein', 'beingmov', 'bejithebear', 'bekuz', 'beleiv', 'belfast', 'belgium', 'beliav', 'belief', 'believ', 'believequot', 'bell', 'bella', 'bellabkni', 'bellaitalia', 'bellatoscana', 'belledam', 'bellevu', 'belli', 'belliestobabi', 'bellovski', 'belong', 'belov', 'belt', 'belum', 'bemyzombiehero', 'ben', 'bench', 'bencounsel', 'bend', 'benefit', 'bengrubb', 'benhafn', 'benhamin', 'benjamincook', 'benjaminelli', 'benlimphoto', 'benmay', 'bennygreenberg', 'benpopp', 'benton', 'benwel', 'beogradoholik', 'bequot', 'bergen', 'berianre', 'berinkinsman', 'berkeley', 'berlin', 'bernank', 'berner', 'bernmorley', 'berocca', 'berofx', 'berri', 'berrygurl', 'besid', 'best', 'besterz', 'besterzz', 'bestftiend', 'besti', 'bestsmel', 'bet', 'beta', 'betaquot', 'beter', 'betexpop', 'beth', 'bethfishread', 'betht', 'bethybond', 'betray', 'better', 'betterand', 'betti', 'bettieboudoir', 'bettwen', 'betzital', 'beuati', 'bevinkathryn', 'beycah', 'beyonc', 'beyoncegisel', 'beyond', 'bf', 'bfast', 'bfd', 'bfelt', 'bff', 'bffe', 'bffl', 'bfflï', 'bfst', 'bgluxurybandb', 'bgoy', 'bgt', 'bh', 'bhaha', 'bhavika', 'bhi', 'bhutta', 'bi', 'bia', 'bibl', 'bid', 'bifflesss', 'big', 'bigac', 'bigbelbess', 'bigedud', 'biggar', 'bigger', 'biggest', 'biggun', 'bih', 'bijebu', 'bike', 'bikeburnt', 'bikeindia', 'biker', 'bikini', 'bilboski', 'bilingu', 'bilirubin', 'bill', 'billa', 'billabong', 'billba', 'billgat', 'billglov', 'billi', 'billion', 'billt', 'billtransport', 'billydmim', 'billywilliwaw', 'bin', 'bind', 'bingo', 'binmugahid', 'binncheol', 'bio', 'biolog', 'bird', 'birdgeek', 'birdi', 'birhtday', 'birmingham', 'birthdaaaay', 'birthday', 'birthnight', 'biscuit', 'biscuitsquot', 'bisexu', 'bit', 'bitch', 'bitchi', 'bitchin', 'bite', 'bitli', 'bittenbybook', 'bitter', 'bittersweetbabi', 'bittytrick', 'bix', 'biz', 'bizarr', 'bizarro', 'bj', 'bjermain', 'bkbap', 'bkethan', 'bkgirlfriday', 'bkidder', 'bkii', 'bklyncooki', 'blaaaaarg', 'blaaaah', 'blaaah', 'black', 'blackampwhit', 'blackberri', 'blackberryman', 'blackehart', 'blackmag', 'blackmamba', 'blackpool', 'blackshtef', 'blah', 'blahh', 'blahhh', 'blahhhh', 'blair', 'blairalexand', 'blake', 'blakeheali', 'blame', 'blank', 'blankey', 'blanki', 'blaoh', 'blast', 'blaze', 'bleach', 'bleed', 'bleeder', 'bleedingchao', 'blegoopr', 'bleh', 'blehh', 'blend', 'blender', 'blendlovesit', 'blergh', 'bless', 'bletchley', 'bleurghfeel', 'blew', 'blib', 'blind', 'blindsight', 'blink', 'blip', 'bliss', 'blister', 'blizg', 'blizzard', 'blo', 'bloat', 'bloc', 'block', 'blockl', 'blockout', 'blog', 'blogalici', 'blogg', 'blogger', 'bloghampton', 'blogher', 'blogspot', 'blokeslib', 'blond', 'blondiluci', 'blood', 'bloodandmilk', 'bloodi', 'bloodlet', 'bloodsuck', 'bloom', 'blossom', 'blottedcopybook', 'blow', 'blowjob', 'bludget', 'blue', 'blueaero', 'blueargon', 'bluebunni', 'blueflameit', 'bluegecko', 'bluegrassit', 'bluelillyscouk', 'blueprint', 'bluestreak', 'bluff', 'blum', 'blunt', 'blur', 'blurri', 'blurtit', 'blush', 'blusteri', 'bm', 'bn', 'bncngoffthwll', 'bni', 'bno', 'bo', 'boal', 'board', 'boat', 'boater', 'bob', 'boba', 'bobbiejohnson', 'bobbygil', 'bobbyoshea', 'bobektaken', 'bobo', 'bobsaget', 'bock', 'boddington', 'bode', 'bodhiczar', 'bodi', 'bodycoach', 'boffbowsh', 'bog', 'bogu', 'bohdi', 'bohem', 'boilin', 'boiz', 'bokul', 'bold', 'boleh', 'bom', 'bomb', 'bombard', 'bomber', 'bombshel', 'bombshizzznizl', 'bon', 'bond', 'bondibeachgirl', 'bondwalk', 'bone', 'bonjour', 'bonker', 'bonnieklid', 'bonnybridg', 'bonu', 'boo', 'boobookittifukk', 'boobsielu', 'boof', 'boogaloo', 'booger', 'boogi', 'booi', 'book', 'bookclub', 'bookiegirl', 'bookmark', 'bookonto', 'booksandquil', 'bookshelv', 'boom', 'boomerjack', 'boon', 'boono', 'boont', 'booo', 'boooo', 'booooo', 'boooooo', 'booooooo', 'booooy', 'boost', 'booster', 'boot', 'bootcamp', 'booth', 'booz', 'bor', 'borat', 'bord', 'bordam', 'border', 'bore', 'boredbad', 'boredd', 'boredddd', 'boreddwishin', 'boredom', 'boredum', 'boringno', 'boringquot', 'born', 'bornk', 'borrow', 'borscht', 'boss', 'bostinblok', 'boston', 'boswellian', 'bot', 'botb', 'bothel', 'bother', 'bothersom', 'bothwel', 'botspam', 'bottl', 'bottom', 'bought', 'boulot', 'bounc', 'bouncer', 'bound', 'boundari', 'bout', 'boutiquemi', 'boutr', 'boutta', 'bovver', 'bow', 'bowen', 'bowi', 'bowl', 'bowwow', 'box', 'boxer', 'boxnet', 'boy', 'boyfrieeennd', 'boyfriend', 'boyim', 'boyquot', 'boysbut', 'bpark', 'bpfurnitur', 'bqe', 'bra', 'brace', 'bracelet', 'bracknel', 'brad', 'bradhfh', 'bradi', 'bradiewebbstack', 'bradleyross', 'bradmantv', 'bradshorr', 'bradsugar', 'braedong', 'brag', 'braid', 'braill', 'brain', 'brainiac', 'brainstorm', 'brainstormprick', 'brajeshwar', 'brampitoyo', 'brand', 'brandi', 'brandib', 'brandiei', 'brandilinnea', 'brandminu', 'brandonjshaw', 'brandonolog', 'brandonwirtz', 'brandozin', 'brandyfan', 'brandywandlov', 'brandz', 'brandzhd', 'brap', 'brave', 'bravest', 'brax', 'brazil', 'brb', 'bre', 'bread', 'break', 'breakfast', 'breakfastinoffic', 'breakgril', 'breakingnew', 'breakingnewsoff', 'breakroom', 'breakup', 'breast', 'breath', 'breathalyz', 'breatheheavycom', 'brebabi', 'breed', 'breezi', 'bren', 'brenton', 'brereton', 'brettbodin', 'brettgrac', 'brettjohn', 'brevi', 'brewrat', 'brian', 'briana', 'brianbrianbrian', 'briancrouch', 'briandavidz', 'brianlittrel', 'bribe', 'briberi', 'brick', 'bricksh', 'bridequot', 'bridg', 'brieasauru', 'brief', 'bright', 'brighten', 'brighter', 'brightlydust', 'brighton', 'brill', 'brillianc', 'brilliant', 'brinathemodel', 'bring', 'brinjal', 'brink', 'brisban', 'brissa', 'bristol', 'brit', 'britdaniel', 'british', 'britisshameless', 'britmichel', 'britney', 'brittani', 'brittbut', 'brittgastineau', 'brittkay', 'brittyd', 'britzillah', 'brlittl', 'bro', 'broad', 'broadband', 'broadcast', 'broadway', 'brochner', 'brock', 'broderick', 'brodi', 'brodydal', 'broinlaw', 'broke', 'brokedown', 'broken', 'brokenbaja', 'brokenboulevard', 'brokenleg', 'brokenros', 'brokenthought', 'broker', 'brokn', 'brolli', 'bromanc', 'bronchiti', 'bronco', 'brontesauru', 'bronxbeb', 'brook', 'brookecourt', 'brookelockart', 'brooklynunion', 'brooklynzfinest', 'brootalbrin', 'brorsan', 'brother', 'brotrust', 'brought', 'brown', 'browni', 'brownstonepr', 'brows', 'browser', 'brp', 'brq', 'brr', 'brrr', 'brrrr', 'bruce', 'bruis', 'bruisesonguitar', 'brum', 'brummi', 'bruno', 'brush', 'brussel', 'brutha', 'bruv', 'bruvaz', 'brydon', 'bryhiga', 'bryndresch', 'bryon', 'bryoni', 'brysonwallac', 'brz', 'bs', 'bsemaj', 'bside', 'bsmommi', 'bss', 'bt', 'btb', 'btr', 'btw', 'btwbut', 'bu', 'buaaaaa', 'bubba', 'bubbl', 'bubblet', 'bubblewrap', 'buck', 'bucket', 'buckhollywood', 'bud', 'buddha', 'buddi', 'budget', 'bueller', 'buena', 'bueno', 'buer', 'buffer', 'buffet', 'buffett', 'buffi', 'bug', 'bugatti', 'bugger', 'buggi', 'bugl', 'bugmum', 'buhok', 'build', 'buildabear', 'buildin', 'built', 'builtin', 'bulb', 'bulg', 'bulgogi', 'bulhaa', 'bulimia', 'bulki', 'bull', 'bullcrap', 'bulldoz', 'bullet', 'bulletin', 'bulli', 'bullshit', 'bullshitteri', 'bum', 'bumber', 'bumblebe', 'bumblebeee', 'bummedjos', 'bummer', 'bump', 'bumper', 'bumptop', 'bun', 'bunch', 'bundl', 'bunni', 'bunyan', 'burger', 'burgundi', 'buri', 'burkhardt', 'burlingam', 'burlymulligan', 'burma', 'burn', 'burnt', 'burntavoid', 'burrito', 'burst', 'burswood', 'buse', 'bush', 'bushel', 'busi', 'busier', 'buss', 'bust', 'bustabusta', 'bustxamovex', 'busybeeblogg', 'busyi', 'but', 'butadream', 'butch', 'butcher', 'buti', 'butim', 'butm', 'butt', 'butter', 'butterfing', 'butterfli', 'butterflyb', 'button', 'buttonquot', 'buttonslink', 'buttonwood', 'buttt', 'butuh', 'buuren', 'buy', 'buycom', 'buzz', 'buzzedit', 'buzzzzzzzzzzzzzz', 'bw', 'bwoi', 'bxj', 'bxl', 'bye', 'byeby', 'byee', 'byequot', 'bynkii', 'bypass', 'bytem', 'bythewei', 'c', 'ca', 'caaannntt', 'cab', 'cabana', 'cabin', 'cabinet', 'cabl', 'cabrera', 'caca', 'cad', 'cafe', 'cafeteria', 'cafeteriaim', 'caff', 'caffein', 'cafï', 'cagcast', 'cage', 'caitlin', 'caitlindean', 'cake', 'cakeandcooki', 'cakemi', 'cal', 'calamur', 'calend', 'calendar', 'caleyann', 'calgari', 'calgel', 'cali', 'california', 'call', 'callcent', 'callin', 'calll', 'callmsg', 'calm', 'calori', 'calv', 'calvi', 'calvin', 'cam', 'camb', 'came', 'cameez', 'camera', 'cameradeath', 'cameron', 'cameronlovesbbw', 'cameronolivi', 'camil', 'camilla', 'camillejaiden', 'camp', 'campaign', 'campmotha', 'campu', 'can', 'canada', 'canadian', 'canal', 'canalmerc', 'canari', 'cancel', 'cancelaram', 'cancer', 'cancerim', 'cancerstricken', 'cancun', 'candacegirrl', 'candi', 'candicejo', 'candid', 'candl', 'candyoh', 'canning', 'cannot', 'canon', 'canr', 'cant', 'cantabil', 'canteen', 'canthang', 'cantones', 'cantquot', 'canuck', 'canuhandleme', 'canva', 'canvas', 'canï', 'cao', 'caojunvinc', 'cap', 'capcom', 'capit', 'capitaln', 'capon', 'cappleg', 'cappuccino', 'cappuchino', 'capsfan', 'captain', 'captainsmash', 'captiv', 'captur', 'car', 'caramel', 'caramuis', 'caravan', 'carb', 'carboni', 'card', 'cardboard', 'cardi', 'cardiff', 'cardio', 'care', 'career', 'careful', 'caress', 'carl', 'carless', 'carli', 'carlislercullen', 'carlo', 'carlton', 'carlyrush', 'carm', 'carmanu', 'carnellm', 'carniv', 'carno', 'carnt', 'caro', 'carol', 'carolin', 'carolinai', 'carolinamama', 'carolw', 'carosound', 'carpel', 'carpet', 'carpool', 'carradin', 'carri', 'carribean', 'carrie', 'carrieannyoung', 'carriege', 'cartbozman', 'cartermorrison', 'cartertwinszach', 'cartman', 'cartoon', 'cartoonbeardi', 'casablanca', 'casbah', 'case', 'caseyhopkin', 'caseyshayn', 'cash', 'cashless', 'casino', 'cask', 'casserol', 'cassett', 'cast', 'castl', 'casual', 'casualintrud', 'cat', 'catalog', 'catalogu', 'catan', 'catastroph', 'cataxrevolt', 'catch', 'catchi', 'catchya', 'catecorbitt', 'cateyez', 'cathb', 'cathedr', 'catherinemarch', 'cathrintheo', 'cathybaron', 'cathyle', 'cati', 'catskil', 'catsreason', 'catstropi', 'cattl', 'catyusuf', 'caught', 'caus', 'causr', 'cav', 'cava', 'cave', 'cavequot', 'cavist', 'cavort', 'cavsfanat', 'cawowin', 'cba', 'cbetta', 'cbf', 'cbn', 'cbridg', 'cbsnew', 'cc', 'cca', 'ccatiedid', 'ccc', 'ccpt', 'ccsf', 'cd', 'cdrux', 'ce', 'ceander', 'cecilguy', 'ced', 'ceeb', 'ceeecil', 'ceete', 'cel', 'celeb', 'celeber', 'celebr', 'celeri', 'cell', 'celli', 'cellobella', 'cellphon', 'cellular', 'cellulit', 'celtic', 'celticgirl', 'cemetari', 'censu', 'center', 'centr', 'central', 'centrechick', 'centrelink', 'cept', 'cereal', 'cerealllllll', 'ceremoni', 'cerrito', 'certain', 'certainli', 'ceruleago', 'cerveza', 'cesar', 'cesgcaffein', 'cet', 'cfl', 'cg', 'cgf', 'cgj', 'ch', 'chad', 'chai', 'chain', 'chair', 'chaitrasuresh', 'chakra', 'challen', 'challeng', 'chamber', 'chamillionair', 'chamisul', 'champ', 'champagn', 'champion', 'championship', 'chan', 'chanc', 'chanel', 'chang', 'changin', 'channel', 'chantelyo', 'chao', 'chap', 'chapel', 'chaplin', 'chapstick', 'chapstickquot', 'chapter', 'charact', 'charad', 'charg', 'charger', 'charginnow', 'charismat', 'chariti', 'charl', 'charle', 'charlen', 'charlessaysrawr', 'charley', 'charli', 'charliepodg', 'charlott', 'charlottenlund', 'charm', 'charmermark', 'chart', 'chase', 'chasepino', 'chasewhal', 'chat', 'chateada', 'chazdrum', 'cheap', 'cheaper', 'cheapi', 'cheapyd', 'cheat', 'check', 'checkem', 'checkin', 'checkout', 'cheechingi', 'cheeck', 'cheek', 'cheeki', 'cheekipoo', 'cheer', 'cheerio', 'cheersquot', 'chees', 'cheesecak', 'cheesi', 'cheetosgross', 'cheez', 'chef', 'chefjeff', 'cheia', 'chekin', 'chelleiswick', 'chelsea', 'chem', 'chemi', 'chemistri', 'chenna', 'chennai', 'chennysherm', 'chericejenel', 'cherish', 'chermedia', 'cherri', 'cherrio', 'cherylelapitan', 'chese', 'chessington', 'chest', 'chesterpdext', 'chetcannon', 'cheung', 'chevasia', 'chew', 'chi', 'chibimarrow', 'chic', 'chicago', 'chicagocali', 'chicagoenneagramexamin', 'chichi', 'chicityenvi', 'chick', 'chickeeeen', 'chicken', 'chickenhubbi', 'chickennot', 'chickfila', 'chictopia', 'chidambaram', 'chief', 'chiefchimpanze', 'chifor', 'child', 'childhood', 'children', 'childrenby', 'chile', 'chill', 'chilli', 'chillin', 'chillingil', 'chillinrelax', 'china', 'chines', 'chinewinelov', 'chip', 'chipdav', 'chipil', 'chipmunk', 'chipotl', 'chipper', 'chippewa', 'chiro', 'chiropractor', 'chirp', 'chirpi', 'chisstwitt', 'chitat', 'chivalr', 'chk', 'chlojo', 'cho', 'chochomojo', 'chocol', 'chocolatedip', 'chocolateflavouredmathhtml', 'chocolatevanilla', 'choic', 'chomp', 'choos', 'chop', 'chopstick', 'chore', 'choru', 'chose', 'chowmein', 'chr', 'chregu', 'chri', 'chriiiiiiiiiiiist', 'chriismayte', 'chrisasmith', 'chrisb', 'chriscan', 'chriscashmus', 'chriscornel', 'chrisdca', 'chrisdjmoyl', 'chrisfm', 'chrisfreeman', 'chrisgarrett', 'chrishangsleben', 'chrishasboob', 'chrisheuer', 'chrisjkamrada', 'chrislmar', 'chrismdp', 'chrismoodi', 'chrisnick', 'chrisnoblenz', 'chrispycrittr', 'chriss', 'christ', 'christi', 'christianazhu', 'christina', 'christinajad', 'christinaperk', 'christineirml', 'christinezegt', 'christma', 'christopherbieg', 'christt', 'chrisviamus', 'chriswhit', 'chriswolf', 'chrome', 'chronicl', 'chrono', 'chu', 'chubbx', 'chuck', 'chuckdarw', 'chuckl', 'chucklin', 'chuf', 'chuffin', 'chugquot', 'chumbi', 'chummi', 'chung', 'chunk', 'chuoti', 'chur', 'church', 'churn', 'churro', 'chute', 'chutney', 'chá', 'cháº', 'chæ', 'ci', 'ciao', 'ciarancuff', 'cic', 'cici', 'cider', 'cig', 'cigar', 'cigarett', 'cigna', 'cikasugeng', 'cinci', 'cinderella', 'cinema', 'cinemat', 'cineri', 'cing', 'cinnamon', 'circl', 'circlequot', 'circul', 'cirvic', 'citi', 'citizen', 'citru', 'citrusandcandi', 'cityclick', 'cityrat', 'cj', 'cjmule', 'cjstarchild', 'ck', 'ckc', 'ckcandi', 'ckilgor', 'ckv', 'ckw', 'claim', 'clairebrew', 'claireliz', 'clairelouisef', 'clam', 'clamson', 'clandestin', 'clap', 'clarif', 'clarifiedwhi', 'clariti', 'clarityl', 'clark', 'clarkj', 'clarkson', 'clashcityrock', 'class', 'classi', 'classic', 'classmat', 'classroom', 'classs', 'claudia', 'clay', 'cld', 'cle', 'cleagu', 'clean', 'cleaner', 'cleanersyayi', 'cleanin', 'cleans', 'cleanup', 'clear', 'clearer', 'clearli', 'cleveland', 'clever', 'click', 'client', 'cliff', 'clignot', 'climax', 'climb', 'clinic', 'clintonkelli', 'clintooooon', 'clip', 'clock', 'clog', 'close', 'closer', 'closest', 'closet', 'cloth', 'clothesquot', 'cloud', 'cloudforc', 'cloudi', 'cloudsteph', 'clough', 'cloverest', 'cltordiadmco', 'clu', 'club', 'clubzon', 'clue', 'clutch', 'cm', 'cmgangrel', 'cmgarcia', 'cmon', 'cmop', 'cmputr', 'cmt', 'cmtwitterhous', 'cn', 'cnat', 'cnbc', 'cncl', 'cnn', 'cnnbrk', 'cnt', 'co', 'coach', 'coachella', 'coal', 'coast', 'coastalliv', 'coat', 'coatphewc', 'cobaltcow', 'cobi', 'cobra', 'cobraaaa', 'cobwebbi', 'coca', 'cock', 'cockl', 'cockroach', 'cocktailch', 'cocoabeb', 'cocoandbreezi', 'cod', 'code', 'codein', 'codelust', 'coder', 'codi', 'codingfor', 'coffe', 'coffeeampcream', 'coffeeeeee', 'coffeeonlin', 'coffeewhi', 'cofffeeeee', 'coincid', 'coke', 'cokehead', 'cola', 'coladabanana', 'colbert', 'colbsi', 'cold', 'coldengrey', 'coldest', 'coldheart', 'coldplay', 'cole', 'colei', 'colesprous', 'colinst', 'colinwilliamson', 'coliwilso', 'collag', 'collakaaubrey', 'collar', 'colleagu', 'collect', 'colleg', 'collegeau', 'collid', 'collingwood', 'colon', 'color', 'colorbakeri', 'colorofviol', 'colour', 'colourfulmoney', 'column', 'com', 'comau', 'combin', 'combo', 'combomint', 'comcast', 'come', 'comeagainjen', 'comedi', 'comedian', 'comedown', 'comee', 'comenï', 'comeon', 'comew', 'comfi', 'comfort', 'comfycuddli', 'comic', 'comin', 'comm', 'command', 'comment', 'commerc', 'commerci', 'commiser', 'commiss', 'commit', 'committ', 'common', 'commonwealth', 'commun', 'communiqu', 'commut', 'comp', 'compani', 'compar', 'comparison', 'compat', 'compet', 'competentci', 'competit', 'complain', 'complaint', 'complek', 'complet', 'completley', 'complex', 'compli', 'compliment', 'complimentari', 'compng', 'compon', 'compton', 'comput', 'computadora', 'comtup', 'concentr', 'concept', 'conceptu', 'concern', 'concert', 'conchord', 'conciousi', 'conclus', 'concret', 'condit', 'condo', 'condol', 'condom', 'conetticuttt', 'conf', 'confer', 'confess', 'confid', 'confirm', 'confus', 'congrat', 'congratswhen', 'congratul', 'congreg', 'conn', 'connect', 'connfess', 'conosco', 'conquer', 'conroy', 'conscious', 'consequ', 'consid', 'consist', 'consol', 'conspiraci', 'constant', 'constantli', 'constitut', 'construct', 'consult', 'consum', 'contact', 'contactnaveen', 'contain', 'content', 'contest', 'contesti', 'contestsit', 'continu', 'contract', 'contractor', 'contrarian', 'contributor', 'control', 'conveni', 'convent', 'converg', 'convers', 'conversationheh', 'convert', 'convey', 'convien', 'convinc', 'convo', 'convuls', 'cook', 'cookcj', 'cookeri', 'cooki', 'cookiedorksx', 'cookieex', 'cookin', 'cookrn', 'cool', 'cooler', 'coolest', 'coolright', 'cooool', 'coop', 'cooper', 'coordin', 'cop', 'cope', 'copi', 'copper', 'coralin', 'coranquot', 'core', 'corecas', 'corey', 'coreykind', 'corinaconst', 'corinamari', 'corinmcblid', 'corn', 'cornbreadturn', 'corneliu', 'corner', 'cornetto', 'corni', 'cornwal', 'coron', 'corpor', 'corpu', 'correct', 'correctli', 'corrupt', 'cors', 'corset', 'corybasil', 'cosbi', 'cosleia', 'cosmicgirli', 'cost', 'costa', 'costum', 'cottag', 'cotton', 'couch', 'coucou', 'cough', 'coughso', 'could', 'coulda', 'couldi', 'couldnt', 'couldv', 'count', 'countdown', 'countdud', 'counter', 'counti', 'countless', 'countri', 'countrysid', 'countybrown', 'coupl', 'coupon', 'courag', 'courier', 'cours', 'coursework', 'court', 'courtbethun', 'courtney', 'courtneyl', 'courtroom', 'couscou', 'cousin', 'cousr', 'coutur', 'coven', 'cover', 'cow', 'coward', 'cowboy', 'cowel', 'cowley', 'cowork', 'coxysopinion', 'coy', 'coz', 'cozi', 'cp', 'cpan', 'cping', 'cpu', 'cq', 'cque', 'craapppi', 'crabbi', 'crack', 'craft', 'craic', 'craig', 'craigritchi', 'craigslist', 'craigsutton', 'crakl', 'cramp', 'crap', 'crapbday', 'crappi', 'crash', 'crate', 'crave', 'cravenjad', 'cravng', 'crazi', 'crazier', 'crazyforsp', 'crazykelliema', 'crazytw', 'crazzyyyy', 'cream', 'creat', 'creationfest', 'creativ', 'creativejeniu', 'creativitymust', 'creator', 'creatur', 'cred', 'credit', 'creditgrad', 'creed', 'creek', 'creepi', 'creepier', 'creepili', 'creepycrissi', 'cremat', 'crescendo', 'crescentr', 'crew', 'cri', 'crib', 'cribsheet', 'cricket', 'cripe', 'crippl', 'crisbrown', 'crisi', 'crisiscom', 'crisontoast', 'crisp', 'crispi', 'crispyteriyaki', 'cristinacost', 'crit', 'critic', 'criticshatey', 'croatia', 'croc', 'crochet', 'croconaw', 'croissant', 'cronogenesi', 'crook', 'cross', 'crotch', 'crowd', 'crowdsourc', 'crp', 'cruddi', 'cruel', 'cruis', 'crumpet', 'crumpler', 'crunch', 'crush', 'crutch', 'cruz', 'crye', 'cryin', 'crysroc', 'cryssi', 'crystal', 'cs', 'csi', 'css', 'cssedit', 'ct', 'ctesdahl', 'ctia', 'cto', 'ctub', 'cu', 'cub', 'cubicl', 'cuckold', 'cud', 'cuddl', 'cuddlequot', 'cuddyz', 'cudi', 'cue', 'cuff', 'culinari', 'cullen', 'cultur', 'cum', 'cumpulasari', 'cunt', 'cup', 'cupboard', 'cupcak', 'cuppa', 'curb', 'curd', 'cure', 'curiou', 'curious', 'curl', 'current', 'curri', 'curs', 'curtii', 'curtiswalk', 'curvi', 'custardsock', 'custom', 'customerssuckcom', 'cut', 'cute', 'cuteabl', 'cutebut', 'cuter', 'cutest', 'cuti', 'cuttac', 'cutter', 'cuut', 'cuuuuuteeeee', 'cuz', 'cuzon', 'cuzzzz', 'cv', 'cvf', 'cw', 'cwelchtn', 'cx', 'cy', 'cybathug', 'cyberboff', 'cybercommand', 'cyberpreneur', 'cycl', 'cyclazin', 'cyndalboo', 'cynic', 'cypru', 'cyru', 'cã', 'cã²n', 'da', 'daaaaamnit', 'daaaay', 'daaang', 'daaanncee', 'daaddi', 'daang', 'dab', 'dachesterfrench', 'daciamelia', 'dad', 'dadagdag', 'dadartistblk', 'daddi', 'daddysbabi', 'dafunk', 'dag', 'dagfinnr', 'dah', 'dahlingtwug', 'dahowlett', 'daili', 'dailyboothcom', 'dairi', 'dajbelshaw', 'dake', 'dal', 'dalecrus', 'dalerankin', 'dalla', 'dalool', 'dam', 'dame', 'damier', 'dammit', 'dammmn', 'damn', 'damnanoth', 'damni', 'damnit', 'damnnn', 'damohopo', 'damon', 'dampd', 'damygeebo', 'dan', 'danacorbin', 'danamac', 'danann', 'danbladen', 'danc', 'danceabl', 'dancemasstv', 'dancer', 'dancingbonita', 'dandi', 'danecook', 'dang', 'danger', 'dangersqueezit', 'danggit', 'dangit', 'dangwhat', 'danhawkin', 'daniel', 'danielakrock', 'danielamezcua', 'danielc', 'danieldang', 'danielhilton', 'danielkirkley', 'daniella', 'daniellecrunden', 'danielledeleasa', 'daniellethomp', 'daniesass', 'danipoynterjudd', 'danishkanavin', 'dank', 'danko', 'danni', 'danniasheonlin', 'dannibearrr', 'dannii', 'dannyboic', 'dannydichio', 'dannyk', 'danoliv', 'danradin', 'danseto', 'dansu', 'danthedaddi', 'danwtmoon', 'danzero', 'daphn', 'daq', 'dare', 'darealsunisakim', 'dark', 'darkenemi', 'darkenss', 'darker', 'darkknight', 'darkmagiqu', 'darkpebl', 'darl', 'darlin', 'darn', 'darnel', 'darrah', 'darrinreev', 'darthnaida', 'darthsarah', 'darthweef', 'darylsw', 'dash', 'dashboard', 'dat', 'data', 'databas', 'datagov', 'datajourn', 'datboibabyc', 'date', 'datee', 'datelin', 'datrutopshotta', 'daughter', 'dave', 'daveb', 'davebo', 'davejmatthew', 'davekim', 'davelindquist', 'davemcclur', 'daveseah', 'davesjessica', 'davetran', 'daveverw', 'davi', 'david', 'davidblu', 'davidderaedt', 'daviddjfr', 'davidgideon', 'davidhenri', 'davidkotch', 'davidolski', 'davidvancamp', 'daviestramp', 'davvveroquot', 'dawaun', 'dawn', 'dawncabrero', 'day', 'daybut', 'daydont', 'daydream', 'daydreamwrit', 'daygan', 'dayi', 'dayim', 'dayit', 'dayleav', 'daylight', 'daylol', 'daymi', 'daynight', 'daypoor', 'dayquot', 'daysgametap', 'daysh', 'daysi', 'daysjust', 'daysquot', 'daysss', 'daytoday', 'dayupd', 'dayuum', 'daywohooooooo', 'dayyay', 'dayz', 'dazzlemethi', 'db', 'dbq', 'dbsk', 'dc', 'dcbtv', 'dchetti', 'dcorsetto', 'dcth', 'dcwont', 'dd', 'ddddddddddddddddddddddd', 'ddevotchka', 'ddgriffith', 'ddi', 'ddlovato', 'ddr', 'ddub', 'ddubsmyguy', 'de', 'dea', 'dead', 'deadlin', 'deador', 'deadquot', 'deaf', 'deahloid', 'deal', 'dealer', 'dealership', 'dean', 'dear', 'dearbhlaoconnor', 'dearest', 'deari', 'dearli', 'death', 'deathcabform', 'deathh', 'debat', 'debb', 'debbi', 'debbiefletch', 'debblu', 'debrief', 'debug', 'decad', 'decathlon', 'decent', 'decid', 'decis', 'deck', 'declin', 'decor', 'decreas', 'decrypt', 'dedic', 'dee', 'deed', 'deeeeb', 'deejayboogi', 'deep', 'deepbluesealov', 'deepli', 'deer', 'deet', 'def', 'default', 'defeat', 'defens', 'deffffinit', 'defi', 'deficit', 'defin', 'definatley', 'definit', 'defo', 'defreakinlici', 'defygrav', 'deg', 'degrassi', 'degraw', 'degre', 'degress', 'deigh', 'deirdr', 'deirdresm', 'deiss', 'deitydesignz', 'dejastar', 'deki', 'del', 'delay', 'deleg', 'delekkersteshow', 'delemma', 'delet', 'delhi', 'deli', 'deliber', 'delici', 'delidelux', 'delight', 'delilah', 'delir', 'deliri', 'delish', 'deliv', 'deliveri', 'dellvink', 'demand', 'demet', 'demi', 'demib', 'demmalit', 'demo', 'demogeekcom', 'demonstr', 'denhha', 'deni', 'denim', 'denimdebutant', 'denis', 'deniserichard', 'denni', 'dens', 'densiti', 'dental', 'dentist', 'dentistayyi', 'denver', 'denverpilot', 'denyal', 'denyhost', 'deon', 'dep', 'departur', 'depech', 'depend', 'deposit', 'depot', 'depp', 'depress', 'depressin', 'depriv', 'der', 'derail', 'derangedangel', 'derbi', 'deredactieb', 'derekhousman', 'derherr', 'derivadow', 'dermatologist', 'deroshairjtv', 'dertyp', 'describ', 'descript', 'desert', 'deserv', 'desieliz', 'design', 'desir', 'desk', 'deskanyon', 'desktop', 'despair', 'desper', 'despit', 'dessert', 'destin', 'destrin', 'destroy', 'destroyflickr', 'detail', 'detatch', 'deterg', 'determin', 'detox', 'detriment', 'detroit', 'dev', 'devast', 'develop', 'devest', 'devic', 'devil', 'devin', 'deviousd', 'devo', 'devote', 'devun', 'dexter', 'dezignmus', 'dezin', 'dezzi', 'dfcook', 'dfib', 'dfizzi', 'dfw', 'dg', 'dgarmo', 'dgoodi', 'dgrg', 'dgvelaw', 'dgx', 'dh', 'dhanli', 'dharshana', 'dhewlett', 'dholl', 'dhughesi', 'di', 'dia', 'diabet', 'diablocodi', 'diagnos', 'diajarin', 'diamondhead', 'diana', 'dianamazzon', 'dianarusso', 'dianna', 'dianyach', 'diapersnappi', 'diari', 'diaz', 'dice', 'dick', 'dictionari', 'didbut', 'diddi', 'diddystweet', 'didier', 'didigiggl', 'didnt', 'didnï', 'die', 'diedi', 'diedveri', 'diego', 'dieno', 'dienstag', 'diesel', 'diet', 'diferenshul', 'diff', 'differ', 'differentand', 'difficult', 'difficulti', 'dig', 'digg', 'diggbar', 'digit', 'digitaldoc', 'digitalhero', 'digitalhumanist', 'digsbi', 'dii', 'diigo', 'dilemma', 'dileno', 'dillema', 'dillyeosam', 'dim', 'dimpl', 'dimrac', 'din', 'dindt', 'dingdong', 'dinheiro', 'dinner', 'dinnertim', 'dint', 'dinv', 'dinz', 'dion', 'dip', 'direbonappetit', 'direct', 'director', 'directori', 'dirkmetzg', 'dirti', 'dirtysoufyanke', 'disabl', 'disagre', 'disamperin', 'disapoint', 'disappear', 'disappoint', 'disbelief', 'disc', 'discipl', 'disciplex', 'disciplin', 'disciplinari', 'disclaim', 'disco', 'disconnect', 'discontent', 'discount', 'discours', 'discov', 'discoveri', 'discriminatori', 'dise', 'diseas', 'disgruntl', 'disgust', 'dish', 'dishearten', 'dishnetwork', 'dishwash', 'dislik', 'dismay', 'dismiss', 'disney', 'disneydean', 'disneyland', 'disnt', 'disobedientgirl', 'disord', 'display', 'disrupt', 'diss', 'dissapear', 'dissapoint', 'dissert', 'distanc', 'distil', 'distract', 'distress', 'disturb', 'ditch', 'ditto', 'div', 'diva', 'dive', 'diversionsupport', 'divert', 'divestoclimb', 'divid', 'divo', 'divorc', 'dixi', 'dixon', 'diy', 'dizzi', 'dj', 'djam', 'djbubbl', 'djceo', 'djedski', 'djequ', 'djg', 'djgreatscott', 'djimpact', 'djincred', 'djlittl', 'djlogansama', 'djmafia', 'djprettyboytank', 'djslopok', 'djsmile', 'djswivel', 'djtell', 'djtracyyoung', 'djvic', 'djyh', 'dk', 'dkemmanuel', 'dkjg', 'dklk', 'dland', 'dlav', 'dlbq', 'dlch', 'dlimy', 'dling', 'dlit', 'dloi', 'dlr', 'dlzj', 'dm', 'dmakron', 'dmcar', 'dmcz', 'dmf', 'dmitricain', 'dmv', 'dn', 'dnscook', 'dnt', 'dnu', 'dnxg', 'dnxi', 'do', 'dobut', 'doc', 'dock', 'doctor', 'doctorkiko', 'doctorquinci', 'document', 'documentari', 'documentarymockumentari', 'documentatiemap', 'dodg', 'dodger', 'dodgi', 'dodgiest', 'doe', 'doea', 'doenst', 'doesdid', 'doesnt', 'doest', 'doesâ', 'doezilla', 'dog', 'dogan', 'doggi', 'doggon', 'dogkil', 'dogon', 'dogpil', 'dogtrad', 'doh', 'dohaha', 'dohnut', 'doin', 'doinggggg', 'doingquot', 'doityourself', 'dojo', 'doku', 'dole', 'dolfinfan', 'doll', 'dollah', 'dollar', 'domain', 'domest', 'domino', 'dommerghz', 'donat', 'done', 'donead', 'donebut', 'donecuz', 'doneshow', 'donetim', 'donfuci', 'dong', 'donk', 'donkey', 'donnafox', 'donni', 'donniewahlberg', 'donnyosmond', 'dont', 'dontastorey', 'dontforgetchao', 'dontya', 'donut', 'donï', 'doo', 'dooc', 'doodl', 'dooley', 'doom', 'doomferret', 'doooo', 'door', 'dope', 'doretaylor', 'dorito', 'dork', 'dorka', 'dorm', 'dorset', 'dose', 'dosent', 'dosey', 'dossier', 'dot', 'dotclear', 'dotmariusz', 'dottedwitheart', 'dou', 'doubl', 'doublea', 'doublebagel', 'doubleickey', 'doublesid', 'doubt', 'douch', 'douf', 'doug', 'dough', 'dougi', 'dougiama', 'dougiemcfli', 'dov', 'down', 'downey', 'download', 'downpour', 'downsbut', 'downwish', 'dowwwwn', 'doz', 'dozen', 'doï', 'dp', 'dpt', 'dq', 'dqx', 'dr', 'dra', 'draag', 'draco', 'draft', 'drag', 'dragonbal', 'drain', 'dralli', 'drama', 'dramabeat', 'drank', 'drat', 'draw', 'drbaher', 'drdrew', 'dread', 'dream', 'dreamhost', 'dreamin', 'dreamland', 'dreamt', 'dreamweav', 'dreamwish', 'dreamz', 'dreari', 'drench', 'dreptat', 'dress', 'dresser', 'dressjunki', 'drew', 'drewdiamond', 'drewpasmith', 'drewseeley', 'drfire', 'drhorriblessingalongblogsp', 'dri', 'drib', 'drift', 'drifter', 'drill', 'drink', 'drive', 'drivedetermin', 'driver', 'driversi', 'drivin', 'drjoolz', 'drklutch', 'drm', 'drmolliemarti', 'drool', 'drop', 'dropbox', 'droppin', 'drove', 'drown', 'drrnlvngstn', 'drsecret', 'drspectrum', 'dru', 'drug', 'drugsquot', 'drum', 'drummer', 'drumoff', 'drunk', 'drunken', 'drupal', 'drwright', 'drybal', 'dryer', 'drzgreatest', 'ds', 'dsdg', 'dsff', 'dsi', 'dsiegel', 'dski', 'dslr', 'dss', 'dsu', 'dt', 'dtagurit', 'dtd', 'dtheartist', 'dtolentino', 'dtphulp', 'dtw', 'dtwn', 'du', 'duanestorey', 'duba', 'dubai', 'dubarrymcfli', 'dublin', 'dublinblondi', 'duccki', 'duck', 'dude', 'due', 'duel', 'duff', 'duhitsemelia', 'dui', 'dujourmag', 'duke', 'dulc', 'dull', 'duluth', 'dum', 'dumb', 'dumbestquot', 'dump', 'dumpl', 'dumps', 'dun', 'duncan', 'dunde', 'dundrum', 'dune', 'dungeon', 'dunham', 'dunk', 'dunkin', 'dunkroo', 'dunno', 'dunnoi', 'dunt', 'dupd', 'duplex', 'dust', 'dustin', 'dustinnnn', 'dustyedward', 'dutch', 'dutchrudd', 'duti', 'duuuuuud', 'duuuuuuuud', 'duvet', 'duy', 'duyu', 'dvd', 'dvr', 'dvroegop', 'dw', 'dwanb', 'dwarf', 'dwindl', 'dwsmillionthhug', 'dx', 'dye', 'dyi', 'dylan', 'dylzwexford', 'dã¹ng', 'e', 'eaaaarlay', 'eachoth', 'eadav', 'eagen', 'eajimmi', 'eajosh', 'ealbino', 'ear', 'eardrop', 'earl', 'earli', 'earlier', 'earlierbut', 'earliest', 'earlydetect', 'earn', 'earnest', 'earth', 'earthlifeinst', 'earthwindfir', 'eas', 'easi', 'easier', 'easili', 'east', 'easter', 'eastern', 'eastsid', 'easyso', 'eat', 'eaten', 'eatin', 'eb', 'ebay', 'ebg', 'eblahovec', 'eblerim', 'ebtmcom', 'ec', 'ecgric', 'eclecticxmanda', 'ecommerc', 'econ', 'econom', 'economi', 'economicwoman', 'ecosystem', 'ecul', 'eczemasupport', 'ed', 'edc', 'eddal', 'eddi', 'eddieizzard', 'eden', 'edg', 'edibow', 'edinatl', 'edinburgh', 'edit', 'editguppi', 'editor', 'editwrit', 'edkay', 'edlectron', 'edmcmahon', 'edmonton', 'edouglasww', 'educ', 'edward', 'edwardlawr', 'edwardmoolaw', 'edwardslori', 'edwelk', 'edwestwick', 'ee', 'eedit', 'eee', 'eeee', 'eeeee', 'eeeeee', 'eeeeewwwwww', 'eeeek', 'eek', 'eeni', 'eeoor', 'eep', 'eeshh', 'ef', 'eff', 'effect', 'effici', 'effin', 'effort', 'effyobi', 'efng', 'eg', 'egerton', 'egg', 'eggsdi', 'egret', 'egsa', 'egypt', 'eh', 'ehasselbeck', 'ehh', 'ehhhh', 'ehon', 'ehwher', 'eight', 'eightfiv', 'einai', 'einen', 'eircom', 'eit', 'either', 'eivindj', 'ejxioh', 'ek', 'ekanazhwa', 'ekkoh', 'el', 'elabor', 'elainegil', 'elan', 'elaps', 'elderli', 'eleahba', 'elect', 'electr', 'electricbluebrd', 'electroging', 'electromagnet', 'electron', 'elefevr', 'element', 'elementsofjazz', 'eleonoraelitoday', 'eleph', 'eleven', 'eli', 'elis', 'elisabeth', 'elissakim', 'elit', 'elizabethkl', 'ella', 'ellacinderella', 'ellen', 'elli', 'elliott', 'ellohhveee', 'elmar', 'elmardc', 'els', 'elsejk', 'elsewher', 'elspethmurray', 'elstre', 'elton', 'eltonjohn', 'elum', 'elus', 'elvi', 'em', 'emadz', 'email', 'emandeleon', 'embark', 'embarrass', 'embarrassingli', 'embarress', 'embarss', 'embassi', 'emberquot', 'embrac', 'emerg', 'emflip', 'emili', 'emilycello', 'emilyfannon', 'emilylagrang', 'eminem', 'emjay', 'emma', 'emmaelizabeth', 'emmajapan', 'emmalight', 'emmalouis', 'emmamcisaac', 'emmyl', 'emo', 'emokidbastian', 'emot', 'emoticon', 'emotionalped', 'emotionssigh', 'empath', 'emphasi', 'empireofthekop', 'employ', 'employe', 'empressyen', 'empti', 'emptier', 'emstar', 'emvicw', 'emz', 'en', 'enabl', 'enbaldarlingg', 'encantado', 'enchri', 'encourag', 'end', 'endcliff', 'ender', 'endless', 'endors', 'endur', 'enemi', 'energi', 'energyyyyyy', 'enforc', 'engag', 'engaga', 'engin', 'england', 'english', 'enjoy', 'enjoyin', 'enlighten', 'enlist', 'enneagram', 'enough', 'enoughpapa', 'enought', 'enquiri', 'enrich', 'enrol', 'ensur', 'enter', 'enterpris', 'entertain', 'entir', 'entourag', 'entranc', 'entrevista', 'entri', 'entã', 'enuf', 'env', 'envi', 'environt', 'eonlin', 'eorld', 'eot', 'ep', 'epe', 'epic', 'epicblogg', 'epidaetia', 'epilog', 'epilongo', 'episod', 'episodepriceless', 'epistemograph', 'epmorgan', 'equal', 'equip', 'er', 'era', 'erf', 'erggh', 'eri', 'eric', 'ericacara', 'ericamolli', 'ericboeh', 'ericbttn', 'ericdamiestreet', 'erickaaa', 'ericurban', 'eriickam', 'erik', 'erikabel', 'erikgelderblom', 'erin', 'erindigioia', 'erineven', 'erinmah', 'erinmbaxt', 'erm', 'erot', 'err', 'errand', 'errani', 'erro', 'error', 'errrr', 'errrrr', 'es', 'escap', 'escapad', 'escribitionist', 'eshop', 'esma', 'esotericsean', 'esp', 'espanol', 'especi', 'esperanto', 'esplanad', 'espresso', 'espressowoman', 'ess', 'essay', 'essenc', 'est', 'establish', 'estar', 'estateflow', 'esur', 'etay', 'etc', 'etcshadow', 'etcwhat', 'etcxmlcatalog', 'etern', 'ethernet', 'ethic', 'ethiopian', 'ethnobotani', 'eti', 'ettelinahmarkdan', 'etymot', 'etz', 'eu', 'eubank', 'euh', 'europ', 'european', 'eurotrash', 'ev', 'eva', 'eval', 'evankirkendal', 'evaurgirl', 'eve', 'evearoundworld', 'even', 'evenangel', 'eveningthen', 'evensong', 'event', 'eventbox', 'eventhough', 'eventu', 'ever', 'everamaz', 'everbodi', 'everday', 'everi', 'everlong', 'everrrr', 'eversoslightli', 'everybdi', 'everybodi', 'everyday', 'everyon', 'everyone', 'everyonebusi', 'everyth', 'everythin', 'everythingggg', 'everytim', 'everywher', 'everywhereno', 'eveyth', 'eveytim', 'evi', 'evict', 'evid', 'evil', 'eviljeaniu', 'evilsorceress', 'eviltwinbrian', 'evo', 'evolut', 'evp', 'evr', 'evri', 'evrywher', 'evur', 'ew', 'ewood', 'eww', 'ewww', 'ewwwwwwwww', 'ex', 'exact', 'exactli', 'exalt', 'exam', 'exampl', 'exceed', 'exceedingli', 'excel', 'except', 'excercis', 'exchang', 'exciit', 'excit', 'excitedtil', 'exciti', 'exclud', 'exctli', 'excus', 'exec', 'execut', 'executivefocu', 'exeget', 'exercis', 'exet', 'exhaust', 'exhaustedd', 'exhaustinggg', 'exhibit', 'exhilar', 'exhuast', 'exist', 'existwanna', 'exitedd', 'exlibri', 'exodu', 'exorcismquot', 'exp', 'expand', 'expect', 'expecttoconnect', 'expens', 'experi', 'experienc', 'expert', 'experti', 'expertis', 'expertquot', 'expir', 'explain', 'explet', 'explod', 'explor', 'explos', 'expo', 'export', 'exposur', 'extend', 'extens', 'extra', 'extranio', 'extraordinarili', 'extreamli', 'extrem', 'extremee', 'eyaekasari', 'eye', 'eyebal', 'eyebrow', 'eyedrop', 'eyelash', 'eyeshadow', 'eyyy', 'f', 'faair', 'fab', 'fabric', 'fabul', 'face', 'facebook', 'faceman', 'faceoff', 'facepalm', 'facequot', 'facesquot', 'facetim', 'facett', 'fachatc', 'facin', 'fact', 'faction', 'factor', 'factori', 'fade', 'fadei', 'faeka', 'faeriedtreasur', 'fail', 'faild', 'failur', 'failureprob', 'faint', 'fair', 'fairi', 'fairiespleas', 'fairli', 'fairtrad', 'faith', 'fake', 'fakeaclu', 'fakecedr', 'fakerpari', 'falafel', 'falk', 'fall', 'fallen', 'fallenstar', 'fallin', 'fam', 'fambam', 'fame', 'famili', 'familti', 'familyand', 'familychoic', 'familygggrrrr', 'familyyyyyyyyyyyy', 'famou', 'fampf', 'fampk', 'fan', 'fanat', 'fanci', 'fanclub', 'fancyde', 'fancyelast', 'fanfict', 'fang', 'fantasi', 'fantasiaq', 'fantast', 'fap', 'far', 'farah', 'fareast', 'farewel', 'farfalla', 'farfallina', 'fariah', 'farm', 'farni', 'farrah', 'farrahfawcett', 'farrahfawcettrip', 'farrahgod', 'farrahhhhhhhh', 'farrahlet', 'farrahu', 'farrahyour', 'farraw', 'farringdon', 'fart', 'fartingpen', 'fascin', 'fashion', 'fashionedquot', 'fast', 'fastamp', 'faster', 'fat', 'fatal', 'fatbellybella', 'fatdaveonabik', 'fate', 'fatfairi', 'father', 'fatimaalgaoud', 'fatten', 'fatter', 'fatti', 'fattybacon', 'faucet', 'faucett', 'fault', 'faux', 'fav', 'fave', 'favela', 'favicon', 'favor', 'favorit', 'favourit', 'fawcet', 'fawcetsh', 'fawcett', 'fawcettcertainli', 'fawcettmi', 'fawcettpray', 'fawcettrest', 'fawcettthat', 'fawcettw', 'fawcetty', 'fawecett', 'fawk', 'fawset', 'fawsit', 'faycett', 'fb', 'fbc', 'fbffph', 'fckd', 'fckin', 'fcp', 'fd', 'fdw', 'feal', 'fear', 'feat', 'feather', 'featherston', 'featur', 'februar', 'februari', 'feck', 'fed', 'fedex', 'fee', 'feebl', 'feed', 'feedback', 'feedroomcom', 'feeeeel', 'feeel', 'feel', 'feelen', 'feelin', 'feelinq', 'feelshorr', 'feet', 'feeter', 'feetquot', 'feh', 'feijoa', 'fele', 'feliciaodg', 'felipeze', 'felix', 'fell', 'fella', 'fellow', 'feloow', 'felt', 'femal', 'femalesdestroy', 'femin', 'fenc', 'fendidotcom', 'fenricwolf', 'fern', 'ferrah', 'ferrari', 'ferrera', 'ferretfreakx', 'ferretsfirst', 'ferrycorsten', 'fest', 'festiv', 'fetch', 'fever', 'fewer', 'ff', 'fflorentina', 'ffmo', 'fh', 'fianc', 'fiasco', 'fiascomonkey', 'fiber', 'fibertohom', 'fic', 'fiction', 'fie', 'field', 'fiend', 'fierc', 'fiercehug', 'fifa', 'fifteen', 'figa', 'figgybean', 'fight', 'fighter', 'fighti', 'figur', 'fil', 'fildia', 'file', 'fileservernasfirefli', 'filet', 'fill', 'fillet', 'film', 'filmbot', 'filter', 'filthi', 'fin', 'final', 'finallysux', 'financ', 'financegradth', 'financi', 'finch', 'find', 'findingjay', 'fine', 'finei', 'finetun', 'fing', 'finger', 'fingersandto', 'fingertip', 'fingur', 'finish', 'finishedd', 'finnish', 'finsh', 'fiofo', 'fire', 'fireabl', 'firearm', 'firebug', 'firefox', 'firehous', 'fireplac', 'firequilerm', 'fireston', 'firewal', 'firework', 'firi', 'firm', 'firmli', 'firmwar', 'first', 'fish', 'fisher', 'fishfood', 'fishget', 'fishi', 'fisl', 'fit', 'fitnessbox', 'fitnessdk', 'five', 'fix', 'fixabl', 'fixedi', 'fixnk', 'fixoutlook', 'fizz', 'fizzyduck', 'fkin', 'fkn', 'fl', 'fla', 'flacq', 'flag', 'flail', 'flame', 'flamingindigo', 'flaminhg', 'flare', 'flash', 'flat', 'flavor', 'flavour', 'flawless', 'flea', 'fletcher', 'fleur', 'flew', 'fli', 'flick', 'flickehw', 'flickr', 'flight', 'flik', 'flikr', 'flip', 'fliplloyd', 'flippin', 'flipsid', 'floa', 'flock', 'floffic', 'flood', 'floor', 'flop', 'florida', 'florintina', 'flow', 'flower', 'flowerrest', 'flowjust', 'flr', 'flu', 'fluffi', 'flui', 'fluid', 'flush', 'flutter', 'flyer', 'flyingac', 'flyinghei', 'flynn', 'flyyoufool', 'fm', 'fml', 'fmmfl', 'fmsphotographi', 'fmsquatro', 'fmylifecom', 'fn', 'fne', 'fo', 'foam', 'foamingbbq', 'fob', 'focu', 'focus', 'foe', 'fogbugz', 'foggi', 'fold', 'folder', 'foleypod', 'folk', 'follow', 'followerlam', 'followerss', 'followerswhat', 'followinq', 'followmandyw', 'follw', 'folowerssss', 'foltercloth', 'fomo', 'fond', 'fondl', 'fone', 'foneee', 'font', 'fontana', 'food', 'foodd', 'foodieguid', 'foodphilosophi', 'foodrel', 'foodthat', 'fooduh', 'foodwis', 'foodwork', 'fool', 'foooooool', 'foot', 'footag', 'footbal', 'footbath', 'footi', 'footlong', 'footnobodi', 'forc', 'forclos', 'ford', 'forecast', 'forehead', 'foreign', 'forenam', 'forens', 'foreseen', 'forest', 'forev', 'foreverkid', 'forfolkssak', 'forgav', 'forget', 'forgetit', 'forgiv', 'forgiven', 'forgot', 'forgotno', 'forgotten', 'forgottenand', 'fork', 'form', 'formal', 'former', 'formerli', 'formula', 'forqot', 'forreal', 'forrr', 'forsaken', 'forum', 'forumbas', 'forward', 'foss', 'fossiloflif', 'foster', 'fought', 'found', 'founnndddd', 'fountain', 'four', 'fourmil', 'fourth', 'fourzoa', 'fow', 'fowa', 'fox', 'foxi', 'foxwhisper', 'foxxxycleopatra', 'fp', 'fr', 'fractur', 'frag', 'fraggierock', 'fragil', 'fragranc', 'fraid', 'framolamdu', 'framus', 'fran', 'franc', 'francai', 'franceskim', 'franchise', 'franci', 'francisco', 'francophon', 'frank', 'frankferragin', 'franki', 'frankiekillsyo', 'frankli', 'franklin', 'frankschuil', 'frankst', 'frannnyyyrulez', 'frannykirb', 'frantic', 'franzfangirl', 'franï', 'frap', 'frapp', 'frappucino', 'frazierbooti', 'frc', 'frd', 'freak', 'freaki', 'freakin', 'freakinbugsgotta', 'freckl', 'fred', 'freddi', 'free', 'freebi', 'freedom', 'freeeeeeeeeeee', 'freefest', 'freelanc', 'freelazi', 'freele', 'freerol', 'freerunn', 'freez', 'freezer', 'freezerworthi', 'freitag', 'french', 'frenchfest', 'frenchgcfan', 'frenz', 'fresh', 'fresher', 'freshselect', 'fresno', 'fressh', 'fret', 'freze', 'fri', 'friaday', 'friboourg', 'fricken', 'frickin', 'friday', 'fridg', 'friedanz', 'frieend', 'friend', 'friendfe', 'friendli', 'friendlypharm', 'friendquot', 'friendship', 'friendster', 'friggin', 'frighten', 'friiiend', 'fring', 'frisbe', 'friscokidd', 'fritz', 'frm', 'frnd', 'frndsteachersskul', 'fro', 'frog', 'frogblurb', 'froggerl', 'froggi', 'fromblueski', 'fromggwithlov', 'front', 'frontend', 'frontier', 'frontofmonitor', 'fropm', 'frost', 'froulala', 'frow', 'frozen', 'frpm', 'fruit', 'frum', 'frumousm', 'frustrat', 'fs', 'ftownmiss', 'ftsk', 'ftth', 'fttn', 'ftw', 'fubar', 'fuccccccckkkkkk', 'fuchss', 'fuck', 'fuckciti', 'fucken', 'fuckenjew', 'fuckin', 'fuckk', 'fudg', 'fudgegraph', 'fuee', 'fuel', 'fueledbytaylor', 'fuelsourc', 'fuffi', 'fuj', 'fuk', 'fuke', 'fukin', 'fukuoka', 'fulfil', 'full', 'fullaah', 'fullbright', 'fulli', 'fulltimecasu', 'fun', 'function', 'fund', 'funer', 'funeralthi', 'funfun', 'funim', 'funk', 'funkalicioussam', 'funki', 'funkism', 'funn', 'funni', 'funnier', 'funniest', 'funnifunniest', 'funnn', 'funnymarriageqouteshtml', 'funnyquot', 'funplu', 'funquot', 'funvega', 'funwwwcursebirdcom', 'fupid', 'fur', 'furiou', 'furlough', 'fusion', 'fuss', 'fussi', 'fut', 'futur', 'futuralogija', 'futuretweet', 'fuuuuuuuun', 'fuzeb', 'fuzzi', 'fuzzybut', 'fuzzygoldfish', 'fwd', 'fwt', 'fy', 'fyi', 'fyn', 'fz', 'fï', 'g', 'ga', 'gaaaaaaaaaaaad', 'gaat', 'gabbler', 'gabbyisact', 'gabigail', 'gabl', 'gabysslav', 'gac', 'gadget', 'gaga', 'gagaï', 'gagov', 'gah', 'gahh', 'gahhh', 'gailport', 'gain', 'gajgupta', 'gal', 'galact', 'galaxi', 'galaxyzoo', 'galizl', 'galleri', 'galliv', 'gallon', 'galor', 'galt', 'gama', 'gamblest', 'game', 'gamequot', 'gamer', 'gamingangel', 'gammi', 'gampt', 'ganda', 'gandhi', 'gang', 'ganna', 'gansta', 'garag', 'garanc', 'garbag', 'garden', 'gargoyl', 'gari', 'garlic', 'garlington', 'garr', 'garri', 'garyhitchman', 'garyphay', 'garyshort', 'gasit', 'gasp', 'gaspar', 'gastric', 'gastroscopi', 'gate', 'gather', 'gatorad', 'gau', 'gaux', 'gave', 'gavin', 'gawd', 'gawddamnit', 'gawjuss', 'gay', 'gayi', 'gaypatriot', 'gaytwink', 'gazz', 'gb', 'gblock', 'gc', 'gcap', 'gd', 'gear', 'gedeon', 'gee', 'geek', 'geekeri', 'geekett', 'geekgirl', 'geeklitebeta', 'geekmp', 'geeky', 'geekyclean', 'geem', 'geez', 'gefelicidingest', 'geforc', 'geisha', 'gelukkig', 'gemiddeld', 'gemma', 'gemstar', 'gen', 'gender', 'gener', 'geneseo', 'genethefotog', 'geniu', 'gennorg', 'genr', 'gent', 'gentl', 'geo', 'geoff', 'geoffjon', 'geographi', 'geopolit', 'georg', 'georgia', 'georgiakain', 'georgiaprincez', 'georgiazz', 'georginamiln', 'geovolt', 'ger', 'gerad', 'gerardomitr', 'gerardway', 'german', 'germandoo', 'germani', 'germanyand', 'gerrybutl', 'gestã', 'get', 'getoutofmyband', 'gettin', 'gf', 'gfalcon', 'gfaraujo', 'gg', 'ggen', 'gggkeri', 'ggmatshek', 'ggui', 'gh', 'gha', 'ghalfacre', 'gherkin', 'ghetto', 'ghod', 'ghost', 'ghostbust', 'ghostbusterz', 'ghostland', 'ghosttheori', 'ghwt', 'gi', 'gia', 'gianetta', 'giant', 'gibbo', 'gibson', 'giddi', 'gift', 'giftif', 'giftuseem', 'gig', 'gigdiari', 'giggl', 'gigglessssssss', 'giiirl', 'gilad', 'gill', 'gillieschick', 'gillmor', 'gilloux', 'gillyliz', 'gilmoregirlc', 'gimm', 'gimmick', 'gina', 'ginadeangelo', 'gingeral', 'gingeri', 'gingervlogz', 'gini', 'ginormica', 'ginoserg', 'ginovalenciano', 'gio', 'gipsydream', 'giraff', 'girishmallya', 'girl', 'girland', 'girlfriend', 'girlgetstrong', 'girlguidecooki', 'girli', 'girllllll', 'girllllllllll', 'girlsampholiday', 'girltalk', 'git', 'giv', 'give', 'giveherthegun', 'given', 'giver', 'gizmo', 'gl', 'glad', 'gladli', 'glam', 'glamari', 'glamorousvand', 'glasgow', 'glass', 'glasshous', 'glasto', 'glastofest', 'glastonburi', 'glau', 'glaze', 'glccjl', 'glencocco', 'glengeorg', 'glenn', 'glenzgolfvi', 'glitter', 'gljufura', 'globe', 'gloomi', 'glorianatheband', 'gloriou', 'glue', 'gluten', 'glutenfreegirl', 'gm', 'gma', 'gmail', 'gmanvn', 'gmic', 'gmorn', 'gmsq', 'gmt', 'gnat', 'gnight', 'gniit', 'gnite', 'go', 'goa', 'goal', 'goat', 'gobigdav', 'goblin', 'gobut', 'god', 'godbut', 'goddamn', 'goddamnit', 'goddd', 'goddess', 'godfath', 'godi', 'godpleas', 'godquot', 'godsend', 'godsfavoriteb', 'godsgirlscam', 'goe', 'gogreen', 'goig', 'goin', 'goingbtw', 'goinig', 'golast', 'gold', 'golda', 'golden', 'goldenfish', 'goldensho', 'goldensky', 'goldfish', 'goldi', 'golf', 'golfbal', 'golli', 'gona', 'gone', 'goneback', 'goneomg', 'gong', 'gonna', 'gonnna', 'gonoooooo', 'gonssa', 'gonut', 'gonzocontinu', 'goo', 'goobimama', 'good', 'goodbut', 'goodby', 'goodcarrot', 'gooddd', 'goodevil', 'goodhow', 'goodi', 'goodluck', 'goodmorn', 'goodnight', 'goodnightttttt', 'goodrock', 'goodtim', 'goodwhatev', 'gooey', 'goof', 'goofbal', 'goofi', 'goog', 'googeegoo', 'googl', 'googlecar', 'googlingbiltmor', 'goonrgrrl', 'gooo', 'goood', 'gooodnight', 'gooodnyt', 'gooooo', 'goooood', 'goooooo', 'gooooood', 'goooooood', 'gooooooood', 'gooooooooood', 'goooooooooood', 'goos', 'goosetak', 'gopet', 'goquot', 'gordonchiu', 'gorg', 'gorgeou', 'gorgeoussssss', 'gosh', 'goshh', 'goshhh', 'goshhhhhhhhhh', 'gospel', 'goss', 'gosselin', 'gossinteract', 'gossip', 'gossipgirl', 'gossipgirlx', 'got', 'gota', 'gotchu', 'gothic', 'gotmilk', 'gott', 'gotta', 'gotten', 'govanhil', 'govenor', 'govern', 'govt', 'gown', 'gp', 'gpl', 'gpo', 'gpokrcom', 'gr', 'grab', 'grabe', 'grace', 'gracelisa', 'graciealbernaz', 'graciou', 'grad', 'grade', 'grader', 'gradient', 'gradual', 'graduand', 'graduat', 'graduatiion', 'graduationit', 'graemeainsli', 'graft', 'graham', 'grahambattersbi', 'gram', 'grampi', 'grand', 'grandad', 'grandfath', 'grandma', 'grandmaroyic', 'grandmoth', 'grandpa', 'grandpar', 'granffath', 'granmalet', 'granni', 'granola', 'grant', 'grantacum', 'granular', 'grape', 'grapevin', 'graph', 'graphic', 'grass', 'grate', 'gratitud', 'gratz', 'grave', 'greaaat', 'great', 'greatbrittania', 'greater', 'greatest', 'greatli', 'greatsomebodi', 'greattt', 'grebel', 'greec', 'greed', 'greeeeeaaaaaatttt', 'greek', 'greekfest', 'green', 'greenbeltsom', 'greenshin', 'greet', 'gregdelima', 'greggl', 'greggrunberg', 'gretelscarlett', 'grew', 'grey', 'greyd', 'greyish', 'griffinquotlif', 'griffintech', 'grill', 'grim', 'grimmer', 'grimtorn', 'grin', 'grinch', 'grind', 'grindin', 'grip', 'grisli', 'grist', 'groceri', 'groggi', 'groin', 'gronumbul', 'groov', 'gross', 'grossenhain', 'ground', 'group', 'groupi', 'grow', 'growin', 'growl', 'growlin', 'growllik', 'grown', 'grownup', 'growth', 'grpsedg', 'grr', 'grreat', 'grrr', 'grrrh', 'grrrr', 'grrrrr', 'grrrrrr', 'grrrrrrr', 'grrrrrrrrr', 'grumbl', 'grump', 'grumpi', 'gs', 'gse', 'gsoc', 'gt', 'gta', 'gtgt', 'gtlt', 'gtvone', 'gtx', 'gtzi', 'guard', 'guardianrenata', 'gud', 'guelsah', 'guess', 'guessi', 'guest', 'guia', 'guid', 'guidebook', 'guilt', 'guilti', 'guin', 'guineapig', 'guipulp', 'guitar', 'guitarr', 'guitarriot', 'gulf', 'gulp', 'gum', 'gumal', 'gummi', 'guna', 'gunka', 'gunna', 'gunnna', 'gunnnna', 'guppi', 'gupshup', 'gurl', 'gurlystar', 'gurrrll', 'guru', 'gush', 'gusta', 'gut', 'guy', 'guykawasaki', 'guysnow', 'guyz', 'gw', 'gwane', 'gwunivers', 'gyal', 'gyan', 'gym', 'gymnast', 'gzf', 'h', 'ha', 'haa', 'haaa', 'haaaaa', 'haaaaaaaaahahahahahah', 'haaay', 'haarlem', 'haarp', 'haay', 'habanero', 'habe', 'habit', 'hack', 'hacker', 'hadnt', 'hadt', 'hagan', 'hah', 'haha', 'hahaa', 'hahaaa', 'hahafunni', 'hahah', 'hahaha', 'hahahah', 'hahahaha', 'hahahahaha', 'hahahamayb', 'hahahha', 'hahaim', 'hahaokay', 'hahawel', 'hahha', 'hahhahahaa', 'hai', 'hail', 'hailmaryjan', 'hain', 'hair', 'hairaddict', 'haircut', 'hairdo', 'hairdress', 'hairhow', 'hairrrrr', 'hairspray', 'hairstyl', 'hairth', 'haiserg', 'haiz', 'haizzz', 'hakavod', 'half', 'halfdec', 'halfheartedli', 'halford', 'halfsibl', 'hall', 'halli', 'halliway', 'hallo', 'halloween', 'hamaray', 'hamburg', 'hamil', 'hamlet', 'hammer', 'hammett', 'hamo', 'hampa', 'hampton', 'hamsti', 'hamstr', 'hamu', 'hand', 'handcod', 'handgunfl', 'handl', 'handler', 'handrol', 'handsim', 'handsom', 'handwrit', 'handwrot', 'hang', 'hangbag', 'hanger', 'hangout', 'hangov', 'hani', 'hank', 'hankatplay', 'hanker', 'hanlli', 'hannah', 'hannahpoulton', 'hannahxcx', 'hanser', 'hansongirl', 'hansonmus', 'happen', 'happenï', 'happi', 'happier', 'happili', 'happpi', 'happybob', 'happyloveschuck', 'happysumm', 'happythat', 'har', 'harass', 'harbar', 'harbor', 'hard', 'hardcor', 'hardearn', 'harder', 'harderit', 'hardest', 'hardi', 'hardley', 'hardli', 'hardyshowsyuk', 'hari', 'harlequinxgirl', 'harley', 'harold', 'harpreetsohalxx', 'harri', 'harrison', 'harrow', 'harryharley', 'harsayi', 'harthanson', 'haruhi', 'harvey', 'harveylevintmz', 'hasbookpush', 'hasbro', 'hash', 'hashyahoo', 'hasnt', 'hassl', 'hassox', 'hast', 'hasta', 'hat', 'hate', 'hateedddd', 'hateh', 'hatelik', 'hater', 'hatin', 'hatr', 'hatt', 'haueaueua', 'haul', 'haunt', 'hav', 'have', 'havent', 'havin', 'havoc', 'hawaii', 'hawaiian', 'hawley', 'hawn', 'hawt', 'hawx', 'hay', 'haydn', 'hayesz', 'hayfev', 'hayi', 'haykuro', 'hayl', 'hayli', 'haylieoffici', 'hayvock', 'haz', 'hazard', 'hazi', 'hazrat', 'hb', 'hbo', 'hbu', 'hcc', 'hd', 'hdd', 'he', 'head', 'headach', 'headachhhh', 'headbang', 'headfirst', 'headin', 'headless', 'headlin', 'headnot', 'headphon', 'headsetcamera', 'headshot', 'headsup', 'heah', 'heal', 'health', 'healthi', 'healtybut', 'heap', 'hear', 'heard', 'heart', 'heartbreak', 'heartbreaken', 'heartbroken', 'hearth', 'heartquot', 'heat', 'heater', 'heather', 'heatherbrew', 'heatherlyb', 'heathermari', 'heatherpaig', 'heatherpark', 'heathersullivan', 'heaven', 'heavena', 'heavenli', 'heavi', 'heavili', 'heavyhand', 'hebden', 'hebrew', 'heck', 'hectic', 'hed', 'hedder', 'heeeeeeeeey', 'heeellpppp', 'heehe', 'heel', 'heey', 'heh', 'hehe', 'hehebut', 'heheh', 'hehehe', 'heheheh', 'heheheheh', 'heheheheheh', 'hehehmind', 'hehemiss', 'heheu', 'heidi', 'heidianderson', 'heidiheartshug', 'heidimontag', 'heidivolturi', 'height', 'heiko', 'held', 'helicon', 'helio', 'hell', 'hella', 'hellenbach', 'hellhousemedia', 'helli', 'hellicopt', 'hellish', 'hellivina', 'hello', 'hellobeb', 'hellobritta', 'hellodlo', 'hellooooooooo', 'hellorainbooow', 'hellyeah', 'hellz', 'helmet', 'help', 'helper', 'hematitegoddess', 'hematocrit', 'hemel', 'hemo', 'hemoglobin', 'hempstead', 'henri', 'henrychen', 'herbal', 'herbert', 'herbpayn', 'hercul', 'herd', 'herdamn', 'herder', 'here', 'hereawesomehop', 'heree', 'herehav', 'hereim', 'herequot', 'heresh', 'herewa', 'heritag', 'herm', 'herman', 'hermit', 'herno', 'hero', 'heroesarg', 'herothi', 'herr', 'herrr', 'hertbeat', 'hesit', 'het', 'hetti', 'hewi', 'hewit', 'hewitt', 'hey', 'heya', 'heydemi', 'heyi', 'heyxboxl', 'heyyyi', 'heyyyyy', 'heyyyyyi', 'heyyyyyyyyyyy', 'hhh', 'hhhmmm', 'hhmm', 'hhmmm', 'hhr', 'hi', 'hianni', 'hiatu', 'hibern', 'hibernia', 'hibippytea', 'hiccup', 'hid', 'hidden', 'hide', 'hideou', 'hientertain', 'hierd', 'higgggh', 'high', 'highest', 'highland', 'highli', 'highlight', 'highschool', 'highscor', 'hightech', 'hightlight', 'highway', 'hihi', 'hihik', 'hiii', 'hiiiii', 'hijack', 'hike', 'hilari', 'hill', 'hillari', 'hillsquothav', 'hillssssss', 'hilton', 'himalikiran', 'himayyy', 'himhel', 'himindoor', 'himlol', 'himlt', 'himynameisemmi', 'hin', 'hinder', 'hint', 'hip', 'hiphopnonstoptv', 'hippidi', 'hipster', 'hire', 'hiro', 'hisciencenatur', 'hiscor', 'histori', 'historrrrri', 'hit', 'hitchin', 'hithavaru', 'hitmanpr', 'hitten', 'hittin', 'hittman', 'hitwithafish', 'hitzdotfm', 'hiya', 'hjorth', 'hk', 'hkod', 'hl', 'hm', 'hmdavid', 'hmi', 'hmm', 'hmmi', 'hmmm', 'hmmmill', 'hmmmm', 'hmmmmm', 'hmmmnot', 'hnrxmcrlover', 'ho', 'hobbit', 'hoccgoomus', 'hockey', 'hodakotb', 'hoe', 'hoffentlich', 'hoffm', 'hogan', 'hoho', 'hol', 'hola', 'hold', 'holder', 'holdin', 'holi', 'holiday', 'holidayholiday', 'holla', 'holler', 'holli', 'hollibwel', 'holliday', 'hollleer', 'hollow', 'hollyandthewood', 'hollyfit', 'hollykin', 'hollyoak', 'hollyoaksu', 'hollywood', 'hollywoodaudrey', 'hollywoodton', 'hollywoodtrey', 'hollywoodtv', 'holyschmok', 'holyshitholyshitholyshitholyshit', 'holytshirt', 'homag', 'homanc', 'home', 'homealon', 'homeampaway', 'homebas', 'homeboy', 'homeday', 'homee', 'homeeee', 'homeflutri', 'homeit', 'homeland', 'homeless', 'homemad', 'homemeanwhil', 'homepag', 'homequotuaequot', 'homeschool', 'homesteadwool', 'homeward', 'homework', 'homewreck', 'homey', 'homfgg', 'homi', 'homo', 'hon', 'hone', 'honest', 'honesti', 'honestli', 'honestlyam', 'honey', 'honeyhoneybun', 'honeytech', 'hong', 'honor', 'honoredthank', 'honour', 'hoo', 'hood', 'hoodi', 'hook', 'hookedonwint', 'hooker', 'hooki', 'hookitupppp', 'hoon', 'hooome', 'hoooooooooom', 'hooray', 'hoot', 'hoover', 'hoow', 'hop', 'hope', 'hopeformus', 'hopefuli', 'hopefullywil', 'hopeinhel', 'hopeless', 'hopin', 'hopkin', 'hoppersnot', 'horibbbl', 'horibl', 'hormon', 'horn', 'hornbach', 'horner', 'hornerakg', 'horni', 'horray', 'horribl', 'horrif', 'horror', 'hors', 'hortovanyi', 'hose', 'hospit', 'host', 'hostel', 'hoster', 'hostess', 'hostil', 'hot', 'hotbab', 'hotcross', 'hotdog', 'hotel', 'hothobolov', 'hothumidsweatyuncomfortablei', 'hott', 'hotter', 'hottest', 'hotti', 'hotttt', 'hotu', 'hotwet', 'hotx', 'hou', 'hound', 'hour', 'houramp', 'hourli', 'hoursgot', 'hoursquot', 'hoursyou', 'hourthat', 'hous', 'household', 'housemovingblu', 'houseofgem', 'housetrain', 'housewifey', 'housework', 'housi', 'houston', 'houstonbeauti', 'hover', 'hoviatt', 'how', 'howardrepris', 'howdi', 'howev', 'howr', 'hp', 'hpj', 'hpthemus', 'hptwilight', 'hq', 'hr', 'hrere', 'hrim', 'hrsugh', 'hrsway', 'hsm', 'hsumilo', 'htc', 'htci', 'html', 'htmlcss', 'htown', 'http', 'httpadcontrarianblogspotcom', 'httpadvuc', 'httpantwrpgsfcnasagovapodap', 'httpapassantnet', 'httpappsfacebookcomdogbookprofileview', 'httpartheidomybrutecomtf', 'httpatwitterprayerforgibliptv', 'httpawesm', 'httpbabyboxeslivejournalcom', 'httpbetafriendfeedcommiramarmik', 'httpbitli', 'httpbitlyakqld', 'httpbitlyb', 'httpbitlybss', 'httpbitlyc', 'httpbitlydrsn', 'httpbitlydvcg', 'httpbitlyerw', 'httpbitlyetnyn', 'httpbitlyf', 'httpbitlyfewsl', 'httpbitlygmkdi', 'httpbitlygyqi', 'httpbitlyhpnri', 'httpbitlyi', 'httpbitlyiwgq', 'httpbitlyj', 'httpbitlyjsxm', 'httpbitlykydjd', 'httpbitlymd', 'httpbitlymkdn', 'httpbitlyml', 'httpbitlynajkl', 'httpbitlynh', 'httpbitlyonhyd', 'httpbitlypqla', 'httpbitlypsx', 'httpbitlyqbgn', 'httpbitlyrmpmu', 'httpbitlyrscn', 'httpbitlyrvdwj', 'httpbitlysaxondtd', 'httpbitlyt', 'httpbitlytoppfblog', 'httpbitlyuymmp', 'httpbitlywk', 'httpbitlyxecz', 'httpbitlyxmvi', 'httpbkitecom', 'httpblipfm', 'httpchaicoffeeblogspotcom', 'httpclig', 'httpcrisi', 'httpcrystaldermycom', 'httpdatagov', 'httpdiggcomd', 'httpdownloadlivecomskumesseng', 'httpelutscomfrontstoreitemitemzoomaspitemnum', 'httpfanclubbackstreetboyscomchatphp', 'httpffim', 'httpfifa', 'httpflickchartcom', 'httpfoxnewscomstrategyroom', 'httpgetdropboxcom', 'httphubtmkxjbq', 'httpilovecupcakescoza', 'httpircjombuatduitnet', 'httpisgd', 'httpisgdq', 'httpisgdr', 'httpisgdra', 'httpisgdrabq', 'httpisgdrabu', 'httpisgdraut', 'httpitunesapplecomwebobjectsmzstorewoawaviewsoftwareid', 'httpjazfcom', 'httpjdemcza', 'httpjusttweetitcomgraphicdesign', 'httpkdkacomnationalfarrahfawcetthospit', 'httplabandremichellecomtonematrix', 'httplooptusasc', 'httplooptusfzoniwt', 'httpmattfca', 'httpmembermibbacom', 'httpmobypicturecomsm', 'httpmylocm', 'httpmypictm', 'httpnewsbbccouk', 'httpomeglecom', 'httporangetourorg', 'httpowlyfqhu', 'httppetparenthoodblogspotcom', 'httppicslivejournalcomnomadfoxp', 'httppikchurcomt', 'httppinpoetcomplanet', 'httppkabwordpresscom', 'httpplurkcomp', 'httpplurkcompmzp', 'httpplurkcompmzrp', 'httpplurkcompmzsld', 'httpplurkcompmztfi', 'httpplurkcompmzyb', 'httpplurkcompmzz', 'httpplurkcompn', 'httppsdessentialcominspir', 'httprapidsharecomfil', 'httprinkworkscomsaidcourtroomshtml', 'httpshortieih', 'httpsnedwancom', 'httpsniprcomf', 'httpsniprcomkv', 'httpsoundcloudcomjayfjayfuntitledasofnow', 'httpsp', 'httpspinvoxcombb', 'httpsuccessrevolutioncom', 'httptechnoraticomtagbarcampkl', 'httpthebladesbiz', 'httptheclausitowordpresscomtravel', 'httpthemeatloafywordpresscom', 'httptini', 'httptinyccbjcyj', 'httptinyurlcom', 'httptinyurlcomc', 'httptinyurlcomcactjn', 'httptinyurlcomcd', 'httptinyurlcomcddc', 'httptinyurlcomcfnzpk', 'httptinyurlcomchkdxb', 'httptinyurlcomcnlsz', 'httptinyurlcomcnra', 'httptinyurlcomcp', 'httptinyurlcomd', 'httptinyurlcomdbvlwt', 'httptinyurlcomdbwg', 'httptinyurlcomdcupoy', 'httptinyurlcomdfldvc', 'httptinyurlcomdg', 'httptinyurlcomdj', 'httptinyurlcomdjbec', 'httptinyurlcomdlevo', 'httptinyurlcomebbod', 'httptinyurlcomhecklerxyz', 'httptinyurlcoml', 'httptinyurlcomlfttsc', 'httptinyurlcomlmvn', 'httptinyurlcomlob', 'httptinyurlcomlowvec', 'httptinyurlcommbp', 'httptinyurlcommwpk', 'httptinyurlcommwvp', 'httptinyurlcomn', 'httptinyurlcomnjql', 'httptinyurlcomnjul', 'httptonynitwgooglepagescomthewitamintablet', 'httptoomanypplhaveblogsblogspotcom', 'httptotromancutadeviantartcomartnewborn', 'httptrimimng', 'httptrimimqg', 'httptrimimwb', 'httptrimimzw', 'httptrimpjj', 'httptrimpjp', 'httptumblrcomx', 'httptumblrcomxdr', 'httptumblrcomxf', 'httptumblrcomxra', 'httptumblrcomxss', 'httptumblrcomxyx', 'httptweetsg', 'httptwitgoocomi', 'httptwitpiccom', 'httptwittercomsamiyusuf', 'httptwittercomsevinnyn', 'httptwittercomtimelinedirectmessag', 'httptwittergradercomitsdawn', 'httptwittergradercomjfreem', 'httptwtfm', 'httptwurlccq', 'httptwurlnl', 'httptwurlnljxynqm', 'httptwurlnlk', 'httptwurlnlw', 'httpustream', 'httpwheresthegeekscouk', 'httpwortsuchendeendswithbylengthtel', 'httpwwwartissoftwaredepicturesmailpng', 'httpwwwastanacyclingteamcom', 'httpwwwatebitscom', 'httpwwwbikelycommapsbikepathmanlydammountainbiketrack', 'httpwwwboredcompranksiteindexhtm', 'httpwwwbypassfirewallnowcom', 'httpwwwchombocomauimag', 'httpwwwclickabrickorg', 'httpwwwcnncom', 'httpwwwdeezercomtrack', 'httpwwwexaminercomx', 'httpwwwextremetechcomarticl', 'httpwwwflashsellcoccparfumeslisthtml', 'httpwwwhulucomwatch', 'httpwwwjennifervazquezcomproductshtm', 'httpwwwlastfmmusicnoiseboy', 'httpwwwlogoficom', 'httpwwwlovingfromadistancecomthingsforldrcouplestodohtml', 'httpwwwmatthartleycomchumbyhtml', 'httpwwwmobipowerpackscom', 'httpwwwmyspacecom', 'httpwwwnewgroundscomportalview', 'httpwwwnikrustycom', 'httpwwwohgodmyeyescom', 'httpwwwonlinemarktplatzd', 'httpwwwpharmaeffectscom', 'httpwwwsearchenginechocolatecomblog', 'httpwwwshoedazzlecom', 'httpwwwspiritofspeysidecom', 'httpwwwstabmagcomlittleweedsthelittleweedskimandison', 'httpwwwtelegourmetorg', 'httpwwwthedailyshowcomvideoindexjhtmlvideoid', 'httpwwwtripcentralcaphpfunnyindexphpactionplayvideoampvideoid', 'httpwwwtrovuscouk', 'httpwwwtweetstatscom', 'httpwwwwebowordcom', 'httpwwwwlrnorg', 'httpwwwwordlenet', 'httpwwwworldresolutionnettravel', 'httpwwwwriterobinsoncom', 'httpwwwyoutubecomuserkoolkidzblock', 'httpwwwyoutubecomwatchv', 'httpwwwyoutubecomwatchvbelzcym', 'httpwwwyoutubecomwatchvcl', 'httpwwwyoutubecomwatchverpsx', 'httpwwwyoutubecomwatchvgvshc', 'httpwwwyoutubecomwatchvhlww', 'httpwwwyoutubecomwatchviuehasxb', 'httpwwwyoutubecomwatchvkdkiqfb', 'httpwwwyoutubecomwatchvmp', 'httpwwwyoutubecomwatchvnrlsku', 'httpwwwyoutubecomwatchvqcsdv', 'httpwwwyoutubecomwatchvzogfqvh', 'httpwwwzachleatcomprojectsalarmd', 'httpyfrogcom', 'httpykyatcom', 'httpyoutubecomsupermac', 'httpznlmeo', 'htwn', 'hu', 'hua', 'hub', 'hubbi', 'hubz', 'huckleberri', 'huesudito', 'huey', 'hug', 'huge', 'hugg', 'hugger', 'huggi', 'huggl', 'hugh', 'hughesforc', 'hughesi', 'hughlauri', 'huglov', 'hugsssssssss', 'hugzzzzzzzzzzzz', 'huh', 'huhauha', 'huhh', 'hulk', 'hulucom', 'hum', 'human', 'humid', 'humili', 'humm', 'hummer', 'hummingbird', 'hummm', 'humor', 'humorless', 'humour', 'hump', 'humu', 'hun', 'hunch', 'hundr', 'hung', 'hungarian', 'hunger', 'hungov', 'hungrey', 'hungri', 'hungryso', 'hungryworship', 'hunney', 'hunni', 'hunnybunni', 'hunt', 'hunter', 'huntersmama', 'huntington', 'hunz', 'hurley', 'hurrah', 'hurray', 'hurri', 'hurrican', 'hurrt', 'hurt', 'hurtsi', 'hurumf', 'husband', 'husbandfath', 'huw', 'huwstephen', 'hv', 'hve', 'hving', 'hvnt', 'hw', 'hwait', 'hy', 'hybrid', 'hyde', 'hye', 'hym', 'hyper', 'hyster', 'hzell', 'háº', 'hã', 'ia', 'iain', 'iaintnohomo', 'iambluecub', 'iamdiddi', 'iamhorror', 'iammarku', 'iammercymed', 'iamrenesia', 'iamstevenbagg', 'ian', 'ianaspin', 'ianp', 'ianrckstr', 'iata', 'ibiza', 'ibrahim', 'ibu', 'ic', 'ice', 'icecream', 'ich', 'ichat', 'ichosetol', 'ichristian', 'ici', 'icjackson', 'icki', 'ickleorient', 'icon', 'icsid', 'ictoria', 'icyw', 'icywil', 'icã', 'id', 'idc', 'idea', 'ideal', 'ident', 'identica', 'identifi', 'identifox', 'identitykrysi', 'ideshab', 'idesk', 'idiot', 'idjd', 'idk', 'idkk', 'idol', 'idoltour', 'idonthaveflea', 'idw', 'ie', 'ieft', 'ielli', 'ientj', 'if', 'iframeshim', 'igerren', 'ight', 'igimm', 'iglesia', 'ignitechang', 'ignor', 'igoogl', 'igorkheifet', 'ihad', 'ihadith', 'ihatecrayon', 'ihop', 'ii', 'iiheartshana', 'iii', 'iinshould', 'iirc', 'ij', 'ijamidayu', 'ijansch', 'ijohn', 'ijustin', 'ikbenjanin', 'ike', 'ikea', 'il', 'ili', 'iliveforthi', 'ill', 'illeg', 'illest', 'illiter', 'illumin', 'ilov', 'ilovegayboy', 'ilovespot', 'ilovey', 'ilu', 'iluma', 'ilusm', 'iluvnkotb', 'ilux', 'ilvdbch', 'ilytoo', 'im', 'ima', 'imadesiign', 'imag', 'imagejenn', 'imagin', 'imaginari', 'imalcolmjam', 'imalexevan', 'imarriag', 'imbanditsp', 'imbartsimpson', 'imburbl', 'imdavi', 'imdoc', 'ime', 'imedia', 'imfreshtodef', 'imisshim', 'imissy', 'imjustcr', 'imlmao', 'imm', 'imma', 'immedi', 'immin', 'immmheidi', 'immun', 'imperson', 'implement', 'impli', 'import', 'imposs', 'impot', 'impress', 'improp', 'improv', 'imranajmain', 'imranhussain', 'imsoape', 'imtiredofstrategistshtml', 'in', 'ina', 'inadvert', 'inappropri', 'inblueink', 'inbox', 'inc', 'incendiari', 'inch', 'incident', 'incl', 'inclin', 'includ', 'includng', 'inclus', 'incom', 'incompletebut', 'incorpor', 'increas', 'incred', 'incredibleconsid', 'increment', 'incubu', 'inde', 'indeedio', 'independ', 'indesign', 'index', 'indi', 'india', 'indiaali', 'indian', 'indiana', 'indien', 'indigen', 'indisput', 'individu', 'indonesian', 'indowebst', 'induc', 'induct', 'indulg', 'industri', 'inekeclew', 'inertia', 'inet', 'inevit', 'inevitablelik', 'infact', 'infam', 'infatu', 'infect', 'infinitarchitek', 'influenc', 'influenza', 'info', 'infobunni', 'inform', 'informat', 'infrastructur', 'infront', 'ingrain', 'ingredi', 'ingridcol', 'ingridk', 'ingridmus', 'inhibit', 'initdont', 'initi', 'inject', 'injur', 'injuri', 'ink', 'inlaw', 'inlookout', 'innalar', 'inner', 'innik', 'innoc', 'ino', 'inprogress', 'input', 'inreal', 'insan', 'insearchofnkotb', 'insecur', 'inseper', 'insert', 'insid', 'insideout', 'insidetheglow', 'insight', 'insirst', 'insomnia', 'inspect', 'inspir', 'inspirationin', 'inspirationthank', 'instal', 'instantli', 'instead', 'institut', 'instruct', 'instrument', 'insubordin', 'insult', 'insur', 'integ', 'integr', 'intellig', 'intelligensia', 'intend', 'intens', 'intent', 'interact', 'interest', 'interfac', 'interfer', 'interior', 'intern', 'internet', 'internetless', 'internship', 'interpret', 'interpretorsound', 'interrupt', 'interview', 'interweb', 'interwebz', 'intl', 'intro', 'introduc', 'intvu', 'invega', 'invent', 'inventor', 'inveri', 'investig', 'invis', 'invit', 'involv', 'iowa', 'ipathia', 'ipb', 'iphigeni', 'iphon', 'iphonedevgirl', 'iphoneipod', 'iphoney', 'iphoto', 'ipink', 'iplay', 'ipod', 'ipoda', 'ipt', 'iquot', 'irala', 'iran', 'iranelect', 'iraq', 'irb', 'ireland', 'irenecarag', 'ireport', 'ireton', 'irfanahm', 'irfanhaneefcl', 'irish', 'irishsiobhan', 'iritatng', 'irl', 'iron', 'ironchefshelli', 'ironclasp', 'irrat', 'irregular', 'irrelev', 'irrepar', 'irresist', 'irrespons', 'irrit', 'isa', 'isabeau', 'isabel', 'isabellamcullen', 'isabellaxo', 'isacullen', 'isak', 'isanl', 'iscreamfashion', 'isedo', 'isengard', 'ish', 'ishihara', 'ishtudei', 'isjust', 'isl', 'island', 'islandcubfre', 'ismackyourass', 'isnit', 'isnt', 'isobel', 'isol', 'isorrieid', 'ispunk', 'issamel', 'issu', 'ist', 'isth', 'istilah', 'istor', 'itali', 'italia', 'italian', 'italienisch', 'itc', 'itch', 'itchyyi', 'itd', 'item', 'itev', 'itfirst', 'ith', 'ithato', 'ithop', 'iti', 'itinerari', 'itit', 'itjakob', 'itlay', 'itll', 'itquot', 'itsajen', 'itsangi', 'itsanimesh', 'itsann', 'itsdawn', 'itsjayrabbabi', 'itsjonlevin', 'itsninenow', 'itsonalexa', 'itsorri', 'itsroomi', 'itssb', 'itstoni', 'itsuki', 'itsyvonn', 'itt', 'itthi', 'itttsss', 'itun', 'itw', 'itâ', 'itï', 'iu', 'iut', 'iv', 'ive', 'ivent', 'ivesquotlik', 'ivi', 'ivorytow', 'iwa', 'iweb', 'iwebrarian', 'iwrotethi', 'iyya', 'iz', 'izing', 'izon', 'izzakizza', 'izzo', 'izzyeatsbabi', 'iâ', 'iï', 'j', 'ja', 'jaa', 'jaaaaaah', 'jaadu', 'jab', 'jac', 'jacatrenich', 'jace', 'jaceperri', 'jack', 'jackcross', 'jacke', 'jacketshoodi', 'jackhii', 'jacki', 'jackiemcghe', 'jackman', 'jackmckay', 'jackschofield', 'jackson', 'jacksonvil', 'jacob', 'jacqui', 'jacuzzi', 'jacvici', 'jadaboi', 'jademu', 'jadmalala', 'jaguarjuli', 'jagusti', 'jai', 'jail', 'jailbreak', 'jailbreakland', 'jaimiefanat', 'jakarta', 'jake', 'jakechew', 'jakejon', 'jaketoocool', 'jalbertbowdenii', 'jam', 'jamaica', 'jamaipanes', 'jamba', 'jame', 'jamesaray', 'jamesdeen', 'jameskysonle', 'jamespleas', 'jamesshunt', 'jami', 'jamieduk', 'jamiegirl', 'jamierosa', 'jamiesmart', 'jammi', 'jammin', 'jan', 'janaej', 'jane', 'janebelinda', 'janeetmb', 'janel', 'janet', 'jani', 'janiceros', 'janniestwbox', 'janportfolio', 'januari', 'janyxu', 'japan', 'japanes', 'japannewbi', 'jar', 'jare', 'jaredleto', 'jargon', 'jarnail', 'jarrattdavi', 'jashiu', 'jasmin', 'jasminechanel', 'jason', 'jasonandjodi', 'jasonaten', 'jasonbett', 'jasonpmcrussel', 'jasonsala', 'jaunti', 'javaj', 'jaw', 'jawab', 'jax', 'jaxontyl', 'jay', 'jaybrannan', 'jaydem', 'jayjaykle', 'jayjayl', 'jaylastarr', 'jaym', 'jaymeevici', 'jaynetunstal', 'jayseetoo', 'jaywatt', 'jaz', 'jazf', 'jazziefaith', 'jazzl', 'jazznash', 'jb', 'jbagley', 'jbrotherlov', 'jbruin', 'jclayvil', 'jcrillz', 'jdickerson', 'je', 'jealou', 'jealoustalk', 'jealousyat', 'jean', 'jeanchia', 'jebholm', 'jeep', 'jeeper', 'jeepersmedia', 'jeez', 'jeezyfosheezi', 'jeff', 'jeffgilli', 'jeffhandley', 'jeffkang', 'jeffmitchel', 'jeffre', 'jeffreecuntstar', 'jeffsparxxx', 'jeffswaren', 'jefftefertil', 'jeickythecat', 'jelez', 'jelli', 'jellibeen', 'jello', 'jelou', 'jemcam', 'jenandtonica', 'jenbjoyc', 'jendalyn', 'jenellnicol', 'jenga', 'jengregori', 'jenhuckdol', 'jeniu', 'jennamadison', 'jennaynayi', 'jennbrown', 'jennex', 'jenngonzalez', 'jenni', 'jennif', 'jennifalcon', 'jenniferawhit', 'jenniferg', 'jenniferlaurenh', 'jennifermf', 'jenniferrooney', 'jenniish', 'jennlajeuness', 'jennma', 'jennyj', 'jensoyoung', 'jenspeedi', 'jentheju', 'jep', 'jephjacqu', 'jer', 'jeremi', 'jerichok', 'jerime', 'jerk', 'jerri', 'jerrycchen', 'jersey', 'jeslynfong', 'jess', 'jessakelli', 'jessewilson', 'jesseyuen', 'jessic', 'jessica', 'jessicahambi', 'jessicastrust', 'jessiefulk', 'jessisahero', 'jessthemediocr', 'jesu', 'jesusquot', 'jesusseri', 'jet', 'jeter', 'jethron', 'jetski', 'jf', 'jfreem', 'jgar', 'jgto', 'jhaebet', 'jhann', 'jharsem', 'jhayu', 'jhnewf', 'jhoke', 'jhonenv', 'jhtt', 'jhybe', 'jiazhen', 'jif', 'jigglefest', 'jill', 'jillalbano', 'jillporto', 'jillyt', 'jiln', 'jim', 'jimayson', 'jimlokay', 'jimmi', 'jimmrow', 'jimmunci', 'jimmybuffett', 'jimmycarr', 'jimmyeatworld', 'jimmyfallon', 'jimmygordon', 'jimmypoodl', 'jimmysmithtrain', 'jimpeel', 'jing', 'jingl', 'jinjadev', 'jinro', 'jinx', 'jinxieg', 'jix', 'jizzin', 'jj', 'jjake', 'jjanebb', 'jjchicken', 'jjmothafokinkeo', 'jjust', 'jk', 'jkmyth', 'jkor', 'jlbooth', 'jlienx', 'jlo', 'jlsbbi', 'jlsoffici', 'jmac', 'jmatthewflyzik', 'jmcdermotti', 'jnarin', 'jnez', 'jo', 'joannabutl', 'joannayoung', 'joannazuniga', 'job', 'jobfrom', 'jobhmmha', 'jobsgreat', 'jobsworth', 'joburg', 'jocam', 'jocelynbrook', 'jodialbert', 'joe', 'joeallam', 'joeandjess', 'joeaugustin', 'joel', 'joelheitmar', 'joelkonecni', 'joelmadden', 'joeltel', 'joemcintyr', 'joemqi', 'joerearden', 'joesgirl', 'joesteinworth', 'joesu', 'joey', 'joeylibetta', 'jog', 'jogabenitavaltan', 'johanbruyneel', 'johanna', 'johannacherri', 'john', 'johnbishop', 'johnhay', 'johnheimk', 'johnkolbert', 'johnlloydyoung', 'johnni', 'johnnypez', 'johnnyrecord', 'johnquin', 'johnson', 'johoho', 'joi', 'join', 'jojo', 'jojoba', 'joke', 'jokejokejok', 'joli', 'jolijnposthuma', 'jolilor', 'jon', 'jona', 'jonahbailey', 'jonandk', 'jonanthan', 'jonasbroth', 'jonaskevin', 'jonathan', 'jonathanfry', 'jonathanrknight', 'jonconnelli', 'jone', 'jonesin', 'jonfavreau', 'jonni', 'jonnylawchicagoi', 'jonnyli', 'jonoethan', 'jonskeet', 'jonto', 'jonut', 'jonwuk', 'joob', 'joolz', 'joomlawork', 'jooooordan', 'joota', 'jop', 'joplin', 'jordan', 'jordanknight', 'jordynhil', 'jori', 'jorskwen', 'jose', 'josef', 'josemarqu', 'josephdsumm', 'josephineb', 'josesosa', 'josh', 'joshinthec', 'joshua', 'joshuabarbour', 'joshwahudson', 'josui', 'journal', 'journalist', 'journalquot', 'journey', 'journeyjuju', 'journo', 'joy', 'joyand', 'joyandlif', 'joycekim', 'joyciebo', 'joydaili', 'joypod', 'joytribbl', 'jpack', 'jpcashcash', 'jpeg', 'jpierc', 'jpl', 'jpp', 'jprice', 'jr', 'jreneebuchholz', 'jrgibson', 'js', 'jsamuelson', 'jschind', 'jsiegand', 'jsmith', 'jsneed', 'jst', 'jstan', 'jstarrh', 'jsut', 'jsworld', 'jt', 'jtklx', 'jtownend', 'jtryon', 'jtv', 'ju', 'juan', 'juand', 'juani', 'juat', 'jubile', 'judelaros', 'judg', 'judi', 'judithbailey', 'juggernaut', 'juggl', 'juic', 'juiicybabiixx', 'juin', 'julesbianchi', 'juli', 'juliab', 'julialush', 'julianahatfield', 'juliankim', 'julianneiann', 'juliaroy', 'julieallinson', 'julieand', 'julieandth', 'juliejoli', 'juliejujube', 'juliekoh', 'juliet', 'juliwooli', 'julyyyyi', 'jump', 'jumper', 'june', 'juneaurock', 'juneeith', 'juneth', 'jungl', 'juni', 'junior', 'junk', 'junkiecat', 'juntar', 'jupin', 'jur', 'juri', 'jusluvinlif', 'juss', 'jusssstt', 'justad', 'justchat', 'justd', 'justdaydream', 'justg', 'justheard', 'justher', 'justi', 'justic', 'justif', 'justin', 'justinbieb', 'justindem', 'justingr', 'justinhayward', 'justreal', 'justreva', 'juz', 'jw', 'jwillock', 'jz', 'jzdziarski', 'jzfflm', 'jáº', 'jã', 'k', 'ka', 'kaayphon', 'kacimaureen', 'kacymariema', 'kade', 'kadenc', 'kai', 'kaifeng', 'kaikhao', 'kailun', 'kaiser', 'kakï', 'kal', 'kaleenka', 'kalemeow', 'kalenamil', 'kalpenn', 'kameelahwrit', 'kami', 'kanina', 'kannagi', 'kannib', 'kany', 'kapsali', 'karah', 'karakarth', 'karanbir', 'karaok', 'karaokï', 'karat', 'kardashian', 'karhi', 'kariegli', 'karin', 'karina', 'karishma', 'karlaynzon', 'karleigh', 'karma', 'karmadillo', 'karna', 'karraaaawr', 'karrisfoxi', 'karro', 'karrrin', 'karsentheslat', 'kart', 'kasal', 'kasi', 'kaspershow', 'kat', 'katawa', 'katayi', 'katdog', 'kate', 'kateedward', 'katehugh', 'katekendal', 'katesparti', 'katexuereb', 'kati', 'katiebugwho', 'katiehay', 'katiejohnston', 'katiepiatt', 'katieporrello', 'katla', 'katn', 'katnkyeri', 'katpap', 'katreim', 'katrinabikini', 'kattcom', 'katybudgetbook', 'kaushal', 'kavismus', 'kawan', 'kay', 'kayak', 'kaybella', 'kaykay', 'kayle', 'kayleigh', 'kayota', 'kazeemmus', 'kb', 'kbb', 'kben', 'kbow', 'kbp', 'kbtg', 'kc', 'kcarruth', 'kcc', 'kcoffici', 'kdubbb', 'kealli', 'keeen', 'keenorga', 'keep', 'keepal', 'keeperquot', 'keepin', 'keepinupwkri', 'keesitt', 'keidi', 'kein', 'keith', 'keithdsouza', 'keithprivett', 'kelisha', 'kell', 'kelli', 'kellierasberri', 'kellyhgay', 'kellykendal', 'kellyleahi', 'kellyng', 'kellynva', 'kellyrowland', 'kelsitesta', 'ken', 'kena', 'kenarmstrong', 'kendallmassey', 'kenday', 'kendravvv', 'kenichan', 'kenjbarn', 'kennel', 'kennethreitz', 'kenni', 'kennysnow', 'kensutz', 'kent', 'kentucki', 'kenya', 'kenyonluk', 'kept', 'ker', 'keri', 'kerr', 'kerrikuklinski', 'kerrilouis', 'kesavareddi', 'keskiyo', 'kevin', 'kevinhart', 'kevinros', 'kevinruddpm', 'kevinswitz', 'kevlar', 'kevykevykelvin', 'kewl', 'key', 'keyannaaa', 'keyboard', 'keygenkeyg', 'keynot', 'keyr', 'keyword', 'kfanyc', 'kfest', 'kh', 'khaliblach', 'khan', 'khi', 'khichdi', 'khloefarrah', 'khloekardashian', 'kick', 'kickbox', 'kickdrum', 'kickslol', 'kid', 'kiddin', 'kiddo', 'kidnap', 'kidney', 'kidsclean', 'kidsgoap', 'kierdarbi', 'kieren', 'kieronlan', 'kieshacarrmodel', 'kiki', 'kikivald', 'kilian', 'kill', 'killer', 'kim', 'kimalon', 'kimbeeism', 'kimberfac', 'kimberleycanada', 'kimiah', 'kimkardashian', 'kimmiedavid', 'kimmygib', 'kimsedman', 'kinabalu', 'kinagranni', 'kind', 'kinda', 'kindergarten', 'kinderporno', 'kindl', 'kindoff', 'kindr', 'king', 'kingarlen', 'kingda', 'kingdomguard', 'kingii', 'kingston', 'kingunicorn', 'kinki', 'kinokuniya', 'kinokuniyaaust', 'kippygo', 'kir', 'kira', 'kiraaampi', 'kirilenko', 'kirisutegomen', 'kirsssti', 'kirsti', 'kirstyr', 'kisha', 'kisi', 'kiss', 'kisswithatear', 'kit', 'kita', 'kitchen', 'kitt', 'kitte', 'kitteh', 'kitten', 'kittenz', 'kitti', 'kittieskiddi', 'kittybuffiekat', 'kittystiletto', 'kiwi', 'kiya', 'kiyastar', 'kjaslgja', 'kjong', 'klari', 'kleenex', 'kleinjinx', 'klg', 'klowndogg', 'km', 'kmacableyour', 'kmancobhc', 'kming', 'kml', 'knee', 'knew', 'knife', 'knight', 'knighti', 'knightowl', 'knihi', 'knit', 'knitluck', 'knitplaywithfir', 'knitster', 'knive', 'knnow', 'kno', 'knob', 'knock', 'knocki', 'knoooooooo', 'knorr', 'knot', 'know', 'knoweven', 'knowi', 'known', 'knownot', 'knowperson', 'knowpig', 'knoww', 'knowwhat', 'knowww', 'knw', 'knwo', 'ko', 'koala', 'kodachrom', 'kodoliga', 'koffeekosmo', 'kogibbq', 'koi', 'kok', 'kol', 'kong', 'konqueror', 'kook', 'koolaid', 'koolgirl', 'kooli', 'koon', 'korea', 'korean', 'koreekreep', 'koreesadsad', 'korey', 'koriannespeak', 'korionmorri', 'kotor', 'kourtneykardash', 'kp', 'kpvd', 'kram', 'krisallenmus', 'krisbuytaert', 'krisgarvey', 'kristacolvin', 'kristanichol', 'kristenjstewart', 'kristenwdw', 'kristim', 'kristinebam', 'kristinekilljoy', 'krisym', 'krod', 'krudd', 'kryptonit', 'krystalatwork', 'kryten', 'kshakya', 'ktbeeper', 'ktsaurusrex', 'ktsummer', 'ku', 'kuch', 'kudo', 'kuliah', 'kumar', 'kumarhk', 'kung', 'kupkakein', 'kurb', 'kurli', 'kurtsho', 'kurttheoutsid', 'kutcher', 'kutekr', 'kutner', 'kuwait', 'kuya', 'kwaito', 'kworkman', 'ky', 'kyabean', 'kyiv', 'kyle', 'kyleandjackieo', 'kylefox', 'kyork', 'kyoto', 'kyte', 'kyuhyunni', 'kz', 'kã½', 'kï', 'l', 'la', 'laalaa', 'laalice', 'laatina', 'lab', 'labelhmm', 'labellemusik', 'labeouf', 'labor', 'labour', 'labyrinth', 'laci', 'lack', 'lad', 'ladi', 'ladydoc', 'ladyerlynn', 'ladyexec', 'ladygaga', 'ladyhawk', 'ladykatiejan', 'ladyparadi', 'ladytron', 'ladytwitst', 'laerwen', 'laff', 'lafilmfest', 'lagiggl', 'laguna', 'lah', 'lahr', 'laid', 'laina', 'lake', 'lakermami', 'lakh', 'laksa', 'lalaki', 'lalala', 'lallalalla', 'lalocamario', 'lamb', 'lambgirl', 'lambsquot', 'lame', 'lamehahaha', 'lammb', 'lana', 'lanaclevermomm', 'lanafromoz', 'lanaveenk', 'lancast', 'lancearmstrong', 'land', 'landrew', 'lane', 'lang', 'langford', 'langley', 'languag', 'languang', 'lanka', 'laoof', 'lap', 'lapcat', 'laptop', 'lar', 'larg', 'larger', 'larissabina', 'larri', 'larrycarrol', 'larryczerwonka', 'larrydavid', 'larsthomsen', 'lasagna', 'lasandracim', 'laser', 'lass', 'last', 'lastlikelylad', 'lastnight', 'lastyearsgirl', 'lata', 'late', 'latealarm', 'lateeee', 'latelyi', 'latenight', 'later', 'laterfuner', 'latest', 'latetoo', 'latexfetish', 'lathkildal', 'latishabechko', 'latt', 'lattex', 'lau', 'laugh', 'laughabl', 'laughen', 'laughin', 'laughjokesdepress', 'laughter', 'launch', 'laundri', 'laura', 'lauracol', 'lauracutajar', 'lauraeatworld', 'lauralacross', 'lauralkgw', 'lauramcauliff', 'laurameckl', 'lauramumford', 'laurang', 'lauraw', 'laurax', 'lauredhel', 'lauren', 'laurenazio', 'laurenconrad', 'laurenemilyy', 'laurenrodriguez', 'lauruy', 'lautner', 'lava', 'lavanyaj', 'lavend', 'lavsmohan', 'law', 'lawd', 'lawl', 'lawrenceden', 'laxbellaxsim', 'lay', 'layer', 'layin', 'layout', 'layov', 'lazard', 'lazi', 'lazygiraff', 'lazytri', 'lb', 'lbaq', 'lbda', 'lbheartjessica', 'lbp', 'lbran', 'lbugnion', 'lc', 'lchin', 'lcr', 'ldydisney', 'le', 'lead', 'leader', 'leagu', 'leak', 'leakjeez', 'lean', 'leann', 'leannepowel', 'leapt', 'learn', 'learnitonlin', 'learnt', 'least', 'leav', 'leavequot', 'leaver', 'leavin', 'lectur', 'ledisi', 'lee', 'leeantz', 'leebeadel', 'leebrownhil', 'leeknight', 'leer', 'leesaftw', 'leetj', 'leeww', 'leezearray', 'left', 'leftand', 'leftov', 'leg', 'legaci', 'legal', 'legend', 'legendari', 'legit', 'legmar', 'leia', 'leiabox', 'leicest', 'leighton', 'lejeff', 'lejuiceman', 'lelahg', 'lemeeeee', 'lemlina', 'lemm', 'lemon', 'lemonad', 'lemonknick', 'lemur', 'len', 'lend', 'lendmeyourey', 'lendon', 'length', 'lengthi', 'lennel', 'leno', 'lens', 'lent', 'lenten', 'leogaggl', 'leon', 'leoncitobonito', 'leozombi', 'lepor', 'leppard', 'leprechaun', 'leran', 'lesbian', 'lesley', 'lesleym', 'lesliemalason', 'leslienassar', 'leslieroark', 'lesrw', 'less', 'lesson', 'let', 'letharg', 'letoyaluckett', 'letter', 'letterman', 'letti', 'levarburton', 'level', 'levelboss', 'levi', 'levimoral', 'levoncouldnt', 'lewi', 'lewisbostock', 'lexaah', 'lexi', 'lexichow', 'lexiesteven', 'lexington', 'lexykiddl', 'lfta', 'lfzh', 'lga', 'lhawthorn', 'lhr', 'liaaajan', 'liarquot', 'lib', 'libaudioso', 'libbi', 'libbyoliv', 'libcameraso', 'libey', 'libigannaaaash', 'librari', 'librarywork', 'licens', 'lichfieldblog', 'lid', 'liddo', 'lidewij', 'lie', 'liein', 'life', 'lifebelt', 'lifechangingliv', 'lifedont', 'lifee', 'lifeguard', 'lifei', 'lifeif', 'lifequot', 'lifesav', 'lifetimedont', 'lifex', 'light', 'lightblu', 'lightbox', 'lighten', 'lighter', 'lightintheski', 'lightn', 'lightnin', 'lightsquot', 'ligo', 'liiiiiiiiiiiiisten', 'liiiittl', 'liiper', 'liiveguddiebadd', 'like', 'likeeversad', 'likesoon', 'likewis', 'lil', 'lili', 'lilish', 'lillyluna', 'lilyish', 'lilyroseallen', 'lime', 'limit', 'limp', 'limyh', 'linarianj', 'linc', 'lincoln', 'lindi', 'lindsay', 'lindsey', 'lindyjomac', 'lindznicol', 'line', 'lineart', 'linebreak', 'linen', 'liner', 'linesmannerismsvoic', 'lineup', 'linger', 'link', 'linkin', 'linnix', 'linu', 'linux', 'lion', 'lip', 'lipton', 'liqour', 'liquid', 'liquidfyregam', 'liquidquot', 'liquor', 'lisa', 'lisabul', 'lisaholm', 'lisahopecyru', 'lisakimflemingwork', 'lisamishel', 'lisamurray', 'lisanoelruocco', 'lisanova', 'lisap', 'lisarinna', 'lisash', 'lishafan', 'lissi', 'lissym', 'list', 'listen', 'listento', 'listquot', 'lit', 'liter', 'literati', 'lithuania', 'litrik', 'littl', 'littlebird', 'littledotti', 'littlefish', 'littlefletch', 'littlelumen', 'littlemisscupcak', 'littlemissnat', 'littlemunchkin', 'littlerabbit', 'littleunr', 'littlewideworld', 'littrellfan', 'live', 'livejourn', 'liver', 'livestream', 'livin', 'livingsecret', 'livr', 'liza', 'lizard', 'lizgiangrand', 'lizlin', 'lizmyer', 'lizp', 'lizpdx', 'lizroz', 'lizzardescobar', 'lizzi', 'lizzielib', 'lj', 'ljboni', 'ljubljana', 'llama', 'llawen', 'llcooldav', 'llittl', 'lll', 'llove', 'lmao', 'lmaoo', 'lmaooo', 'lmaoooo', 'lmaoughhhhh', 'lmdvintag', 'lmfao', 'lmk', 'ln', 'lo', 'load', 'loadsa', 'loampfmt', 'loan', 'loath', 'lobbi', 'lobster', 'local', 'locat', 'locavor', 'lock', 'lockbox', 'log', 'logan', 'logicalthought', 'login', 'logo', 'lohan', 'loic', 'lokki', 'lol', 'lolahhther', 'lolbad', 'lolim', 'lolit', 'lolkat', 'lolli', 'lollipop', 'lollyjay', 'lolm', 'lolmi', 'lolno', 'lolol', 'loltarwhaa', 'loltothepow', 'lolwhen', 'lolx', 'lolz', 'lon', 'london', 'londonsymphoni', 'lone', 'loneli', 'lonely', 'lonelyandroid', 'lonelybob', 'loner', 'lonesom', 'long', 'longer', 'longgettin', 'longgg', 'longhorn', 'longtim', 'lonley', 'look', 'looke', 'lookhappi', 'lookin', 'lool', 'loom', 'loooong', 'looooong', 'loooooonnnng', 'looooooong', 'loooooooong', 'looooooooooooooov', 'looooov', 'looos', 'looov', 'looow', 'loop', 'loopi', 'loos', 'loosin', 'loot', 'lopez', 'lora', 'lord', 'lorddeacon', 'lordpov', 'lordshap', 'loreleispenc', 'loren', 'lorennn', 'loriett', 'lorigama', 'lorissa', 'lornamcampbel', 'lorrainestanick', 'lose', 'loser', 'loserthat', 'losiento', 'loss', 'lost', 'lot', 'lotion', 'lotquot', 'lotsa', 'lottanew', 'lotteri', 'lotti', 'lou', 'loud', 'loudli', 'loudspeak', 'loui', 'louis', 'louisepb', 'louisgagliardi', 'louisvil', 'louizah', 'loung', 'loungechil', 'lousi', 'lova', 'lovato', 'love', 'loveajamay', 'loveandlabel', 'loveeee', 'loveeeeeeeeeee', 'lovefromrandom', 'loveh', 'loveistoarta', 'loveliest', 'lovepap', 'lover', 'lovesbrooklyn', 'lovesgreyboy', 'lovesick', 'lovewhitmari', 'lovex', 'loveyoult', 'lovin', 'lovvv', 'low', 'lower', 'loyal', 'loyalti', 'loz', 'lp', 'lrv', 'ls', 'lsd', 'lsekoiak', 'lsfashionista', 'lsndr', 'lspearmanii', 'lstrob', 'lt', 'ltblah', 'ltceliaelis', 'ltcriesgt', 'ltd', 'ltlolgtso', 'ltlt', 'ltltlt', 'ltsadder', 'ltsilli', 'ltthat', 'luca', 'lucasblack', 'lucascruikshank', 'lucasdiaz', 'luchianotrack', 'luci', 'luck', 'lucki', 'luckili', 'luckykristin', 'luckyyyy', 'lucu', 'luggag', 'luigi', 'luka', 'lukaskywalk', 'luke', 'lukestephen', 'lulu', 'lulzangel', 'lumea', 'lump', 'lunch', 'lunchand', 'lunchbreak', 'lunchdinn', 'lunchi', 'lunchieee', 'lunchso', 'lunchtim', 'lunchyeah', 'lund', 'lung', 'lupo', 'lupu', 'lurk', 'lurker', 'lurkey', 'lush', 'lushltd', 'lust', 'lutheranlucciol', 'luuuuuuuuuuuuuv', 'luv', 'luvdamal', 'luvdollicia', 'luve', 'luvmandi', 'luyá', 'lvesckmelodi', 'lvl', 'lvli', 'lwmedium', 'lx', 'ly', 'lyanna', 'lybrari', 'lycan', 'lyce', 'lyfout', 'lygon', 'lyk', 'lyncinda', 'lyndeeezi', 'lyndoman', 'lyndseyamanda', 'lynj', 'lynn', 'lynnder', 'lynnnnnn', 'lynnserafinn', 'lyonn', 'lyric', 'lyricsask', 'lyrradnahc', 'lyve', 'lyy', 'læ', 'lï', 'maaan', 'maaf', 'maam', 'maann', 'mabellek', 'mabrown', 'mac', 'macaddict', 'macaroniqu', 'macbook', 'macca', 'macekmakeupart', 'macheist', 'machiam', 'machiato', 'machin', 'machinewhen', 'mackey', 'macki', 'mackmain', 'macon', 'macosken', 'macrican', 'macricannoth', 'macro', 'mactalk', 'maczter', 'mad', 'madamg', 'madden', 'maddi', 'maddox', 'maddysen', 'made', 'mademoisellede', 'madeofston', 'madevolut', 'madhmmi', 'madinalak', 'madison', 'madisonmitchel', 'madpierrot', 'madra', 'madrid', 'maduck', 'maemo', 'mafia', 'mag', 'magazin', 'magento', 'mageofzhalfir', 'maggi', 'maggotron', 'magic', 'magicdandelion', 'magner', 'magnet', 'magneto', 'magnum', 'magnumdollar', 'magopu', 'mah', 'mahafre', 'mahasin', 'maheep', 'mahjong', 'mahlonlandi', 'maid', 'maikeru', 'maikoann', 'maikwl', 'mail', 'mailbox', 'main', 'mainland', 'mainli', 'mainstream', 'maintain', 'maintanc', 'maintenc', 'major', 'majorgutterbal', 'majorli', 'majornelson', 'makakasama', 'makayla', 'make', 'makemineamac', 'makeov', 'maker', 'makeshift', 'makeup', 'makeupbylinvia', 'makeuplov', 'makeuptalk', 'makin', 'makiri', 'malachi', 'malaysia', 'malaysian', 'malbank', 'malcmail', 'malcolli', 'malcolm', 'maldiv', 'male', 'maleehaa', 'males', 'mall', 'malpractic', 'malt', 'maltes', 'maluni', 'malygo', 'mam', 'mama', 'mamacitax', 'mamenn', 'mamlamarquis', 'mammi', 'mampm', 'man', 'manag', 'manbit', 'manchest', 'manda', 'mandatori', 'mandi', 'mandiebear', 'mandyblak', 'mandyemmerson', 'mandyyjirouxx', 'manechy', 'manfail', 'manga', 'mangia', 'mango', 'manhattan', 'manhatten', 'mani', 'mania', 'manicur', 'manila', 'manipul', 'mankind', 'manli', 'mann', 'manner', 'manni', 'mannn', 'manomio', 'manth', 'mantia', 'mantlepiec', 'mantra', 'manual', 'manunitedvss', 'manya', 'maotai', 'map', 'mapl', 'mar', 'marabg', 'marathon', 'maraud', 'marc', 'marcammann', 'marcfennel', 'marciano', 'marcooth', 'marcozeh', 'marcperel', 'marcucci', 'marcvibbert', 'mareodomo', 'margaret', 'margaretcho', 'margarita', 'margeandpud', 'margxwand', 'mari', 'maria', 'mariaandro', 'mariamillion', 'mariannemarlow', 'mariapetersen', 'marichiquitita', 'marielxo', 'mariii', 'marilyn', 'marin', 'marini', 'marinigh', 'mario', 'maripeneh', 'marissacr', 'mariuca', 'mariusz', 'marjamma', 'marjorayi', 'mark', 'markaaronjam', 'markblomeley', 'markbraunstein', 'markdan', 'markegli', 'market', 'markethappi', 'marketingclass', 'marketplac', 'markhenri', 'markhoppu', 'markjarvi', 'markmcnulti', 'markosm', 'markpavwt', 'markress', 'marktil', 'marktweep', 'markusreut', 'markvanbaal', 'marlonribun', 'marlycat', 'marmalad', 'marnier', 'maronelgisel', 'marothon', 'marrag', 'marraig', 'marri', 'marriag', 'marriott', 'marrow', 'marsacademi', 'marshalu', 'marshawrit', 'marshmallow', 'marshmellow', 'marss', 'martha', 'marthafresh', 'martin', 'martini', 'martinjgal', 'marv', 'marvel', 'marvin', 'marvvv', 'marweinaay', 'maryjanesatt', 'maryland', 'marymayblood', 'mascara', 'mascot', 'mashinka', 'masi', 'mask', 'maskedkali', 'masroof', 'mass', 'massachusett', 'massag', 'massaj', 'massieshiiza', 'massiv', 'masterballerina', 'mastergab', 'masyaa', 'match', 'matchreach', 'mate', 'materi', 'materialbitch', 'matey', 'math', 'mathew', 'mathewanthoni', 'mathi', 'mathildev', 'matress', 'matrix', 'matswada', 'matswif', 'matt', 'mattass', 'mattbraga', 'mattcopp', 'mattdavelewi', 'matter', 'matterbox', 'mattersquot', 'mattfrostband', 'mattgalloway', 'matthew', 'matthewstclair', 'matti', 'mattiasink', 'mattimassacr', 'mattinsa', 'mattmag', 'mattodonnel', 'mattplac', 'mattress', 'mattsoutatown', 'mattstevensloop', 'mattthegreat', 'mattwayneceleb', 'mattyza', 'matur', 'mau', 'mauibeech', 'mauigina', 'mauimichael', 'maurensoar', 'mauresmo', 'mav', 'mavisfipp', 'maw', 'max', 'maxandcat', 'maxcelcat', 'maxiec', 'maxmut', 'maxxiecat', 'may', 'maya', 'mayb', 'maybejust', 'mayday', 'mayer', 'mayhemstudio', 'maymaym', 'mazda', 'maze', 'mb', 'mba', 'mbt', 'mc', 'mcandi', 'mcawilliam', 'mccainblogett', 'mcd', 'mcdeezer', 'mcdonald', 'mcentir', 'mcfli', 'mcflykaiserflik', 'mcgangbang', 'mcherrywv', 'mcitp', 'mcm', 'mcmahon', 'mcoord', 'mcriddlahp', 'mcrmom', 'mcshep', 'mcsquar', 'mcteach', 'md', 'mdbraber', 'mdear', 'mea', 'meadow', 'meagain', 'meaghancarrol', 'meaghanellen', 'meal', 'mean', 'meani', 'meaning', 'meaningless', 'meansno', 'meanspirit', 'meant', 'meanthi', 'meantim', 'meat', 'meatbal', 'meatloaf', 'mebb', 'mechan', 'mechscap', 'meck', 'med', 'media', 'mediatempl', 'medic', 'medicin', 'medit', 'mediterranean', 'medium', 'mee', 'meebo', 'meee', 'meeee', 'meeeeee', 'meegan', 'meeko', 'meerkat', 'meerut', 'meester', 'meet', 'meetin', 'meetup', 'meezyx', 'mef', 'mega', 'megadestructo', 'megan', 'meganjoan', 'meganltfuck', 'megaupload', 'megcabot', 'megeld', 'megtest', 'megzx', 'meh', 'mehhh', 'mehulbhuva', 'mehulv', 'mei', 'mein', 'mel', 'mela', 'melaniemerkoski', 'melb', 'melbourn', 'melbrehl', 'melendez', 'melerr', 'meli', 'melina', 'melissa', 'melissaashle', 'melissaegilbert', 'melli', 'mellow', 'mellyford', 'melodi', 'melodyfle', 'melshay', 'melt', 'meltdown', 'member', 'memor', 'memori', 'memphi', 'men', 'menchi', 'mening', 'menna', 'mennard', 'mensdomain', 'ment', 'mental', 'mention', 'mentionquot', 'menu', 'meow', 'meperfect', 'mequot', 'mer', 'mercedesj', 'merch', 'merci', 'merclev', 'mere', 'merovingian', 'merrier', 'mesa', 'mesammi', 'mesmer', 'mesquitez', 'mess', 'messag', 'messeng', 'messi', 'messin', 'met', 'metal', 'metallica', 'metalmo', 'metaphor', 'methink', 'method', 'metnightowl', 'metria', 'metric', 'metro', 'metroknow', 'mettador', 'metth', 'mexican', 'mexico', 'mexicobelizeguatemala', 'mey', 'meyer', 'meyuy', 'mfc', 'mfeatherston', 'mgf', 'mgpotter', 'mgrmike', 'mh', 'mhanlon', 'mhm', 'mhz', 'mi', 'mia', 'miabug', 'miadhu', 'miami', 'miamiadc', 'mib', 'mic', 'mica', 'micar', 'micbarb', 'mice', 'mich', 'michael', 'michaelbrandon', 'michaeldevelli', 'michaelgraing', 'michaelkwan', 'michaelmag', 'michaelmknight', 'micheal', 'michel', 'micheleasauru', 'michelehbc', 'michellardi', 'michellebeckham', 'michellecotti', 'michellekl', 'michellepearl', 'michellesmil', 'michelpoulain', 'michigan', 'michiganquot', 'mick', 'micktleyden', 'micresendo', 'micro', 'microblog', 'microphon', 'microscop', 'microsd', 'microsoft', 'mid', 'midatlant', 'midday', 'middl', 'middleclassgirl', 'midgley', 'midlifecrunch', 'midnight', 'midnightplu', 'midol', 'midshow', 'midsn', 'midstream', 'midterm', 'midway', 'midwif', 'mie', 'mieranadhirah', 'miget', 'might', 'mighti', 'migrain', 'migrat', 'mihaim', 'mii', 'miie', 'miiinn', 'mikasound', 'mike', 'mikearthur', 'mikecj', 'mikedowswel', 'mikeexist', 'mikefranklin', 'mikegentil', 'mikegreen', 'mikemakin', 'mikenyff', 'mikeseddon', 'miketomalari', 'mikeyj', 'mikeyway', 'mil', 'milagro', 'milan', 'milar', 'mildlyer', 'mile', 'miletbak', 'miley', 'mileycyru', 'mileyim', 'milezzzzzz', 'milk', 'milkbon', 'milkrr', 'milkymoomoo', 'mill', 'millerwentworth', 'million', 'millionair', 'millionth', 'miltonsolano', 'miltykiss', 'milzygurl', 'mime', 'mimi', 'mimidanc', 'mimihotlip', 'mimimi', 'min', 'minalagarw', 'minameow', 'mind', 'mindi', 'mindno', 'mindsalong', 'mindso', 'mindwat', 'mindyneedshubbi', 'mine', 'minehead', 'minerchri', 'mini', 'miniatur', 'minichocol', 'minicon', 'minifi', 'minim', 'minimum', 'miniolog', 'minist', 'minor', 'minorca', 'minskey', 'mint', 'mintcool', 'minto', 'minu', 'minut', 'minuteman', 'minx', 'mipo', 'miracl', 'mirasmit', 'mireika', 'miri', 'mirror', 'mischa', 'miser', 'miseri', 'misfit', 'mish', 'mishacollin', 'mism', 'misplac', 'miss', 'missb', 'misschuchu', 'missconway', 'missdra', 'missek', 'missgc', 'missgoogl', 'missi', 'missin', 'missinthia', 'missjeffreestar', 'misskellyo', 'missnappyboy', 'missouri', 'misspel', 'missrogu', 'misss', 'misssssssss', 'missssssssss', 'misssybilsimon', 'misstattoo', 'misstoriblack', 'missu', 'missvic', 'missxmarisa', 'missxu', 'missygail', 'mist', 'mistak', 'mistaken', 'mistakequot', 'mistergoomba', 'misterjack', 'mistersoft', 'misterwallac', 'mistook', 'mistress', 'mistressathenax', 'mistressdragon', 'mistydavi', 'mistygirlph', 'mit', 'mitchel', 'mitchelmusso', 'mite', 'mitter', 'mix', 'mixer', 'mixtap', 'miyavi', 'miyazaki', 'mizuo', 'mizzdanger', 'mj', 'mjamm', 'mjdancer', 'mjoseff', 'mkaigwa', 'mkay', 'mkcc', 'mkccrenovationsrogerscom', 'mkh', 'mkim', 'mkl', 'mklopez', 'mkrob', 'mlb', 'mlexiehayden', 'mlm', 'mload', 'mlp', 'mlvalentin', 'mm', 'mmcallen', 'mmekin', 'mmi', 'mmka', 'mmkay', 'mmm', 'mmmbailey', 'mmmm', 'mmmmhmmm', 'mmmmm', 'mmmmmm', 'mmo', 'mmorrow', 'mmuk', 'mmwine', 'mnm', 'mo', 'moanyboot', 'mobbler', 'mobil', 'mobilem', 'mobtv', 'mocha', 'mock', 'modd', 'mode', 'modejunki', 'model', 'modelmandylynn', 'modern', 'modest', 'modguess', 'modiv', 'modl', 'moeoverkil', 'moffitt', 'mofo', 'moi', 'moin', 'moistur', 'mojolab', 'mojosanjay', 'mold', 'molecat', 'molli', 'mollydotcom', 'mollyflagtail', 'moltz', 'mom', 'moment', 'momentbymo', 'momentquot', 'momgtm', 'mominisrael', 'momma', 'mommi', 'mommybrain', 'mommykin', 'momoneybiggi', 'momspark', 'momyour', 'mon', 'monaliisa', 'mondaaay', 'monday', 'mondayboo', 'mondayski', 'mondizzl', 'moneceann', 'money', 'moneybut', 'moneydel', 'moneyno', 'monha', 'moni', 'monicahugh', 'monitor', 'monk', 'monke', 'monkeylov', 'monkeymoo', 'mono', 'monogomi', 'monro', 'monster', 'montag', 'montana', 'montel', 'month', 'monthbarbiebibiana', 'monthbut', 'montreal', 'montrera', 'moo', 'mooch', 'mood', 'moodi', 'moodl', 'moold', 'moommi', 'moon', 'moonfry', 'moonpantz', 'moooooooood', 'mooosh', 'moor', 'moot', 'mootool', 'moovarolag', 'mor', 'morbid', 'moreth', 'morgan', 'morgand', 'morganwolf', 'mormon', 'morn', 'mornin', 'morninggggg', 'morninggggggg', 'morningi', 'morningquot', 'morningsh', 'morningsnicesunnyhota', 'morningstil', 'morninnnnn', 'moro', 'moron', 'morri', 'morrica', 'morrison', 'morrissey', 'morro', 'morrow', 'mortal', 'mortgag', 'mortonfox', 'mosquito', 'mosrit', 'moss', 'mostli', 'mostlik', 'mot', 'motel', 'moth', 'mother', 'motherflip', 'motherfuck', 'motion', 'motionx', 'motiv', 'motor', 'motorbik', 'motorcycl', 'motown', 'motto', 'mount', 'mountain', 'mountford', 'mourn', 'mous', 'mouseisthew', 'mouth', 'mouthquot', 'move', 'movement', 'movi', 'moviess', 'moviessssss', 'movin', 'mow', 'moyl', 'moz', 'mozambiqu', 'mozi', 'mozilla', 'mozunk', 'mp', 'mpconnolli', 'mpesc', 'mph', 'mpit', 'mqt', 'mr', 'mraskboutm', 'mrballist', 'mrchinbsc', 'mrgaryle', 'mri', 'mrjamesfortun', 'mrjone', 'mrking', 'mrmadsen', 'mrmcdougal', 'mrmikeg', 'mro', 'mrpeterandr', 'mrpilat', 'mrrobbym', 'mrrooni', 'mrsa', 'mrsabur', 'mrsdarwin', 'mrsjasperhal', 'mrskutcher', 'mrsocial', 'mrspb', 'mrspifurnaste', 'mrsstaratkin', 'mrtweet', 'mrtweetalert', 'mrw', 'mrwiggli', 'mryeah', 'mryoungharlem', 'ms', 'msaleem', 'msamayoa', 'msbadu', 'mscemontgomeri', 'mschaffel', 'msdebramay', 'msg', 'msgoofi', 'mshiphop', 'msia', 'msmeme', 'msmoss', 'msn', 'msnbc', 'msnichol', 'msu', 'mswilliamsmus', 'mswindow', 'msyen', 'mt', 'mtb', 'mtg', 'mth', 'mtp', 'mtsiaklid', 'mtv', 'mtvbuzzworthi', 'mu', 'muah', 'mucch', 'much', 'muchglad', 'muchh', 'muchli', 'mucho', 'muchthank', 'muchï', 'mucvhli', 'mud', 'muffin', 'muffler', 'mufti', 'mug', 'muh', 'mulatta', 'mule', 'multi', 'multipag', 'multipl', 'multiplay', 'multipli', 'multitask', 'multivitamin', 'mum', 'mumma', 'mummi', 'munch', 'munchkin', 'mundo', 'munro', 'mural', 'murder', 'murderland', 'muriã³', 'murray', 'muscl', 'muse', 'museum', 'musewir', 'mushroom', 'music', 'musicaddikt', 'musician', 'musicmonday', 'musicologist', 'musicthelev', 'musikquot', 'musiqvixen', 'muskegon', 'muslim', 'musnt', 'mussomitchel', 'must', 'musta', 'mustloveanim', 'mustv', 'mutant', 'mute', 'mutha', 'mv', 'mwah', 'mwtsnx', 'mxtmedia', 'myapplestuff', 'mycamera', 'myclothngcalndr', 'mydesir', 'myeverydayhero', 'myfolia', 'myfwarhurst', 'myheartx', 'myhocuspocu', 'myk', 'myki', 'mykitchenstor', 'mykl', 'myla', 'mylifeandart', 'myloveisamaz', 'mynameisgerard', 'mynameisingrid', 'mynew', 'myopicjo', 'myselfahhhhno', 'myselfmi', 'myselfne', 'mysojucom', 'myspac', 'myspacecomadissonapparel', 'myspacecomevilcr', 'myspacecomlookthund', 'myspacecomrussianrullet', 'mysql', 'mysterygirl', 'mystifiedlala', 'mytho', 'mytoo', 'mytwinsnm', 'myy', 'mz', 'mzdavi', 'mzjessicat', 'mzmadelin', 'má', 'mã', 'mã¼de', 'mï', 'n', 'na', 'nacel', 'nacho', 'nada', 'nadyaniqu', 'nag', 'nah', 'nahi', 'nail', 'naim', 'nairapemberton', 'naisha', 'naiv', 'naivelondongirl', 'najicalov', 'najoo', 'nake', 'nakialjackson', 'naman', 'nambu', 'name', 'namrw', 'nan', 'nana', 'nanalipzz', 'nanci', 'nancykohl', 'nandinidevar', 'nanett', 'nangi', 'nanni', 'nanu', 'nao', 'nap', 'naptim', 'narr', 'narrat', 'nash', 'nashipear', 'nashvil', 'nasib', 'nassyusof', 'nasti', 'nat', 'nataliela', 'natalielim', 'natalieox', 'natalietran', 'natasha', 'natashad', 'nateflynn', 'nathalienl', 'nathanchas', 'nathangilm', 'nathankam', 'nathanrdotca', 'nathantwitch', 'natikirk', 'nation', 'nativ', 'natlbug', 'natneagl', 'natti', 'natur', 'natztheflip', 'naughti', 'naughtygirl', 'naughtyhaughti', 'navyboyylt', 'naw', 'nawww', 'naybur', 'naydeeen', 'naz', 'nazi', 'nba', 'nbacom', 'nbn', 'nc', 'ncaa', 'ncvbxfgf', 'nd', 'nday', 'nder', 'ndollaaa', 'ndubz', 'ne', 'near', 'nearbi', 'nearbynobodi', 'nearest', 'nearli', 'neat', 'necc', 'necessari', 'neck', 'necklac', 'nectarin', 'neda', 'nede', 'need', 'needa', 'neededthank', 'needl', 'needlestack', 'neeffresh', 'neer', 'neetbal', 'neg', 'negar', 'neglect', 'negrita', 'neh', 'neighbor', 'neighbour', 'neil', 'neilduckett', 'neilingli', 'neither', 'nelena', 'neljay', 'nemo', 'neon', 'neoncon', 'neonplasma', 'nephew', 'nephewgodson', 'nerafarfalla', 'nerd', 'nerdd', 'nerdist', 'nerf', 'neri', 'nerimon', 'nero', 'nerrisalaugh', 'nerrrd', 'nerv', 'nervou', 'nesarajah', 'nescaf', 'nescessari', 'nespresso', 'nessep', 'nessi', 'nessnitti', 'nessun', 'neszlifeasmcrmi', 'net', 'netflix', 'netherland', 'netik', 'nett', 'nettiedgreat', 'network', 'neuqua', 'neuralclon', 'neva', 'neveeeeeeeeeeer', 'never', 'nevermind', 'neverwint', 'nevillez', 'new', 'newbi', 'newborn', 'newbsfaja', 'newc', 'newcastl', 'newegg', 'newest', 'newish', 'newnownext', 'news', 'newsap', 'newscast', 'newsfarrah', 'newslett', 'newspap', 'newssad', 'neww', 'newwat', 'nex', 'next', 'nextdoor', 'nexxt', 'neyluv', 'ng', 'nga', 'nggreenguid', 'ngi', 'ngáº', 'ngã', 'ngæ', 'nh', 'nht', 'nhwang', 'ni', 'niagara', 'nicci', 'niccidgaf', 'nice', 'nicefacemitchi', 'nicer', 'nicest', 'nicetal', 'nicheladi', 'nicholasbraun', 'nicht', 'nick', 'nickcart', 'nickdifilippo', 'nickelback', 'nicki', 'nickicawood', 'nickitynatnat', 'nickjonlin', 'nickpadmor', 'nickserv', 'nicli', 'nicnina', 'nicokwanart', 'nicol', 'nicoladetisi', 'nicolaprigg', 'nicolejordan', 'nicolerichi', 'nicolevilar', 'nicolewilson', 'nidhaa', 'nidsonlin', 'nielsen', 'nig', 'night', 'nightcant', 'nightcard', 'nightday', 'nighter', 'nighthawkj', 'nighti', 'nightim', 'nightli', 'nightlt', 'nightm', 'nightmar', 'nightreal', 'nightsh', 'nightthi', 'nighttim', 'nightunfortun', 'nightwatta', 'niiic', 'nikan', 'nike', 'nikhilnarayanan', 'nikitaand', 'nikkatron', 'nikki', 'nikkidecoy', 'nikkidowi', 'nikkyfac', 'nilagyan', 'niley', 'nileyjemilov', 'nileyjileyluv', 'nimbl', 'nimbupani', 'nimu', 'nimuefromtheweb', 'nin', 'ninaalbertsengmailcom', 'ninabelk', 'ninag', 'ninalorrain', 'ninaneverknew', 'ninasplayground', 'nine', 'ninetailefox', 'ninghil', 'ninguem', 'ninjaguitarsex', 'ninjen', 'ninmod', 'nino', 'nip', 'nipplectc', 'niptuck', 'niqqa', 'nir', 'nirosh', 'nirvana', 'nisha', 'nit', 'nitchxo', 'nite', 'niteflirt', 'niterã³i', 'nitey', 'niub', 'nj', 'njame', 'njpaust', 'nk', 'nkotb', 'nkow', 'nkprb', 'nlpride', 'nm', 'nmbdlookup', 'nmgq', 'nminer', 'nmogha', 'nn', 'nnnntttttthh', 'nnnooooooo', 'no', 'noahflem', 'noaliber', 'noarmsjam', 'nob', 'nobodi', 'nobodyï', 'noch', 'nodam', 'noe', 'nois', 'noiseboyartist', 'nokia', 'nokiamessag', 'nom', 'nomadicmatt', 'nomatt', 'nomin', 'nomung', 'non', 'none', 'nonetheless', 'nonfict', 'nonjajosh', 'nonow', 'nonrecycl', 'nonsens', 'nonstop', 'noodl', 'noodlebox', 'noon', 'nooo', 'nooodl', 'noooo', 'nooooo', 'noooooo', 'nooooooo', 'noooooooo', 'nooooooooo', 'nooosh', 'noop', 'noordinarygurl', 'nope', 'nopefrom', 'nopei', 'nopethat', 'nora', 'nordstrom', 'normal', 'normalis', 'normgregori', 'normylohan', 'north', 'northeast', 'northwest', 'norwel', 'norwich', 'nose', 'noseble', 'nosey', 'nossoateli', 'nostalg', 'notaboutlov', 'note', 'notebook', 'notenoughtoeat', 'noth', 'nothat', 'nothin', 'notic', 'notim', 'notion', 'notno', 'notori', 'notr', 'notsooglam', 'nott', 'nottingham', 'notwithstand', 'notytoni', 'nour', 'nouveau', 'nov', 'nova', 'novablu', 'novel', 'novemb', 'nowaday', 'nowaft', 'nowandforevermn', 'nowbut', 'nowcongrat', 'nowher', 'nowhugzzzzzzz', 'nowi', 'nowjessicakosasih', 'nownot', 'nowor', 'nowquot', 'nowshel', 'nowthes', 'nowtweet', 'nowwait', 'nowwwww', 'np', 'nph', 'nq', 'nr', 'nrlfanclub', 'nru', 'nsastrasasmita', 'nsfw', 'nspotter', 'nst', 'nt', 'nti', 'nu', 'nudg', 'nugget', 'nuke', 'null', 'numb', 'number', 'nurb', 'nurofen', 'nurs', 'nursemott', 'nut', 'nuthin', 'nutritionist', 'nuuki', 'nv', 'nvm', 'nw', 'nxt', 'ny', 'nya', 'nyc', 'nycdol', 'nyet', 'nylonpleas', 'nyquil', 'nyt', 'nytim', 'nz', 'nã', 'nï', 'oa', 'oach', 'oaf', 'oana', 'oap', 'oat', 'oatmeal', 'obama', 'obi', 'obitfawcettindexhtml', 'object', 'obliter', 'oblivi', 'oblivion', 'obnoxi', 'obscur', 'observ', 'observatori', 'obsess', 'obshop', 'obv', 'obvious', 'occupi', 'occur', 'occurr', 'ocean', 'oct', 'octan', 'octob', 'octopu', 'od', 'odd', 'oddli', 'ode', 'odo', 'odosnapemaven', 'odstartov', 'oedesign', 'oem', 'ofcours', 'offec', 'offend', 'offendedblogg', 'offer', 'offeredughmay', 'offic', 'officegreat', 'officeit', 'officework', 'offici', 'officialbb', 'officialbf', 'officialcol', 'officialjagex', 'officialkat', 'officialkathyg', 'officialmgnfox', 'officialprofoz', 'officialspchuck', 'officialtila', 'officialtl', 'offlin', 'offyou', 'ofici', 'often', 'og', 'ogflawless', 'oh', 'ohaik', 'ohemgeeeee', 'ohh', 'ohhh', 'ohhhh', 'ohhhhhh', 'ohhhhhhhhhhh', 'ohhxchristma', 'ohio', 'ohit', 'ohmi', 'ohmygod', 'ohmygoddddi', 'ohsamann', 'ohshit', 'ohwel', 'ohwow', 'oi', 'oil', 'ok', 'okaeri', 'okay', 'okcthunderi', 'oki', 'okieanni', 'okmomentarili', 'oknow', 'okon', 'okonli', 'okquot', 'oksleepi', 'okyou', 'ol', 'olaf', 'olbermannl', 'old', 'older', 'oldi', 'oldin', 'ole', 'olea', 'oleee', 'olimould', 'oliv', 'oliverturn', 'oliviaclarkxx', 'oliviacosmet', 'olivosartstudio', 'omagu', 'omeon', 'omfg', 'omg', 'omgcan', 'omgili', 'omgitsafox', 'omgpichu', 'omgponi', 'omgsh', 'omin', 'omo', 'onairnois', 'ond', 'one', 'oneal', 'onebt', 'onebut', 'onecal', 'onech', 'onefinepinoyboy', 'oneil', 'oneim', 'oneluvgurl', 'oneofthosefac', 'onesoulfulnegro', 'ongina', 'onion', 'onish', 'onli', 'onlin', 'online', 'onlineget', 'onlineish', 'onlinekuantanmalaysiamacdonald', 'onlyinhuman', 'onmejack', 'onquot', 'onslaught', 'ontario', 'onthemapp', 'ontheoverpass', 'onto', 'onward', 'onyxxb', 'oo', 'ooh', 'ook', 'ooo', 'oooh', 'oooo', 'ooooh', 'oooooh', 'ooooohh', 'ooooooh', 'oooooohhhhh', 'oooooooh', 'ooooooooooommmmmmmmmmmm', 'oooow', 'oop', 'oopsi', 'op', 'opdrpi', 'open', 'openaustralia', 'opengl', 'openingday', 'openmoko', 'openoffic', 'openskymedia', 'oper', 'opera', 'opick', 'opinion', 'opp', 'opportun', 'oppress', 'opt', 'opteron', 'optician', 'optim', 'optimist', 'optin', 'option', 'oracl', 'oral', 'orang', 'oranyth', 'orbitz', 'orchestr', 'orchestra', 'orddcaordclt', 'ordel', 'order', 'ordinari', 'ordinarygirl', 'oreoquot', 'organ', 'organicali', 'organizationtheyv', 'orient', 'origin', 'orkut', 'orlando', 'orourk', 'orphan', 'orqasm', 'orthadonist', 'ortho', 'orthodontist', 'os', 'osea', 'oskar', 'osojuiici', 'ossag', 'oswegochick', 'ot', 'otalia', 'otaliaef', 'oth', 'other', 'otherwis', 'otrencrypt', 'ottawa', 'ottumwa', 'ou', 'ouccch', 'ouch', 'ouchi', 'ouchouchouch', 'ought', 'ouh', 'ourdav', 'ouroffic', 'oustcat', 'out', 'outa', 'outag', 'outamp', 'outand', 'outburst', 'outby', 'outcum', 'outdoor', 'outfit', 'outgo', 'outgrown', 'outi', 'outing', 'outlet', 'outlin', 'outlook', 'outomgthat', 'outrag', 'outreach', 'outsid', 'outside', 'outsideth', 'outt', 'outta', 'outti', 'outtttt', 'outwtf', 'ova', 'oven', 'overal', 'overcast', 'overcom', 'overdo', 'overdosin', 'overdraft', 'overdu', 'overdueagainmor', 'overh', 'overher', 'overitnowlt', 'overlook', 'overr', 'overrrr', 'oversea', 'overslept', 'overthank', 'overtim', 'overtir', 'overweight', 'overwelm', 'overwhelm', 'ow', 'owe', 'owlord', 'own', 'owner', 'ownlik', 'oww', 'owwchhh', 'owwi', 'owww', 'owwww', 'owwwwwww', 'ox', 'oxegen', 'oxford', 'oxygenradio', 'oz', 'ozark', 'ozzi', 'p', 'pa', 'pacif', 'pack', 'packag', 'packbut', 'packet', 'packpackpack', 'pad', 'paddington', 'paddydonnelli', 'padova', 'padr', 'padurea', 'pagankinktress', 'page', 'paid', 'pailou', 'pain', 'painless', 'paint', 'painter', 'pair', 'paisley', 'pajama', 'pal', 'pala', 'palahniuk', 'pale', 'palefir', 'palinod', 'palinspir', 'palm', 'palmol', 'palov', 'pam', 'pambuccian', 'pamfr', 'pamjob', 'pammi', 'pampc', 'pamper', 'pana', 'panama', 'pancak', 'panda', 'pandora', 'panel', 'panic', 'panick', 'pano', 'pant', 'pantherrh', 'panton', 'paomiami', 'papa', 'papadimitri', 'papal', 'papalazar', 'pape', 'paper', 'paperb', 'paperheat', 'paperwork', 'papi', 'par', 'para', 'parad', 'paradesleep', 'paradis', 'paragon', 'paraleg', 'parallel', 'paralys', 'paramor', 'paramoreeeee', 'paranorm', 'paraphras', 'parasit', 'parcel', 'pardon', 'parent', 'parentinghanda', 'parentsi', 'parentteach', 'paretn', 'pareto', 'pari', 'parish', 'parisroubaix', 'park', 'parkman', 'parkrat', 'parkwil', 'parlament', 'parliamentari', 'parol', 'parrothead', 'parser', 'part', 'partay', 'parti', 'particip', 'particular', 'particularli', 'partner', 'partsbut', 'partt', 'parttim', 'partywat', 'partywithneha', 'partyy', 'pass', 'passeng', 'passingsadden', 'passion', 'passionatley', 'passov', 'passport', 'password', 'passwork', 'past', 'pasta', 'pastay', 'pastor', 'pat', 'patch', 'path', 'pathet', 'pathrewrit', 'patienc', 'patient', 'patphelan', 'patric', 'patrick', 'patrickeatworld', 'pattern', 'patti', 'pattidigh', 'pattiecarlin', 'pattinson', 'pattypuk', 'pau', 'paul', 'paula', 'paulaabdulfan', 'paulabbey', 'paulapaig', 'pauldawalibi', 'paulewatt', 'paulewog', 'paulfeig', 'pauli', 'paulissima', 'paulmasek', 'paulmason', 'paulmonkey', 'paulshadwel', 'paulyum', 'pausei', 'paw', 'pawoot', 'paxman', 'pay', 'paycheck', 'payday', 'payment', 'paypal', 'pbnjen', 'pc', 'pch', 'pchafeehili', 'pcit', 'pco', 'pcwoessner', 'pd', 'pdbregman', 'pdf', 'pdfhtml', 'pdnonlin', 'pduffman', 'pdurham', 'peac', 'peacedout', 'peacelovepink', 'peach', 'peachi', 'peak', 'peal', 'peanut', 'pear', 'pearl', 'pearshapebodygirl', 'peck', 'pecker', 'peddi', 'peddl', 'pediatr', 'pediatrician', 'pedicur', 'pee', 'peek', 'peekay', 'peektur', 'peel', 'peep', 'peeper', 'peepsgt', 'peepssometh', 'peepswoohoo', 'peet', 'peg', 'pekalongan', 'pelosi', 'pen', 'penang', 'penclip', 'penguin', 'peni', 'penn', 'penni', 'peon', 'peopl', 'peopleand', 'peoplebrowsr', 'peoplecom', 'peoplemapsjuli', 'peoplequot', 'peopleth', 'pepper', 'pepperand', 'peppermint', 'peppysophia', 'pepsi', 'pepstein', 'per', 'percent', 'perez', 'pereza', 'perezhilton', 'perezhiltonrip', 'perfec', 'perfect', 'perfectel', 'perfectli', 'perfecto', 'perform', 'perhap', 'period', 'perl', 'perm', 'permiss', 'permit', 'pero', 'perpetu', 'perri', 'perrin', 'persiankiwi', 'persist', 'person', 'personalhudgen', 'personallyid', 'perspect', 'persuad', 'perth', 'peru', 'pervas', 'pervert', 'pesamob', 'peso', 'pester', 'pet', 'petaeurop', 'petal', 'pete', 'petemc', 'peter', 'peteramckay', 'peterdeetm', 'peterfacinelli', 'peterjdilorenzo', 'peterwalk', 'petewentz', 'petsaretalk', 'pezholio', 'pf', 'pfer', 'pfspleen', 'pg', 'phage', 'phahahah', 'phase', 'phatelara', 'phd', 'phenomenon', 'pherb', 'phew', 'phewww', 'phil', 'philbolsta', 'philin', 'philip', 'philli', 'phillip', 'phillipin', 'phillpric', 'phillyan', 'phillyd', 'philo', 'philosophi', 'philpeac', 'philthatremain', 'phinea', 'phish', 'phjo', 'phoenix', 'phome', 'phone', 'phoneboy', 'phonedomm', 'phoneless', 'phopoqueen', 'phoro', 'photo', 'photoboth', 'photobugf', 'photograph', 'photographi', 'photojack', 'photoshoot', 'photoshop', 'photosmart', 'php', 'phpslacker', 'phptal', 'phwoar', 'phx', 'physic', 'physiotherapi', 'pháº', 'pi', 'pia', 'piano', 'pianoboex', 'piawaugh', 'pibbi', 'pibworth', 'pic', 'picadilli', 'picci', 'pick', 'picki', 'pickin', 'pickup', 'picnic', 'pictcom', 'pictur', 'pictureand', 'pictureit', 'picturepostcard', 'piczo', 'pidgin', 'pie', 'piec', 'pierc', 'piercethev', 'piff', 'pig', 'pigeon', 'piggin', 'pijrt', 'piktcha', 'piktor', 'pill', 'pillow', 'pilot', 'pim', 'pimp', 'pimpl', 'pin', 'pina', 'pinch', 'pineappl', 'pingfm', 'pinguino', 'pink', 'pinkavenu', 'pinkberri', 'pinkcat', 'pinki', 'pinkjoey', 'pinkmoccasin', 'pinksealight', 'pint', 'pintth', 'pipe', 'piraci', 'piriyah', 'piss', 'pissoff', 'pita', 'pitch', 'piti', 'pix', 'pixel', 'pixelexecut', 'pixelpip', 'pixeltrevor', 'pixi', 'pixiepan', 'pizza', 'pj', 'pjaficionado', 'pjsra', 'pkahleeb', 'pkay', 'pkd', 'pl', 'place', 'placement', 'placenta', 'placer', 'placess', 'plain', 'plan', 'plane', 'planet', 'plannedmi', 'plannersusanna', 'plano', 'planplan', 'plansss', 'plant', 'plantã', 'plasma', 'plastic', 'plasticfuzzi', 'plate', 'platform', 'plato', 'play', 'playbyplay', 'player', 'playground', 'playin', 'playingggg', 'playlist', 'playtimerx', 'pleaaas', 'pleaas', 'pleas', 'pleasant', 'pleaseee', 'pleaseim', 'pleasur', 'pledg', 'plenti', 'plg', 'plindman', 'pllleeeeaaassssee', 'ploca', 'plu', 'plue', 'plug', 'plugin', 'plumb', 'plumber', 'plurk', 'pluto', 'plutobob', 'plz', 'pm', 'pmeanwellralph', 'pmerric', 'pmmidnight', 'pmmp', 'pmt', 'pneumonia', 'pnuemonia', 'pnut', 'po', 'pobr', 'pochaccoyoli', 'pocket', 'pocketfulofm', 'pocklock', 'pod', 'podcast', 'poepl', 'pogo', 'pogosaito', 'poi', 'poindexter', 'point', 'pointbut', 'pointless', 'pointlessword', 'pointmoot', 'poison', 'poke', 'pokemon', 'poker', 'pokerstar', 'pokomon', 'poland', 'polaroidskylin', 'pole', 'poli', 'polic', 'polici', 'polish', 'polit', 'politician', 'poll', 'pollen', 'polli', 'pollock', 'polluxsj', 'polo', 'polyest', 'pomona', 'pond', 'ponder', 'pongopoor', 'poni', 'poo', 'poof', 'pooh', 'pooki', 'pool', 'poolsid', 'poolwish', 'poool', 'poooooool', 'poop', 'poor', 'poorer', 'poorli', 'poorquot', 'pop', 'popcorn', 'popcultur', 'popemello', 'poppi', 'poppin', 'poppydog', 'poprock', 'poptopvw', 'popul', 'popular', 'popup', 'por', 'porch', 'porn', 'porqu', 'porridg', 'port', 'portabl', 'portfolio', 'portia', 'portland', 'portlet', 'porto', 'portsmouth', 'portugues', 'posd', 'pose', 'posei', 'posi', 'posibl', 'posit', 'possess', 'possibl', 'post', 'postcard', 'postear', 'poster', 'postman', 'postmidnight', 'posttweet', 'pot', 'potato', 'potc', 'potdeyahourt', 'potenti', 'potro', 'potter', 'pouco', 'pound', 'poundchalleng', 'poundingfirst', 'pour', 'pout', 'powder', 'power', 'powerbook', 'powercutblackout', 'powerless', 'powoop', 'poynter', 'ppc', 'ppl', 'pplist', 'ppra', 'ppukm', 'pr', 'practic', 'pradyotgh', 'pragu', 'praiaaaaaaa', 'prairi', 'prais', 'prankster', 'prannybindc', 'pray', 'prayer', 'prayin', 'pre', 'preachdotcom', 'preachi', 'preciou', 'precis', 'preciso', 'predicitv', 'predict', 'predlet', 'preempt', 'preexist', 'prefer', 'prefix', 'preggog', 'pregnanc', 'pregnant', 'prejudic', 'prek', 'premier', 'premium', 'premonit', 'preoccupi', 'prep', 'prepar', 'prepeel', 'prerc', 'presal', 'present', 'presid', 'presrib', 'press', 'pressi', 'pressingbutton', 'pressur', 'pretend', 'pretoria', 'pretti', 'prettiest', 'prettti', 'prettyso', 'prettyyymess', 'pretzel', 'preview', 'previou', 'previous', 'prezbo', 'prezij', 'prgh', 'pri', 'pric', 'price', 'prick', 'prictic', 'pride', 'priest', 'prilzezitosti', 'prima', 'primari', 'prime', 'primev', 'primros', 'princ', 'princep', 'princess', 'princessdi', 'princessmeliss', 'princesssuperc', 'princetim', 'princip', 'principal', 'principl', 'print', 'printer', 'printhead', 'prioriti', 'prisofreedom', 'prison', 'pristin', 'privaci', 'privarma', 'privat', 'privatedoc', 'privileg', 'prize', 'pro', 'prob', 'probabl', 'problem', 'problemalway', 'problematik', 'probli', 'probz', 'procedur', 'proceed', 'process', 'processaft', 'processah', 'procod', 'procrastin', 'prodigi', 'produc', 'product', 'productoffear', 'productstheyr', 'profess', 'profession', 'professor', 'professorhazard', 'profetengu', 'proffesion', 'profil', 'profit', 'program', 'programm', 'progress', 'prohibit', 'project', 'projector', 'prolli', 'prom', 'promes', 'promgraduationgunna', 'promis', 'promisei', 'promisin', 'promo', 'promot', 'prompt', 'pron', 'pronto', 'proof', 'prop', 'proper', 'properli', 'propmasta', 'propos', 'proscout', 'prospect', 'protect', 'protest', 'prototyp', 'proud', 'prov', 'prove', 'provid', 'provinci', 'prowrestl', 'proxi', 'prudentinvestor', 'ps', 'psfk', 'pshh', 'psn', 'psp', 'psquar', 'pssh', 'pssweetcheek', 'pst', 'psych', 'psychiccrayon', 'psycho', 'psychobilli', 'psychologist', 'pting', 'pto', 'pub', 'public', 'publicist', 'publicwhip', 'publish', 'publix', 'puchita', 'puchong', 'pucker', 'pud', 'puddin', 'puddl', 'puerrom', 'puff', 'pug', 'puke', 'pukkelpop', 'pull', 'pullin', 'pulpton', 'pump', 'pumpkin', 'pun', 'punch', 'punish', 'punjabi', 'punk', 'punkmedia', 'punkphink', 'pup', 'pupil', 'puppi', 'puppyjamaica', 'purchas', 'purdi', 'purdu', 'pure', 'purpl', 'purplebear', 'purplepianolov', 'purplepleath', 'purrplexa', 'purs', 'push', 'pushplaynick', 'pussi', 'pussycat', 'put', 'puter', 'puttputt', 'puurrrcausa', 'puzzl', 'pviktor', 'pvponlin', 'pw', 'px', 'pyromantik', 'pyt', 'python', 'q', 'qanni', 'qc', 'qdax', 'qik', 'qitti', 'qiwq', 'qku', 'qld', 'qo', 'qoh', 'qoosfr', 'qq', 'qs', 'qtbrowney', 'qteepy', 'qu', 'quad', 'quadrupl', 'qualiti', 'qualityto', 'quanti', 'quantiti', 'quarantin', 'quartercup', 'quartet', 'quasi', 'que', 'queden', 'queen', 'queeni', 'queeninmyc', 'queenkv', 'queenzita', 'queezi', 'queri', 'question', 'queu', 'quick', 'quickli', 'quid', 'quiet', 'quilt', 'quinn', 'quintessenti', 'quirki', 'quit', 'quiz', 'quizbut', 'quizez', 'quizmania', 'quizz', 'qulli', 'quot', 'quota', 'quotablebuffi', 'quotaccessoryquot', 'quotaerodynam', 'quotal', 'quotangel', 'quotanthonyquot', 'quotapologizequot', 'quotarab', 'quotat', 'quotawesom', 'quotb', 'quotbendquot', 'quotbenjamin', 'quotbest', 'quotbodi', 'quotbusinessquot', 'quotbusyquot', 'quotbutterflyquot', 'quotcatterickquot', 'quotcello', 'quotcharli', 'quotchina', 'quotciti', 'quotcomcasticquot', 'quotcommunicationquot', 'quotcont', 'quotconveniencequot', 'quotcutequot', 'quotcyrusquot', 'quotdisappearquot', 'quotdo', 'quotdont', 'quotdownquot', 'quotdrink', 'quoteallyquot', 'quotearlyquot', 'quotelmo', 'quotent', 'quoteveryth', 'quotexcus', 'quotfacebookquot', 'quotfat', 'quotforgotquot', 'quotfquot', 'quotfreequot', 'quotfunnest', 'quotgadgetsquot', 'quotgay', 'quotghost', 'quotgiv', 'quotgoldenhair', 'quotgood', 'quotgoodnightquot', 'quotgoodquot', 'quotgrandpa', 'quothazard', 'quothead', 'quothelloquot', 'quothey', 'quothii', 'quothilari', 'quothomequot', 'quothow', 'quoti', 'quoticequot', 'quotidiotquot', 'quotif', 'quotim', 'quotinterestingquot', 'quotinvis', 'quotiouquot', 'quotit', 'quotjust', 'quotkewlmoodedquot', 'quotkindaquot', 'quotkonquot', 'quotla', 'quotland', 'quotlapquot', 'quotlegitimatequot', 'quotlett', 'quotlif', 'quotlikequot', 'quotlittl', 'quotlost', 'quotlï', 'quotmaikoquot', 'quotmarioquot', 'quotmassaquot', 'quotmentorsquot', 'quotmi', 'quotminist', 'quotmissingquot', 'quotmonsieur', 'quotmonsterquot', 'quotmumsquot', 'quotmyspacequot', 'quotnev', 'quotno', 'quotnokla', 'quotnorfolk', 'quotnot', 'quotnow', 'quotobsessedquot', 'quotofflinequot', 'quotoh', 'quotold', 'quoton', 'quotourquot', 'quotpassengersquot', 'quotpeopl', 'quotpersonalquot', 'quotplanet', 'quotpleas', 'quotplug', 'quotplumpquot', 'quotpquot', 'quotput', 'quotquot', 'quotrangerquot', 'quotreadquot', 'quotreplyquot', 'quotreset', 'quotright', 'quotrivetingquot', 'quotrquot', 'quotrun', 'quotsam', 'quotsatchquot', 'quotschoolquot', 'quotscreamquot', 'quotseek', 'quotsexybackquot', 'quotsexyquot', 'quotsh', 'quotshooterquot', 'quotsickquot', 'quotsil', 'quotsnatch', 'quotsnobquot', 'quotsorri', 'quotsourc', 'quotspeechquot', 'quotstandingquot', 'quotstar', 'quotstuckquot', 'quotsubwayquot', 'quotsumm', 'quotsweetquot', 'quotswopperquot', 'quottast', 'quottat', 'quotth', 'quotthank', 'quotthat', 'quotther', 'quottherequot', 'quotthi', 'quotthingquot', 'quotthrough', 'quotthrow', 'quotto', 'quottrib', 'quottweetedquot', 'quottweniusquot', 'quottwiitzquot', 'quottwitt', 'quottwitterspherequot', 'quotunfollowedquot', 'quotunknownquot', 'quotunverifiedquot', 'quotupallnightquot', 'quotvivianquot', 'quotwak', 'quotwaterproof', 'quotwel', 'quotwelcom', 'quotwhat', 'quotwhen', 'quotwhi', 'quotwho', 'quotwick', 'quotwishquot', 'quotwomen', 'quotworld', 'quotwreck', 'quotwrit', 'quotxquot', 'quotyesterday', 'quotyou', 'quotyquot', 'quriousze', 'qxuo', 'r', 'raatek', 'rabbid', 'rabbit', 'race', 'racellomaria', 'rach', 'rachel', 'rachellondon', 'rachelnew', 'rachelramsay', 'rachhiie', 'rachrouch', 'racinghippo', 'racist', 'rack', 'rad', 'radar', 'radardog', 'radarlisten', 'radc', 'radford', 'radiat', 'radio', 'radiograph', 'radiogrinch', 'radiossav', 'raethoven', 'raf', 'rafter', 'rage', 'ragsmadison', 'rah', 'raha', 'raid', 'raiha', 'railroad', 'rain', 'raina', 'rainbow', 'rainbowjo', 'rainbowsoulpoet', 'raini', 'rainingsometh', 'rainni', 'rainnwilson', 'rainreal', 'rainyran', 'rais', 'raiser', 'raisin', 'ralphieaversa', 'ram', 'ramadhan', 'rambl', 'ramblelit', 'ramdomthought', 'ramereth', 'ramirezdavid', 'ramoso', 'rampantheart', 'ran', 'ranch', 'random', 'randomg', 'randomi', 'randomli', 'randomretweet', 'randomthought', 'randyybenic', 'rang', 'rank', 'rant', 'rap', 'rape', 'rapey', 'rapid', 'rapidshar', 'rappin', 'rararachel', 'rare', 'rashmi', 'rashmibans', 'rashmid', 'raspberri', 'rat', 'rate', 'rather', 'rau', 'ravensymon', 'ravenxtragedi', 'ravin', 'ravioli', 'ravish', 'raw', 'rawkze', 'rawnessjon', 'rawr', 'rawrimatoast', 'ray', 'raya', 'raynin', 'raytoro', 'raywjohnson', 'razorblad', 'rb', 'rc', 'rd', 'rdizzl', 'rdp', 'rdparti', 'rdpomona', 'reach', 'reaction', 'read', 'reader', 'readi', 'readjust', 'readthi', 'readyalthough', 'real', 'realbrookewhit', 'realchrissystar', 'realdmitchel', 'realeas', 'realhughjackman', 'reali', 'realis', 'realisedit', 'realiti', 'realiz', 'reallamarodom', 'realli', 'reallli', 'realllllyyi', 'realllyy', 'reallylik', 'reallyyi', 'realment', 'realpaulrudd', 'reason', 'reasonbut', 'rebecca', 'rebeccaclark', 'rebeccalang', 'rebeccaramsdal', 'rebelsean', 'rebirth', 'reboot', 'rebuild', 'rec', 'reccomend', 'receiv', 'recent', 'recept', 'recess', 'recip', 'recit', 'reckon', 'reclaim', 'recogn', 'recognis', 'recoil', 'recommend', 'recommendationquot', 'reconsid', 'record', 'recov', 'recoveri', 'recur', 'recv', 'recycl', 'red', 'redbul', 'redbulltherisksandsideeffect', 'redeem', 'redesign', 'rediscov', 'redmond', 'redonesp', 'redsox', 'redtoffe', 'reduc', 'redvelv', 'redã', 'reeeal', 'reel', 'rees', 'reesh', 'refactoringvycet', 'refer', 'referenc', 'referr', 'reflect', 'refresh', 'refreshedquot', 'refuel', 'refus', 'regar', 'regard', 'regga', 'reggbstro', 'reginamedina', 'reginamina', 'region', 'regist', 'registr', 'regress', 'regret', 'reguard', 'regular', 'regularli', 'regyat', 'rehears', 'rehydr', 'reikifurbabi', 'reinstal', 'reising', 'reject', 'rekid', 'rel', 'relat', 'relationship', 'relax', 'relay', 'releas', 'releg', 'reli', 'relianc', 'reliev', 'religion', 'religiousgod', 'reliv', 'rell', 'relli', 'reloc', 'reluct', 'remain', 'remainamysteri', 'remarri', 'remedi', 'rememb', 'rememberat', 'remembertheday', 'remind', 'reminisc', 'remix', 'remodel', 'remot', 'remov', 'ren', 'renato', 'renda', 'rendang', 'render', 'renderingi', 'rendit', 'renegad', 'renegadegrrl', 'renesebastian', 'renew', 'renewout', 'renov', 'renren', 'rent', 'rental', 'rentan', 'reopen', 'rep', 'repair', 'repav', 'repeat', 'repeaterband', 'replac', 'replay', 'repli', 'report', 'repost', 'reppin', 'repres', 'repris', 'reprot', 'republ', 'republican', 'req', 'request', 'requir', 'requisit', 'reread', 'rereleas', 'rerun', 'reruntherac', 'reschedul', 'rescu', 'research', 'resel', 'resend', 'reserv', 'reset', 'reshar', 'resharp', 'resid', 'resign', 'resist', 'resit', 'resnic', 'resolut', 'resolv', 'reson', 'respect', 'respectthewest', 'respiratori', 'respond', 'respons', 'rest', 'restart', 'restaur', 'restless', 'restor', 'restyou', 'result', 'resum', 'retail', 'retain', 'retard', 'retir', 'retract', 'retreat', 'retro', 'return', 'retweet', 'reunion', 'reunionhow', 'reunit', 'reuter', 'rev', 'revamp', 'reveal', 'reveckzeff', 'revers', 'review', 'revimhotep', 'revis', 'revolt', 'revolut', 'revolv', 'rewossi', 'rewrit', 'rex', 'rheap', 'rhian', 'rhiand', 'rhiannaat', 'rhiannonrevolt', 'rhifreakx', 'rhondabrown', 'rhyme', 'ri', 'ria', 'riaa', 'rialist', 'riamathew', 'riax', 'rib', 'ribbon', 'ribeana', 'ricardo', 'ricardooooo', 'rice', 'rich', 'richard', 'richardatnapton', 'richardbak', 'richardbel', 'richardpbacon', 'richardson', 'richberra', 'richer', 'richi', 'richschefren', 'richward', 'rick', 'ricklondon', 'rickman', 'rickmav', 'ricksanchezcnn', 'rickshaw', 'ricksltlsist', 'rickydehaa', 'rid', 'ride', 'ridec', 'rider', 'ridicul', 'riedel', 'right', 'rightgirl', 'rightnowradio', 'rightquot', 'rikku', 'rilespuppi', 'riley', 'rileyyy', 'rim', 'ring', 'ringcon', 'rington', 'rip', 'ripfarrahfawcett', 'rise', 'rishabhphagr', 'risk', 'riski', 'riskybusinessmb', 'ritchey', 'rite', 'ritter', 'ritzcrack', 'rival', 'river', 'riverwalk', 'rivet', 'rkeithhil', 'rlangel', 'rlfloyd', 'rlli', 'rm', 'rmb', 'rmolden', 'rn', 'rnd', 'rnmetti', 'ro', 'roach', 'road', 'roadkil', 'roadtrip', 'roam', 'roar', 'roast', 'rob', 'robberi', 'robert', 'robertgibb', 'robertwis', 'robgokeemus', 'robgrim', 'robi', 'robin', 'robjjon', 'robkardashian', 'robluket', 'robot', 'robpattinson', 'robsmaid', 'robtheshep', 'robthriv', 'rochvergara', 'rock', 'rockband', 'rocketriot', 'rocketriotxbla', 'rocki', 'rockin', 'rocknmommi', 'rockstar', 'rockthebel', 'rockthejay', 'rococo', 'rod', 'rode', 'rodeo', 'rodnet', 'rodney', 'rodrigograna', 'rofl', 'rofliron', 'roflmao', 'roger', 'rogiek', 'rogu', 'roguedarkli', 'rokchic', 'rolando', 'role', 'roll', 'rollercoast', 'rolli', 'rolllryt', 'rollon', 'rolyatoj', 'rolytaylor', 'rom', 'romanc', 'romanian', 'romant', 'romanxcandl', 'rome', 'romeo', 'rominafahem', 'romm', 'romper', 'romulan', 'ron', 'ronash', 'rongetzlucki', 'roof', 'rooftop', 'room', 'roomi', 'roommat', 'roomquot', 'roonie', 'root', 'rootbeerfloat', 'rootin', 'rope', 'ror', 'rosaapril', 'rosalielhal', 'rosauro', 'rose', 'roseahmad', 'roseand', 'rosekimknit', 'rosenstand', 'rosesar', 'roshnimo', 'rosi', 'rosiegarland', 'rosiesd', 'ross', 'rossi', 'rosski', 'rossrobinson', 'rosstrich', 'rotat', 'rotf', 'rough', 'roughli', 'round', 'roundsparrow', 'rout', 'routhietooti', 'routin', 'rovio', 'row', 'rowanberri', 'rowanponi', 'rowr', 'roxannejean', 'roxi', 'roxiegirl', 'roxx', 'roxycraft', 'royal', 'royalguardofoz', 'royksopp', 'rrankinwalk', 'rri', 'rrohac', 'rrrrrr', 'rs', 'rss', 'rt', 'rtolido', 'rtot', 'rtr', 'rtwinger', 'ru', 'rub', 'rubber', 'rubbin', 'rubbish', 'rubi', 'rubin', 'rubypurpl', 'rudd', 'ruddi', 'rude', 'rue', 'rug', 'ruhanirabin', 'ruin', 'rule', 'rulerofdazzl', 'rulesss', 'rum', 'rumah', 'rumlov', 'rumor', 'run', 'runaround', 'runaway', 'rundown', 'runi', 'runkeep', 'runner', 'runnin', 'rupaul', 'rupe', 'rupert', 'rush', 'rushworth', 'ruskin', 'russ', 'russcargil', 'russel', 'russellcrowbar', 'russian', 'russiansinuk', 'russin', 'russmarshalek', 'rust', 'rustyrocket', 'ruthbeedl', 'ruthylani', 'rva', 'rveturi', 'rwa', 'rwbeagl', 'rxpuj', 'ry', 'ryan', 'ryanaudit', 'ryanhopesudi', 'ryanjschmidt', 'ryanlesli', 'ryanmwilson', 'ryanodonnel', 'ryanrfish', 'ryanrossfanz', 'ryanseacrest', 'ryanstar', 'rye', 'ryuuenx', 'rá', 'sa', 'saad', 'saamanthajaan', 'sac', 'sacramento', 'sad', 'sadbut', 'sadd', 'sadden', 'saddest', 'saddl', 'saden', 'sadfac', 'sadfarrah', 'sadi', 'sadiepetunia', 'sadist', 'sadli', 'sadnervousscareduncertain', 'sadnessjust', 'sadsh', 'safari', 'safariquot', 'safe', 'safeti', 'saga', 'sage', 'sagebrennan', 'said', 'saidquot', 'saidquotu', 'saifsiddiqui', 'saikosakura', 'sainsburi', 'saint', 'sakiemiri', 'salad', 'saladthank', 'salam', 'salari', 'salclement', 'sale', 'salesfashionpalettecomau', 'salesi', 'salesjshopcouk', 'salespeopl', 'saling', 'sallyhbewsey', 'sallyinnorfolk', 'salman', 'salsa', 'salt', 'saltash', 'salti', 'sam', 'sama', 'samaaa', 'samandfuzzi', 'samantha', 'samb', 'sameday', 'sameergupta', 'sami', 'samir', 'sammi', 'sammyc', 'sammylynnk', 'sammymax', 'samosa', 'sampbwould', 'sampl', 'samquerrey', 'samscotti', 'samthepoodl', 'samuelisaac', 'samwoodslol', 'san', 'sana', 'sancha', 'sanchez', 'sand', 'sandman', 'sandra', 'sandrabernhard', 'sandwhich', 'sandwich', 'sandypaw', 'sanford', 'sang', 'sanjayshah', 'sannewielenga', 'santa', 'santiago', 'sanu', 'sao', 'saphinfect', 'sappi', 'sappos', 'sara', 'sarah', 'sarahatwood', 'sarahjericho', 'sarahjgoldsack', 'sarahmorrmorr', 'sarahsan', 'saraht', 'sarahthebamf', 'sarakge', 'sarallenconsult', 'saramooney', 'sarapan', 'saratoga', 'saravananp', 'sarcasm', 'sarcasmagor', 'saritaonlin', 'sarri', 'sasha', 'sashakan', 'saskatchewan', 'sassi', 'sasultana', 'sat', 'sathyabhat', 'satur', 'saturdaayyy', 'saturday', 'saturdayfriday', 'sauc', 'saud', 'saudarile', 'saulashbi', 'saulbhp', 'sauna', 'sausag', 'sauzagold', 'savannahs', 'savannahxo', 'save', 'savitri', 'saw', 'sawa', 'sawdust', 'sawww', 'sax', 'saxon', 'say', 'sayanosaura', 'sayhaitojen', 'sayi', 'sayin', 'sayso', 'sayâ', 'sbmczh', 'sbprkr', 'sc', 'scab', 'scam', 'scamper', 'scan', 'scandal', 'scanner', 'scare', 'scared', 'scaredoppa', 'scareofwaterday', 'scarf', 'scari', 'scariest', 'scarlett', 'scarlettdan', 'scarlettx', 'scaryyi', 'sce', 'scee', 'scenario', 'scenariogirl', 'scene', 'sceneri', 'scentsat', 'schade', 'sched', 'schedul', 'schedulebut', 'scheme', 'schindler', 'schkou', 'schlimm', 'schmeer', 'schofe', 'scholarli', 'school', 'sci', 'scienc', 'sciencegoddess', 'scientif', 'scifi', 'scifiv', 'scissor', 'scobl', 'scone', 'sconstantin', 'scoobi', 'scoopemup', 'scope', 'scorch', 'score', 'scorpioey', 'scotchmist', 'scotland', 'scott', 'scotthardi', 'scottish', 'scottsand', 'scowl', 'scracho', 'scrapbook', 'scrapiana', 'scratch', 'scream', 'screen', 'screencap', 'screenquot', 'screw', 'screwup', 'scribe', 'script', 'scriptureit', 'scriven', 'scroog', 'scroung', 'scrub', 'scrufu', 'scum', 'scummi', 'scuttl', 'scuttlebuzz', 'scyranth', 'sd', 'sdnevent', 'sdotkdotc', 'sdown', 'sdpaddi', 'sdw', 'se', 'sea', 'seahors', 'seal', 'seamonkey', 'seamushay', 'sean', 'seanmhay', 'search', 'searcheslam', 'season', 'seasonnnnnn', 'seat', 'seater', 'seattl', 'seawe', 'seb', 'sebastian', 'sebinom', 'sec', 'secaduff', 'secbarbi', 'second', 'secret', 'secretagentmama', 'secretari', 'secretfanofu', 'secretli', 'section', 'secur', 'sedang', 'sednemav', 'see', 'seed', 'seeeehr', 'seeeeriou', 'seegg', 'seek', 'seeker', 'seem', 'seemingli', 'seen', 'seenandsaid', 'seep', 'seesmic', 'seeya', 'sehr', 'seiz', 'sel', 'select', 'selena', 'selenagomez', 'self', 'selfinflict', 'selinux', 'sell', 'selmarieg', 'sem', 'semblanc', 'semest', 'semibreezi', 'seminarcours', 'semm', 'senat', 'senc', 'send', 'sendchocol', 'seng', 'sengm', 'senior', 'sennen', 'sennheis', 'sens', 'sensit', 'sensor', 'sent', 'senter', 'separ', 'seper', 'sept', 'septemb', 'sequel', 'sequelquot', 'serendip', 'serenitysold', 'serg', 'seri', 'serial', 'seriou', 'serious', 'seriousconcern', 'seriouslyquot', 'seriouslythat', 'sermoa', 'sermon', 'serrano', 'serv', 'server', 'servic', 'sesh', 'session', 'sessionim', 'set', 'settl', 'settler', 'settlewr', 'setup', 'setwozniacki', 'seven', 'sever', 'severin', 'sew', 'sex', 'sexi', 'sexiest', 'sexiicon', 'sexinstiletto', 'sexpens', 'sexxi', 'sexxyblackines', 'sexxyindividu', 'sexybeach', 'sexysheryl', 'sexysubkayle', 'sezdawg', 'sf', 'sfspca', 'sgflutegirl', 'sh', 'shachar', 'shadow', 'shafi', 'shag', 'shaggi', 'shaggyoh', 'shah', 'shaido', 'shake', 'shakey', 'shaki', 'shakn', 'shaliniqu', 'shall', 'shame', 'shameless', 'shammond', 'shamwow', 'shana', 'shandi', 'shanedawson', 'shaney', 'shangri', 'shannamoakl', 'shannaniscool', 'shannanstedman', 'shannon', 'shannonelizab', 'shannonleetwe', 'shannonokeeff', 'shannonrene', 'shantiernan', 'shantymanfan', 'shanzer', 'shape', 'shapequot', 'shaq', 'shaqtu', 'sharagrif', 'sharapova', 'shardemonet', 'share', 'shareasalenew', 'sharepoint', 'sharifedak', 'shark', 'sharnaci', 'sharon', 'sharonhay', 'sharp', 'sharpei', 'sharpish', 'shart', 'shat', 'shatter', 'shatterednot', 'shaun', 'shaunahfuegen', 'shaunamifsud', 'shaunathat', 'shaundiviney', 'shaunjumpnow', 'shaunsmith', 'shaunyfresko', 'shawn', 'shawnk', 'shawnorourk', 'shaya', 'shayera', 'shazzam', 'she', 'sheamu', 'shed', 'sheep', 'sheesh', 'sheet', 'sheezey', 'sheffield', 'shehnsha', 'sheindi', 'shelbi', 'shelbycasanova', 'shelbytyszka', 'sheldawg', 'shelia', 'shell', 'shelley', 'shelleyra', 'shellyh', 'shellz', 'shem', 'shemah', 'shenagian', 'shenangagain', 'sheppard', 'sheri', 'sherlockjr', 'shermanhu', 'shesouldeep', 'sheâ', 'shh', 'shhhhhhhhhhtime', 'shi', 'shia', 'shiara', 'shick', 'shield', 'shieldquot', 'shift', 'shiftywooten', 'shiggiti', 'shihan', 'shiiit', 'shikhabirdi', 'shilshi', 'shimasho', 'shimmi', 'shin', 'shindig', 'shine', 'shinedropdim', 'shiner', 'shini', 'shinyhappyhead', 'shinyshini', 'ship', 'shipovalov', 'shirt', 'shit', 'shite', 'shiteer', 'shitless', 'shitload', 'shitquot', 'shitti', 'shittt', 'shittttti', 'shitz', 'shiver', 'shizzit', 'shizzz', 'shmerin', 'sho', 'shock', 'shoe', 'shoedazzl', 'shoefan', 'shoeson', 'shoesquot', 'shontellelayn', 'shoooow', 'shooot', 'shoot', 'shop', 'shopahol', 'shopp', 'shore', 'short', 'shorter', 'shortest', 'shortli', 'shortlist', 'shot', 'shotdown', 'shotlaw', 'shoulda', 'shoulder', 'shouldnt', 'shouldv', 'shout', 'shoutout', 'shove', 'show', 'showbizcousin', 'showbiztv', 'showcas', 'shower', 'showeri', 'showerit', 'showerrrrrr', 'shown', 'showreal', 'showseri', 'showsleep', 'showtim', 'shozu', 'shrimp', 'shrink', 'shrinkedso', 'shroom', 'shruticut', 'sht', 'shuck', 'shud', 'shuffl', 'shumarani', 'shut', 'shutter', 'shvi', 'shystieuk', 'si', 'siames', 'sian', 'sianthemous', 'siavash', 'sibl', 'sicilian', 'sick', 'sicki', 'sickno', 'sickpleas', 'sickwiththepen', 'sid', 'side', 'sidebar', 'sideit', 'sidekick', 'sideway', 'sidv', 'sietar', 'sig', 'sigaret', 'sigh', 'sighhh', 'sighhhh', 'sighsad', 'sight', 'sightssound', 'sign', 'signal', 'signatur', 'sike', 'silenc', 'silent', 'silicon', 'silk', 'silkcharm', 'silkdark', 'silli', 'sillypucci', 'silverlin', 'silverwat', 'sim', 'similar', 'similiar', 'simon', 'simonbot', 'simoncherian', 'simonelliott', 'simonmcconico', 'simpl', 'simplebut', 'simplenomad', 'simpli', 'simplic', 'simplystar', 'simplystardust', 'simpson', 'simx', 'sin', 'sinc', 'sinca', 'sind', 'sine', 'sing', 'singapor', 'singer', 'singh', 'singingkj', 'singingquotlonelyim', 'singl', 'sinisterdraven', 'sink', 'sinnamon', 'sinner', 'sinon', 'sinu', 'sip', 'sipdrink', 'sir', 'sirgoos', 'sirhow', 'siriu', 'sirloz', 'sirpsycho', 'sisker', 'sistah', 'sister', 'sisterpatterson', 'sit', 'sitch', 'site', 'siteit', 'sitsgirl', 'sittin', 'situat', 'sivasothi', 'six', 'sixninja', 'sixti', 'size', 'sj', 'sjcnkotb', 'sjo', 'sk', 'ska', 'skank', 'skarsol', 'skate', 'skatinggg', 'skavoove', 'skepticabin', 'sketch', 'ski', 'skiddybabyyi', 'skidsmudflap', 'skill', 'skim', 'skin', 'skinmag', 'skinni', 'skinnylatt', 'skinnymonki', 'skint', 'skip', 'skirt', 'skittl', 'skive', 'skl', 'skoo', 'skool', 'skoop', 'skultold', 'skwi', 'sky', 'skye', 'skyhd', 'skylerev', 'skylin', 'skylo', 'skype', 'skysthalimit', 'skytrain', 'skytram', 'sl', 'slack', 'slackin', 'slam', 'slapadabass', 'slate', 'slave', 'slavetoanim', 'slc', 'sleazi', 'sleeeeeeeeeep', 'sleeeeeep', 'sleeeeep', 'sleeeep', 'sleeeepchattin', 'sleeeepin', 'sleeep', 'sleeepyy', 'sleep', 'sleephaha', 'sleepi', 'sleepin', 'sleepingi', 'sleepingit', 'sleepov', 'sleepsuggestionif', 'sleepystil', 'sleev', 'slept', 'slesai', 'slg', 'slice', 'slick', 'slide', 'slidesharedan', 'slighti', 'slightli', 'slim', 'sling', 'slingplay', 'slinki', 'slip', 'sloanelawdog', 'sloooow', 'sloppi', 'slow', 'slowli', 'slowww', 'slp', 'slumber', 'slumdog', 'slump', 'slushi', 'sluthood', 'sm', 'sma', 'smaaack', 'smack', 'small', 'smalleymi', 'smang', 'smart', 'smartdashboard', 'smarter', 'smartiej', 'smash', 'smashedthehomi', 'smell', 'smeykunz', 'smh', 'smhim', 'smile', 'smileriff', 'smiley', 'smith', 'smmmealllyalaaatarzzz', 'smock', 'smoke', 'smokingclub', 'smooth', 'smoothest', 'smoothi', 'smoothli', 'smother', 'smradu', 'smug', 'smuggl', 'smugmug', 'sn', 'snack', 'snag', 'snake', 'snakehit', 'snap', 'snapi', 'snapshotsoflov', 'snarkandfuri', 'snarkattack', 'sneak', 'sneaker', 'sneez', 'sng', 'snibston', 'snicker', 'sniff', 'sniffl', 'snigdha', 'snitch', 'snolli', 'snoopi', 'snooti', 'snore', 'snori', 'snow', 'snowboardlit', 'snowday', 'snowflakeuniqu', 'snowi', 'snowqueen', 'snufsnuf', 'so', 'soak', 'soap', 'soar', 'sob', 'sober', 'sobrieti', 'socal', 'socalgurl', 'soccer', 'soccerbal', 'social', 'socialrobot', 'societi', 'sock', 'sockington', 'sod', 'soda', 'soemon', 'sofa', 'sofi', 'sofia', 'sofifii', 'soft', 'softbal', 'softi', 'softwar', 'sofylovejb', 'soho', 'soin', 'soinma', 'soir', 'soire', 'soju', 'sojual', 'sokeri', 'solari', 'solcolorado', 'sold', 'soldhop', 'soldier', 'sole', 'solid', 'solkana', 'sollitair', 'solo', 'solomon', 'solut', 'soma', 'some', 'somebodi', 'someday', 'somedevil', 'somehow', 'somemandi', 'someon', 'someoneplac', 'somesaydav', 'someth', 'somethin', 'somethinggg', 'somethingi', 'somethinglol', 'sometim', 'somewhat', 'somewher', 'somewherequot', 'son', 'song', 'songquot', 'songsbythedot', 'songxx', 'songz', 'soni', 'sonialexandra', 'sonicreduc', 'sonnigen', 'soo', 'sookiebontemp', 'soon', 'soondeechua', 'sooner', 'sooni', 'soonish', 'soonlook', 'soonsleep', 'sooo', 'sooon', 'soooo', 'sooooo', 'soooooo', 'sooooooo', 'sooooooon', 'soooooooo', 'sooooooooo', 'sooooooooooo', 'soooooooooooo', 'sooooooooooooo', 'soooooooooooooooooo', 'sooooooooooooooooooo', 'sooooooooooooooooooooooo', 'soooooooooooooooooooooooooo', 'soooorrryyi', 'sooooul', 'soooper', 'sooth', 'sophi', 'sophieveronica', 'sophist', 'sorbet', 'sorcha', 'sore', 'sorinna', 'sorri', 'sorrri', 'sorryna', 'sort', 'sorta', 'sotod', 'sotomi', 'sotwitti', 'soul', 'souleyede', 'soulforc', 'souljaboytellem', 'soulrip', 'sound', 'soundlik', 'soundtrack', 'soundwav', 'soup', 'sour', 'sourc', 'south', 'southal', 'southpark', 'southwest', 'souuuup', 'sow', 'sowavi', 'soweee', 'sowrongitsjason', 'sowwi', 'soy', 'sp', 'spa', 'space', 'spacecowboyi', 'spacehotel', 'spacepirateril', 'spaceship', 'spagetisamich', 'spain', 'spaina', 'spam', 'spammer', 'spammi', 'span', 'spanish', 'spanishmann', 'spank', 'spanx', 'spare', 'spark', 'sparkler', 'sparkli', 'sparrow', 'spartanlov', 'spat', 'spatel', 'spawn', 'spbpuk', 'speak', 'speaker', 'spear', 'spearslol', 'special', 'specialampadmir', 'specialesumpen', 'specif', 'spect', 'speechlessthank', 'speed', 'speeddid', 'speedi', 'speedread', 'spell', 'spencerordonez', 'spencerpratt', 'spend', 'spenriv', 'spent', 'spi', 'spici', 'spider', 'spidor', 'spike', 'spill', 'spin', 'spinnerett', 'spinoff', 'spinvox', 'spiral', 'spirit', 'spiritu', 'spit', 'spj', 'spk', 'splahe', 'splantiago', 'splash', 'splashi', 'splendid', 'split', 'splite', 'splitreact', 'splurg', 'spode', 'spoil', 'spoiler', 'spoilt', 'spoke', 'spoken', 'spokesman', 'spokesnwheel', 'spongebob', 'sponsor', 'sponten', 'spoon', 'spoonbend', 'spore', 'spork', 'sport', 'sportsbroad', 'spose', 'spot', 'spotifi', 'spotonpr', 'spotzl', 'sprain', 'spray', 'spread', 'spring', 'springhillroyc', 'springmeadowssc', 'springtim', 'sprint', 'spruce', 'sptechcon', 'spur', 'spush', 'spybot', 'spyrosvj', 'spywar', 'squar', 'squarespac', 'squash', 'squeaki', 'squeez', 'squirm', 'squirrel', 'squirrelsunit', 'squishymatt', 'squot', 'sri', 'srri', 'sscchhoolll', 'st', 'sta', 'stab', 'stacci', 'stacemeist', 'stacey', 'staceysoleil', 'stach', 'stacielan', 'stacimari', 'stack', 'stacylav', 'stadium', 'staff', 'stage', 'stai', 'staight', 'stair', 'stale', 'stalk', 'stalker', 'stall', 'stamp', 'stamped', 'stan', 'stand', 'standalon', 'standard', 'stanki', 'stanleytang', 'staplemuffin', 'star', 'starbright', 'starbuck', 'starchileahhhalright', 'stare', 'starin', 'starker', 'staronlin', 'starrbbi', 'starrkiss', 'starryblueski', 'starshin', 'starship', 'start', 'starter', 'startin', 'startrekmovi', 'starv', 'starvin', 'starvinggggggg', 'starz', 'stasch', 'stash', 'stat', 'state', 'statearealoc', 'statepretti', 'station', 'stationstop', 'statist', 'statravel', 'statu', 'statusnotifi', 'stay', 'stayin', 'steadi', 'steak', 'steal', 'stealth', 'stealtheshow', 'steam', 'steap', 'stee', 'steel', 'steeltrain', 'steep', 'steev', 'steevdav', 'stef', 'stefanieerin', 'stefaniltx', 'stefanmk', 'stefanooldeman', 'stefanvd', 'stefanyouï', 'stefftsk', 'steiger', 'stellar', 'stellenbosch', 'stench', 'step', 'steph', 'stephaneeey', 'stephani', 'stephaniek', 'stephanya', 'stephenchallen', 'stephendon', 'stephenfri', 'stephenpearn', 'stephjw', 'stephlandri', 'stephmccal', 'stephunnyjan', 'stephysit', 'stepmom', 'stepquot', 'stereo', 'steve', 'steveage', 'stevebuscemi', 'stevecla', 'stevecogan', 'stevemoakl', 'steven', 'stevenag', 'stevenliemberg', 'stevetpow', 'stevi', 'stevonelson', 'stewart', 'stewarttownsend', 'stewartwad', 'stewi', 'stewilliam', 'stfu', 'sti', 'stick', 'sticker', 'sticki', 'still', 'stilllost', 'stimula', 'stimulacra', 'stink', 'stinkin', 'stinksvil', 'stinson', 'stir', 'stitch', 'stix', 'stixizza', 'stm', 'stml', 'stock', 'stockholm', 'stod', 'stoke', 'stold', 'stole', 'stolen', 'stomach', 'stomachach', 'stomp', 'stond', 'stone', 'stonedi', 'stoner', 'stoopid', 'stop', 'stopahmadi', 'stoppin', 'stopwhat', 'storag', 'store', 'stori', 'storiesofmac', 'storm', 'stormn', 'stormsmi', 'stove', 'stpolki', 'straight', 'straighten', 'straightno', 'straiiight', 'strain', 'strampelt', 'strand', 'strang', 'stranger', 'strangest', 'strap', 'strateg', 'strategi', 'strathclyd', 'strawberishak', 'strawberri', 'strawberrieswond', 'strawburri', 'stray', 'streak', 'stream', 'street', 'streetcar', 'streetlevelfoto', 'streetwizemag', 'strength', 'strep', 'stress', 'stretch', 'strict', 'stride', 'strike', 'string', 'stripper', 'strive', 'stroke', 'strong', 'stronger', 'struggl', 'stryder', 'stu', 'stuborn', 'stuck', 'stuckgotta', 'stuckindagroov', 'stuckwit', 'studarbi', 'student', 'studi', 'studio', 'studiomag', 'studioxiii', 'studyinghmm', 'stuedent', 'stuf', 'stuff', 'stufff', 'stuffi', 'stuffin', 'stuffnow', 'stugreenham', 'stuk', 'stumbl', 'stumbleboth', 'stun', 'stunningphotographsofscotland', 'stunt', 'stupid', 'stupidest', 'stupidflowerbitchfromhampawhogetsimpregnatedbyevilcult', 'stupidli', 'stupidlydilari', 'sturbuck', 'stweet', 'style', 'stylekid', 'stylemom', 'styler', 'stylist', 'sua', 'suai', 'suavez', 'sub', 'subcrib', 'subiaco', 'subject', 'sublicon', 'submit', 'submitand', 'subscrib', 'subscript', 'subsid', 'suburbandollar', 'suburbanhipst', 'subway', 'succeed', 'success', 'successquot', 'succinct', 'succkkksss', 'succumb', 'sucht', 'suck', 'sucker', 'sucki', 'suckish', 'sucksso', 'sucksss', 'sucksthat', 'sudah', 'sudden', 'suddenli', 'sudhamshu', 'sue', 'suehenri', 'suffer', 'sugadeaux', 'sugar', 'sugardaddi', 'sugarfreensa', 'sugarlandfan', 'suggest', 'suicid', 'suicidebut', 'suit', 'suitabl', 'suitcas', 'suitelifeofkel', 'sulk', 'sultana', 'sultri', 'sum', 'summah', 'summaraiin', 'summari', 'summer', 'summerbailey', 'summercd', 'summerfest', 'summerthi', 'summit', 'summmer', 'summmerr', 'sumn', 'sumon', 'sumthin', 'sumthn', 'sumtim', 'sumwher', 'sun', 'sunbeam', 'sunburn', 'sunburnt', 'sunda', 'sunday', 'sundayyy', 'sunflow', 'sunglass', 'sunir', 'sunisa', 'sunn', 'sunni', 'sunnn', 'sunnni', 'sunris', 'sunscreen', 'sunset', 'sunshin', 'sunshinefin', 'suntir', 'sup', 'supafast', 'super', 'superb', 'superbowl', 'supergrl', 'superhero', 'superhotti', 'supermac', 'superman', 'supermarket', 'superpok', 'superr', 'supersexyladi', 'superstardjray', 'superstit', 'supertim', 'superwif', 'suplada', 'suposs', 'supp', 'suppli', 'support', 'supportstructur', 'suppos', 'supposedli', 'supralumin', 'supratinyurlcom', 'supris', 'sur', 'surakarta', 'sure', 'surei', 'surelet', 'surewhich', 'surf', 'surfac', 'surfclubhit', 'surgeri', 'surgic', 'surial', 'surnam', 'surpris', 'surprisingli', 'surpsippineilen', 'surrend', 'surround', 'survey', 'survic', 'surviv', 'susan', 'susanstn', 'sush', 'sushi', 'sushiannnn', 'susielin', 'suspect', 'sustain', 'sutter', 'suv', 'sux', 'suz', 'suzann', 'suziam', 'suzierobb', 'sv', 'svgrob', 'svn', 'swag', 'swagtast', 'swam', 'swamp', 'swan', 'swanki', 'swap', 'sway', 'swayz', 'swear', 'swearsmuch', 'sweat', 'sweater', 'sweati', 'swedish', 'sweeeeden', 'sweeeeet', 'sweet', 'sweetemmaxxx', 'sweeter', 'sweetheart', 'sweethomestyletumblrcom', 'sweeti', 'sweetladyg', 'sweetloc', 'sweetneatcooletc', 'sweetpeax', 'sweetyea', 'swell', 'swetdreamss', 'swift', 'swim', 'swimmermag', 'swimmingbut', 'swine', 'swing', 'swirlyart', 'swiss', 'switch', 'switchitnow', 'switzerland', 'swizec', 'swlambr', 'swole', 'swollen', 'sybil', 'syd', 'sydney', 'sydneyholiday', 'syednaqib', 'syf', 'syhinfo', 'sylver', 'sylverstar', 'symbol', 'symbolizequot', 'symbolquot', 'sympathi', 'sync', 'syntax', 'synth', 'syracus', 'syrup', 'systan', 'system', 'sytycda', 'syz', 'sãºt', 'ta', 'tab', 'tabi', 'tabitca', 'tabl', 'tablet', 'tacki', 'tackl', 'taco', 'tacobel', 'tacoluv', 'tad', 'tafe', 'tafelzoetstof', 'tag', 'tagalog', 'tagin', 'tagu', 'tahch', 'taho', 'taiji', 'taik', 'tail', 'tairrieb', 'tak', 'takamasu', 'takboleh', 'take', 'taken', 'takianballard', 'takin', 'takt', 'talent', 'talk', 'talkback', 'talkin', 'talkingdear', 'talkinq', 'talkmast', 'tall', 'talli', 'tallkisscom', 'tamarlovesu', 'tamekaraymond', 'tammila', 'tammydavid', 'tammymunson', 'tammzi', 'tamori', 'tampin', 'tan', 'tang', 'tanggung', 'tango', 'tank', 'tantamani', 'tanya', 'tanyabrook', 'tap', 'tape', 'tapeand', 'tapequot', 'tapo', 'tar', 'tara', 'target', 'tartan', 'tasharri', 'tashi', 'tashika', 'task', 'tast', 'tastey', 'tasti', 'tatianneesq', 'tatti', 'tattoo', 'taught', 'tawagpromot', 'tax', 'taxi', 'taxonomyi', 'tayjasp', 'taylor', 'taylordreg', 'taylorianscom', 'taylorswift', 'tayswift', 'tb', 'tbabe', 'tbd', 'tbh', 'tc', 'tcabeen', 'tck', 'tcouto', 'tcslive', 'td', 'tday', 'tdf', 'te', 'tea', 'teach', 'teacher', 'teachernev', 'teahcer', 'team', 'teamastana', 'teamdaveday', 'teamddemilovato', 'teamtibet', 'teamwork', 'teanah', 'teaneck', 'teapotquot', 'tear', 'teari', 'teas', 'tech', 'techbab', 'technic', 'technolog', 'technologist', 'techquo', 'techwraith', 'tecki', 'teddi', 'tedium', 'tee', 'teemonst', 'teemwilliam', 'teen', 'teenag', 'teeni', 'teenth', 'teeth', 'tegan', 'teh', 'tehe', 'teinegotta', 'teka', 'teknetia', 'tel', 'tele', 'teleken', 'televis', 'tell', 'telli', 'tellin', 'tem', 'temarrio', 'temp', 'temperatur', 'templat', 'temporad', 'temporari', 'temporarili', 'tempt', 'temptat', 'ten', 'tend', 'tendenc', 'tennant', 'tenni', 'tens', 'tent', 'tenth', 'tequila', 'tequilasam', 'term', 'termin', 'terminar', 'terrac', 'terrencej', 'terri', 'terribl', 'terricook', 'terrifi', 'territori', 'terrorist', 'terryfre', 'terwillegar', 'tesco', 'tesla', 'tessle', 'test', 'testament', 'testen', 'testimoni', 'testno', 'testuhhh', 'tetri', 'texa', 'texan', 'texaszman', 'text', 'textbook', 'textin', 'textmat', 'textskyp', 'textur', 'textwrangl', 'teyanataylor', 'tezzer', 'tferthoma', 'tfl', 'tfletcher', 'tgib', 'th', 'tha', 'thaa', 'thaaaaang', 'thaaaat', 'thaaank', 'thackeray', 'thahalo', 'thahani', 'thak', 'thalovebug', 'thamawat', 'than', 'thang', 'thank', 'thanki', 'thanksit', 'thankslet', 'thanksm', 'thankssss', 'thanktank', 'thankyou', 'thanx', 'thanxx', 'tharoor', 'thastevieg', 'that', 'thatd', 'thatdream', 'thatgiv', 'thatguygil', 'thatll', 'thatnow', 'thatswhack', 'thatttt', 'thatwa', 'thatâ', 'thatï', 'theapprentic', 'theaptour', 'theartistt', 'theashbal', 'theater', 'theatr', 'thebarn', 'thebeanboy', 'thebettersexdoc', 'thebigfelafel', 'theblackwreath', 'thecrazyjogg', 'thedailygriff', 'thedebbyryan', 'thee', 'theed', 'theeee', 'theelitejustin', 'theellenshow', 'theengteach', 'theexclam', 'theextravag', 'thefemgeek', 'thefilmstag', 'theft', 'thefuturehead', 'thegadgetshow', 'thegazzman', 'thehaumean', 'theheartsong', 'thehodg', 'theirishguy', 'theiv', 'thejacksonfil', 'thejest', 'thejo', 'thejuiceisgood', 'thekatvond', 'thelaststorm', 'thell', 'theme', 'themiddleman', 'themindoftippi', 'themnot', 'themodernreef', 'themsuck', 'thenewschick', 'thenn', 'thenot', 'thenub', 'theo', 'theollymann', 'theori', 'theorybut', 'theotherrickp', 'thepartyscen', 'thepatr', 'theprincebem', 'theragingocean', 'therangelon', 'therapi', 'therapynutrit', 'there', 'thereaft', 'therealbasterd', 'therealcorybach', 'therealjspac', 'therealmischa', 'therealnph', 'therealsavannah', 'therealshaq', 'therealstoogl', 'therefor', 'therel', 'thereokay', 'therequot', 'theresa', 'theresarockfac', 'thereso', 'therewish', 'theroundup', 'therudetypist', 'theshannonbrand', 'theshowgram', 'thesi', 'thesouthernstar', 'thestar', 'thestubca', 'thestylepa', 'thetaipan', 'theviperroom', 'theworld', 'theyd', 'theyll', 'theyr', 'theyv', 'thgave', 'thi', 'thick', 'thief', 'thin', 'thing', 'thinggi', 'thingi', 'thingnight', 'thingo', 'thingquot', 'thingsshesaid', 'think', 'thinkn', 'third', 'thirstforwin', 'thirsti', 'thisboyelroy', 'thisgoesher', 'thisismyiq', 'thisisrobthoma', 'thisll', 'thiss', 'thissinc', 'thiswho', 'thnx', 'tho', 'thoi', 'thomasaugusto', 'thomasedward', 'thomasgudgeon', 'thomashensel', 'thong', 'thorax', 'thornbek', 'thorp', 'those', 'thot', 'though', 'thoughhh', 'thoughmi', 'thought', 'thoughti', 'thoughtsandyesw', 'thoughtwhi', 'thousand', 'thph', 'thread', 'threadless', 'threaten', 'three', 'thresholdrpg', 'threw', 'thrill', 'thro', 'throat', 'throatey', 'throb', 'throughout', 'throughput', 'throught', 'throw', 'throwboy', 'thrown', 'thru', 'thrush', 'thso', 'tht', 'thu', 'thum', 'thumb', 'thump', 'thumper', 'thunder', 'thunderbird', 'thunderi', 'thunderstorm', 'thunderstruck', 'thuquoc', 'thur', 'thurday', 'thursday', 'thursdayyy', 'thursdayyyi', 'thusgaard', 'thx', 'tháº', 'thã', 'thï', 'ti', 'tiandranc', 'tiannanixon', 'tibetan', 'tick', 'ticket', 'tickingtimebomb', 'tickvg', 'tidbit', 'tidend', 'tie', 'tierd', 'tierrabarb', 'tiffaney', 'tiffanysvaughan', 'tiger', 'tight', 'til', 'tile', 'tileset', 'till', 'tim', 'timberlak', 'timdp', 'time', 'timedecay', 'timegirl', 'timegnit', 'timehop', 'timeless', 'timeor', 'timetravellerx', 'timhawkfan', 'timjennion', 'timkit', 'timlovejoy', 'timmi', 'timnoonan', 'tin', 'tina', 'tinchi', 'ting', 'tingl', 'tingli', 'tini', 'tink', 'tinker', 'tinkerdel', 'tinkissarah', 'tinsel', 'tinuolavictoria', 'tinylittlebear', 'tinylollipop', 'tinypurplefish', 'tip', 'tipsen', 'tipsi', 'tiptop', 'tire', 'tiredbabysat', 'tiredtoo', 'tissietc', 'tissu', 'tita', 'titan', 'titanium', 'titi', 'titl', 'tivon', 'tiwit', 'tix', 'tizzi', 'tjsopher', 'tjthetruckdrivr', 'tk', 'tkofthewildboyz', 'tlk', 'tlot', 'tlr', 'tm', 'tmac', 'tmere', 'tmi', 'tmobil', 'tmofe', 'tmoneyscul', 'tmorrow', 'tmoz', 'tmr', 'tmrw', 'tnccinsd', 'tnggal', 'tnite', 'tnkgrl', 'tnt', 'tnx', 'toad', 'toast', 'toaster', 'toat', 'tobysteven', 'todaaaaay', 'todaaaayi', 'todaii', 'today', 'todaya', 'todaybr', 'todaybut', 'todayi', 'todayim', 'todaynev', 'todayshel', 'todayshow', 'todaytonight', 'todayuntil', 'todayveri', 'todaywasnt', 'todaywith', 'todayyy', 'todayyyyy', 'toe', 'toenail', 'toffernelson', 'togeth', 'toilet', 'toit', 'toke', 'token', 'tokusatsu', 'told', 'toledo', 'tolsonii', 'tom', 'toma', 'tomaiac', 'tomarow', 'tomblackuk', 'tomboytigress', 'tomfelton', 'tommcfli', 'tommorow', 'tommorowweekend', 'tommorrow', 'tommrw', 'tommyreilli', 'tommyruffin', 'tomo', 'tomoroooo', 'tomorow', 'tomorroooooooow', 'tomorrow', 'tomorrowani', 'tomorrowmayb', 'tomorrowtoday', 'tomorrowwwwwww', 'tomorrowwwwwwwwww', 'tomorrw', 'tomoz', 'ton', 'toncil', 'tonebeep', 'tongseng', 'tongu', 'toni', 'tonighet', 'tonight', 'tonightfelt', 'tonighthmad', 'tonighti', 'tonightit', 'tonit', 'toniteif', 'tonjac', 'tonyaam', 'tonyatko', 'tonyhawk', 'tonyhenson', 'tonytay', 'toobut', 'tooemili', 'toohop', 'tooit', 'took', 'tool', 'toolbar', 'toolstechniquesbut', 'toon', 'toono', 'tooo', 'tooom', 'toooo', 'toooom', 'tooooo', 'tooooooo', 'tooooooooooo', 'tooot', 'toosh', 'tooth', 'toothach', 'toothpast', 'toowith', 'top', 'topic', 'toprank', 'topshop', 'tori', 'toritruslow', 'torn', 'toronto', 'torontosymphoni', 'torr', 'torranc', 'torso', 'tortur', 'toss', 'total', 'totd', 'tote', 'tothepc', 'totur', 'touch', 'touchi', 'touchmus', 'touchï', 'tough', 'tought', 'tour', 'touringrid', 'tourist', 'toward', 'towel', 'toweli', 'tower', 'town', 'townlol', 'towson', 'toxinid', 'toy', 'tp', 'tq', 'tra', 'trace', 'tracecyru', 'tracey', 'track', 'trackl', 'trackstargibson', 'tractor', 'tractorqueen', 'tracyfieldsdlaalaa', 'trade', 'tradinggoddess', 'traffic', 'trafford', 'traffuck', 'tragic', 'trail', 'trailer', 'train', 'trainer', 'trampoin', 'tranform', 'transfer', 'transform', 'transfus', 'transit', 'translat', 'transmiss', 'transmit', 'transport', 'trap', 'trash', 'trauma', 'travel', 'traveladdict', 'travelin', 'travellin', 'travelstart', 'travismtv', 'travl', 'travolut', 'treadmil', 'treat', 'treatment', 'trebl', 'tredmil', 'tree', 'tregorysullivan', 'trek', 'trekki', 'tremend', 'trench', 'trend', 'trendhunt', 'trendmicro', 'trent', 'trentvanega', 'trenutek', 'trevieno', 'trey', 'treyderb', 'tri', 'trial', 'triathlon', 'tribe', 'tribut', 'triciapsguard', 'trick', 'triedstil', 'triffeh', 'trigger', 'trillion', 'trilog', 'triniti', 'trio', 'trip', 'tripl', 'triplejhack', 'trishi', 'trishvici', 'trismac', 'triumph', 'troppo', 'troubl', 'troublequot', 'troubleshoot', 'trouser', 'trovu', 'trstfndbbi', 'tru', 'truck', 'trudi', 'true', 'truegab', 'truerandomg', 'trugiaz', 'truli', 'trulyrest', 'trussit', 'trust', 'truste', 'trusti', 'trustquot', 'truth', 'tryin', 'tryinggg', 'tryna', 'tryout', 'tsaksonaki', 'tsarnick', 'tshirt', 'tsila', 'tstorm', 'tsunamiskweek', 'tt', 'tte', 'tten', 'tttt', 'ttual', 'tu', 'tub', 'tube', 'tudi', 'tue', 'tuesday', 'tuesdayblu', 'tuesdaynot', 'tuition', 'tuloy', 'tumaini', 'tumbl', 'tumblar', 'tumblr', 'tummi', 'tumor', 'tuna', 'tune', 'tunesgood', 'tunnel', 'ture', 'turkey', 'turkish', 'turn', 'turnedar', 'turner', 'turtl', 'turtlebu', 'tuscaloosa', 'tutor', 'tutori', 'tutorialquot', 'tv', 'tva', 'tvc', 'tvdnew', 'tvshack', 'tvshow', 'tw', 'twa', 'twat', 'tweday', 'tweed', 'tweep', 'tweet', 'tweetar', 'tweetbook', 'tweetdeck', 'tweeter', 'tweetercom', 'tweeterdiva', 'tweetfriendsit', 'tweetheart', 'tweeti', 'tweetiesmi', 'tweetiesse', 'tweetil', 'tweetin', 'tweetland', 'tweetpic', 'tweetramona', 'tweetshrink', 'tweetstat', 'tweetup', 'tweezey', 'twenti', 'tweopl', 'twhirl', 'twice', 'twidroid', 'twigscharli', 'twiiterr', 'twilight', 'twilightish', 'twilightlexicon', 'twin', 'twine', 'twinfatu', 'twinkeesquot', 'twinkler', 'twinnadryl', 'twist', 'twit', 'twitchhik', 'twitearth', 'twitel', 'twitpic', 'twitt', 'twittdud', 'twitter', 'twitterberri', 'twittercom', 'twitterfb', 'twitterfieberbeiebay', 'twitterfon', 'twitterfox', 'twitteri', 'twitterif', 'twitteris', 'twitterland', 'twitterlk', 'twittern', 'twitterpattercom', 'twitterpeep', 'twitterricolsss', 'twitterspac', 'twitterspher', 'twittersspsoul', 'twitterthumb', 'twittertip', 'twittervers', 'twittervil', 'twitterwhor', 'twitterworld', 'twitthead', 'twitti', 'twittin', 'twitvim', 'twitzap', 'twivert', 'twix', 'twixi', 'twlicious', 'twlightt', 'twll', 'two', 'twoosh', 'twweeeet', 'tx', 'txqwcjc', 'txshelbytx', 'txt', 'ty', 'tyefight', 'tyfe', 'tygerwaterfront', 'tyo', 'type', 'typeraceronc', 'typezero', 'typhoid', 'typic', 'tyres', 'tysonj', 'tzq', 'u', 'uandpet', 'ub', 'ubanktu', 'uber', 'ubertwitt', 'ubiqu', 'ubiquit', 'ubuntu', 'ud', 'udah', 'udh', 'udong', 'uefa', 'ug', 'ugg', 'ugggggggggggghhhh', 'uggghh', 'uggghhhhh', 'uggh', 'ugh', 'ughh', 'ughher', 'ughhh', 'ughhhh', 'ughhhhh', 'ughi', 'ugli', 'uh', 'uhh', 'uhhfansit', 'uhhh', 'uhhhh', 'uhhkay', 'ui', 'uitati', 'uj', 'ujj', 'uk', 'ukdivorc', 'uke', 'ukey', 'ukjapan', 'ukx', 'ulcer', 'ulit', 'ull', 'ultim', 'um', 'umadamgotlost', 'umbrella', 'umm', 'ummahfilm', 'ummm', 'ummmm', 'umtweeti', 'un', 'unaavion', 'unabl', 'unawar', 'unbar', 'unbear', 'unbeliev', 'unblock', 'unborn', 'unbrick', 'unbrok', 'unc', 'unchart', 'uncl', 'und', 'undaground', 'undead', 'undergrad', 'undergradu', 'underground', 'underneith', 'underoath', 'underplay', 'underr', 'undersid', 'understand', 'understandthat', 'understat', 'understood', 'undi', 'undu', 'unearth', 'unemploy', 'unemployedbush', 'unench', 'unexpect', 'unexpectedlyquot', 'unexplain', 'unfair', 'unfaith', 'unfavorit', 'unfinish', 'unfollow', 'unfortun', 'unfortunatli', 'ung', 'ungoverok', 'uni', 'unicorn', 'unimagin', 'uniqu', 'uniquevampir', 'unisonamp', 'unit', 'unitechi', 'unitej', 'unitzeroon', 'univers', 'unlawshaha', 'unlchallengecom', 'unless', 'unlik', 'unlock', 'unlov', 'unlshtehtrnip', 'unluckiest', 'unmarket', 'unmotiv', 'uno', 'unpack', 'unpaid', 'unpardon', 'unplan', 'unpleas', 'unplug', 'unprepar', 'unravel', 'unread', 'unreal', 'unredact', 'unscath', 'unseen', 'unspeak', 'unsubscrib', 'unsuccess', 'untangl', 'unthink', 'until', 'untim', 'untouchabletq', 'unus', 'unusu', 'unveil', 'unwant', 'up', 'upand', 'upcom', 'updat', 'updateflat', 'updatesbut', 'upe', 'upfeel', 'upfor', 'upgrad', 'upguess', 'uphav', 'upi', 'upish', 'upit', 'upload', 'uploadr', 'uplook', 'upmarket', 'upne', 'upnot', 'upon', 'upp', 'upper', 'uppp', 'upset', 'upsid', 'upso', 'upstair', 'upstat', 'upstream', 'upto', 'uptown', 'upway', 'uquot', 'uquotjust', 'ur', 'urain', 'urbabygurrl', 'urbanpinkpixi', 'urbanski', 'urbanthai', 'urg', 'urgent', 'urgg', 'urkl', 'url', 'urrrggg', 'urself', 'urselfn', 'us', 'usa', 'usb', 'uscold', 'use', 'useabl', 'usednonusa', 'useless', 'user', 'usernam', 'usi', 'usin', 'usk', 'usmeal', 'usp', 'usual', 'usualc', 'uswhatev', 'ut', 'utah', 'util', 'utopiaarmouri', 'utrecht', 'utterhip', 'utterli', 'uufd', 'uuhg', 'uuu', 'uuuuuuuuggghhhhhh', 'uv', 'uwk', 'uxsoup', 'uzm', 'uá', 'v', 'va', 'vacanc', 'vacat', 'vacationquot', 'vacationsss', 'vacay', 'vaction', 'vacuum', 'vaempyr', 'vagina', 'vaig', 'vaild', 'valdez', 'valenbfm', 'valencia', 'valentin', 'valeri', 'valeriekhoo', 'valiant', 'valid', 'valium', 'valleyi', 'valorandvellum', 'valuabl', 'valvert', 'valxx', 'vampa', 'vampir', 'vampiravalo', 'vampirebil', 'van', 'vancooooooov', 'vancouv', 'vanessamari', 'vanesssa', 'vanilla', 'vanillab', 'vanish', 'vanni', 'vargee', 'variabl', 'variat', 'variou', 'variti', 'varshamohan', 'varujan', 'varunsriram', 'vasco', 'vascul', 'vaselin', 'vat', 'vatd', 'vavroom', 'vbcfm', 'vc', 'vdichev', 've', 'vectip', 'vector', 'veda', 'veee', 'veekalvsjbx', 'veg', 'vega', 'vegan', 'veganboy', 'veganza', 'vegasquot', 'veget', 'vegetarian', 'vegeterian', 'veggi', 'vehicl', 'veil', 'vella', 'veloc', 'velvet', 'vend', 'vendor', 'vene', 'venic', 'ventnor', 'ventnorblog', 'ventur', 'ventureoutlook', 'venu', 'ver', 'verb', 'verfolgern', 'verg', 'verif', 'verifi', 'verizon', 'veronica', 'vers', 'versa', 'version', 'versu', 'verticalviolet', 'verwon', 'veryawen', 'vesper', 'vet', 'veteran', 'veto', 'vetod', 'vg', 'vh', 'vi', 'via', 'viabl', 'viaduct', 'viahourt', 'vibe', 'vibrant', 'vibrat', 'vic', 'vice', 'viceversayoul', 'vicin', 'vicki', 'victim', 'victori', 'victoria', 'victoriaerin', 'vid', 'video', 'videoscommentampsuscrib', 'videotlv', 'vidzon', 'vielleicht', 'vienna', 'vietnam', 'view', 'viewabl', 'viewcuz', 'vigor', 'vike', 'vilpponen', 'vin', 'vindiekin', 'vine', 'vinternol', 'vinum', 'vinyl', 'violat', 'violenc', 'vip', 'vippartyplann', 'virgin', 'virginfest', 'virtu', 'virtual', 'virtualewit', 'virtuallin', 'viru', 'virus', 'visa', 'visibl', 'visionari', 'visit', 'visita', 'visitor', 'visor', 'vista', 'visual', 'vital', 'vitamin', 'viva', 'vivalanina', 'vivid', 'vivipfeif', 'vivvid', 'viz', 'vjl', 'vlegand', 'vlog', 'vlogbroth', 'vlong', 'vm', 'vmc', 'vmprfreak', 'vo', 'vocabulari', 'vocal', 'vodka', 'vodou', 'voic', 'voicemail', 'voidet', 'voip', 'voipov', 'volleybal', 'volt', 'volterra', 'volum', 'volunt', 'voluntarili', 'volvic', 'von', 'vonster', 'voodoo', 'voodooexp', 'vote', 'voucher', 'vow', 'vox', 'voyeurismthos', 'vpz', 'vqp', 'vs', 'vsaharya', 'vt', 'vuittonretard', 'vulcanella', 'vulgar', 'vvxj', 'vwell', 'vwii', 'vx', 'vy', 'vzw', 'vã', 'w', 'wa', 'waaaaaa', 'waaaay', 'waaalk', 'waah', 'waant', 'waay', 'wadeheh', 'waffl', 'wafflesgirl', 'wag', 'wagah', 'wage', 'wagger', 'wah', 'waheyi', 'wahhey', 'wahlamora', 'wahlberg', 'wahoooooo', 'waistcoat', 'wait', 'waiter', 'waitin', 'waitingsoso', 'waivethesal', 'wake', 'wakeboard', 'wakeupcal', 'wale', 'walgreen', 'walk', 'walker', 'walkman', 'wall', 'wallac', 'wallet', 'wallewhoa', 'wallpap', 'wallquot', 'wallydwallow', 'walmart', 'walnut', 'walter', 'wam', 'wana', 'wandaharland', 'wander', 'wanderingfairi', 'waney', 'wang', 'wank', 'wankelrx', 'wanker', 'wanna', 'want', 'war', 'ward', 'warden', 'wardrob', 'wardybit', 'warfar', 'wargam', 'warlord', 'warm', 'warn', 'warneronstin', 'warp', 'warranti', 'warrenelli', 'warrenparkinson', 'warrior', 'warsquot', 'warti', 'warwraith', 'wasent', 'wash', 'washcloth', 'washedi', 'wasnt', 'wass', 'wast', 'wat', 'wata', 'watch', 'watchem', 'watchin', 'watchingi', 'watchmen', 'watchquot', 'wate', 'water', 'waterbi', 'waterfront', 'watermelon', 'waterproof', 'watim', 'watsess', 'watzatsong', 'wave', 'wax', 'way', 'wayand', 'wayn', 'wayquot', 'wayyy', 'wayyyyy', 'wbaustin', 'wbc', 'wbn', 'wbpodcast', 'wbu', 'wbuyou', 'wc', 'wcg', 'wcgx', 'wdemciaox', 'we', 'weak', 'weapon', 'wear', 'wearebutlin', 'weather', 'weatherobvi', 'weav', 'web', 'webb', 'webcam', 'webdotwiz', 'webdotwizard', 'webfreelanc', 'websit', 'webspher', 'webvetcom', 'webvis', 'wed', 'wedgi', 'wedgienet', 'wednesday', 'wednesdaynit', 'wee', 'weed', 'weee', 'weeeee', 'weeeeeeeeim', 'weeeeeeh', 'weeeek', 'weeeird', 'week', 'weekend', 'weekendagain', 'weekendi', 'weekendl', 'weekli', 'weekmayb', 'weekquot', 'weekshav', 'weenith', 'weenke', 'weep', 'weetabix', 'wehn', 'weight', 'weilin', 'wein', 'weird', 'weisslu', 'weith', 'welcom', 'well', 'wellhad', 'wellhonestli', 'welli', 'welllook', 'wellquot', 'wellso', 'wellthat', 'wellwher', 'wellwith', 'wellywood', 'welp', 'welpj', 'wemb', 'wembley', 'wen', 'wend', 'wendi', 'wenditv', 'wendybows', 'wendygyoung', 'wenlock', 'wenna', 'went', 'wer', 'werear', 'werent', 'wernt', 'werwolf', 'wesley', 'wesleycarr', 'west', 'westburi', 'westcoast', 'western', 'westminst', 'westney', 'westneyrhindxx', 'wesupportniley', 'wet', 'wethetravi', 'wetpaint', 'weve', 'weyburn', 'wfan', 'wfverkerk', 'wgl', 'wgray', 'wgtya', 'whaaaa', 'whaaaat', 'whack', 'whackim', 'whaever', 'whale', 'whaley', 'whancock', 'wharf', 'whassup', 'what', 'whatadam', 'whatch', 'whatcha', 'whatd', 'whatev', 'whatgt', 'whatleydud', 'whatr', 'whatswhatsian', 'whatta', 'whattt', 'whatwak', 'whatxx', 'wheat', 'whee', 'wheel', 'wheelbarrowquot', 'wheelworx', 'when', 'whenev', 'whent', 'whenyougethigh', 'wherd', 'where', 'whereiskevinn', 'wherev', 'whether', 'whew', 'whheerreee', 'whhhooohoo', 'whichev', 'whileand', 'whilst', 'whine', 'whip', 'whiski', 'whistl', 'white', 'whiteguysdancin', 'whitetigernora', 'whitneyhess', 'whitrt', 'who', 'whoa', 'whoever', 'whole', 'wholee', 'wholefood', 'wholeheartedli', 'wholl', 'whoo', 'whooo', 'whoop', 'whoope', 'whoopi', 'whore', 'whose', 'whosomeon', 'whoâ', 'whrrrruuuuuu', 'whupee', 'whyi', 'whytri', 'whyyyy', 'wic', 'wick', 'wickedd', 'wid', 'wide', 'widest', 'widget', 'widout', 'wierd', 'wife', 'wifey', 'wiff', 'wifi', 'wiggin', 'wight', 'wigsi', 'wii', 'wiii', 'wiiiiiish', 'wiiskey', 'wikiepedai', 'wil', 'wilco', 'wild', 'wildpeeta', 'wildquot', 'wildwood', 'wile', 'wilhelminaaah', 'will', 'willadam', 'willatt', 'willcarl', 'willhowel', 'willi', 'william', 'williamsledd', 'willieday', 'willkuhn', 'willl', 'willmiss', 'willoughbyc', 'willsur', 'willtompsett', 'willyjoegreen', 'willyour', 'wilson', 'wimbi', 'wimbledon', 'wimcoekaert', 'wimledon', 'wimp', 'win', 'winc', 'wind', 'windi', 'window', 'windshield', 'windysmeet', 'wine', 'winer', 'wing', 'wingsperezhilton', 'wink', 'winkey', 'winkfrombluey', 'winner', 'winquot', 'winter', 'wipe', 'wipl', 'wire', 'wireless', 'wisconsin', 'wisdom', 'wise', 'wisequeen', 'wisesigh', 'wish', 'wishhhh', 'wishin', 'wishlist', 'wit', 'witch', 'with', 'withdraw', 'withdrawl', 'withdrawnun', 'withheld', 'within', 'withlovekristin', 'withouit', 'without', 'witmol', 'witti', 'wive', 'wizard', 'wizpig', 'wk', 'wkend', 'wknd', 'wkndoh', 'wmedia', 'wmmarc', 'wmultipl', 'wnashvil', 'wnt', 'wntd', 'wnza', 'wo', 'woah', 'wobbl', 'woe', 'woeful', 'wogan', 'woganmay', 'woh', 'wohoooo', 'woke', 'woken', 'wokr', 'wold', 'wolf', 'wolfgangfrank', 'wolfman', 'wolfsoul', 'wollepb', 'wolverhampton', 'wolverin', 'wolvo', 'woman', 'women', 'wond', 'wonder', 'wonderful', 'wonderingsorri', 'wonka', 'wont', 'woo', 'wood', 'woof', 'wooh', 'wooho', 'woohoo', 'wool', 'wooo', 'wooohhooo', 'wooohooo', 'woooo', 'woooohooooo', 'wooooo', 'woooooooooooo', 'woooooooow', 'woooooow', 'wooooorrrddd', 'wooooosaaaa', 'woooowait', 'wooot', 'woop', 'woopwoop', 'woosang', 'woot', 'wootcom', 'wor', 'word', 'wordahead', 'wordl', 'wordpress', 'wordwhizkid', 'wore', 'work', 'workabl', 'workagainmiss', 'workahol', 'workboo', 'workcarolin', 'workdesk', 'worker', 'workgo', 'worki', 'workingif', 'workjust', 'workkki', 'workkkk', 'worklab', 'workmat', 'workne', 'workonli', 'workour', 'workout', 'workplac', 'workpray', 'workrol', 'workshop', 'worksshouldnt', 'workstat', 'world', 'worldand', 'worldhahahha', 'worldpray', 'worldthey', 'worldwid', 'worm', 'worn', 'worri', 'worrk', 'worryi', 'wors', 'worser', 'worst', 'worth', 'worthi', 'worthif', 'worthwhil', 'wossi', 'wot', 'would', 'woulda', 'woulddd', 'wouldnt', 'wouldnâ', 'wouldv', 'wound', 'woundcar', 'wout', 'wow', 'wowawesom', 'wowfarrah', 'wowi', 'wowthat', 'wowthi', 'wowzer', 'wp', 'wpddigit', 'wpf', 'wpwebhost', 'wr', 'wrangler', 'wrap', 'wrapper', 'wrath', 'wreak', 'wreck', 'wreckam', 'wrecker', 'wrestlemanianot', 'wrigley', 'wrist', 'write', 'writemelov', 'writemonkey', 'writer', 'writersblock', 'writerspri', 'writingdiva', 'written', 'wrk', 'wrking', 'wrong', 'wrongsmh', 'wrost', 'wrote', 'ws', 'wta', 'wtching', 'wtf', 'wtff', 'wth', 'wtheck', 'wu', 'wubsnet', 'wud', 'wudruff', 'wulffboy', 'wullufdud', 'wurk', 'wut', 'wuzzl', 'wv', 'wwailord', 'wwater', 'wwdc', 'wwjpat', 'wwpc', 'wwwbloggirlsbydesigncom', 'wwwbloxxxnet', 'wwwcagasinfo', 'wwwcocktailourcom', 'wwwfacesbyrozzjcom', 'wwwgirlsbydesigncom', 'wwwgroupthingorg', 'wwwimediaconnectioncom', 'wwwkillerjonet', 'wwwmyspacecomdxckinyamouth', 'wwwoffthechartradiocouk', 'wwwpolarisrentalscom', 'wwwraideilcom', 'wwwsurveypiratecom', 'wwwtheandybumataishowcom', 'wwwtolicesdoorkutcom', 'wwwtoutlemondesurcfblogspotcom', 'wwwtvcom', 'wwwtwittercomgo', 'wwwyoutubecomtitomi', 'wy', 'wyh', 'wyld', 'wymsywynx', 'wyn', 'wynstayfli', 'wyvern', 'x', 'xa', 'xaax', 'xalisa', 'xallthatjazzx', 'xandyyi', 'xavier', 'xbeckaxockx', 'xbianc', 'xbox', 'xcbi', 'xclairecullenx', 'xcolinx', 'xd', 'xdancer', 'xdddd', 'xddl', 'xdeadbeef', 'xdrive', 'xe', 'xedlo', 'xenex', 'xf', 'xfftl', 'xfreshtodeathx', 'xg', 'xhkt', 'xi', 'xikhai', 'ximefre', 'xjaeva', 'xjaix', 'xjane', 'xjizzlebabix', 'xk', 'xlad', 'xlouiserx', 'xlr', 'xma', 'xmasquerad', 'xmen', 'xmileycyrusx', 'xml', 'xndidi', 'xo', 'xojessie', 'xox', 'xoxo', 'xoxox', 'xoxoxoxoxo', 'xp', 'xpaulina', 'xperia', 'xphile', 'xr', 'xray', 'xrayspec', 'xrichard', 'xroldx', 'xshorti', 'xsophiejan', 'xstefaniele', 'xszg', 'xt', 'xtfx', 'xthemus', 'xthewhalerx', 'xthislov', 'xtinaaaa', 'xtineismyhero', 'xtra', 'xumj', 'xvdh', 'xw', 'xwae', 'xwen', 'xwi', 'xwu', 'xx', 'xxdrew', 'xxl', 'xxmeglovesyoux', 'xxneonninjaxx', 'xxstephi', 'xxx', 'xxxgmailcom', 'xxxx', 'xxxxxxx', 'xxxxxxxxxx', 'xxzx', 'xyqc', 'xyyd', 'xz', 'xzl', 'xznf', 'xzoe', 'ya', 'yaaaa', 'yaaaaayyy', 'yaaaay', 'yaar', 'yaay', 'yab', 'yac', 'yael', 'yah', 'yahoo', 'yahooooo', 'yahoop', 'yaldi', 'yaletown', 'yall', 'yamin', 'yamstersg', 'yandl', 'yang', 'yanke', 'yannionlin', 'yard', 'yardwork', 'yarn', 'yasmeiin', 'yasmin', 'yasmineyvett', 'yaumannn', 'yawn', 'yay', 'yayassexxxi', 'yayayayay', 'yayerrrrzzzzz', 'yayi', 'yayjon', 'yaym', 'yayyay', 'yayyy', 'yayyyi', 'yayyyyy', 'yayyyyyyy', 'yba', 'ycf', 'ycsing', 'ye', 'yea', 'yeaaaaaa', 'yeaaaaaaaaaaaaaaaaaaah', 'yeaah', 'yeaeveryon', 'yeah', 'yeahh', 'yeahher', 'yeahhh', 'yeahhhh', 'yeahit', 'yeahomg', 'yeahw', 'yeahyeah', 'yeanot', 'yeap', 'year', 'yearbook', 'yearquot', 'yearr', 'yearslolsocieti', 'yeay', 'yeeeeeeeey', 'yeezo', 'yeheeyyy', 'yehhaaa', 'yehhh', 'yell', 'yellow', 'yellowpark', 'yeow', 'yep', 'yeplol', 'yepoff', 'yeptht', 'yesh', 'yesquot', 'yess', 'yessirrr', 'yesss', 'yesssss', 'yessssssss', 'yessssssssssss', 'yest', 'yesterday', 'yesterdaywana', 'yesturday', 'yet', 'yetil', 'yetit', 'yetthat', 'yettt', 'yetttt', 'yey', 'yeyyy', 'yg', 'yh', 'yi', 'yiayia', 'yike', 'yipikiyayey', 'yknow', 'ylo', 'ym', 'ymu', 'ynaf', 'ynamusico', 'ynob', 'yo', 'yoavseg', 'yobeeon', 'yod', 'yoda', 'yoeyfreshi', 'yoga', 'yogadork', 'yoghurt', 'yogurt', 'yomamamamela', 'yoo', 'yooooou', 'yoouuu', 'yop', 'yor', 'york', 'yorker', 'yoself', 'yoshigi', 'you', 'youand', 'youbabi', 'youd', 'youhow', 'youi', 'youim', 'youknowbett', 'youlgreav', 'youll', 'youmi', 'youmiss', 'young', 'youngaq', 'youngdipset', 'younger', 'youngster', 'youquot', 'your', 'youreba', 'yourselfw', 'yourselfwond', 'youscentm', 'youth', 'youtub', 'youtubemark', 'youu', 'youuu', 'youuuu', 'youuuuu', 'youv', 'youx', 'youï', 'yoyoma', 'yr', 'yrold', 'ysl', 'ysnjen', 'ysterda', 'yt', 'yu', 'yud', 'yukki', 'yum', 'yumm', 'yummi', 'yummmminesssssss', 'yummo', 'yummymammi', 'yummyon', 'yumo', 'yunakin', 'yung', 'yungflip', 'yunja', 'yunoo', 'yup', 'yuph', 'yurhigh', 'yuri', 'yurr', 'yuyu', 'yvonn', 'yw', 'z', 'zacetl', 'zachriel', 'zack', 'zackalltimelow', 'zadr', 'zakkbak', 'zakootieso', 'zappyro', 'zara', 'zbender', 'zc', 'zdnx', 'zealand', 'zebra', 'zee', 'zeet', 'zeker', 'zelazelo', 'zelut', 'zengoali', 'zenrhino', 'zergmoney', 'zero', 'zeryck', 'zgso', 'zhzq', 'zi', 'ziggysego', 'zike', 'zillaman', 'zimbabw', 'zinedistro', 'ziphtml', 'zippi', 'zk', 'zo', 'zoe', 'zoecello', 'zogft', 'zombi', 'zombieninja', 'zomg', 'zone', 'zoo', 'zooooooooo', 'zpak', 'zrul', 'zs', 'zta', 'zu', 'zue', 'zukyleigh', 'zune', 'zurich', 'zurplemoon', 'zyber', 'zygoatsalami', 'zz', 'zzap', 'zzz', 'zzzz', 'zzzzzzz', '½', '½ai', '½ainï', '½ar', '½c', '½complet', '½dselsdagquot', '½en', '½haiyaa', '½i', '½ll', '½m', '½n', '½nefï', '½nquot', '½o', '½r', '½re', '½rmï', '½s', '½se', '½stand', '½t', '½tï', '½y', '½ï', 'á', 'â', 'ã', 'ã¼ã', 'ä', 'äƒng', 'å', 'ï', 'ï¾ÿc', 'ï¾ÿf']\n"
     ]
    }
   ],
   "source": [
    "print(cv1.get_feature_names())"
   ]
  },
  {
   "cell_type": "code",
   "execution_count": 14,
   "metadata": {
    "colab": {
     "base_uri": "https://localhost:8080/",
     "height": 392
    },
    "colab_type": "code",
    "id": "DLAc0Fq-6BHm",
    "outputId": "8e1b6240-7e34-4288-f988-8a9d97341c56"
   },
   "outputs": [
    {
     "data": {
      "text/html": [
       "<div>\n",
       "<style scoped>\n",
       "    .dataframe tbody tr th:only-of-type {\n",
       "        vertical-align: middle;\n",
       "    }\n",
       "\n",
       "    .dataframe tbody tr th {\n",
       "        vertical-align: top;\n",
       "    }\n",
       "\n",
       "    .dataframe thead th {\n",
       "        text-align: right;\n",
       "    }\n",
       "</style>\n",
       "<table border=\"1\" class=\"dataframe\">\n",
       "  <thead>\n",
       "    <tr style=\"text-align: right;\">\n",
       "      <th></th>\n",
       "      <th></th>\n",
       "      <th>aaaaag</th>\n",
       "      <th>aaaaahhh</th>\n",
       "      <th>aaaaahhhh</th>\n",
       "      <th>aaaall</th>\n",
       "      <th>aaaand</th>\n",
       "      <th>aaaawwwhey</th>\n",
       "      <th>aaah</th>\n",
       "      <th>aaajaayradd</th>\n",
       "      <th>aaargh</th>\n",
       "      <th>...</th>\n",
       "      <th>á</th>\n",
       "      <th>â</th>\n",
       "      <th>ã</th>\n",
       "      <th>ã¼ã</th>\n",
       "      <th>ä</th>\n",
       "      <th>äƒng</th>\n",
       "      <th>å</th>\n",
       "      <th>ï</th>\n",
       "      <th>ï¾ÿc</th>\n",
       "      <th>ï¾ÿf</th>\n",
       "    </tr>\n",
       "  </thead>\n",
       "  <tbody>\n",
       "    <tr>\n",
       "      <th>0</th>\n",
       "      <td>0</td>\n",
       "      <td>0</td>\n",
       "      <td>0</td>\n",
       "      <td>0</td>\n",
       "      <td>0</td>\n",
       "      <td>0</td>\n",
       "      <td>0</td>\n",
       "      <td>0</td>\n",
       "      <td>0</td>\n",
       "      <td>0</td>\n",
       "      <td>...</td>\n",
       "      <td>0</td>\n",
       "      <td>0</td>\n",
       "      <td>0</td>\n",
       "      <td>0</td>\n",
       "      <td>0</td>\n",
       "      <td>0</td>\n",
       "      <td>0</td>\n",
       "      <td>0</td>\n",
       "      <td>0</td>\n",
       "      <td>0</td>\n",
       "    </tr>\n",
       "    <tr>\n",
       "      <th>1</th>\n",
       "      <td>1</td>\n",
       "      <td>0</td>\n",
       "      <td>0</td>\n",
       "      <td>0</td>\n",
       "      <td>0</td>\n",
       "      <td>0</td>\n",
       "      <td>0</td>\n",
       "      <td>0</td>\n",
       "      <td>0</td>\n",
       "      <td>0</td>\n",
       "      <td>...</td>\n",
       "      <td>0</td>\n",
       "      <td>0</td>\n",
       "      <td>0</td>\n",
       "      <td>0</td>\n",
       "      <td>0</td>\n",
       "      <td>0</td>\n",
       "      <td>0</td>\n",
       "      <td>0</td>\n",
       "      <td>0</td>\n",
       "      <td>0</td>\n",
       "    </tr>\n",
       "    <tr>\n",
       "      <th>2</th>\n",
       "      <td>1</td>\n",
       "      <td>0</td>\n",
       "      <td>0</td>\n",
       "      <td>0</td>\n",
       "      <td>0</td>\n",
       "      <td>0</td>\n",
       "      <td>0</td>\n",
       "      <td>0</td>\n",
       "      <td>0</td>\n",
       "      <td>0</td>\n",
       "      <td>...</td>\n",
       "      <td>0</td>\n",
       "      <td>0</td>\n",
       "      <td>0</td>\n",
       "      <td>0</td>\n",
       "      <td>0</td>\n",
       "      <td>0</td>\n",
       "      <td>0</td>\n",
       "      <td>0</td>\n",
       "      <td>0</td>\n",
       "      <td>0</td>\n",
       "    </tr>\n",
       "    <tr>\n",
       "      <th>3</th>\n",
       "      <td>1</td>\n",
       "      <td>0</td>\n",
       "      <td>0</td>\n",
       "      <td>0</td>\n",
       "      <td>0</td>\n",
       "      <td>0</td>\n",
       "      <td>0</td>\n",
       "      <td>0</td>\n",
       "      <td>0</td>\n",
       "      <td>0</td>\n",
       "      <td>...</td>\n",
       "      <td>0</td>\n",
       "      <td>0</td>\n",
       "      <td>0</td>\n",
       "      <td>0</td>\n",
       "      <td>0</td>\n",
       "      <td>0</td>\n",
       "      <td>0</td>\n",
       "      <td>0</td>\n",
       "      <td>0</td>\n",
       "      <td>0</td>\n",
       "    </tr>\n",
       "    <tr>\n",
       "      <th>4</th>\n",
       "      <td>1</td>\n",
       "      <td>0</td>\n",
       "      <td>0</td>\n",
       "      <td>0</td>\n",
       "      <td>0</td>\n",
       "      <td>0</td>\n",
       "      <td>0</td>\n",
       "      <td>0</td>\n",
       "      <td>0</td>\n",
       "      <td>0</td>\n",
       "      <td>...</td>\n",
       "      <td>0</td>\n",
       "      <td>0</td>\n",
       "      <td>0</td>\n",
       "      <td>0</td>\n",
       "      <td>0</td>\n",
       "      <td>0</td>\n",
       "      <td>0</td>\n",
       "      <td>0</td>\n",
       "      <td>0</td>\n",
       "      <td>0</td>\n",
       "    </tr>\n",
       "    <tr>\n",
       "      <th>5</th>\n",
       "      <td>0</td>\n",
       "      <td>0</td>\n",
       "      <td>0</td>\n",
       "      <td>0</td>\n",
       "      <td>0</td>\n",
       "      <td>0</td>\n",
       "      <td>0</td>\n",
       "      <td>0</td>\n",
       "      <td>0</td>\n",
       "      <td>0</td>\n",
       "      <td>...</td>\n",
       "      <td>0</td>\n",
       "      <td>0</td>\n",
       "      <td>0</td>\n",
       "      <td>0</td>\n",
       "      <td>0</td>\n",
       "      <td>0</td>\n",
       "      <td>0</td>\n",
       "      <td>0</td>\n",
       "      <td>0</td>\n",
       "      <td>0</td>\n",
       "    </tr>\n",
       "    <tr>\n",
       "      <th>6</th>\n",
       "      <td>1</td>\n",
       "      <td>0</td>\n",
       "      <td>0</td>\n",
       "      <td>0</td>\n",
       "      <td>0</td>\n",
       "      <td>0</td>\n",
       "      <td>0</td>\n",
       "      <td>0</td>\n",
       "      <td>0</td>\n",
       "      <td>0</td>\n",
       "      <td>...</td>\n",
       "      <td>0</td>\n",
       "      <td>0</td>\n",
       "      <td>0</td>\n",
       "      <td>0</td>\n",
       "      <td>0</td>\n",
       "      <td>0</td>\n",
       "      <td>0</td>\n",
       "      <td>0</td>\n",
       "      <td>0</td>\n",
       "      <td>0</td>\n",
       "    </tr>\n",
       "    <tr>\n",
       "      <th>7</th>\n",
       "      <td>1</td>\n",
       "      <td>0</td>\n",
       "      <td>0</td>\n",
       "      <td>0</td>\n",
       "      <td>0</td>\n",
       "      <td>0</td>\n",
       "      <td>0</td>\n",
       "      <td>0</td>\n",
       "      <td>0</td>\n",
       "      <td>0</td>\n",
       "      <td>...</td>\n",
       "      <td>0</td>\n",
       "      <td>0</td>\n",
       "      <td>0</td>\n",
       "      <td>0</td>\n",
       "      <td>0</td>\n",
       "      <td>0</td>\n",
       "      <td>0</td>\n",
       "      <td>0</td>\n",
       "      <td>0</td>\n",
       "      <td>0</td>\n",
       "    </tr>\n",
       "    <tr>\n",
       "      <th>8</th>\n",
       "      <td>0</td>\n",
       "      <td>0</td>\n",
       "      <td>0</td>\n",
       "      <td>0</td>\n",
       "      <td>0</td>\n",
       "      <td>0</td>\n",
       "      <td>0</td>\n",
       "      <td>0</td>\n",
       "      <td>0</td>\n",
       "      <td>0</td>\n",
       "      <td>...</td>\n",
       "      <td>0</td>\n",
       "      <td>0</td>\n",
       "      <td>0</td>\n",
       "      <td>0</td>\n",
       "      <td>0</td>\n",
       "      <td>0</td>\n",
       "      <td>0</td>\n",
       "      <td>0</td>\n",
       "      <td>0</td>\n",
       "      <td>0</td>\n",
       "    </tr>\n",
       "    <tr>\n",
       "      <th>9</th>\n",
       "      <td>1</td>\n",
       "      <td>0</td>\n",
       "      <td>0</td>\n",
       "      <td>0</td>\n",
       "      <td>0</td>\n",
       "      <td>0</td>\n",
       "      <td>0</td>\n",
       "      <td>0</td>\n",
       "      <td>0</td>\n",
       "      <td>0</td>\n",
       "      <td>...</td>\n",
       "      <td>0</td>\n",
       "      <td>0</td>\n",
       "      <td>0</td>\n",
       "      <td>0</td>\n",
       "      <td>0</td>\n",
       "      <td>0</td>\n",
       "      <td>0</td>\n",
       "      <td>0</td>\n",
       "      <td>0</td>\n",
       "      <td>0</td>\n",
       "    </tr>\n",
       "  </tbody>\n",
       "</table>\n",
       "<p>10 rows × 15989 columns</p>\n",
       "</div>"
      ],
      "text/plain": [
       "      aaaaag  aaaaahhh  aaaaahhhh  aaaall  aaaand  aaaawwwhey  aaah  \\\n",
       "0  0       0         0          0       0       0           0     0   \n",
       "1  1       0         0          0       0       0           0     0   \n",
       "2  1       0         0          0       0       0           0     0   \n",
       "3  1       0         0          0       0       0           0     0   \n",
       "4  1       0         0          0       0       0           0     0   \n",
       "5  0       0         0          0       0       0           0     0   \n",
       "6  1       0         0          0       0       0           0     0   \n",
       "7  1       0         0          0       0       0           0     0   \n",
       "8  0       0         0          0       0       0           0     0   \n",
       "9  1       0         0          0       0       0           0     0   \n",
       "\n",
       "   aaajaayradd  aaargh  ...  á  â  ã  ã¼ã  ä  äƒng  å  ï  ï¾ÿc  ï¾ÿf  \n",
       "0            0       0  ...  0  0  0    0  0     0  0  0     0     0  \n",
       "1            0       0  ...  0  0  0    0  0     0  0  0     0     0  \n",
       "2            0       0  ...  0  0  0    0  0     0  0  0     0     0  \n",
       "3            0       0  ...  0  0  0    0  0     0  0  0     0     0  \n",
       "4            0       0  ...  0  0  0    0  0     0  0  0     0     0  \n",
       "5            0       0  ...  0  0  0    0  0     0  0  0     0     0  \n",
       "6            0       0  ...  0  0  0    0  0     0  0  0     0     0  \n",
       "7            0       0  ...  0  0  0    0  0     0  0  0     0     0  \n",
       "8            0       0  ...  0  0  0    0  0     0  0  0     0     0  \n",
       "9            0       0  ...  0  0  0    0  0     0  0  0     0     0  \n",
       "\n",
       "[10 rows x 15989 columns]"
      ]
     },
     "execution_count": 14,
     "metadata": {},
     "output_type": "execute_result"
    }
   ],
   "source": [
    "df2 = pd.DataFrame(X.toarray(), columns = cv1.get_feature_names())\n",
    "df2.head(10)"
   ]
  },
  {
   "cell_type": "code",
   "execution_count": 15,
   "metadata": {
    "colab": {
     "base_uri": "https://localhost:8080/",
     "height": 422
    },
    "colab_type": "code",
    "id": "EAhrskB46BEl",
    "outputId": "8cd30715-5bd1-4324-d4bf-597a8191c1f9"
   },
   "outputs": [
    {
     "data": {
      "text/html": [
       "<div>\n",
       "<style scoped>\n",
       "    .dataframe tbody tr th:only-of-type {\n",
       "        vertical-align: middle;\n",
       "    }\n",
       "\n",
       "    .dataframe tbody tr th {\n",
       "        vertical-align: top;\n",
       "    }\n",
       "\n",
       "    .dataframe thead th {\n",
       "        text-align: right;\n",
       "    }\n",
       "</style>\n",
       "<table border=\"1\" class=\"dataframe\">\n",
       "  <thead>\n",
       "    <tr style=\"text-align: right;\">\n",
       "      <th></th>\n",
       "      <th></th>\n",
       "      <th>aaaaag</th>\n",
       "      <th>aaaaahhh</th>\n",
       "      <th>aaaaahhhh</th>\n",
       "      <th>aaaall</th>\n",
       "      <th>aaaand</th>\n",
       "      <th>aaaawwwhey</th>\n",
       "      <th>aaah</th>\n",
       "      <th>aaajaayradd</th>\n",
       "      <th>aaargh</th>\n",
       "      <th>...</th>\n",
       "      <th>â</th>\n",
       "      <th>ã</th>\n",
       "      <th>ã¼ã</th>\n",
       "      <th>ä</th>\n",
       "      <th>äƒng</th>\n",
       "      <th>å</th>\n",
       "      <th>ï</th>\n",
       "      <th>ï¾ÿc</th>\n",
       "      <th>ï¾ÿf</th>\n",
       "      <th>label</th>\n",
       "    </tr>\n",
       "  </thead>\n",
       "  <tbody>\n",
       "    <tr>\n",
       "      <th>0</th>\n",
       "      <td>0</td>\n",
       "      <td>0</td>\n",
       "      <td>0</td>\n",
       "      <td>0</td>\n",
       "      <td>0</td>\n",
       "      <td>0</td>\n",
       "      <td>0</td>\n",
       "      <td>0</td>\n",
       "      <td>0</td>\n",
       "      <td>0</td>\n",
       "      <td>...</td>\n",
       "      <td>0</td>\n",
       "      <td>0</td>\n",
       "      <td>0</td>\n",
       "      <td>0</td>\n",
       "      <td>0</td>\n",
       "      <td>0</td>\n",
       "      <td>0</td>\n",
       "      <td>0</td>\n",
       "      <td>0</td>\n",
       "      <td>0</td>\n",
       "    </tr>\n",
       "    <tr>\n",
       "      <th>1</th>\n",
       "      <td>1</td>\n",
       "      <td>0</td>\n",
       "      <td>0</td>\n",
       "      <td>0</td>\n",
       "      <td>0</td>\n",
       "      <td>0</td>\n",
       "      <td>0</td>\n",
       "      <td>0</td>\n",
       "      <td>0</td>\n",
       "      <td>0</td>\n",
       "      <td>...</td>\n",
       "      <td>0</td>\n",
       "      <td>0</td>\n",
       "      <td>0</td>\n",
       "      <td>0</td>\n",
       "      <td>0</td>\n",
       "      <td>0</td>\n",
       "      <td>0</td>\n",
       "      <td>0</td>\n",
       "      <td>0</td>\n",
       "      <td>0</td>\n",
       "    </tr>\n",
       "    <tr>\n",
       "      <th>2</th>\n",
       "      <td>1</td>\n",
       "      <td>0</td>\n",
       "      <td>0</td>\n",
       "      <td>0</td>\n",
       "      <td>0</td>\n",
       "      <td>0</td>\n",
       "      <td>0</td>\n",
       "      <td>0</td>\n",
       "      <td>0</td>\n",
       "      <td>0</td>\n",
       "      <td>...</td>\n",
       "      <td>0</td>\n",
       "      <td>0</td>\n",
       "      <td>0</td>\n",
       "      <td>0</td>\n",
       "      <td>0</td>\n",
       "      <td>0</td>\n",
       "      <td>0</td>\n",
       "      <td>0</td>\n",
       "      <td>0</td>\n",
       "      <td>0</td>\n",
       "    </tr>\n",
       "    <tr>\n",
       "      <th>3</th>\n",
       "      <td>1</td>\n",
       "      <td>0</td>\n",
       "      <td>0</td>\n",
       "      <td>0</td>\n",
       "      <td>0</td>\n",
       "      <td>0</td>\n",
       "      <td>0</td>\n",
       "      <td>0</td>\n",
       "      <td>0</td>\n",
       "      <td>0</td>\n",
       "      <td>...</td>\n",
       "      <td>0</td>\n",
       "      <td>0</td>\n",
       "      <td>0</td>\n",
       "      <td>0</td>\n",
       "      <td>0</td>\n",
       "      <td>0</td>\n",
       "      <td>0</td>\n",
       "      <td>0</td>\n",
       "      <td>0</td>\n",
       "      <td>0</td>\n",
       "    </tr>\n",
       "    <tr>\n",
       "      <th>4</th>\n",
       "      <td>1</td>\n",
       "      <td>0</td>\n",
       "      <td>0</td>\n",
       "      <td>0</td>\n",
       "      <td>0</td>\n",
       "      <td>0</td>\n",
       "      <td>0</td>\n",
       "      <td>0</td>\n",
       "      <td>0</td>\n",
       "      <td>0</td>\n",
       "      <td>...</td>\n",
       "      <td>0</td>\n",
       "      <td>0</td>\n",
       "      <td>0</td>\n",
       "      <td>0</td>\n",
       "      <td>0</td>\n",
       "      <td>0</td>\n",
       "      <td>0</td>\n",
       "      <td>0</td>\n",
       "      <td>0</td>\n",
       "      <td>0</td>\n",
       "    </tr>\n",
       "    <tr>\n",
       "      <th>...</th>\n",
       "      <td>...</td>\n",
       "      <td>...</td>\n",
       "      <td>...</td>\n",
       "      <td>...</td>\n",
       "      <td>...</td>\n",
       "      <td>...</td>\n",
       "      <td>...</td>\n",
       "      <td>...</td>\n",
       "      <td>...</td>\n",
       "      <td>...</td>\n",
       "      <td>...</td>\n",
       "      <td>...</td>\n",
       "      <td>...</td>\n",
       "      <td>...</td>\n",
       "      <td>...</td>\n",
       "      <td>...</td>\n",
       "      <td>...</td>\n",
       "      <td>...</td>\n",
       "      <td>...</td>\n",
       "      <td>...</td>\n",
       "      <td>...</td>\n",
       "    </tr>\n",
       "    <tr>\n",
       "      <th>9995</th>\n",
       "      <td>1</td>\n",
       "      <td>0</td>\n",
       "      <td>0</td>\n",
       "      <td>0</td>\n",
       "      <td>0</td>\n",
       "      <td>0</td>\n",
       "      <td>0</td>\n",
       "      <td>0</td>\n",
       "      <td>0</td>\n",
       "      <td>0</td>\n",
       "      <td>...</td>\n",
       "      <td>0</td>\n",
       "      <td>0</td>\n",
       "      <td>0</td>\n",
       "      <td>0</td>\n",
       "      <td>0</td>\n",
       "      <td>0</td>\n",
       "      <td>0</td>\n",
       "      <td>0</td>\n",
       "      <td>0</td>\n",
       "      <td>1</td>\n",
       "    </tr>\n",
       "    <tr>\n",
       "      <th>9996</th>\n",
       "      <td>1</td>\n",
       "      <td>0</td>\n",
       "      <td>0</td>\n",
       "      <td>0</td>\n",
       "      <td>0</td>\n",
       "      <td>0</td>\n",
       "      <td>0</td>\n",
       "      <td>0</td>\n",
       "      <td>0</td>\n",
       "      <td>0</td>\n",
       "      <td>...</td>\n",
       "      <td>0</td>\n",
       "      <td>0</td>\n",
       "      <td>0</td>\n",
       "      <td>0</td>\n",
       "      <td>0</td>\n",
       "      <td>0</td>\n",
       "      <td>0</td>\n",
       "      <td>0</td>\n",
       "      <td>0</td>\n",
       "      <td>1</td>\n",
       "    </tr>\n",
       "    <tr>\n",
       "      <th>9997</th>\n",
       "      <td>1</td>\n",
       "      <td>0</td>\n",
       "      <td>0</td>\n",
       "      <td>0</td>\n",
       "      <td>0</td>\n",
       "      <td>0</td>\n",
       "      <td>0</td>\n",
       "      <td>0</td>\n",
       "      <td>0</td>\n",
       "      <td>0</td>\n",
       "      <td>...</td>\n",
       "      <td>0</td>\n",
       "      <td>0</td>\n",
       "      <td>0</td>\n",
       "      <td>0</td>\n",
       "      <td>0</td>\n",
       "      <td>0</td>\n",
       "      <td>0</td>\n",
       "      <td>0</td>\n",
       "      <td>0</td>\n",
       "      <td>1</td>\n",
       "    </tr>\n",
       "    <tr>\n",
       "      <th>9998</th>\n",
       "      <td>1</td>\n",
       "      <td>0</td>\n",
       "      <td>0</td>\n",
       "      <td>0</td>\n",
       "      <td>0</td>\n",
       "      <td>0</td>\n",
       "      <td>0</td>\n",
       "      <td>0</td>\n",
       "      <td>0</td>\n",
       "      <td>0</td>\n",
       "      <td>...</td>\n",
       "      <td>0</td>\n",
       "      <td>0</td>\n",
       "      <td>0</td>\n",
       "      <td>0</td>\n",
       "      <td>0</td>\n",
       "      <td>0</td>\n",
       "      <td>0</td>\n",
       "      <td>0</td>\n",
       "      <td>0</td>\n",
       "      <td>1</td>\n",
       "    </tr>\n",
       "    <tr>\n",
       "      <th>9999</th>\n",
       "      <td>1</td>\n",
       "      <td>0</td>\n",
       "      <td>0</td>\n",
       "      <td>0</td>\n",
       "      <td>0</td>\n",
       "      <td>0</td>\n",
       "      <td>0</td>\n",
       "      <td>0</td>\n",
       "      <td>0</td>\n",
       "      <td>0</td>\n",
       "      <td>...</td>\n",
       "      <td>0</td>\n",
       "      <td>0</td>\n",
       "      <td>0</td>\n",
       "      <td>0</td>\n",
       "      <td>0</td>\n",
       "      <td>0</td>\n",
       "      <td>0</td>\n",
       "      <td>0</td>\n",
       "      <td>0</td>\n",
       "      <td>1</td>\n",
       "    </tr>\n",
       "  </tbody>\n",
       "</table>\n",
       "<p>10000 rows × 15990 columns</p>\n",
       "</div>"
      ],
      "text/plain": [
       "         aaaaag  aaaaahhh  aaaaahhhh  aaaall  aaaand  aaaawwwhey  aaah  \\\n",
       "0     0       0         0          0       0       0           0     0   \n",
       "1     1       0         0          0       0       0           0     0   \n",
       "2     1       0         0          0       0       0           0     0   \n",
       "3     1       0         0          0       0       0           0     0   \n",
       "4     1       0         0          0       0       0           0     0   \n",
       "...  ..     ...       ...        ...     ...     ...         ...   ...   \n",
       "9995  1       0         0          0       0       0           0     0   \n",
       "9996  1       0         0          0       0       0           0     0   \n",
       "9997  1       0         0          0       0       0           0     0   \n",
       "9998  1       0         0          0       0       0           0     0   \n",
       "9999  1       0         0          0       0       0           0     0   \n",
       "\n",
       "      aaajaayradd  aaargh  ...  â  ã  ã¼ã  ä  äƒng  å  ï  ï¾ÿc  ï¾ÿf  label  \n",
       "0               0       0  ...  0  0    0  0     0  0  0     0     0      0  \n",
       "1               0       0  ...  0  0    0  0     0  0  0     0     0      0  \n",
       "2               0       0  ...  0  0    0  0     0  0  0     0     0      0  \n",
       "3               0       0  ...  0  0    0  0     0  0  0     0     0      0  \n",
       "4               0       0  ...  0  0    0  0     0  0  0     0     0      0  \n",
       "...           ...     ...  ... .. ..  ... ..   ... .. ..   ...   ...    ...  \n",
       "9995            0       0  ...  0  0    0  0     0  0  0     0     0      1  \n",
       "9996            0       0  ...  0  0    0  0     0  0  0     0     0      1  \n",
       "9997            0       0  ...  0  0    0  0     0  0  0     0     0      1  \n",
       "9998            0       0  ...  0  0    0  0     0  0  0     0     0      1  \n",
       "9999            0       0  ...  0  0    0  0     0  0  0     0     0      1  \n",
       "\n",
       "[10000 rows x 15990 columns]"
      ]
     },
     "execution_count": 15,
     "metadata": {},
     "output_type": "execute_result"
    }
   ],
   "source": [
    "df2['label'] = tweets_less['label'].values\n",
    "df2"
   ]
  },
  {
   "cell_type": "code",
   "execution_count": 16,
   "metadata": {
    "colab": {},
    "colab_type": "code",
    "id": "xkCuz9XD6EL2"
   },
   "outputs": [],
   "source": [
    "#Libraries installing\n",
    "from sklearn.linear_model import LogisticRegression\n",
    "from sklearn.model_selection import train_test_split\n",
    "from sklearn.metrics import confusion_matrix"
   ]
  },
  {
   "cell_type": "markdown",
   "metadata": {},
   "source": [
    "# Dividing into training and testing sets"
   ]
  },
  {
   "cell_type": "code",
   "execution_count": 17,
   "metadata": {
    "colab": {
     "base_uri": "https://localhost:8080/",
     "height": 34
    },
    "colab_type": "code",
    "id": "pBdQj7Vv6EH0",
    "outputId": "b4278c68-8d25-45c7-9cec-e5fad4652e2e"
   },
   "outputs": [
    {
     "data": {
      "text/plain": [
       "(10000, 15989)"
      ]
     },
     "execution_count": 17,
     "metadata": {},
     "output_type": "execute_result"
    }
   ],
   "source": [
    "X = pd.DataFrame(df2.iloc[:,1:])\n",
    "y = pd.DataFrame(df2.iloc[:,0])\n",
    "X.shape"
   ]
  },
  {
   "cell_type": "code",
   "execution_count": 18,
   "metadata": {
    "colab": {
     "base_uri": "https://localhost:8080/",
     "height": 34
    },
    "colab_type": "code",
    "id": "yAr2FMaz6EFO",
    "outputId": "dccba1ee-d24b-48d3-c1c2-cd43c9f1be8a"
   },
   "outputs": [
    {
     "data": {
      "text/plain": [
       "(10000, 1)"
      ]
     },
     "execution_count": 18,
     "metadata": {},
     "output_type": "execute_result"
    }
   ],
   "source": [
    "y.shape"
   ]
  },
  {
   "cell_type": "code",
   "execution_count": 19,
   "metadata": {
    "colab": {
     "base_uri": "https://localhost:8080/",
     "height": 67
    },
    "colab_type": "code",
    "id": "BPzaGCmu6EBf",
    "outputId": "4a6d6af3-3976-4eab-bc2b-fe5350684077"
   },
   "outputs": [
    {
     "data": {
      "text/plain": [
       "1    5001\n",
       "0    4999\n",
       "Name: label, dtype: int64"
      ]
     },
     "execution_count": 19,
     "metadata": {},
     "output_type": "execute_result"
    }
   ],
   "source": [
    "df2['label'].value_counts()"
   ]
  },
  {
   "cell_type": "code",
   "execution_count": 20,
   "metadata": {
    "colab": {
     "base_uri": "https://localhost:8080/",
     "height": 235
    },
    "colab_type": "code",
    "id": "vIjXtK8R6D99",
    "outputId": "96ac818a-d856-4fc2-cce4-b7eeeab57c02"
   },
   "outputs": [
    {
     "name": "stderr",
     "output_type": "stream",
     "text": [
      "c:\\users\\nikhil jain\\appdata\\local\\programs\\python\\python37\\lib\\site-packages\\sklearn\\linear_model\\_logistic.py:764: ConvergenceWarning: lbfgs failed to converge (status=1):\n",
      "STOP: TOTAL NO. of ITERATIONS REACHED LIMIT.\n",
      "\n",
      "Increase the number of iterations (max_iter) or scale the data as shown in:\n",
      "    https://scikit-learn.org/stable/modules/preprocessing.html\n",
      "Please also refer to the documentation for alternative solver options:\n",
      "    https://scikit-learn.org/stable/modules/linear_model.html#logistic-regression\n",
      "  extra_warning_msg=_LOGISTIC_SOLVER_CONVERGENCE_MSG)\n"
     ]
    },
    {
     "data": {
      "text/plain": [
       "LogisticRegression()"
      ]
     },
     "execution_count": 20,
     "metadata": {},
     "output_type": "execute_result"
    }
   ],
   "source": [
    "#spliting into train and test data\n",
    "X_train, X_test, y_train, y_test = train_test_split(X, y, test_size = 0.2, random_state = 1)\n",
    "#random state is used when data is collected form different sources, so trainin and testing will be randomly chosen\n",
    "#also, you can give any number to randm state, to make sure, the data taken is same eveytime, we took 1\n",
    "model2 = LogisticRegression()\n",
    "model2.fit(X_train, y_train.values.ravel())"
   ]
  },
  {
   "cell_type": "markdown",
   "metadata": {},
   "source": [
    "# Logistic Regression"
   ]
  },
  {
   "cell_type": "code",
   "execution_count": 21,
   "metadata": {
    "colab": {
     "base_uri": "https://localhost:8080/",
     "height": 50
    },
    "colab_type": "code",
    "id": "dbQSLY4k6D6x",
    "outputId": "4117b96c-6f00-424e-b654-adeec8b2f226"
   },
   "outputs": [
    {
     "name": "stdout",
     "output_type": "stream",
     "text": [
      "Train Accuracy is 0.950625\n",
      "Test Accuracy is 0.763\n"
     ]
    }
   ],
   "source": [
    "print(\"Train Accuracy is\", model2.score(X_train, y_train))\n",
    "print(\"Test Accuracy is\", model2.score(X_test, y_test))"
   ]
  },
  {
   "cell_type": "markdown",
   "metadata": {},
   "source": [
    "# Multinomial NB"
   ]
  },
  {
   "cell_type": "code",
   "execution_count": 37,
   "metadata": {
    "colab": {
     "base_uri": "https://localhost:8080/",
     "height": 50
    },
    "colab_type": "code",
    "id": "ZJ1tW9-j6D3M",
    "outputId": "50909810-cd96-4c9a-cb83-842fc57e8ab2"
   },
   "outputs": [
    {
     "name": "stdout",
     "output_type": "stream",
     "text": [
      "Train Accuracy is 0.93325\n",
      "Test Accuracy is 0.7595\n"
     ]
    }
   ],
   "source": [
    "from sklearn.naive_bayes import MultinomialNB\n",
    "nb = MultinomialNB()\n",
    "nb.fit(X_train, y_train.values.ravel())\n",
    "print(\"Train Accuracy is\", nb.score(X_train, y_train))\n",
    "print(\"Test Accuracy is\", nb.score(X_test, y_test))"
   ]
  },
  {
   "cell_type": "markdown",
   "metadata": {},
   "source": [
    "# Random Forest"
   ]
  },
  {
   "cell_type": "code",
   "execution_count": 38,
   "metadata": {
    "colab": {
     "base_uri": "https://localhost:8080/",
     "height": 50
    },
    "colab_type": "code",
    "id": "ebsXO7zt6Dzv",
    "outputId": "0eee497d-b5e7-454f-847b-2b8c90b52b0e"
   },
   "outputs": [
    {
     "name": "stdout",
     "output_type": "stream",
     "text": [
      "Train Accuracy is 0.99975\n",
      "Test Accuracy is 0.728\n"
     ]
    }
   ],
   "source": [
    "#https://stackoverflow.com/questions/34165731/a-column-vector-y-was-passed-when-a-1d-array-was-expected\n",
    "from sklearn.ensemble import RandomForestClassifier\n",
    "rf = RandomForestClassifier()\n",
    "rf.fit(X_train, y_train.values.ravel())\n",
    "print(\"Train Accuracy is\", rf.score(X_train, y_train))\n",
    "print(\"Test Accuracy is\", rf.score(X_test, y_test))"
   ]
  },
  {
   "cell_type": "code",
   "execution_count": 39,
   "metadata": {
    "colab": {
     "base_uri": "https://localhost:8080/",
     "height": 34
    },
    "colab_type": "code",
    "id": "rQ0gbEFm6Dwh",
    "outputId": "e4a79ef5-cff6-420f-96a6-42094ea1c989"
   },
   "outputs": [
    {
     "name": "stdout",
     "output_type": "stream",
     "text": [
      "(10000, 15989)\n"
     ]
    }
   ],
   "source": [
    "tfidf = TfidfVectorizer(analyzer = clean_text)\n",
    "\n",
    "P = tfidf.fit_transform(tweets_less['tweet'])\n",
    "print(P.shape) "
   ]
  },
  {
   "cell_type": "code",
   "execution_count": 40,
   "metadata": {
    "colab": {
     "base_uri": "https://localhost:8080/",
     "height": 54
    },
    "colab_type": "code",
    "id": "R1rNzr0Q6Dtl",
    "outputId": "7394e404-d707-4ff2-f142-dcf8e0c667cf"
   },
   "outputs": [
    {
     "name": "stdout",
     "output_type": "stream",
     "text": [
      "['', 'aaaaag', 'aaaaahhh', 'aaaaahhhh', 'aaaall', 'aaaand', 'aaaawwwhey', 'aaah', 'aaajaayradd', 'aaargh', 'aaarrrrgghhhh', 'aaaww', 'aaawwww', 'aad', 'aahoogendoorn', 'aaminahh', 'aampj', 'aargh', 'aaronfilmmak', 'aaronmiciah', 'aaronshal', 'aaru', 'abacab', 'abay', 'abbi', 'abbyjeann', 'abc', 'abcdefglyni', 'abcess', 'abdomen', 'abegrub', 'aber', 'aberdeenfc', 'aberystwythart', 'abhisheknagar', 'abhishektiwari', 'abhishekupadhya', 'abi', 'abigail', 'abigaillovesy', 'abik', 'abil', 'abipip', 'abisignorelli', 'abit', 'abl', 'ablt', 'abolish', 'aboogi', 'abroad', 'absolut', 'absolutley', 'absorb', 'abt', 'abus', 'ac', 'acabo', 'academi', 'accent', 'accept', 'access', 'accessquot', 'accid', 'accident', 'accom', 'accomod', 'accompani', 'accomplish', 'accord', 'account', 'accountlook', 'accross', 'accshan', 'acct', 'accur', 'accus', 'ace', 'acebowman', 'ach', 'achaha', 'achen', 'achetã', 'achiev', 'achievin', 'achil', 'achm', 'ack', 'ackin', 'acknowledg', 'acland', 'acm', 'acmast', 'acowboyswif', 'across', 'acsam', 'act', 'action', 'actionscriptxml', 'activ', 'activist', 'actor', 'actress', 'actual', 'actuali', 'acupunctur', 'ad', 'adalinelangton', 'adalinemus', 'adam', 'adambuxton', 'adamcsmith', 'adamdext', 'adamdscott', 'adamjackson', 'adamlawlz', 'adammshankman', 'adamrburton', 'adamrothwel', 'adamspiel', 'adapaavi', 'adapt', 'aday', 'add', 'addi', 'addict', 'addit', 'additon', 'addl', 'address', 'addthi', 'addx', 'adel', 'adelaideh', 'adelin', 'adelineski', 'adenik', 'adhochazel', 'adik', 'adisson', 'adium', 'adjust', 'adm', 'admetcetera', 'admin', 'administr', 'admir', 'admiss', 'admit', 'adnam', 'adob', 'adolesc', 'ador', 'adoracion', 'adotmdot', 'adrianaacosta', 'adrianalemu', 'adrianna', 'adricorn', 'adrielhampton', 'adriman', 'adriyah', 'adtech', 'adult', 'adulthood', 'advanc', 'advantag', 'adventur', 'advert', 'advertis', 'advic', 'adword', 'ae', 'aesthet', 'af', 'afallendevil', 'afar', 'affect', 'affirm', 'afford', 'afghanartistri', 'afl', 'afraid', 'african', 'afterallfor', 'aftermidnightproject', 'afternoon', 'afterparti', 'afterward', 'aftr', 'againn', 'againnyaha', 'againright', 'againso', 'againstil', 'againwhilst', 'againwith', 'againï', 'age', 'agen', 'agenc', 'agentbooth', 'agentofchang', 'agghhhh', 'aggress', 'agil', 'ago', 'agomi', 'agre', 'agreefallout', 'agreemad', 'agress', 'agua', 'ah', 'aha', 'ahah', 'ahaha', 'ahahagood', 'ahahah', 'ahahaha', 'ahahhaha', 'ahan', 'ahanoth', 'ahead', 'aheartofstar', 'ahem', 'ahern', 'ahh', 'ahha', 'ahhaahhaha', 'ahhah', 'ahhcolleg', 'ahhh', 'ahhhh', 'ahhhhh', 'ahhhhhhhhhhhhh', 'ahhhsign', 'ahhsudden', 'ahi', 'ahm', 'ahnoth', 'ahupuaa', 'ai', 'aid', 'aiden', 'aidenchan', 'aiduong', 'aiesec', 'aig', 'aight', 'aikabel', 'aileenabigail', 'aileenburn', 'aim', 'aime', 'aimeenbarn', 'ainaalano', 'aint', 'aintitcoolcom', 'aior', 'aiorselvar', 'aiport', 'air', 'airfiel', 'airlin', 'airnchoo', 'airopium', 'airplan', 'airplanemancf', 'airport', 'airrip', 'airrun', 'aisha', 'aisl', 'aiya', 'aiyanasimon', 'aja', 'ajbomb', 'ajschokora', 'aka', 'akali', 'akelaa', 'akhepcat', 'akimbo', 'akita', 'akmedia', 'akng', 'ako', 'akshatk', 'aktual', 'al', 'ala', 'alabast', 'alam', 'alameda', 'alamia', 'alan', 'alancostello', 'alandistro', 'alannanoel', 'alarm', 'alaska', 'alaskaair', 'albarn', 'albedo', 'albert', 'albertusdima', 'albinla', 'album', 'alcarcalimo', 'alcohol', 'aldoturangan', 'ale', 'aleevz', 'alefragisp', 'alert', 'alex', 'alexa', 'alexand', 'alexandramus', 'alexbroun', 'alexcashcash', 'alexcov', 'alexcraven', 'alexhighton', 'alexiaaa', 'alexmetr', 'alexpuig', 'alextrafford', 'alexx', 'alfi', 'algorithm', 'ali', 'alic', 'alicam', 'alicemainz', 'aliceverheij', 'alicia', 'alien', 'alienwar', 'align', 'alima', 'alioswald', 'aliredd', 'alirght', 'alisonhogarth', 'aliv', 'alivei', 'alivequot', 'alixsay', 'aliza', 'alizasherman', 'alkar', 'all', 'alla', 'allan', 'allanahk', 'allanatrogu', 'allegori', 'allen', 'allenjesson', 'allerg', 'allergi', 'alley', 'alleycat', 'allianc', 'allin', 'alllerg', 'alllll', 'allllll', 'allo', 'alloc', 'allow', 'allowancesheesh', 'allsort', 'allstarsonlin', 'alltooyoung', 'allway', 'allygee', 'almahh', 'almalacubana', 'almost', 'almostmayb', 'almostsurpris', 'alon', 'along', 'alonp', 'alot', 'alpaca', 'alpha', 'alphabetlqu', 'alphabit', 'alr', 'alrdi', 'alread', 'alreadi', 'alright', 'alrighti', 'alrit', 'also', 'alter', 'altern', 'although', 'alton', 'aluminum', 'alvhin', 'alvinkoay', 'alway', 'alweer', 'alwi', 'alyaqasthari', 'alzheimersadd', 'amaaaz', 'amalia', 'amanda', 'amandablum', 'amandadiva', 'amandaenjoy', 'amandahess', 'amandanicol', 'amandayoung', 'amariss', 'amaz', 'amazin', 'amazing', 'amazingg', 'amazinggg', 'amazingli', 'amazon', 'amazondotjon', 'amb', 'amber', 'amberbenson', 'ambercantrel', 'amberlili', 'amberlov', 'ambermunst', 'ambi', 'ambien', 'amedelrivero', 'amelia', 'amen', 'america', 'americah', 'american', 'amerika', 'amerikag', 'amethystfirefli', 'amfinish', 'amgiv', 'ami', 'amidst', 'amielr', 'amiestreet', 'amif', 'amineb', 'amish', 'amitsaha', 'amo', 'amoir', 'among', 'amongst', 'amount', 'amouto', 'amozon', 'amp', 'ampcatalognum', 'amphi', 'ampim', 'ampmak', 'ampmartidlutsdollamplevelyesampmothercatalognum', 'ampmt', 'amptitletwitterfrenzi', 'amritsar', 'amsterdam', 'amus', 'amyg', 'amyknapp', 'amylynnequist', 'amypalko', 'amyshel', 'an', 'ana', 'anahã', 'anal', 'analys', 'analysi', 'anaperiodista', 'anasalido', 'anash', 'anastasia', 'anatomi', 'anbudanbala', 'anchorag', 'anchorwoman', 'andakilsa', 'andami', 'andcalebsay', 'anddog', 'ander', 'andersen', 'anderson', 'anderssaugstrup', 'andhika', 'andi', 'andiismilez', 'andinto', 'andor', 'andrea', 'andreasauwaert', 'andrew', 'andrewcilleytmailcom', 'andrewdev', 'andrewgoodman', 'andrewhansen', 'andrewmey', 'andrewrimm', 'andrewrondeau', 'andrewsbit', 'andrewu', 'android', 'andybumatai', 'andyclemmensen', 'andydavi', 'andymccullough', 'andyvv', 'anefallarm', 'aneh', 'anferney', 'ang', 'anga', 'angel', 'angelalpev', 'angelamaria', 'angelasiracusa', 'angelastyl', 'angelawb', 'angelhugzzzzzzzzzzzz', 'angelicmischief', 'angelina', 'angelitapita', 'angelsmind', 'angelsquot', 'anger', 'angi', 'angiebatgirl', 'angiebert', 'angiekaybe', 'angiem', 'angieruiz', 'angiewrit', 'angilena', 'angri', 'angriiiii', 'angst', 'anguaji', 'anguish', 'angw', 'angwaage', 'anh', 'ani', 'aniita', 'anikaramirez', 'anim', 'animalquot', 'aniqax', 'anith', 'aniversari', 'anjelicaca', 'anjulinz', 'ankeshk', 'anki', 'ankl', 'ann', 'anna', 'annaarco', 'annaasaywhat', 'annabanaboo', 'annabelle', 'annablackabi', 'annara', 'annaraven', 'annasaccon', 'annekaf', 'annepmitchel', 'anneversteeg', 'annex', 'anni', 'annikara', 'anniversari', 'annnd', 'anno', 'announc', 'annoy', 'annoyedsaturdayschool', 'annoyingli', 'anomit', 'anonym', 'anoth', 'anotha', 'anotherjulia', 'anouk', 'anounc', 'anraiki', 'ansa', 'ansaaaudi', 'answer', 'ansya', 'ant', 'antartica', 'anthonycashcash', 'anthonyj', 'anthonymoyl', 'anthonyraneri', 'anti', 'antibiot', 'antibreakag', 'antibulli', 'antipov', 'antisoci', 'antonio', 'antonioj', 'antwoordbiblio', 'anuheajam', 'anwer', 'anxieti', 'anxiou', 'anybodi', 'anyhow', 'anymor', 'anyon', 'anyoneeee', 'anyplac', 'anyth', 'anythin', 'anytim', 'anywat', 'anyway', 'anywayby', 'anywaysss', 'anywher', 'aokiqiao', 'aol', 'aout', 'ap', 'apac', 'apach', 'apapachito', 'apar', 'aparajuli', 'apart', 'apartmentbut', 'apartquot', 'apartï', 'ape', 'apettit', 'apfel', 'api', 'apleaforaaron', 'apollo', 'apolog', 'aporto', 'apothecaryjeri', 'app', 'appalachaintrail', 'appalachian', 'appar', 'appear', 'appet', 'appetit', 'appl', 'applebe', 'appleccsf', 'applejacqu', 'applequot', 'applesauc', 'appli', 'applic', 'appoint', 'apprciat', 'apprecait', 'appreci', 'appreciatedim', 'approach', 'appropri', 'approv', 'approx', 'appt', 'apreezyl', 'april', 'aprildont', 'aprilfmay', 'aprilgod', 'aprilmiss', 'apt', 'aptana', 'aptim', 'apvladimir', 'aquarium', 'aqui', 'arab', 'arabsodmg', 'arataka', 'aravindjos', 'araza', 'architek', 'archuleta', 'arctic', 'ardenkhan', 'area', 'areamalta', 'arena', 'arent', 'arfanchaudhri', 'argh', 'arghhhh', 'argo', 'argu', 'argument', 'arh', 'arhi', 'ari', 'arielbh', 'ariesgirl', 'ariherzog', 'aritzia', 'arizona', 'arjankram', 'ark', 'arlasalcedo', 'arlenecd', 'arm', 'armada', 'armi', 'armin', 'arn', 'aroseofthank', 'around', 'aroundd', 'aroundmi', 'aroundwond', 'arp', 'arrang', 'arreeyi', 'arrest', 'arrgh', 'arriv', 'arrow', 'ars', 'art', 'artemisrex', 'artfir', 'arthimeera', 'articl', 'artist', 'artistictim', 'artistwel', 'artwork', 'artytyp', 'asap', 'asda', 'aseemsood', 'ash', 'ashct', 'ashdi', 'ashh', 'ashi', 'ashleeadam', 'ashley', 'ashleyadriana', 'ashleynk', 'ashleyrusso', 'ashleysay', 'ashnash', 'ashton', 'ashtont', 'ashuchan', 'ashuhbot', 'ashumitt', 'ashvala', 'asia', 'asiago', 'asiam', 'asianpersuazion', 'asid', 'asisharabi', 'ask', 'askar', 'asleeep', 'asleep', 'asleepand', 'asmodian', 'asomm', 'asosnat', 'asp', 'aspaonlin', 'aspect', 'asphyxi', 'aspir', 'ass', 'assant', 'assault', 'asscanc', 'assembl', 'assess', 'asshatteri', 'assign', 'assignmentcelebr', 'assist', 'asss', 'asssss', 'asst', 'assum', 'assur', 'assy', 'astartiel', 'astovidiu', 'astro', 'asu', 'asurana', 'aswel', 'aswinanand', 'atampt', 'ate', 'atebit', 'athen', 'ativan', 'ativey', 'atl', 'atlanta', 'atleast', 'atm', 'atmospher', 'atomickelli', 'atomictiki', 'atr', 'attach', 'attack', 'attempt', 'attempthi', 'attend', 'attent', 'attitud', 'attitude', 'attn', 'attorneyhogan', 'attract', 'attractmod', 'atwood', 'atxggranado', 'au', 'aubrey', 'auction', 'auctionrebel', 'audienc', 'audio', 'audiobooth', 'audit', 'audrey', 'audrina', 'aue', 'auf', 'aughmi', 'august', 'augustineiv', 'augusto', 'augustographi', 'aulia', 'aunt', 'auntcorna', 'aunti', 'aur', 'ausserdem', 'aussi', 'aussieali', 'aussiecyn', 'austin', 'austinmil', 'australia', 'australian', 'austria', 'austrian', 'authent', 'author', 'auto', 'autobot', 'autograph', 'autom', 'automat', 'autumn', 'auxillo', 'ava', 'avaibl', 'avail', 'availablequot', 'avalon', 'avang', 'avatar', 'avenu', 'avenuei', 'averag', 'averydol', 'averygoodyear', 'avi', 'avin', 'avocardo', 'avoid', 'avvi', 'aw', 'awak', 'awakemi', 'awaken', 'awar', 'award', 'away', 'awayand', 'awaybooo', 'awayjust', 'awaymi', 'awayrip', 'awayso', 'awe', 'aweosm', 'awesom', 'awesome', 'awesomelt', 'awesomesauc', 'awesometi', 'awh', 'awhil', 'awkward', 'awman', 'awn', 'awrest', 'awsom', 'aww', 'awwh', 'awwstop', 'awwthat', 'awww', 'awwwh', 'awwwlfarrah', 'awwwthat', 'awwww', 'awwwww', 'awwwwwh', 'awwwwwwwww', 'awwwwwwwwwwwwwwwh', 'axe', 'axel', 'axisport', 'axn', 'aye', 'ayei', 'ayo', 'ayumirollan', 'az', 'azelm', 'azlem', 'azmamakim', 'azuritetalk', 'b', 'ba', 'baaaaack', 'baaaaad', 'baaack', 'baawwnggggg', 'bab', 'baba', 'babbl', 'babe', 'babefranzi', 'babi', 'babiiesss', 'babiii', 'babsya', 'babybandit', 'babycak', 'babycakessss', 'babyfeet', 'babygirl', 'babyknightowl', 'babyloiysta', 'babylon', 'babylov', 'babymakinmachin', 'babyminaa', 'babysit', 'babysitterdirec', 'babythebear', 'babyxxxxx', 'bac', 'back', 'backbut', 'backend', 'background', 'backi', 'backneck', 'backpack', 'backstreet', 'backup', 'backward', 'backyard', 'bacn', 'bacon', 'bacteri', 'bacteria', 'bad', 'badanoth', 'badass', 'badd', 'badddd', 'badg', 'badheh', 'badi', 'badli', 'badminton', 'badmonkeh', 'badneg', 'bag', 'bagay', 'bagel', 'baghhh', 'bagl', 'bagsak', 'bah', 'baha', 'bahama', 'bahnight', 'bait', 'bak', 'bake', 'baker', 'bakergirl', 'bakeri', 'bakula', 'bal', 'balanc', 'balconi', 'bale', 'balik', 'ball', 'ballookey', 'balmainbel', 'baltacha', 'bam', 'bambam', 'bamboo', 'bambulkask', 'bampb', 'bampw', 'ban', 'banana', 'bananatoffe', 'bananza', 'band', 'bandag', 'bandaid', 'bandquot', 'bandung', 'bandwagon', 'bandwidth', 'bang', 'bangalor', 'banggggg', 'banj', 'banjbillion', 'banjo', 'bank', 'banner', 'banosne', 'bansal', 'baphomet', 'bar', 'baradrss', 'barbara', 'barbecu', 'barbi', 'barcelona', 'barcod', 'bare', 'barefoot', 'bargain', 'baristaalmost', 'bark', 'barnoah', 'barri', 'barrymor', 'bart', 'bartledoo', 'baru', 'base', 'basebal', 'basement', 'bash', 'basi', 'basibanget', 'basic', 'basij', 'basketbal', 'bass', 'bastard', 'bat', 'bata', 'bataan', 'batch', 'bath', 'bathbad', 'bathroom', 'bathtub', 'batt', 'batter', 'batteri', 'battl', 'battlefield', 'baumarkt', 'bawl', 'bay', 'bazaar', 'bazbiz', 'bb', 'bball', 'bbbboooorrrriiinnnggg', 'bbc', 'bberri', 'bbi', 'bbkwieen', 'bbm', 'bbq', 'bbqnyc', 'bbyboyyyi', 'bbz', 'bc', 'bcbournemouth', 'bcoz', 'bcum', 'bcuz', 'bd', 'bday', 'bdebow', 'bdiako', 'bea', 'beach', 'beachbar', 'beachitup', 'beacon', 'bead', 'beadiejay', 'beagl', 'bean', 'beani', 'beanxcor', 'bear', 'beard', 'beast', 'beastoftra', 'beat', 'beaten', 'beatl', 'beauti', 'beautiful', 'beautifulpyr', 'beautygirl', 'beaver', 'bebe', 'bebo', 'bebop', 'bec', 'becam', 'becauseth', 'becca', 'bech', 'becher', 'beckett', 'becki', 'beckinsal', 'beckyg', 'beckyhoward', 'beckymedsg', 'becom', 'becomin', 'becuas', 'becuz', 'bed', 'bedbound', 'bedbug', 'bedbut', 'bedcouldnt', 'bedhav', 'bedresttri', 'bedroom', 'bedso', 'bedtim', 'bee', 'beeb', 'beeeeeeeyatch', 'beefquot', 'beejiv', 'beejiveim', 'beer', 'beerwar', 'beet', 'beezi', 'beforehand', 'beforeit', 'beforemiss', 'beg', 'began', 'beggin', 'begin', 'begun', 'behav', 'behind', 'bei', 'beij', 'beijingboyc', 'bein', 'beingmov', 'bejithebear', 'bekuz', 'beleiv', 'belfast', 'belgium', 'beliav', 'belief', 'believ', 'believequot', 'bell', 'bella', 'bellabkni', 'bellaitalia', 'bellatoscana', 'belledam', 'bellevu', 'belli', 'belliestobabi', 'bellovski', 'belong', 'belov', 'belt', 'belum', 'bemyzombiehero', 'ben', 'bench', 'bencounsel', 'bend', 'benefit', 'bengrubb', 'benhafn', 'benhamin', 'benjamincook', 'benjaminelli', 'benlimphoto', 'benmay', 'bennygreenberg', 'benpopp', 'benton', 'benwel', 'beogradoholik', 'bequot', 'bergen', 'berianre', 'berinkinsman', 'berkeley', 'berlin', 'bernank', 'berner', 'bernmorley', 'berocca', 'berofx', 'berri', 'berrygurl', 'besid', 'best', 'besterz', 'besterzz', 'bestftiend', 'besti', 'bestsmel', 'bet', 'beta', 'betaquot', 'beter', 'betexpop', 'beth', 'bethfishread', 'betht', 'bethybond', 'betray', 'better', 'betterand', 'betti', 'bettieboudoir', 'bettwen', 'betzital', 'beuati', 'bevinkathryn', 'beycah', 'beyonc', 'beyoncegisel', 'beyond', 'bf', 'bfast', 'bfd', 'bfelt', 'bff', 'bffe', 'bffl', 'bfflï', 'bfst', 'bgluxurybandb', 'bgoy', 'bgt', 'bh', 'bhaha', 'bhavika', 'bhi', 'bhutta', 'bi', 'bia', 'bibl', 'bid', 'bifflesss', 'big', 'bigac', 'bigbelbess', 'bigedud', 'biggar', 'bigger', 'biggest', 'biggun', 'bih', 'bijebu', 'bike', 'bikeburnt', 'bikeindia', 'biker', 'bikini', 'bilboski', 'bilingu', 'bilirubin', 'bill', 'billa', 'billabong', 'billba', 'billgat', 'billglov', 'billi', 'billion', 'billt', 'billtransport', 'billydmim', 'billywilliwaw', 'bin', 'bind', 'bingo', 'binmugahid', 'binncheol', 'bio', 'biolog', 'bird', 'birdgeek', 'birdi', 'birhtday', 'birmingham', 'birthdaaaay', 'birthday', 'birthnight', 'biscuit', 'biscuitsquot', 'bisexu', 'bit', 'bitch', 'bitchi', 'bitchin', 'bite', 'bitli', 'bittenbybook', 'bitter', 'bittersweetbabi', 'bittytrick', 'bix', 'biz', 'bizarr', 'bizarro', 'bj', 'bjermain', 'bkbap', 'bkethan', 'bkgirlfriday', 'bkidder', 'bkii', 'bklyncooki', 'blaaaaarg', 'blaaaah', 'blaaah', 'black', 'blackampwhit', 'blackberri', 'blackberryman', 'blackehart', 'blackmag', 'blackmamba', 'blackpool', 'blackshtef', 'blah', 'blahh', 'blahhh', 'blahhhh', 'blair', 'blairalexand', 'blake', 'blakeheali', 'blame', 'blank', 'blankey', 'blanki', 'blaoh', 'blast', 'blaze', 'bleach', 'bleed', 'bleeder', 'bleedingchao', 'blegoopr', 'bleh', 'blehh', 'blend', 'blender', 'blendlovesit', 'blergh', 'bless', 'bletchley', 'bleurghfeel', 'blew', 'blib', 'blind', 'blindsight', 'blink', 'blip', 'bliss', 'blister', 'blizg', 'blizzard', 'blo', 'bloat', 'bloc', 'block', 'blockl', 'blockout', 'blog', 'blogalici', 'blogg', 'blogger', 'bloghampton', 'blogher', 'blogspot', 'blokeslib', 'blond', 'blondiluci', 'blood', 'bloodandmilk', 'bloodi', 'bloodlet', 'bloodsuck', 'bloom', 'blossom', 'blottedcopybook', 'blow', 'blowjob', 'bludget', 'blue', 'blueaero', 'blueargon', 'bluebunni', 'blueflameit', 'bluegecko', 'bluegrassit', 'bluelillyscouk', 'blueprint', 'bluestreak', 'bluff', 'blum', 'blunt', 'blur', 'blurri', 'blurtit', 'blush', 'blusteri', 'bm', 'bn', 'bncngoffthwll', 'bni', 'bno', 'bo', 'boal', 'board', 'boat', 'boater', 'bob', 'boba', 'bobbiejohnson', 'bobbygil', 'bobbyoshea', 'bobektaken', 'bobo', 'bobsaget', 'bock', 'boddington', 'bode', 'bodhiczar', 'bodi', 'bodycoach', 'boffbowsh', 'bog', 'bogu', 'bohdi', 'bohem', 'boilin', 'boiz', 'bokul', 'bold', 'boleh', 'bom', 'bomb', 'bombard', 'bomber', 'bombshel', 'bombshizzznizl', 'bon', 'bond', 'bondibeachgirl', 'bondwalk', 'bone', 'bonjour', 'bonker', 'bonnieklid', 'bonnybridg', 'bonu', 'boo', 'boobookittifukk', 'boobsielu', 'boof', 'boogaloo', 'booger', 'boogi', 'booi', 'book', 'bookclub', 'bookiegirl', 'bookmark', 'bookonto', 'booksandquil', 'bookshelv', 'boom', 'boomerjack', 'boon', 'boono', 'boont', 'booo', 'boooo', 'booooo', 'boooooo', 'booooooo', 'booooy', 'boost', 'booster', 'boot', 'bootcamp', 'booth', 'booz', 'bor', 'borat', 'bord', 'bordam', 'border', 'bore', 'boredbad', 'boredd', 'boredddd', 'boreddwishin', 'boredom', 'boredum', 'boringno', 'boringquot', 'born', 'bornk', 'borrow', 'borscht', 'boss', 'bostinblok', 'boston', 'boswellian', 'bot', 'botb', 'bothel', 'bother', 'bothersom', 'bothwel', 'botspam', 'bottl', 'bottom', 'bought', 'boulot', 'bounc', 'bouncer', 'bound', 'boundari', 'bout', 'boutiquemi', 'boutr', 'boutta', 'bovver', 'bow', 'bowen', 'bowi', 'bowl', 'bowwow', 'box', 'boxer', 'boxnet', 'boy', 'boyfrieeennd', 'boyfriend', 'boyim', 'boyquot', 'boysbut', 'bpark', 'bpfurnitur', 'bqe', 'bra', 'brace', 'bracelet', 'bracknel', 'brad', 'bradhfh', 'bradi', 'bradiewebbstack', 'bradleyross', 'bradmantv', 'bradshorr', 'bradsugar', 'braedong', 'brag', 'braid', 'braill', 'brain', 'brainiac', 'brainstorm', 'brainstormprick', 'brajeshwar', 'brampitoyo', 'brand', 'brandi', 'brandib', 'brandiei', 'brandilinnea', 'brandminu', 'brandonjshaw', 'brandonolog', 'brandonwirtz', 'brandozin', 'brandyfan', 'brandywandlov', 'brandz', 'brandzhd', 'brap', 'brave', 'bravest', 'brax', 'brazil', 'brb', 'bre', 'bread', 'break', 'breakfast', 'breakfastinoffic', 'breakgril', 'breakingnew', 'breakingnewsoff', 'breakroom', 'breakup', 'breast', 'breath', 'breathalyz', 'breatheheavycom', 'brebabi', 'breed', 'breezi', 'bren', 'brenton', 'brereton', 'brettbodin', 'brettgrac', 'brettjohn', 'brevi', 'brewrat', 'brian', 'briana', 'brianbrianbrian', 'briancrouch', 'briandavidz', 'brianlittrel', 'bribe', 'briberi', 'brick', 'bricksh', 'bridequot', 'bridg', 'brieasauru', 'brief', 'bright', 'brighten', 'brighter', 'brightlydust', 'brighton', 'brill', 'brillianc', 'brilliant', 'brinathemodel', 'bring', 'brinjal', 'brink', 'brisban', 'brissa', 'bristol', 'brit', 'britdaniel', 'british', 'britisshameless', 'britmichel', 'britney', 'brittani', 'brittbut', 'brittgastineau', 'brittkay', 'brittyd', 'britzillah', 'brlittl', 'bro', 'broad', 'broadband', 'broadcast', 'broadway', 'brochner', 'brock', 'broderick', 'brodi', 'brodydal', 'broinlaw', 'broke', 'brokedown', 'broken', 'brokenbaja', 'brokenboulevard', 'brokenleg', 'brokenros', 'brokenthought', 'broker', 'brokn', 'brolli', 'bromanc', 'bronchiti', 'bronco', 'brontesauru', 'bronxbeb', 'brook', 'brookecourt', 'brookelockart', 'brooklynunion', 'brooklynzfinest', 'brootalbrin', 'brorsan', 'brother', 'brotrust', 'brought', 'brown', 'browni', 'brownstonepr', 'brows', 'browser', 'brp', 'brq', 'brr', 'brrr', 'brrrr', 'bruce', 'bruis', 'bruisesonguitar', 'brum', 'brummi', 'bruno', 'brush', 'brussel', 'brutha', 'bruv', 'bruvaz', 'brydon', 'bryhiga', 'bryndresch', 'bryon', 'bryoni', 'brysonwallac', 'brz', 'bs', 'bsemaj', 'bside', 'bsmommi', 'bss', 'bt', 'btb', 'btr', 'btw', 'btwbut', 'bu', 'buaaaaa', 'bubba', 'bubbl', 'bubblet', 'bubblewrap', 'buck', 'bucket', 'buckhollywood', 'bud', 'buddha', 'buddi', 'budget', 'bueller', 'buena', 'bueno', 'buer', 'buffer', 'buffet', 'buffett', 'buffi', 'bug', 'bugatti', 'bugger', 'buggi', 'bugl', 'bugmum', 'buhok', 'build', 'buildabear', 'buildin', 'built', 'builtin', 'bulb', 'bulg', 'bulgogi', 'bulhaa', 'bulimia', 'bulki', 'bull', 'bullcrap', 'bulldoz', 'bullet', 'bulletin', 'bulli', 'bullshit', 'bullshitteri', 'bum', 'bumber', 'bumblebe', 'bumblebeee', 'bummedjos', 'bummer', 'bump', 'bumper', 'bumptop', 'bun', 'bunch', 'bundl', 'bunni', 'bunyan', 'burger', 'burgundi', 'buri', 'burkhardt', 'burlingam', 'burlymulligan', 'burma', 'burn', 'burnt', 'burntavoid', 'burrito', 'burst', 'burswood', 'buse', 'bush', 'bushel', 'busi', 'busier', 'buss', 'bust', 'bustabusta', 'bustxamovex', 'busybeeblogg', 'busyi', 'but', 'butadream', 'butch', 'butcher', 'buti', 'butim', 'butm', 'butt', 'butter', 'butterfing', 'butterfli', 'butterflyb', 'button', 'buttonquot', 'buttonslink', 'buttonwood', 'buttt', 'butuh', 'buuren', 'buy', 'buycom', 'buzz', 'buzzedit', 'buzzzzzzzzzzzzzz', 'bw', 'bwoi', 'bxj', 'bxl', 'bye', 'byeby', 'byee', 'byequot', 'bynkii', 'bypass', 'bytem', 'bythewei', 'c', 'ca', 'caaannntt', 'cab', 'cabana', 'cabin', 'cabinet', 'cabl', 'cabrera', 'caca', 'cad', 'cafe', 'cafeteria', 'cafeteriaim', 'caff', 'caffein', 'cafï', 'cagcast', 'cage', 'caitlin', 'caitlindean', 'cake', 'cakeandcooki', 'cakemi', 'cal', 'calamur', 'calend', 'calendar', 'caleyann', 'calgari', 'calgel', 'cali', 'california', 'call', 'callcent', 'callin', 'calll', 'callmsg', 'calm', 'calori', 'calv', 'calvi', 'calvin', 'cam', 'camb', 'came', 'cameez', 'camera', 'cameradeath', 'cameron', 'cameronlovesbbw', 'cameronolivi', 'camil', 'camilla', 'camillejaiden', 'camp', 'campaign', 'campmotha', 'campu', 'can', 'canada', 'canadian', 'canal', 'canalmerc', 'canari', 'cancel', 'cancelaram', 'cancer', 'cancerim', 'cancerstricken', 'cancun', 'candacegirrl', 'candi', 'candicejo', 'candid', 'candl', 'candyoh', 'canning', 'cannot', 'canon', 'canr', 'cant', 'cantabil', 'canteen', 'canthang', 'cantones', 'cantquot', 'canuck', 'canuhandleme', 'canva', 'canvas', 'canï', 'cao', 'caojunvinc', 'cap', 'capcom', 'capit', 'capitaln', 'capon', 'cappleg', 'cappuccino', 'cappuchino', 'capsfan', 'captain', 'captainsmash', 'captiv', 'captur', 'car', 'caramel', 'caramuis', 'caravan', 'carb', 'carboni', 'card', 'cardboard', 'cardi', 'cardiff', 'cardio', 'care', 'career', 'careful', 'caress', 'carl', 'carless', 'carli', 'carlislercullen', 'carlo', 'carlton', 'carlyrush', 'carm', 'carmanu', 'carnellm', 'carniv', 'carno', 'carnt', 'caro', 'carol', 'carolin', 'carolinai', 'carolinamama', 'carolw', 'carosound', 'carpel', 'carpet', 'carpool', 'carradin', 'carri', 'carribean', 'carrie', 'carrieannyoung', 'carriege', 'cartbozman', 'cartermorrison', 'cartertwinszach', 'cartman', 'cartoon', 'cartoonbeardi', 'casablanca', 'casbah', 'case', 'caseyhopkin', 'caseyshayn', 'cash', 'cashless', 'casino', 'cask', 'casserol', 'cassett', 'cast', 'castl', 'casual', 'casualintrud', 'cat', 'catalog', 'catalogu', 'catan', 'catastroph', 'cataxrevolt', 'catch', 'catchi', 'catchya', 'catecorbitt', 'cateyez', 'cathb', 'cathedr', 'catherinemarch', 'cathrintheo', 'cathybaron', 'cathyle', 'cati', 'catskil', 'catsreason', 'catstropi', 'cattl', 'catyusuf', 'caught', 'caus', 'causr', 'cav', 'cava', 'cave', 'cavequot', 'cavist', 'cavort', 'cavsfanat', 'cawowin', 'cba', 'cbetta', 'cbf', 'cbn', 'cbridg', 'cbsnew', 'cc', 'cca', 'ccatiedid', 'ccc', 'ccpt', 'ccsf', 'cd', 'cdrux', 'ce', 'ceander', 'cecilguy', 'ced', 'ceeb', 'ceeecil', 'ceete', 'cel', 'celeb', 'celeber', 'celebr', 'celeri', 'cell', 'celli', 'cellobella', 'cellphon', 'cellular', 'cellulit', 'celtic', 'celticgirl', 'cemetari', 'censu', 'center', 'centr', 'central', 'centrechick', 'centrelink', 'cept', 'cereal', 'cerealllllll', 'ceremoni', 'cerrito', 'certain', 'certainli', 'ceruleago', 'cerveza', 'cesar', 'cesgcaffein', 'cet', 'cfl', 'cg', 'cgf', 'cgj', 'ch', 'chad', 'chai', 'chain', 'chair', 'chaitrasuresh', 'chakra', 'challen', 'challeng', 'chamber', 'chamillionair', 'chamisul', 'champ', 'champagn', 'champion', 'championship', 'chan', 'chanc', 'chanel', 'chang', 'changin', 'channel', 'chantelyo', 'chao', 'chap', 'chapel', 'chaplin', 'chapstick', 'chapstickquot', 'chapter', 'charact', 'charad', 'charg', 'charger', 'charginnow', 'charismat', 'chariti', 'charl', 'charle', 'charlen', 'charlessaysrawr', 'charley', 'charli', 'charliepodg', 'charlott', 'charlottenlund', 'charm', 'charmermark', 'chart', 'chase', 'chasepino', 'chasewhal', 'chat', 'chateada', 'chazdrum', 'cheap', 'cheaper', 'cheapi', 'cheapyd', 'cheat', 'check', 'checkem', 'checkin', 'checkout', 'cheechingi', 'cheeck', 'cheek', 'cheeki', 'cheekipoo', 'cheer', 'cheerio', 'cheersquot', 'chees', 'cheesecak', 'cheesi', 'cheetosgross', 'cheez', 'chef', 'chefjeff', 'cheia', 'chekin', 'chelleiswick', 'chelsea', 'chem', 'chemi', 'chemistri', 'chenna', 'chennai', 'chennysherm', 'chericejenel', 'cherish', 'chermedia', 'cherri', 'cherrio', 'cherylelapitan', 'chese', 'chessington', 'chest', 'chesterpdext', 'chetcannon', 'cheung', 'chevasia', 'chew', 'chi', 'chibimarrow', 'chic', 'chicago', 'chicagocali', 'chicagoenneagramexamin', 'chichi', 'chicityenvi', 'chick', 'chickeeeen', 'chicken', 'chickenhubbi', 'chickennot', 'chickfila', 'chictopia', 'chidambaram', 'chief', 'chiefchimpanze', 'chifor', 'child', 'childhood', 'children', 'childrenby', 'chile', 'chill', 'chilli', 'chillin', 'chillingil', 'chillinrelax', 'china', 'chines', 'chinewinelov', 'chip', 'chipdav', 'chipil', 'chipmunk', 'chipotl', 'chipper', 'chippewa', 'chiro', 'chiropractor', 'chirp', 'chirpi', 'chisstwitt', 'chitat', 'chivalr', 'chk', 'chlojo', 'cho', 'chochomojo', 'chocol', 'chocolatedip', 'chocolateflavouredmathhtml', 'chocolatevanilla', 'choic', 'chomp', 'choos', 'chop', 'chopstick', 'chore', 'choru', 'chose', 'chowmein', 'chr', 'chregu', 'chri', 'chriiiiiiiiiiiist', 'chriismayte', 'chrisasmith', 'chrisb', 'chriscan', 'chriscashmus', 'chriscornel', 'chrisdca', 'chrisdjmoyl', 'chrisfm', 'chrisfreeman', 'chrisgarrett', 'chrishangsleben', 'chrishasboob', 'chrisheuer', 'chrisjkamrada', 'chrislmar', 'chrismdp', 'chrismoodi', 'chrisnick', 'chrisnoblenz', 'chrispycrittr', 'chriss', 'christ', 'christi', 'christianazhu', 'christina', 'christinajad', 'christinaperk', 'christineirml', 'christinezegt', 'christma', 'christopherbieg', 'christt', 'chrisviamus', 'chriswhit', 'chriswolf', 'chrome', 'chronicl', 'chrono', 'chu', 'chubbx', 'chuck', 'chuckdarw', 'chuckl', 'chucklin', 'chuf', 'chuffin', 'chugquot', 'chumbi', 'chummi', 'chung', 'chunk', 'chuoti', 'chur', 'church', 'churn', 'churro', 'chute', 'chutney', 'chá', 'cháº', 'chæ', 'ci', 'ciao', 'ciarancuff', 'cic', 'cici', 'cider', 'cig', 'cigar', 'cigarett', 'cigna', 'cikasugeng', 'cinci', 'cinderella', 'cinema', 'cinemat', 'cineri', 'cing', 'cinnamon', 'circl', 'circlequot', 'circul', 'cirvic', 'citi', 'citizen', 'citru', 'citrusandcandi', 'cityclick', 'cityrat', 'cj', 'cjmule', 'cjstarchild', 'ck', 'ckc', 'ckcandi', 'ckilgor', 'ckv', 'ckw', 'claim', 'clairebrew', 'claireliz', 'clairelouisef', 'clam', 'clamson', 'clandestin', 'clap', 'clarif', 'clarifiedwhi', 'clariti', 'clarityl', 'clark', 'clarkj', 'clarkson', 'clashcityrock', 'class', 'classi', 'classic', 'classmat', 'classroom', 'classs', 'claudia', 'clay', 'cld', 'cle', 'cleagu', 'clean', 'cleaner', 'cleanersyayi', 'cleanin', 'cleans', 'cleanup', 'clear', 'clearer', 'clearli', 'cleveland', 'clever', 'click', 'client', 'cliff', 'clignot', 'climax', 'climb', 'clinic', 'clintonkelli', 'clintooooon', 'clip', 'clock', 'clog', 'close', 'closer', 'closest', 'closet', 'cloth', 'clothesquot', 'cloud', 'cloudforc', 'cloudi', 'cloudsteph', 'clough', 'cloverest', 'cltordiadmco', 'clu', 'club', 'clubzon', 'clue', 'clutch', 'cm', 'cmgangrel', 'cmgarcia', 'cmon', 'cmop', 'cmputr', 'cmt', 'cmtwitterhous', 'cn', 'cnat', 'cnbc', 'cncl', 'cnn', 'cnnbrk', 'cnt', 'co', 'coach', 'coachella', 'coal', 'coast', 'coastalliv', 'coat', 'coatphewc', 'cobaltcow', 'cobi', 'cobra', 'cobraaaa', 'cobwebbi', 'coca', 'cock', 'cockl', 'cockroach', 'cocktailch', 'cocoabeb', 'cocoandbreezi', 'cod', 'code', 'codein', 'codelust', 'coder', 'codi', 'codingfor', 'coffe', 'coffeeampcream', 'coffeeeeee', 'coffeeonlin', 'coffeewhi', 'cofffeeeee', 'coincid', 'coke', 'cokehead', 'cola', 'coladabanana', 'colbert', 'colbsi', 'cold', 'coldengrey', 'coldest', 'coldheart', 'coldplay', 'cole', 'colei', 'colesprous', 'colinst', 'colinwilliamson', 'coliwilso', 'collag', 'collakaaubrey', 'collar', 'colleagu', 'collect', 'colleg', 'collegeau', 'collid', 'collingwood', 'colon', 'color', 'colorbakeri', 'colorofviol', 'colour', 'colourfulmoney', 'column', 'com', 'comau', 'combin', 'combo', 'combomint', 'comcast', 'come', 'comeagainjen', 'comedi', 'comedian', 'comedown', 'comee', 'comenï', 'comeon', 'comew', 'comfi', 'comfort', 'comfycuddli', 'comic', 'comin', 'comm', 'command', 'comment', 'commerc', 'commerci', 'commiser', 'commiss', 'commit', 'committ', 'common', 'commonwealth', 'commun', 'communiqu', 'commut', 'comp', 'compani', 'compar', 'comparison', 'compat', 'compet', 'competentci', 'competit', 'complain', 'complaint', 'complek', 'complet', 'completley', 'complex', 'compli', 'compliment', 'complimentari', 'compng', 'compon', 'compton', 'comput', 'computadora', 'comtup', 'concentr', 'concept', 'conceptu', 'concern', 'concert', 'conchord', 'conciousi', 'conclus', 'concret', 'condit', 'condo', 'condol', 'condom', 'conetticuttt', 'conf', 'confer', 'confess', 'confid', 'confirm', 'confus', 'congrat', 'congratswhen', 'congratul', 'congreg', 'conn', 'connect', 'connfess', 'conosco', 'conquer', 'conroy', 'conscious', 'consequ', 'consid', 'consist', 'consol', 'conspiraci', 'constant', 'constantli', 'constitut', 'construct', 'consult', 'consum', 'contact', 'contactnaveen', 'contain', 'content', 'contest', 'contesti', 'contestsit', 'continu', 'contract', 'contractor', 'contrarian', 'contributor', 'control', 'conveni', 'convent', 'converg', 'convers', 'conversationheh', 'convert', 'convey', 'convien', 'convinc', 'convo', 'convuls', 'cook', 'cookcj', 'cookeri', 'cooki', 'cookiedorksx', 'cookieex', 'cookin', 'cookrn', 'cool', 'cooler', 'coolest', 'coolright', 'cooool', 'coop', 'cooper', 'coordin', 'cop', 'cope', 'copi', 'copper', 'coralin', 'coranquot', 'core', 'corecas', 'corey', 'coreykind', 'corinaconst', 'corinamari', 'corinmcblid', 'corn', 'cornbreadturn', 'corneliu', 'corner', 'cornetto', 'corni', 'cornwal', 'coron', 'corpor', 'corpu', 'correct', 'correctli', 'corrupt', 'cors', 'corset', 'corybasil', 'cosbi', 'cosleia', 'cosmicgirli', 'cost', 'costa', 'costum', 'cottag', 'cotton', 'couch', 'coucou', 'cough', 'coughso', 'could', 'coulda', 'couldi', 'couldnt', 'couldv', 'count', 'countdown', 'countdud', 'counter', 'counti', 'countless', 'countri', 'countrysid', 'countybrown', 'coupl', 'coupon', 'courag', 'courier', 'cours', 'coursework', 'court', 'courtbethun', 'courtney', 'courtneyl', 'courtroom', 'couscou', 'cousin', 'cousr', 'coutur', 'coven', 'cover', 'cow', 'coward', 'cowboy', 'cowel', 'cowley', 'cowork', 'coxysopinion', 'coy', 'coz', 'cozi', 'cp', 'cpan', 'cping', 'cpu', 'cq', 'cque', 'craapppi', 'crabbi', 'crack', 'craft', 'craic', 'craig', 'craigritchi', 'craigslist', 'craigsutton', 'crakl', 'cramp', 'crap', 'crapbday', 'crappi', 'crash', 'crate', 'crave', 'cravenjad', 'cravng', 'crazi', 'crazier', 'crazyforsp', 'crazykelliema', 'crazytw', 'crazzyyyy', 'cream', 'creat', 'creationfest', 'creativ', 'creativejeniu', 'creativitymust', 'creator', 'creatur', 'cred', 'credit', 'creditgrad', 'creed', 'creek', 'creepi', 'creepier', 'creepili', 'creepycrissi', 'cremat', 'crescendo', 'crescentr', 'crew', 'cri', 'crib', 'cribsheet', 'cricket', 'cripe', 'crippl', 'crisbrown', 'crisi', 'crisiscom', 'crisontoast', 'crisp', 'crispi', 'crispyteriyaki', 'cristinacost', 'crit', 'critic', 'criticshatey', 'croatia', 'croc', 'crochet', 'croconaw', 'croissant', 'cronogenesi', 'crook', 'cross', 'crotch', 'crowd', 'crowdsourc', 'crp', 'cruddi', 'cruel', 'cruis', 'crumpet', 'crumpler', 'crunch', 'crush', 'crutch', 'cruz', 'crye', 'cryin', 'crysroc', 'cryssi', 'crystal', 'cs', 'csi', 'css', 'cssedit', 'ct', 'ctesdahl', 'ctia', 'cto', 'ctub', 'cu', 'cub', 'cubicl', 'cuckold', 'cud', 'cuddl', 'cuddlequot', 'cuddyz', 'cudi', 'cue', 'cuff', 'culinari', 'cullen', 'cultur', 'cum', 'cumpulasari', 'cunt', 'cup', 'cupboard', 'cupcak', 'cuppa', 'curb', 'curd', 'cure', 'curiou', 'curious', 'curl', 'current', 'curri', 'curs', 'curtii', 'curtiswalk', 'curvi', 'custardsock', 'custom', 'customerssuckcom', 'cut', 'cute', 'cuteabl', 'cutebut', 'cuter', 'cutest', 'cuti', 'cuttac', 'cutter', 'cuut', 'cuuuuuteeeee', 'cuz', 'cuzon', 'cuzzzz', 'cv', 'cvf', 'cw', 'cwelchtn', 'cx', 'cy', 'cybathug', 'cyberboff', 'cybercommand', 'cyberpreneur', 'cycl', 'cyclazin', 'cyndalboo', 'cynic', 'cypru', 'cyru', 'cã', 'cã²n', 'da', 'daaaaamnit', 'daaaay', 'daaang', 'daaanncee', 'daaddi', 'daang', 'dab', 'dachesterfrench', 'daciamelia', 'dad', 'dadagdag', 'dadartistblk', 'daddi', 'daddysbabi', 'dafunk', 'dag', 'dagfinnr', 'dah', 'dahlingtwug', 'dahowlett', 'daili', 'dailyboothcom', 'dairi', 'dajbelshaw', 'dake', 'dal', 'dalecrus', 'dalerankin', 'dalla', 'dalool', 'dam', 'dame', 'damier', 'dammit', 'dammmn', 'damn', 'damnanoth', 'damni', 'damnit', 'damnnn', 'damohopo', 'damon', 'dampd', 'damygeebo', 'dan', 'danacorbin', 'danamac', 'danann', 'danbladen', 'danc', 'danceabl', 'dancemasstv', 'dancer', 'dancingbonita', 'dandi', 'danecook', 'dang', 'danger', 'dangersqueezit', 'danggit', 'dangit', 'dangwhat', 'danhawkin', 'daniel', 'danielakrock', 'danielamezcua', 'danielc', 'danieldang', 'danielhilton', 'danielkirkley', 'daniella', 'daniellecrunden', 'danielledeleasa', 'daniellethomp', 'daniesass', 'danipoynterjudd', 'danishkanavin', 'dank', 'danko', 'danni', 'danniasheonlin', 'dannibearrr', 'dannii', 'dannyboic', 'dannydichio', 'dannyk', 'danoliv', 'danradin', 'danseto', 'dansu', 'danthedaddi', 'danwtmoon', 'danzero', 'daphn', 'daq', 'dare', 'darealsunisakim', 'dark', 'darkenemi', 'darkenss', 'darker', 'darkknight', 'darkmagiqu', 'darkpebl', 'darl', 'darlin', 'darn', 'darnel', 'darrah', 'darrinreev', 'darthnaida', 'darthsarah', 'darthweef', 'darylsw', 'dash', 'dashboard', 'dat', 'data', 'databas', 'datagov', 'datajourn', 'datboibabyc', 'date', 'datee', 'datelin', 'datrutopshotta', 'daughter', 'dave', 'daveb', 'davebo', 'davejmatthew', 'davekim', 'davelindquist', 'davemcclur', 'daveseah', 'davesjessica', 'davetran', 'daveverw', 'davi', 'david', 'davidblu', 'davidderaedt', 'daviddjfr', 'davidgideon', 'davidhenri', 'davidkotch', 'davidolski', 'davidvancamp', 'daviestramp', 'davvveroquot', 'dawaun', 'dawn', 'dawncabrero', 'day', 'daybut', 'daydont', 'daydream', 'daydreamwrit', 'daygan', 'dayi', 'dayim', 'dayit', 'dayleav', 'daylight', 'daylol', 'daymi', 'daynight', 'daypoor', 'dayquot', 'daysgametap', 'daysh', 'daysi', 'daysjust', 'daysquot', 'daysss', 'daytoday', 'dayupd', 'dayuum', 'daywohooooooo', 'dayyay', 'dayz', 'dazzlemethi', 'db', 'dbq', 'dbsk', 'dc', 'dcbtv', 'dchetti', 'dcorsetto', 'dcth', 'dcwont', 'dd', 'ddddddddddddddddddddddd', 'ddevotchka', 'ddgriffith', 'ddi', 'ddlovato', 'ddr', 'ddub', 'ddubsmyguy', 'de', 'dea', 'dead', 'deadlin', 'deador', 'deadquot', 'deaf', 'deahloid', 'deal', 'dealer', 'dealership', 'dean', 'dear', 'dearbhlaoconnor', 'dearest', 'deari', 'dearli', 'death', 'deathcabform', 'deathh', 'debat', 'debb', 'debbi', 'debbiefletch', 'debblu', 'debrief', 'debug', 'decad', 'decathlon', 'decent', 'decid', 'decis', 'deck', 'declin', 'decor', 'decreas', 'decrypt', 'dedic', 'dee', 'deed', 'deeeeb', 'deejayboogi', 'deep', 'deepbluesealov', 'deepli', 'deer', 'deet', 'def', 'default', 'defeat', 'defens', 'deffffinit', 'defi', 'deficit', 'defin', 'definatley', 'definit', 'defo', 'defreakinlici', 'defygrav', 'deg', 'degrassi', 'degraw', 'degre', 'degress', 'deigh', 'deirdr', 'deirdresm', 'deiss', 'deitydesignz', 'dejastar', 'deki', 'del', 'delay', 'deleg', 'delekkersteshow', 'delemma', 'delet', 'delhi', 'deli', 'deliber', 'delici', 'delidelux', 'delight', 'delilah', 'delir', 'deliri', 'delish', 'deliv', 'deliveri', 'dellvink', 'demand', 'demet', 'demi', 'demib', 'demmalit', 'demo', 'demogeekcom', 'demonstr', 'denhha', 'deni', 'denim', 'denimdebutant', 'denis', 'deniserichard', 'denni', 'dens', 'densiti', 'dental', 'dentist', 'dentistayyi', 'denver', 'denverpilot', 'denyal', 'denyhost', 'deon', 'dep', 'departur', 'depech', 'depend', 'deposit', 'depot', 'depp', 'depress', 'depressin', 'depriv', 'der', 'derail', 'derangedangel', 'derbi', 'deredactieb', 'derekhousman', 'derherr', 'derivadow', 'dermatologist', 'deroshairjtv', 'dertyp', 'describ', 'descript', 'desert', 'deserv', 'desieliz', 'design', 'desir', 'desk', 'deskanyon', 'desktop', 'despair', 'desper', 'despit', 'dessert', 'destin', 'destrin', 'destroy', 'destroyflickr', 'detail', 'detatch', 'deterg', 'determin', 'detox', 'detriment', 'detroit', 'dev', 'devast', 'develop', 'devest', 'devic', 'devil', 'devin', 'deviousd', 'devo', 'devote', 'devun', 'dexter', 'dezignmus', 'dezin', 'dezzi', 'dfcook', 'dfib', 'dfizzi', 'dfw', 'dg', 'dgarmo', 'dgoodi', 'dgrg', 'dgvelaw', 'dgx', 'dh', 'dhanli', 'dharshana', 'dhewlett', 'dholl', 'dhughesi', 'di', 'dia', 'diabet', 'diablocodi', 'diagnos', 'diajarin', 'diamondhead', 'diana', 'dianamazzon', 'dianarusso', 'dianna', 'dianyach', 'diapersnappi', 'diari', 'diaz', 'dice', 'dick', 'dictionari', 'didbut', 'diddi', 'diddystweet', 'didier', 'didigiggl', 'didnt', 'didnï', 'die', 'diedi', 'diedveri', 'diego', 'dieno', 'dienstag', 'diesel', 'diet', 'diferenshul', 'diff', 'differ', 'differentand', 'difficult', 'difficulti', 'dig', 'digg', 'diggbar', 'digit', 'digitaldoc', 'digitalhero', 'digitalhumanist', 'digsbi', 'dii', 'diigo', 'dilemma', 'dileno', 'dillema', 'dillyeosam', 'dim', 'dimpl', 'dimrac', 'din', 'dindt', 'dingdong', 'dinheiro', 'dinner', 'dinnertim', 'dint', 'dinv', 'dinz', 'dion', 'dip', 'direbonappetit', 'direct', 'director', 'directori', 'dirkmetzg', 'dirti', 'dirtysoufyanke', 'disabl', 'disagre', 'disamperin', 'disapoint', 'disappear', 'disappoint', 'disbelief', 'disc', 'discipl', 'disciplex', 'disciplin', 'disciplinari', 'disclaim', 'disco', 'disconnect', 'discontent', 'discount', 'discours', 'discov', 'discoveri', 'discriminatori', 'dise', 'diseas', 'disgruntl', 'disgust', 'dish', 'dishearten', 'dishnetwork', 'dishwash', 'dislik', 'dismay', 'dismiss', 'disney', 'disneydean', 'disneyland', 'disnt', 'disobedientgirl', 'disord', 'display', 'disrupt', 'diss', 'dissapear', 'dissapoint', 'dissert', 'distanc', 'distil', 'distract', 'distress', 'disturb', 'ditch', 'ditto', 'div', 'diva', 'dive', 'diversionsupport', 'divert', 'divestoclimb', 'divid', 'divo', 'divorc', 'dixi', 'dixon', 'diy', 'dizzi', 'dj', 'djam', 'djbubbl', 'djceo', 'djedski', 'djequ', 'djg', 'djgreatscott', 'djimpact', 'djincred', 'djlittl', 'djlogansama', 'djmafia', 'djprettyboytank', 'djslopok', 'djsmile', 'djswivel', 'djtell', 'djtracyyoung', 'djvic', 'djyh', 'dk', 'dkemmanuel', 'dkjg', 'dklk', 'dland', 'dlav', 'dlbq', 'dlch', 'dlimy', 'dling', 'dlit', 'dloi', 'dlr', 'dlzj', 'dm', 'dmakron', 'dmcar', 'dmcz', 'dmf', 'dmitricain', 'dmv', 'dn', 'dnscook', 'dnt', 'dnu', 'dnxg', 'dnxi', 'do', 'dobut', 'doc', 'dock', 'doctor', 'doctorkiko', 'doctorquinci', 'document', 'documentari', 'documentarymockumentari', 'documentatiemap', 'dodg', 'dodger', 'dodgi', 'dodgiest', 'doe', 'doea', 'doenst', 'doesdid', 'doesnt', 'doest', 'doesâ', 'doezilla', 'dog', 'dogan', 'doggi', 'doggon', 'dogkil', 'dogon', 'dogpil', 'dogtrad', 'doh', 'dohaha', 'dohnut', 'doin', 'doinggggg', 'doingquot', 'doityourself', 'dojo', 'doku', 'dole', 'dolfinfan', 'doll', 'dollah', 'dollar', 'domain', 'domest', 'domino', 'dommerghz', 'donat', 'done', 'donead', 'donebut', 'donecuz', 'doneshow', 'donetim', 'donfuci', 'dong', 'donk', 'donkey', 'donnafox', 'donni', 'donniewahlberg', 'donnyosmond', 'dont', 'dontastorey', 'dontforgetchao', 'dontya', 'donut', 'donï', 'doo', 'dooc', 'doodl', 'dooley', 'doom', 'doomferret', 'doooo', 'door', 'dope', 'doretaylor', 'dorito', 'dork', 'dorka', 'dorm', 'dorset', 'dose', 'dosent', 'dosey', 'dossier', 'dot', 'dotclear', 'dotmariusz', 'dottedwitheart', 'dou', 'doubl', 'doublea', 'doublebagel', 'doubleickey', 'doublesid', 'doubt', 'douch', 'douf', 'doug', 'dough', 'dougi', 'dougiama', 'dougiemcfli', 'dov', 'down', 'downey', 'download', 'downpour', 'downsbut', 'downwish', 'dowwwwn', 'doz', 'dozen', 'doï', 'dp', 'dpt', 'dq', 'dqx', 'dr', 'dra', 'draag', 'draco', 'draft', 'drag', 'dragonbal', 'drain', 'dralli', 'drama', 'dramabeat', 'drank', 'drat', 'draw', 'drbaher', 'drdrew', 'dread', 'dream', 'dreamhost', 'dreamin', 'dreamland', 'dreamt', 'dreamweav', 'dreamwish', 'dreamz', 'dreari', 'drench', 'dreptat', 'dress', 'dresser', 'dressjunki', 'drew', 'drewdiamond', 'drewpasmith', 'drewseeley', 'drfire', 'drhorriblessingalongblogsp', 'dri', 'drib', 'drift', 'drifter', 'drill', 'drink', 'drive', 'drivedetermin', 'driver', 'driversi', 'drivin', 'drjoolz', 'drklutch', 'drm', 'drmolliemarti', 'drool', 'drop', 'dropbox', 'droppin', 'drove', 'drown', 'drrnlvngstn', 'drsecret', 'drspectrum', 'dru', 'drug', 'drugsquot', 'drum', 'drummer', 'drumoff', 'drunk', 'drunken', 'drupal', 'drwright', 'drybal', 'dryer', 'drzgreatest', 'ds', 'dsdg', 'dsff', 'dsi', 'dsiegel', 'dski', 'dslr', 'dss', 'dsu', 'dt', 'dtagurit', 'dtd', 'dtheartist', 'dtolentino', 'dtphulp', 'dtw', 'dtwn', 'du', 'duanestorey', 'duba', 'dubai', 'dubarrymcfli', 'dublin', 'dublinblondi', 'duccki', 'duck', 'dude', 'due', 'duel', 'duff', 'duhitsemelia', 'dui', 'dujourmag', 'duke', 'dulc', 'dull', 'duluth', 'dum', 'dumb', 'dumbestquot', 'dump', 'dumpl', 'dumps', 'dun', 'duncan', 'dunde', 'dundrum', 'dune', 'dungeon', 'dunham', 'dunk', 'dunkin', 'dunkroo', 'dunno', 'dunnoi', 'dunt', 'dupd', 'duplex', 'dust', 'dustin', 'dustinnnn', 'dustyedward', 'dutch', 'dutchrudd', 'duti', 'duuuuuud', 'duuuuuuuud', 'duvet', 'duy', 'duyu', 'dvd', 'dvr', 'dvroegop', 'dw', 'dwanb', 'dwarf', 'dwindl', 'dwsmillionthhug', 'dx', 'dye', 'dyi', 'dylan', 'dylzwexford', 'dã¹ng', 'e', 'eaaaarlay', 'eachoth', 'eadav', 'eagen', 'eajimmi', 'eajosh', 'ealbino', 'ear', 'eardrop', 'earl', 'earli', 'earlier', 'earlierbut', 'earliest', 'earlydetect', 'earn', 'earnest', 'earth', 'earthlifeinst', 'earthwindfir', 'eas', 'easi', 'easier', 'easili', 'east', 'easter', 'eastern', 'eastsid', 'easyso', 'eat', 'eaten', 'eatin', 'eb', 'ebay', 'ebg', 'eblahovec', 'eblerim', 'ebtmcom', 'ec', 'ecgric', 'eclecticxmanda', 'ecommerc', 'econ', 'econom', 'economi', 'economicwoman', 'ecosystem', 'ecul', 'eczemasupport', 'ed', 'edc', 'eddal', 'eddi', 'eddieizzard', 'eden', 'edg', 'edibow', 'edinatl', 'edinburgh', 'edit', 'editguppi', 'editor', 'editwrit', 'edkay', 'edlectron', 'edmcmahon', 'edmonton', 'edouglasww', 'educ', 'edward', 'edwardlawr', 'edwardmoolaw', 'edwardslori', 'edwelk', 'edwestwick', 'ee', 'eedit', 'eee', 'eeee', 'eeeee', 'eeeeee', 'eeeeewwwwww', 'eeeek', 'eek', 'eeni', 'eeoor', 'eep', 'eeshh', 'ef', 'eff', 'effect', 'effici', 'effin', 'effort', 'effyobi', 'efng', 'eg', 'egerton', 'egg', 'eggsdi', 'egret', 'egsa', 'egypt', 'eh', 'ehasselbeck', 'ehh', 'ehhhh', 'ehon', 'ehwher', 'eight', 'eightfiv', 'einai', 'einen', 'eircom', 'eit', 'either', 'eivindj', 'ejxioh', 'ek', 'ekanazhwa', 'ekkoh', 'el', 'elabor', 'elainegil', 'elan', 'elaps', 'elderli', 'eleahba', 'elect', 'electr', 'electricbluebrd', 'electroging', 'electromagnet', 'electron', 'elefevr', 'element', 'elementsofjazz', 'eleonoraelitoday', 'eleph', 'eleven', 'eli', 'elis', 'elisabeth', 'elissakim', 'elit', 'elizabethkl', 'ella', 'ellacinderella', 'ellen', 'elli', 'elliott', 'ellohhveee', 'elmar', 'elmardc', 'els', 'elsejk', 'elsewher', 'elspethmurray', 'elstre', 'elton', 'eltonjohn', 'elum', 'elus', 'elvi', 'em', 'emadz', 'email', 'emandeleon', 'embark', 'embarrass', 'embarrassingli', 'embarress', 'embarss', 'embassi', 'emberquot', 'embrac', 'emerg', 'emflip', 'emili', 'emilycello', 'emilyfannon', 'emilylagrang', 'eminem', 'emjay', 'emma', 'emmaelizabeth', 'emmajapan', 'emmalight', 'emmalouis', 'emmamcisaac', 'emmyl', 'emo', 'emokidbastian', 'emot', 'emoticon', 'emotionalped', 'emotionssigh', 'empath', 'emphasi', 'empireofthekop', 'employ', 'employe', 'empressyen', 'empti', 'emptier', 'emstar', 'emvicw', 'emz', 'en', 'enabl', 'enbaldarlingg', 'encantado', 'enchri', 'encourag', 'end', 'endcliff', 'ender', 'endless', 'endors', 'endur', 'enemi', 'energi', 'energyyyyyy', 'enforc', 'engag', 'engaga', 'engin', 'england', 'english', 'enjoy', 'enjoyin', 'enlighten', 'enlist', 'enneagram', 'enough', 'enoughpapa', 'enought', 'enquiri', 'enrich', 'enrol', 'ensur', 'enter', 'enterpris', 'entertain', 'entir', 'entourag', 'entranc', 'entrevista', 'entri', 'entã', 'enuf', 'env', 'envi', 'environt', 'eonlin', 'eorld', 'eot', 'ep', 'epe', 'epic', 'epicblogg', 'epidaetia', 'epilog', 'epilongo', 'episod', 'episodepriceless', 'epistemograph', 'epmorgan', 'equal', 'equip', 'er', 'era', 'erf', 'erggh', 'eri', 'eric', 'ericacara', 'ericamolli', 'ericboeh', 'ericbttn', 'ericdamiestreet', 'erickaaa', 'ericurban', 'eriickam', 'erik', 'erikabel', 'erikgelderblom', 'erin', 'erindigioia', 'erineven', 'erinmah', 'erinmbaxt', 'erm', 'erot', 'err', 'errand', 'errani', 'erro', 'error', 'errrr', 'errrrr', 'es', 'escap', 'escapad', 'escribitionist', 'eshop', 'esma', 'esotericsean', 'esp', 'espanol', 'especi', 'esperanto', 'esplanad', 'espresso', 'espressowoman', 'ess', 'essay', 'essenc', 'est', 'establish', 'estar', 'estateflow', 'esur', 'etay', 'etc', 'etcshadow', 'etcwhat', 'etcxmlcatalog', 'etern', 'ethernet', 'ethic', 'ethiopian', 'ethnobotani', 'eti', 'ettelinahmarkdan', 'etymot', 'etz', 'eu', 'eubank', 'euh', 'europ', 'european', 'eurotrash', 'ev', 'eva', 'eval', 'evankirkendal', 'evaurgirl', 'eve', 'evearoundworld', 'even', 'evenangel', 'eveningthen', 'evensong', 'event', 'eventbox', 'eventhough', 'eventu', 'ever', 'everamaz', 'everbodi', 'everday', 'everi', 'everlong', 'everrrr', 'eversoslightli', 'everybdi', 'everybodi', 'everyday', 'everyon', 'everyone', 'everyonebusi', 'everyth', 'everythin', 'everythingggg', 'everytim', 'everywher', 'everywhereno', 'eveyth', 'eveytim', 'evi', 'evict', 'evid', 'evil', 'eviljeaniu', 'evilsorceress', 'eviltwinbrian', 'evo', 'evolut', 'evp', 'evr', 'evri', 'evrywher', 'evur', 'ew', 'ewood', 'eww', 'ewww', 'ewwwwwwwww', 'ex', 'exact', 'exactli', 'exalt', 'exam', 'exampl', 'exceed', 'exceedingli', 'excel', 'except', 'excercis', 'exchang', 'exciit', 'excit', 'excitedtil', 'exciti', 'exclud', 'exctli', 'excus', 'exec', 'execut', 'executivefocu', 'exeget', 'exercis', 'exet', 'exhaust', 'exhaustedd', 'exhaustinggg', 'exhibit', 'exhilar', 'exhuast', 'exist', 'existwanna', 'exitedd', 'exlibri', 'exodu', 'exorcismquot', 'exp', 'expand', 'expect', 'expecttoconnect', 'expens', 'experi', 'experienc', 'expert', 'experti', 'expertis', 'expertquot', 'expir', 'explain', 'explet', 'explod', 'explor', 'explos', 'expo', 'export', 'exposur', 'extend', 'extens', 'extra', 'extranio', 'extraordinarili', 'extreamli', 'extrem', 'extremee', 'eyaekasari', 'eye', 'eyebal', 'eyebrow', 'eyedrop', 'eyelash', 'eyeshadow', 'eyyy', 'f', 'faair', 'fab', 'fabric', 'fabul', 'face', 'facebook', 'faceman', 'faceoff', 'facepalm', 'facequot', 'facesquot', 'facetim', 'facett', 'fachatc', 'facin', 'fact', 'faction', 'factor', 'factori', 'fade', 'fadei', 'faeka', 'faeriedtreasur', 'fail', 'faild', 'failur', 'failureprob', 'faint', 'fair', 'fairi', 'fairiespleas', 'fairli', 'fairtrad', 'faith', 'fake', 'fakeaclu', 'fakecedr', 'fakerpari', 'falafel', 'falk', 'fall', 'fallen', 'fallenstar', 'fallin', 'fam', 'fambam', 'fame', 'famili', 'familti', 'familyand', 'familychoic', 'familygggrrrr', 'familyyyyyyyyyyyy', 'famou', 'fampf', 'fampk', 'fan', 'fanat', 'fanci', 'fanclub', 'fancyde', 'fancyelast', 'fanfict', 'fang', 'fantasi', 'fantasiaq', 'fantast', 'fap', 'far', 'farah', 'fareast', 'farewel', 'farfalla', 'farfallina', 'fariah', 'farm', 'farni', 'farrah', 'farrahfawcett', 'farrahfawcettrip', 'farrahgod', 'farrahhhhhhhh', 'farrahlet', 'farrahu', 'farrahyour', 'farraw', 'farringdon', 'fart', 'fartingpen', 'fascin', 'fashion', 'fashionedquot', 'fast', 'fastamp', 'faster', 'fat', 'fatal', 'fatbellybella', 'fatdaveonabik', 'fate', 'fatfairi', 'father', 'fatimaalgaoud', 'fatten', 'fatter', 'fatti', 'fattybacon', 'faucet', 'faucett', 'fault', 'faux', 'fav', 'fave', 'favela', 'favicon', 'favor', 'favorit', 'favourit', 'fawcet', 'fawcetsh', 'fawcett', 'fawcettcertainli', 'fawcettmi', 'fawcettpray', 'fawcettrest', 'fawcettthat', 'fawcettw', 'fawcetty', 'fawecett', 'fawk', 'fawset', 'fawsit', 'faycett', 'fb', 'fbc', 'fbffph', 'fckd', 'fckin', 'fcp', 'fd', 'fdw', 'feal', 'fear', 'feat', 'feather', 'featherston', 'featur', 'februar', 'februari', 'feck', 'fed', 'fedex', 'fee', 'feebl', 'feed', 'feedback', 'feedroomcom', 'feeeeel', 'feeel', 'feel', 'feelen', 'feelin', 'feelinq', 'feelshorr', 'feet', 'feeter', 'feetquot', 'feh', 'feijoa', 'fele', 'feliciaodg', 'felipeze', 'felix', 'fell', 'fella', 'fellow', 'feloow', 'felt', 'femal', 'femalesdestroy', 'femin', 'fenc', 'fendidotcom', 'fenricwolf', 'fern', 'ferrah', 'ferrari', 'ferrera', 'ferretfreakx', 'ferretsfirst', 'ferrycorsten', 'fest', 'festiv', 'fetch', 'fever', 'fewer', 'ff', 'fflorentina', 'ffmo', 'fh', 'fianc', 'fiasco', 'fiascomonkey', 'fiber', 'fibertohom', 'fic', 'fiction', 'fie', 'field', 'fiend', 'fierc', 'fiercehug', 'fifa', 'fifteen', 'figa', 'figgybean', 'fight', 'fighter', 'fighti', 'figur', 'fil', 'fildia', 'file', 'fileservernasfirefli', 'filet', 'fill', 'fillet', 'film', 'filmbot', 'filter', 'filthi', 'fin', 'final', 'finallysux', 'financ', 'financegradth', 'financi', 'finch', 'find', 'findingjay', 'fine', 'finei', 'finetun', 'fing', 'finger', 'fingersandto', 'fingertip', 'fingur', 'finish', 'finishedd', 'finnish', 'finsh', 'fiofo', 'fire', 'fireabl', 'firearm', 'firebug', 'firefox', 'firehous', 'fireplac', 'firequilerm', 'fireston', 'firewal', 'firework', 'firi', 'firm', 'firmli', 'firmwar', 'first', 'fish', 'fisher', 'fishfood', 'fishget', 'fishi', 'fisl', 'fit', 'fitnessbox', 'fitnessdk', 'five', 'fix', 'fixabl', 'fixedi', 'fixnk', 'fixoutlook', 'fizz', 'fizzyduck', 'fkin', 'fkn', 'fl', 'fla', 'flacq', 'flag', 'flail', 'flame', 'flamingindigo', 'flaminhg', 'flare', 'flash', 'flat', 'flavor', 'flavour', 'flawless', 'flea', 'fletcher', 'fleur', 'flew', 'fli', 'flick', 'flickehw', 'flickr', 'flight', 'flik', 'flikr', 'flip', 'fliplloyd', 'flippin', 'flipsid', 'floa', 'flock', 'floffic', 'flood', 'floor', 'flop', 'florida', 'florintina', 'flow', 'flower', 'flowerrest', 'flowjust', 'flr', 'flu', 'fluffi', 'flui', 'fluid', 'flush', 'flutter', 'flyer', 'flyingac', 'flyinghei', 'flynn', 'flyyoufool', 'fm', 'fml', 'fmmfl', 'fmsphotographi', 'fmsquatro', 'fmylifecom', 'fn', 'fne', 'fo', 'foam', 'foamingbbq', 'fob', 'focu', 'focus', 'foe', 'fogbugz', 'foggi', 'fold', 'folder', 'foleypod', 'folk', 'follow', 'followerlam', 'followerss', 'followerswhat', 'followinq', 'followmandyw', 'follw', 'folowerssss', 'foltercloth', 'fomo', 'fond', 'fondl', 'fone', 'foneee', 'font', 'fontana', 'food', 'foodd', 'foodieguid', 'foodphilosophi', 'foodrel', 'foodthat', 'fooduh', 'foodwis', 'foodwork', 'fool', 'foooooool', 'foot', 'footag', 'footbal', 'footbath', 'footi', 'footlong', 'footnobodi', 'forc', 'forclos', 'ford', 'forecast', 'forehead', 'foreign', 'forenam', 'forens', 'foreseen', 'forest', 'forev', 'foreverkid', 'forfolkssak', 'forgav', 'forget', 'forgetit', 'forgiv', 'forgiven', 'forgot', 'forgotno', 'forgotten', 'forgottenand', 'fork', 'form', 'formal', 'former', 'formerli', 'formula', 'forqot', 'forreal', 'forrr', 'forsaken', 'forum', 'forumbas', 'forward', 'foss', 'fossiloflif', 'foster', 'fought', 'found', 'founnndddd', 'fountain', 'four', 'fourmil', 'fourth', 'fourzoa', 'fow', 'fowa', 'fox', 'foxi', 'foxwhisper', 'foxxxycleopatra', 'fp', 'fr', 'fractur', 'frag', 'fraggierock', 'fragil', 'fragranc', 'fraid', 'framolamdu', 'framus', 'fran', 'franc', 'francai', 'franceskim', 'franchise', 'franci', 'francisco', 'francophon', 'frank', 'frankferragin', 'franki', 'frankiekillsyo', 'frankli', 'franklin', 'frankschuil', 'frankst', 'frannnyyyrulez', 'frannykirb', 'frantic', 'franzfangirl', 'franï', 'frap', 'frapp', 'frappucino', 'frazierbooti', 'frc', 'frd', 'freak', 'freaki', 'freakin', 'freakinbugsgotta', 'freckl', 'fred', 'freddi', 'free', 'freebi', 'freedom', 'freeeeeeeeeeee', 'freefest', 'freelanc', 'freelazi', 'freele', 'freerol', 'freerunn', 'freez', 'freezer', 'freezerworthi', 'freitag', 'french', 'frenchfest', 'frenchgcfan', 'frenz', 'fresh', 'fresher', 'freshselect', 'fresno', 'fressh', 'fret', 'freze', 'fri', 'friaday', 'friboourg', 'fricken', 'frickin', 'friday', 'fridg', 'friedanz', 'frieend', 'friend', 'friendfe', 'friendli', 'friendlypharm', 'friendquot', 'friendship', 'friendster', 'friggin', 'frighten', 'friiiend', 'fring', 'frisbe', 'friscokidd', 'fritz', 'frm', 'frnd', 'frndsteachersskul', 'fro', 'frog', 'frogblurb', 'froggerl', 'froggi', 'fromblueski', 'fromggwithlov', 'front', 'frontend', 'frontier', 'frontofmonitor', 'fropm', 'frost', 'froulala', 'frow', 'frozen', 'frpm', 'fruit', 'frum', 'frumousm', 'frustrat', 'fs', 'ftownmiss', 'ftsk', 'ftth', 'fttn', 'ftw', 'fubar', 'fuccccccckkkkkk', 'fuchss', 'fuck', 'fuckciti', 'fucken', 'fuckenjew', 'fuckin', 'fuckk', 'fudg', 'fudgegraph', 'fuee', 'fuel', 'fueledbytaylor', 'fuelsourc', 'fuffi', 'fuj', 'fuk', 'fuke', 'fukin', 'fukuoka', 'fulfil', 'full', 'fullaah', 'fullbright', 'fulli', 'fulltimecasu', 'fun', 'function', 'fund', 'funer', 'funeralthi', 'funfun', 'funim', 'funk', 'funkalicioussam', 'funki', 'funkism', 'funn', 'funni', 'funnier', 'funniest', 'funnifunniest', 'funnn', 'funnymarriageqouteshtml', 'funnyquot', 'funplu', 'funquot', 'funvega', 'funwwwcursebirdcom', 'fupid', 'fur', 'furiou', 'furlough', 'fusion', 'fuss', 'fussi', 'fut', 'futur', 'futuralogija', 'futuretweet', 'fuuuuuuuun', 'fuzeb', 'fuzzi', 'fuzzybut', 'fuzzygoldfish', 'fwd', 'fwt', 'fy', 'fyi', 'fyn', 'fz', 'fï', 'g', 'ga', 'gaaaaaaaaaaaad', 'gaat', 'gabbler', 'gabbyisact', 'gabigail', 'gabl', 'gabysslav', 'gac', 'gadget', 'gaga', 'gagaï', 'gagov', 'gah', 'gahh', 'gahhh', 'gailport', 'gain', 'gajgupta', 'gal', 'galact', 'galaxi', 'galaxyzoo', 'galizl', 'galleri', 'galliv', 'gallon', 'galor', 'galt', 'gama', 'gamblest', 'game', 'gamequot', 'gamer', 'gamingangel', 'gammi', 'gampt', 'ganda', 'gandhi', 'gang', 'ganna', 'gansta', 'garag', 'garanc', 'garbag', 'garden', 'gargoyl', 'gari', 'garlic', 'garlington', 'garr', 'garri', 'garyhitchman', 'garyphay', 'garyshort', 'gasit', 'gasp', 'gaspar', 'gastric', 'gastroscopi', 'gate', 'gather', 'gatorad', 'gau', 'gaux', 'gave', 'gavin', 'gawd', 'gawddamnit', 'gawjuss', 'gay', 'gayi', 'gaypatriot', 'gaytwink', 'gazz', 'gb', 'gblock', 'gc', 'gcap', 'gd', 'gear', 'gedeon', 'gee', 'geek', 'geekeri', 'geekett', 'geekgirl', 'geeklitebeta', 'geekmp', 'geeky', 'geekyclean', 'geem', 'geez', 'gefelicidingest', 'geforc', 'geisha', 'gelukkig', 'gemiddeld', 'gemma', 'gemstar', 'gen', 'gender', 'gener', 'geneseo', 'genethefotog', 'geniu', 'gennorg', 'genr', 'gent', 'gentl', 'geo', 'geoff', 'geoffjon', 'geographi', 'geopolit', 'georg', 'georgia', 'georgiakain', 'georgiaprincez', 'georgiazz', 'georginamiln', 'geovolt', 'ger', 'gerad', 'gerardomitr', 'gerardway', 'german', 'germandoo', 'germani', 'germanyand', 'gerrybutl', 'gestã', 'get', 'getoutofmyband', 'gettin', 'gf', 'gfalcon', 'gfaraujo', 'gg', 'ggen', 'gggkeri', 'ggmatshek', 'ggui', 'gh', 'gha', 'ghalfacre', 'gherkin', 'ghetto', 'ghod', 'ghost', 'ghostbust', 'ghostbusterz', 'ghostland', 'ghosttheori', 'ghwt', 'gi', 'gia', 'gianetta', 'giant', 'gibbo', 'gibson', 'giddi', 'gift', 'giftif', 'giftuseem', 'gig', 'gigdiari', 'giggl', 'gigglessssssss', 'giiirl', 'gilad', 'gill', 'gillieschick', 'gillmor', 'gilloux', 'gillyliz', 'gilmoregirlc', 'gimm', 'gimmick', 'gina', 'ginadeangelo', 'gingeral', 'gingeri', 'gingervlogz', 'gini', 'ginormica', 'ginoserg', 'ginovalenciano', 'gio', 'gipsydream', 'giraff', 'girishmallya', 'girl', 'girland', 'girlfriend', 'girlgetstrong', 'girlguidecooki', 'girli', 'girllllll', 'girllllllllll', 'girlsampholiday', 'girltalk', 'git', 'giv', 'give', 'giveherthegun', 'given', 'giver', 'gizmo', 'gl', 'glad', 'gladli', 'glam', 'glamari', 'glamorousvand', 'glasgow', 'glass', 'glasshous', 'glasto', 'glastofest', 'glastonburi', 'glau', 'glaze', 'glccjl', 'glencocco', 'glengeorg', 'glenn', 'glenzgolfvi', 'glitter', 'gljufura', 'globe', 'gloomi', 'glorianatheband', 'gloriou', 'glue', 'gluten', 'glutenfreegirl', 'gm', 'gma', 'gmail', 'gmanvn', 'gmic', 'gmorn', 'gmsq', 'gmt', 'gnat', 'gnight', 'gniit', 'gnite', 'go', 'goa', 'goal', 'goat', 'gobigdav', 'goblin', 'gobut', 'god', 'godbut', 'goddamn', 'goddamnit', 'goddd', 'goddess', 'godfath', 'godi', 'godpleas', 'godquot', 'godsend', 'godsfavoriteb', 'godsgirlscam', 'goe', 'gogreen', 'goig', 'goin', 'goingbtw', 'goinig', 'golast', 'gold', 'golda', 'golden', 'goldenfish', 'goldensho', 'goldensky', 'goldfish', 'goldi', 'golf', 'golfbal', 'golli', 'gona', 'gone', 'goneback', 'goneomg', 'gong', 'gonna', 'gonnna', 'gonoooooo', 'gonssa', 'gonut', 'gonzocontinu', 'goo', 'goobimama', 'good', 'goodbut', 'goodby', 'goodcarrot', 'gooddd', 'goodevil', 'goodhow', 'goodi', 'goodluck', 'goodmorn', 'goodnight', 'goodnightttttt', 'goodrock', 'goodtim', 'goodwhatev', 'gooey', 'goof', 'goofbal', 'goofi', 'goog', 'googeegoo', 'googl', 'googlecar', 'googlingbiltmor', 'goonrgrrl', 'gooo', 'goood', 'gooodnight', 'gooodnyt', 'gooooo', 'goooood', 'goooooo', 'gooooood', 'goooooood', 'gooooooood', 'gooooooooood', 'goooooooooood', 'goos', 'goosetak', 'gopet', 'goquot', 'gordonchiu', 'gorg', 'gorgeou', 'gorgeoussssss', 'gosh', 'goshh', 'goshhh', 'goshhhhhhhhhh', 'gospel', 'goss', 'gosselin', 'gossinteract', 'gossip', 'gossipgirl', 'gossipgirlx', 'got', 'gota', 'gotchu', 'gothic', 'gotmilk', 'gott', 'gotta', 'gotten', 'govanhil', 'govenor', 'govern', 'govt', 'gown', 'gp', 'gpl', 'gpo', 'gpokrcom', 'gr', 'grab', 'grabe', 'grace', 'gracelisa', 'graciealbernaz', 'graciou', 'grad', 'grade', 'grader', 'gradient', 'gradual', 'graduand', 'graduat', 'graduatiion', 'graduationit', 'graemeainsli', 'graft', 'graham', 'grahambattersbi', 'gram', 'grampi', 'grand', 'grandad', 'grandfath', 'grandma', 'grandmaroyic', 'grandmoth', 'grandpa', 'grandpar', 'granffath', 'granmalet', 'granni', 'granola', 'grant', 'grantacum', 'granular', 'grape', 'grapevin', 'graph', 'graphic', 'grass', 'grate', 'gratitud', 'gratz', 'grave', 'greaaat', 'great', 'greatbrittania', 'greater', 'greatest', 'greatli', 'greatsomebodi', 'greattt', 'grebel', 'greec', 'greed', 'greeeeeaaaaaatttt', 'greek', 'greekfest', 'green', 'greenbeltsom', 'greenshin', 'greet', 'gregdelima', 'greggl', 'greggrunberg', 'gretelscarlett', 'grew', 'grey', 'greyd', 'greyish', 'griffinquotlif', 'griffintech', 'grill', 'grim', 'grimmer', 'grimtorn', 'grin', 'grinch', 'grind', 'grindin', 'grip', 'grisli', 'grist', 'groceri', 'groggi', 'groin', 'gronumbul', 'groov', 'gross', 'grossenhain', 'ground', 'group', 'groupi', 'grow', 'growin', 'growl', 'growlin', 'growllik', 'grown', 'grownup', 'growth', 'grpsedg', 'grr', 'grreat', 'grrr', 'grrrh', 'grrrr', 'grrrrr', 'grrrrrr', 'grrrrrrr', 'grrrrrrrrr', 'grumbl', 'grump', 'grumpi', 'gs', 'gse', 'gsoc', 'gt', 'gta', 'gtgt', 'gtlt', 'gtvone', 'gtx', 'gtzi', 'guard', 'guardianrenata', 'gud', 'guelsah', 'guess', 'guessi', 'guest', 'guia', 'guid', 'guidebook', 'guilt', 'guilti', 'guin', 'guineapig', 'guipulp', 'guitar', 'guitarr', 'guitarriot', 'gulf', 'gulp', 'gum', 'gumal', 'gummi', 'guna', 'gunka', 'gunna', 'gunnna', 'gunnnna', 'guppi', 'gupshup', 'gurl', 'gurlystar', 'gurrrll', 'guru', 'gush', 'gusta', 'gut', 'guy', 'guykawasaki', 'guysnow', 'guyz', 'gw', 'gwane', 'gwunivers', 'gyal', 'gyan', 'gym', 'gymnast', 'gzf', 'h', 'ha', 'haa', 'haaa', 'haaaaa', 'haaaaaaaaahahahahahah', 'haaay', 'haarlem', 'haarp', 'haay', 'habanero', 'habe', 'habit', 'hack', 'hacker', 'hadnt', 'hadt', 'hagan', 'hah', 'haha', 'hahaa', 'hahaaa', 'hahafunni', 'hahah', 'hahaha', 'hahahah', 'hahahaha', 'hahahahaha', 'hahahamayb', 'hahahha', 'hahaim', 'hahaokay', 'hahawel', 'hahha', 'hahhahahaa', 'hai', 'hail', 'hailmaryjan', 'hain', 'hair', 'hairaddict', 'haircut', 'hairdo', 'hairdress', 'hairhow', 'hairrrrr', 'hairspray', 'hairstyl', 'hairth', 'haiserg', 'haiz', 'haizzz', 'hakavod', 'half', 'halfdec', 'halfheartedli', 'halford', 'halfsibl', 'hall', 'halli', 'halliway', 'hallo', 'halloween', 'hamaray', 'hamburg', 'hamil', 'hamlet', 'hammer', 'hammett', 'hamo', 'hampa', 'hampton', 'hamsti', 'hamstr', 'hamu', 'hand', 'handcod', 'handgunfl', 'handl', 'handler', 'handrol', 'handsim', 'handsom', 'handwrit', 'handwrot', 'hang', 'hangbag', 'hanger', 'hangout', 'hangov', 'hani', 'hank', 'hankatplay', 'hanker', 'hanlli', 'hannah', 'hannahpoulton', 'hannahxcx', 'hanser', 'hansongirl', 'hansonmus', 'happen', 'happenï', 'happi', 'happier', 'happili', 'happpi', 'happybob', 'happyloveschuck', 'happysumm', 'happythat', 'har', 'harass', 'harbar', 'harbor', 'hard', 'hardcor', 'hardearn', 'harder', 'harderit', 'hardest', 'hardi', 'hardley', 'hardli', 'hardyshowsyuk', 'hari', 'harlequinxgirl', 'harley', 'harold', 'harpreetsohalxx', 'harri', 'harrison', 'harrow', 'harryharley', 'harsayi', 'harthanson', 'haruhi', 'harvey', 'harveylevintmz', 'hasbookpush', 'hasbro', 'hash', 'hashyahoo', 'hasnt', 'hassl', 'hassox', 'hast', 'hasta', 'hat', 'hate', 'hateedddd', 'hateh', 'hatelik', 'hater', 'hatin', 'hatr', 'hatt', 'haueaueua', 'haul', 'haunt', 'hav', 'have', 'havent', 'havin', 'havoc', 'hawaii', 'hawaiian', 'hawley', 'hawn', 'hawt', 'hawx', 'hay', 'haydn', 'hayesz', 'hayfev', 'hayi', 'haykuro', 'hayl', 'hayli', 'haylieoffici', 'hayvock', 'haz', 'hazard', 'hazi', 'hazrat', 'hb', 'hbo', 'hbu', 'hcc', 'hd', 'hdd', 'he', 'head', 'headach', 'headachhhh', 'headbang', 'headfirst', 'headin', 'headless', 'headlin', 'headnot', 'headphon', 'headsetcamera', 'headshot', 'headsup', 'heah', 'heal', 'health', 'healthi', 'healtybut', 'heap', 'hear', 'heard', 'heart', 'heartbreak', 'heartbreaken', 'heartbroken', 'hearth', 'heartquot', 'heat', 'heater', 'heather', 'heatherbrew', 'heatherlyb', 'heathermari', 'heatherpaig', 'heatherpark', 'heathersullivan', 'heaven', 'heavena', 'heavenli', 'heavi', 'heavili', 'heavyhand', 'hebden', 'hebrew', 'heck', 'hectic', 'hed', 'hedder', 'heeeeeeeeey', 'heeellpppp', 'heehe', 'heel', 'heey', 'heh', 'hehe', 'hehebut', 'heheh', 'hehehe', 'heheheh', 'heheheheh', 'heheheheheh', 'hehehmind', 'hehemiss', 'heheu', 'heidi', 'heidianderson', 'heidiheartshug', 'heidimontag', 'heidivolturi', 'height', 'heiko', 'held', 'helicon', 'helio', 'hell', 'hella', 'hellenbach', 'hellhousemedia', 'helli', 'hellicopt', 'hellish', 'hellivina', 'hello', 'hellobeb', 'hellobritta', 'hellodlo', 'hellooooooooo', 'hellorainbooow', 'hellyeah', 'hellz', 'helmet', 'help', 'helper', 'hematitegoddess', 'hematocrit', 'hemel', 'hemo', 'hemoglobin', 'hempstead', 'henri', 'henrychen', 'herbal', 'herbert', 'herbpayn', 'hercul', 'herd', 'herdamn', 'herder', 'here', 'hereawesomehop', 'heree', 'herehav', 'hereim', 'herequot', 'heresh', 'herewa', 'heritag', 'herm', 'herman', 'hermit', 'herno', 'hero', 'heroesarg', 'herothi', 'herr', 'herrr', 'hertbeat', 'hesit', 'het', 'hetti', 'hewi', 'hewit', 'hewitt', 'hey', 'heya', 'heydemi', 'heyi', 'heyxboxl', 'heyyyi', 'heyyyyy', 'heyyyyyi', 'heyyyyyyyyyyy', 'hhh', 'hhhmmm', 'hhmm', 'hhmmm', 'hhr', 'hi', 'hianni', 'hiatu', 'hibern', 'hibernia', 'hibippytea', 'hiccup', 'hid', 'hidden', 'hide', 'hideou', 'hientertain', 'hierd', 'higgggh', 'high', 'highest', 'highland', 'highli', 'highlight', 'highschool', 'highscor', 'hightech', 'hightlight', 'highway', 'hihi', 'hihik', 'hiii', 'hiiiii', 'hijack', 'hike', 'hilari', 'hill', 'hillari', 'hillsquothav', 'hillssssss', 'hilton', 'himalikiran', 'himayyy', 'himhel', 'himindoor', 'himlol', 'himlt', 'himynameisemmi', 'hin', 'hinder', 'hint', 'hip', 'hiphopnonstoptv', 'hippidi', 'hipster', 'hire', 'hiro', 'hisciencenatur', 'hiscor', 'histori', 'historrrrri', 'hit', 'hitchin', 'hithavaru', 'hitmanpr', 'hitten', 'hittin', 'hittman', 'hitwithafish', 'hitzdotfm', 'hiya', 'hjorth', 'hk', 'hkod', 'hl', 'hm', 'hmdavid', 'hmi', 'hmm', 'hmmi', 'hmmm', 'hmmmill', 'hmmmm', 'hmmmmm', 'hmmmnot', 'hnrxmcrlover', 'ho', 'hobbit', 'hoccgoomus', 'hockey', 'hodakotb', 'hoe', 'hoffentlich', 'hoffm', 'hogan', 'hoho', 'hol', 'hola', 'hold', 'holder', 'holdin', 'holi', 'holiday', 'holidayholiday', 'holla', 'holler', 'holli', 'hollibwel', 'holliday', 'hollleer', 'hollow', 'hollyandthewood', 'hollyfit', 'hollykin', 'hollyoak', 'hollyoaksu', 'hollywood', 'hollywoodaudrey', 'hollywoodton', 'hollywoodtrey', 'hollywoodtv', 'holyschmok', 'holyshitholyshitholyshitholyshit', 'holytshirt', 'homag', 'homanc', 'home', 'homealon', 'homeampaway', 'homebas', 'homeboy', 'homeday', 'homee', 'homeeee', 'homeflutri', 'homeit', 'homeland', 'homeless', 'homemad', 'homemeanwhil', 'homepag', 'homequotuaequot', 'homeschool', 'homesteadwool', 'homeward', 'homework', 'homewreck', 'homey', 'homfgg', 'homi', 'homo', 'hon', 'hone', 'honest', 'honesti', 'honestli', 'honestlyam', 'honey', 'honeyhoneybun', 'honeytech', 'hong', 'honor', 'honoredthank', 'honour', 'hoo', 'hood', 'hoodi', 'hook', 'hookedonwint', 'hooker', 'hooki', 'hookitupppp', 'hoon', 'hooome', 'hoooooooooom', 'hooray', 'hoot', 'hoover', 'hoow', 'hop', 'hope', 'hopeformus', 'hopefuli', 'hopefullywil', 'hopeinhel', 'hopeless', 'hopin', 'hopkin', 'hoppersnot', 'horibbbl', 'horibl', 'hormon', 'horn', 'hornbach', 'horner', 'hornerakg', 'horni', 'horray', 'horribl', 'horrif', 'horror', 'hors', 'hortovanyi', 'hose', 'hospit', 'host', 'hostel', 'hoster', 'hostess', 'hostil', 'hot', 'hotbab', 'hotcross', 'hotdog', 'hotel', 'hothobolov', 'hothumidsweatyuncomfortablei', 'hott', 'hotter', 'hottest', 'hotti', 'hotttt', 'hotu', 'hotwet', 'hotx', 'hou', 'hound', 'hour', 'houramp', 'hourli', 'hoursgot', 'hoursquot', 'hoursyou', 'hourthat', 'hous', 'household', 'housemovingblu', 'houseofgem', 'housetrain', 'housewifey', 'housework', 'housi', 'houston', 'houstonbeauti', 'hover', 'hoviatt', 'how', 'howardrepris', 'howdi', 'howev', 'howr', 'hp', 'hpj', 'hpthemus', 'hptwilight', 'hq', 'hr', 'hrere', 'hrim', 'hrsugh', 'hrsway', 'hsm', 'hsumilo', 'htc', 'htci', 'html', 'htmlcss', 'htown', 'http', 'httpadcontrarianblogspotcom', 'httpadvuc', 'httpantwrpgsfcnasagovapodap', 'httpapassantnet', 'httpappsfacebookcomdogbookprofileview', 'httpartheidomybrutecomtf', 'httpatwitterprayerforgibliptv', 'httpawesm', 'httpbabyboxeslivejournalcom', 'httpbetafriendfeedcommiramarmik', 'httpbitli', 'httpbitlyakqld', 'httpbitlyb', 'httpbitlybss', 'httpbitlyc', 'httpbitlydrsn', 'httpbitlydvcg', 'httpbitlyerw', 'httpbitlyetnyn', 'httpbitlyf', 'httpbitlyfewsl', 'httpbitlygmkdi', 'httpbitlygyqi', 'httpbitlyhpnri', 'httpbitlyi', 'httpbitlyiwgq', 'httpbitlyj', 'httpbitlyjsxm', 'httpbitlykydjd', 'httpbitlymd', 'httpbitlymkdn', 'httpbitlyml', 'httpbitlynajkl', 'httpbitlynh', 'httpbitlyonhyd', 'httpbitlypqla', 'httpbitlypsx', 'httpbitlyqbgn', 'httpbitlyrmpmu', 'httpbitlyrscn', 'httpbitlyrvdwj', 'httpbitlysaxondtd', 'httpbitlyt', 'httpbitlytoppfblog', 'httpbitlyuymmp', 'httpbitlywk', 'httpbitlyxecz', 'httpbitlyxmvi', 'httpbkitecom', 'httpblipfm', 'httpchaicoffeeblogspotcom', 'httpclig', 'httpcrisi', 'httpcrystaldermycom', 'httpdatagov', 'httpdiggcomd', 'httpdownloadlivecomskumesseng', 'httpelutscomfrontstoreitemitemzoomaspitemnum', 'httpfanclubbackstreetboyscomchatphp', 'httpffim', 'httpfifa', 'httpflickchartcom', 'httpfoxnewscomstrategyroom', 'httpgetdropboxcom', 'httphubtmkxjbq', 'httpilovecupcakescoza', 'httpircjombuatduitnet', 'httpisgd', 'httpisgdq', 'httpisgdr', 'httpisgdra', 'httpisgdrabq', 'httpisgdrabu', 'httpisgdraut', 'httpitunesapplecomwebobjectsmzstorewoawaviewsoftwareid', 'httpjazfcom', 'httpjdemcza', 'httpjusttweetitcomgraphicdesign', 'httpkdkacomnationalfarrahfawcetthospit', 'httplabandremichellecomtonematrix', 'httplooptusasc', 'httplooptusfzoniwt', 'httpmattfca', 'httpmembermibbacom', 'httpmobypicturecomsm', 'httpmylocm', 'httpmypictm', 'httpnewsbbccouk', 'httpomeglecom', 'httporangetourorg', 'httpowlyfqhu', 'httppetparenthoodblogspotcom', 'httppicslivejournalcomnomadfoxp', 'httppikchurcomt', 'httppinpoetcomplanet', 'httppkabwordpresscom', 'httpplurkcomp', 'httpplurkcompmzp', 'httpplurkcompmzrp', 'httpplurkcompmzsld', 'httpplurkcompmztfi', 'httpplurkcompmzyb', 'httpplurkcompmzz', 'httpplurkcompn', 'httppsdessentialcominspir', 'httprapidsharecomfil', 'httprinkworkscomsaidcourtroomshtml', 'httpshortieih', 'httpsnedwancom', 'httpsniprcomf', 'httpsniprcomkv', 'httpsoundcloudcomjayfjayfuntitledasofnow', 'httpsp', 'httpspinvoxcombb', 'httpsuccessrevolutioncom', 'httptechnoraticomtagbarcampkl', 'httpthebladesbiz', 'httptheclausitowordpresscomtravel', 'httpthemeatloafywordpresscom', 'httptini', 'httptinyccbjcyj', 'httptinyurlcom', 'httptinyurlcomc', 'httptinyurlcomcactjn', 'httptinyurlcomcd', 'httptinyurlcomcddc', 'httptinyurlcomcfnzpk', 'httptinyurlcomchkdxb', 'httptinyurlcomcnlsz', 'httptinyurlcomcnra', 'httptinyurlcomcp', 'httptinyurlcomd', 'httptinyurlcomdbvlwt', 'httptinyurlcomdbwg', 'httptinyurlcomdcupoy', 'httptinyurlcomdfldvc', 'httptinyurlcomdg', 'httptinyurlcomdj', 'httptinyurlcomdjbec', 'httptinyurlcomdlevo', 'httptinyurlcomebbod', 'httptinyurlcomhecklerxyz', 'httptinyurlcoml', 'httptinyurlcomlfttsc', 'httptinyurlcomlmvn', 'httptinyurlcomlob', 'httptinyurlcomlowvec', 'httptinyurlcommbp', 'httptinyurlcommwpk', 'httptinyurlcommwvp', 'httptinyurlcomn', 'httptinyurlcomnjql', 'httptinyurlcomnjul', 'httptonynitwgooglepagescomthewitamintablet', 'httptoomanypplhaveblogsblogspotcom', 'httptotromancutadeviantartcomartnewborn', 'httptrimimng', 'httptrimimqg', 'httptrimimwb', 'httptrimimzw', 'httptrimpjj', 'httptrimpjp', 'httptumblrcomx', 'httptumblrcomxdr', 'httptumblrcomxf', 'httptumblrcomxra', 'httptumblrcomxss', 'httptumblrcomxyx', 'httptweetsg', 'httptwitgoocomi', 'httptwitpiccom', 'httptwittercomsamiyusuf', 'httptwittercomsevinnyn', 'httptwittercomtimelinedirectmessag', 'httptwittergradercomitsdawn', 'httptwittergradercomjfreem', 'httptwtfm', 'httptwurlccq', 'httptwurlnl', 'httptwurlnljxynqm', 'httptwurlnlk', 'httptwurlnlw', 'httpustream', 'httpwheresthegeekscouk', 'httpwortsuchendeendswithbylengthtel', 'httpwwwartissoftwaredepicturesmailpng', 'httpwwwastanacyclingteamcom', 'httpwwwatebitscom', 'httpwwwbikelycommapsbikepathmanlydammountainbiketrack', 'httpwwwboredcompranksiteindexhtm', 'httpwwwbypassfirewallnowcom', 'httpwwwchombocomauimag', 'httpwwwclickabrickorg', 'httpwwwcnncom', 'httpwwwdeezercomtrack', 'httpwwwexaminercomx', 'httpwwwextremetechcomarticl', 'httpwwwflashsellcoccparfumeslisthtml', 'httpwwwhulucomwatch', 'httpwwwjennifervazquezcomproductshtm', 'httpwwwlastfmmusicnoiseboy', 'httpwwwlogoficom', 'httpwwwlovingfromadistancecomthingsforldrcouplestodohtml', 'httpwwwmatthartleycomchumbyhtml', 'httpwwwmobipowerpackscom', 'httpwwwmyspacecom', 'httpwwwnewgroundscomportalview', 'httpwwwnikrustycom', 'httpwwwohgodmyeyescom', 'httpwwwonlinemarktplatzd', 'httpwwwpharmaeffectscom', 'httpwwwsearchenginechocolatecomblog', 'httpwwwshoedazzlecom', 'httpwwwspiritofspeysidecom', 'httpwwwstabmagcomlittleweedsthelittleweedskimandison', 'httpwwwtelegourmetorg', 'httpwwwthedailyshowcomvideoindexjhtmlvideoid', 'httpwwwtripcentralcaphpfunnyindexphpactionplayvideoampvideoid', 'httpwwwtrovuscouk', 'httpwwwtweetstatscom', 'httpwwwwebowordcom', 'httpwwwwlrnorg', 'httpwwwwordlenet', 'httpwwwworldresolutionnettravel', 'httpwwwwriterobinsoncom', 'httpwwwyoutubecomuserkoolkidzblock', 'httpwwwyoutubecomwatchv', 'httpwwwyoutubecomwatchvbelzcym', 'httpwwwyoutubecomwatchvcl', 'httpwwwyoutubecomwatchverpsx', 'httpwwwyoutubecomwatchvgvshc', 'httpwwwyoutubecomwatchvhlww', 'httpwwwyoutubecomwatchviuehasxb', 'httpwwwyoutubecomwatchvkdkiqfb', 'httpwwwyoutubecomwatchvmp', 'httpwwwyoutubecomwatchvnrlsku', 'httpwwwyoutubecomwatchvqcsdv', 'httpwwwyoutubecomwatchvzogfqvh', 'httpwwwzachleatcomprojectsalarmd', 'httpyfrogcom', 'httpykyatcom', 'httpyoutubecomsupermac', 'httpznlmeo', 'htwn', 'hu', 'hua', 'hub', 'hubbi', 'hubz', 'huckleberri', 'huesudito', 'huey', 'hug', 'huge', 'hugg', 'hugger', 'huggi', 'huggl', 'hugh', 'hughesforc', 'hughesi', 'hughlauri', 'huglov', 'hugsssssssss', 'hugzzzzzzzzzzzz', 'huh', 'huhauha', 'huhh', 'hulk', 'hulucom', 'hum', 'human', 'humid', 'humili', 'humm', 'hummer', 'hummingbird', 'hummm', 'humor', 'humorless', 'humour', 'hump', 'humu', 'hun', 'hunch', 'hundr', 'hung', 'hungarian', 'hunger', 'hungov', 'hungrey', 'hungri', 'hungryso', 'hungryworship', 'hunney', 'hunni', 'hunnybunni', 'hunt', 'hunter', 'huntersmama', 'huntington', 'hunz', 'hurley', 'hurrah', 'hurray', 'hurri', 'hurrican', 'hurrt', 'hurt', 'hurtsi', 'hurumf', 'husband', 'husbandfath', 'huw', 'huwstephen', 'hv', 'hve', 'hving', 'hvnt', 'hw', 'hwait', 'hy', 'hybrid', 'hyde', 'hye', 'hym', 'hyper', 'hyster', 'hzell', 'háº', 'hã', 'ia', 'iain', 'iaintnohomo', 'iambluecub', 'iamdiddi', 'iamhorror', 'iammarku', 'iammercymed', 'iamrenesia', 'iamstevenbagg', 'ian', 'ianaspin', 'ianp', 'ianrckstr', 'iata', 'ibiza', 'ibrahim', 'ibu', 'ic', 'ice', 'icecream', 'ich', 'ichat', 'ichosetol', 'ichristian', 'ici', 'icjackson', 'icki', 'ickleorient', 'icon', 'icsid', 'ictoria', 'icyw', 'icywil', 'icã', 'id', 'idc', 'idea', 'ideal', 'ident', 'identica', 'identifi', 'identifox', 'identitykrysi', 'ideshab', 'idesk', 'idiot', 'idjd', 'idk', 'idkk', 'idol', 'idoltour', 'idonthaveflea', 'idw', 'ie', 'ieft', 'ielli', 'ientj', 'if', 'iframeshim', 'igerren', 'ight', 'igimm', 'iglesia', 'ignitechang', 'ignor', 'igoogl', 'igorkheifet', 'ihad', 'ihadith', 'ihatecrayon', 'ihop', 'ii', 'iiheartshana', 'iii', 'iinshould', 'iirc', 'ij', 'ijamidayu', 'ijansch', 'ijohn', 'ijustin', 'ikbenjanin', 'ike', 'ikea', 'il', 'ili', 'iliveforthi', 'ill', 'illeg', 'illest', 'illiter', 'illumin', 'ilov', 'ilovegayboy', 'ilovespot', 'ilovey', 'ilu', 'iluma', 'ilusm', 'iluvnkotb', 'ilux', 'ilvdbch', 'ilytoo', 'im', 'ima', 'imadesiign', 'imag', 'imagejenn', 'imagin', 'imaginari', 'imalcolmjam', 'imalexevan', 'imarriag', 'imbanditsp', 'imbartsimpson', 'imburbl', 'imdavi', 'imdoc', 'ime', 'imedia', 'imfreshtodef', 'imisshim', 'imissy', 'imjustcr', 'imlmao', 'imm', 'imma', 'immedi', 'immin', 'immmheidi', 'immun', 'imperson', 'implement', 'impli', 'import', 'imposs', 'impot', 'impress', 'improp', 'improv', 'imranajmain', 'imranhussain', 'imsoape', 'imtiredofstrategistshtml', 'in', 'ina', 'inadvert', 'inappropri', 'inblueink', 'inbox', 'inc', 'incendiari', 'inch', 'incident', 'incl', 'inclin', 'includ', 'includng', 'inclus', 'incom', 'incompletebut', 'incorpor', 'increas', 'incred', 'incredibleconsid', 'increment', 'incubu', 'inde', 'indeedio', 'independ', 'indesign', 'index', 'indi', 'india', 'indiaali', 'indian', 'indiana', 'indien', 'indigen', 'indisput', 'individu', 'indonesian', 'indowebst', 'induc', 'induct', 'indulg', 'industri', 'inekeclew', 'inertia', 'inet', 'inevit', 'inevitablelik', 'infact', 'infam', 'infatu', 'infect', 'infinitarchitek', 'influenc', 'influenza', 'info', 'infobunni', 'inform', 'informat', 'infrastructur', 'infront', 'ingrain', 'ingredi', 'ingridcol', 'ingridk', 'ingridmus', 'inhibit', 'initdont', 'initi', 'inject', 'injur', 'injuri', 'ink', 'inlaw', 'inlookout', 'innalar', 'inner', 'innik', 'innoc', 'ino', 'inprogress', 'input', 'inreal', 'insan', 'insearchofnkotb', 'insecur', 'inseper', 'insert', 'insid', 'insideout', 'insidetheglow', 'insight', 'insirst', 'insomnia', 'inspect', 'inspir', 'inspirationin', 'inspirationthank', 'instal', 'instantli', 'instead', 'institut', 'instruct', 'instrument', 'insubordin', 'insult', 'insur', 'integ', 'integr', 'intellig', 'intelligensia', 'intend', 'intens', 'intent', 'interact', 'interest', 'interfac', 'interfer', 'interior', 'intern', 'internet', 'internetless', 'internship', 'interpret', 'interpretorsound', 'interrupt', 'interview', 'interweb', 'interwebz', 'intl', 'intro', 'introduc', 'intvu', 'invega', 'invent', 'inventor', 'inveri', 'investig', 'invis', 'invit', 'involv', 'iowa', 'ipathia', 'ipb', 'iphigeni', 'iphon', 'iphonedevgirl', 'iphoneipod', 'iphoney', 'iphoto', 'ipink', 'iplay', 'ipod', 'ipoda', 'ipt', 'iquot', 'irala', 'iran', 'iranelect', 'iraq', 'irb', 'ireland', 'irenecarag', 'ireport', 'ireton', 'irfanahm', 'irfanhaneefcl', 'irish', 'irishsiobhan', 'iritatng', 'irl', 'iron', 'ironchefshelli', 'ironclasp', 'irrat', 'irregular', 'irrelev', 'irrepar', 'irresist', 'irrespons', 'irrit', 'isa', 'isabeau', 'isabel', 'isabellamcullen', 'isabellaxo', 'isacullen', 'isak', 'isanl', 'iscreamfashion', 'isedo', 'isengard', 'ish', 'ishihara', 'ishtudei', 'isjust', 'isl', 'island', 'islandcubfre', 'ismackyourass', 'isnit', 'isnt', 'isobel', 'isol', 'isorrieid', 'ispunk', 'issamel', 'issu', 'ist', 'isth', 'istilah', 'istor', 'itali', 'italia', 'italian', 'italienisch', 'itc', 'itch', 'itchyyi', 'itd', 'item', 'itev', 'itfirst', 'ith', 'ithato', 'ithop', 'iti', 'itinerari', 'itit', 'itjakob', 'itlay', 'itll', 'itquot', 'itsajen', 'itsangi', 'itsanimesh', 'itsann', 'itsdawn', 'itsjayrabbabi', 'itsjonlevin', 'itsninenow', 'itsonalexa', 'itsorri', 'itsroomi', 'itssb', 'itstoni', 'itsuki', 'itsyvonn', 'itt', 'itthi', 'itttsss', 'itun', 'itw', 'itâ', 'itï', 'iu', 'iut', 'iv', 'ive', 'ivent', 'ivesquotlik', 'ivi', 'ivorytow', 'iwa', 'iweb', 'iwebrarian', 'iwrotethi', 'iyya', 'iz', 'izing', 'izon', 'izzakizza', 'izzo', 'izzyeatsbabi', 'iâ', 'iï', 'j', 'ja', 'jaa', 'jaaaaaah', 'jaadu', 'jab', 'jac', 'jacatrenich', 'jace', 'jaceperri', 'jack', 'jackcross', 'jacke', 'jacketshoodi', 'jackhii', 'jacki', 'jackiemcghe', 'jackman', 'jackmckay', 'jackschofield', 'jackson', 'jacksonvil', 'jacob', 'jacqui', 'jacuzzi', 'jacvici', 'jadaboi', 'jademu', 'jadmalala', 'jaguarjuli', 'jagusti', 'jai', 'jail', 'jailbreak', 'jailbreakland', 'jaimiefanat', 'jakarta', 'jake', 'jakechew', 'jakejon', 'jaketoocool', 'jalbertbowdenii', 'jam', 'jamaica', 'jamaipanes', 'jamba', 'jame', 'jamesaray', 'jamesdeen', 'jameskysonle', 'jamespleas', 'jamesshunt', 'jami', 'jamieduk', 'jamiegirl', 'jamierosa', 'jamiesmart', 'jammi', 'jammin', 'jan', 'janaej', 'jane', 'janebelinda', 'janeetmb', 'janel', 'janet', 'jani', 'janiceros', 'janniestwbox', 'janportfolio', 'januari', 'janyxu', 'japan', 'japanes', 'japannewbi', 'jar', 'jare', 'jaredleto', 'jargon', 'jarnail', 'jarrattdavi', 'jashiu', 'jasmin', 'jasminechanel', 'jason', 'jasonandjodi', 'jasonaten', 'jasonbett', 'jasonpmcrussel', 'jasonsala', 'jaunti', 'javaj', 'jaw', 'jawab', 'jax', 'jaxontyl', 'jay', 'jaybrannan', 'jaydem', 'jayjaykle', 'jayjayl', 'jaylastarr', 'jaym', 'jaymeevici', 'jaynetunstal', 'jayseetoo', 'jaywatt', 'jaz', 'jazf', 'jazziefaith', 'jazzl', 'jazznash', 'jb', 'jbagley', 'jbrotherlov', 'jbruin', 'jclayvil', 'jcrillz', 'jdickerson', 'je', 'jealou', 'jealoustalk', 'jealousyat', 'jean', 'jeanchia', 'jebholm', 'jeep', 'jeeper', 'jeepersmedia', 'jeez', 'jeezyfosheezi', 'jeff', 'jeffgilli', 'jeffhandley', 'jeffkang', 'jeffmitchel', 'jeffre', 'jeffreecuntstar', 'jeffsparxxx', 'jeffswaren', 'jefftefertil', 'jeickythecat', 'jelez', 'jelli', 'jellibeen', 'jello', 'jelou', 'jemcam', 'jenandtonica', 'jenbjoyc', 'jendalyn', 'jenellnicol', 'jenga', 'jengregori', 'jenhuckdol', 'jeniu', 'jennamadison', 'jennaynayi', 'jennbrown', 'jennex', 'jenngonzalez', 'jenni', 'jennif', 'jennifalcon', 'jenniferawhit', 'jenniferg', 'jenniferlaurenh', 'jennifermf', 'jenniferrooney', 'jenniish', 'jennlajeuness', 'jennma', 'jennyj', 'jensoyoung', 'jenspeedi', 'jentheju', 'jep', 'jephjacqu', 'jer', 'jeremi', 'jerichok', 'jerime', 'jerk', 'jerri', 'jerrycchen', 'jersey', 'jeslynfong', 'jess', 'jessakelli', 'jessewilson', 'jesseyuen', 'jessic', 'jessica', 'jessicahambi', 'jessicastrust', 'jessiefulk', 'jessisahero', 'jessthemediocr', 'jesu', 'jesusquot', 'jesusseri', 'jet', 'jeter', 'jethron', 'jetski', 'jf', 'jfreem', 'jgar', 'jgto', 'jhaebet', 'jhann', 'jharsem', 'jhayu', 'jhnewf', 'jhoke', 'jhonenv', 'jhtt', 'jhybe', 'jiazhen', 'jif', 'jigglefest', 'jill', 'jillalbano', 'jillporto', 'jillyt', 'jiln', 'jim', 'jimayson', 'jimlokay', 'jimmi', 'jimmrow', 'jimmunci', 'jimmybuffett', 'jimmycarr', 'jimmyeatworld', 'jimmyfallon', 'jimmygordon', 'jimmypoodl', 'jimmysmithtrain', 'jimpeel', 'jing', 'jingl', 'jinjadev', 'jinro', 'jinx', 'jinxieg', 'jix', 'jizzin', 'jj', 'jjake', 'jjanebb', 'jjchicken', 'jjmothafokinkeo', 'jjust', 'jk', 'jkmyth', 'jkor', 'jlbooth', 'jlienx', 'jlo', 'jlsbbi', 'jlsoffici', 'jmac', 'jmatthewflyzik', 'jmcdermotti', 'jnarin', 'jnez', 'jo', 'joannabutl', 'joannayoung', 'joannazuniga', 'job', 'jobfrom', 'jobhmmha', 'jobsgreat', 'jobsworth', 'joburg', 'jocam', 'jocelynbrook', 'jodialbert', 'joe', 'joeallam', 'joeandjess', 'joeaugustin', 'joel', 'joelheitmar', 'joelkonecni', 'joelmadden', 'joeltel', 'joemcintyr', 'joemqi', 'joerearden', 'joesgirl', 'joesteinworth', 'joesu', 'joey', 'joeylibetta', 'jog', 'jogabenitavaltan', 'johanbruyneel', 'johanna', 'johannacherri', 'john', 'johnbishop', 'johnhay', 'johnheimk', 'johnkolbert', 'johnlloydyoung', 'johnni', 'johnnypez', 'johnnyrecord', 'johnquin', 'johnson', 'johoho', 'joi', 'join', 'jojo', 'jojoba', 'joke', 'jokejokejok', 'joli', 'jolijnposthuma', 'jolilor', 'jon', 'jona', 'jonahbailey', 'jonandk', 'jonanthan', 'jonasbroth', 'jonaskevin', 'jonathan', 'jonathanfry', 'jonathanrknight', 'jonconnelli', 'jone', 'jonesin', 'jonfavreau', 'jonni', 'jonnylawchicagoi', 'jonnyli', 'jonoethan', 'jonskeet', 'jonto', 'jonut', 'jonwuk', 'joob', 'joolz', 'joomlawork', 'jooooordan', 'joota', 'jop', 'joplin', 'jordan', 'jordanknight', 'jordynhil', 'jori', 'jorskwen', 'jose', 'josef', 'josemarqu', 'josephdsumm', 'josephineb', 'josesosa', 'josh', 'joshinthec', 'joshua', 'joshuabarbour', 'joshwahudson', 'josui', 'journal', 'journalist', 'journalquot', 'journey', 'journeyjuju', 'journo', 'joy', 'joyand', 'joyandlif', 'joycekim', 'joyciebo', 'joydaili', 'joypod', 'joytribbl', 'jpack', 'jpcashcash', 'jpeg', 'jpierc', 'jpl', 'jpp', 'jprice', 'jr', 'jreneebuchholz', 'jrgibson', 'js', 'jsamuelson', 'jschind', 'jsiegand', 'jsmith', 'jsneed', 'jst', 'jstan', 'jstarrh', 'jsut', 'jsworld', 'jt', 'jtklx', 'jtownend', 'jtryon', 'jtv', 'ju', 'juan', 'juand', 'juani', 'juat', 'jubile', 'judelaros', 'judg', 'judi', 'judithbailey', 'juggernaut', 'juggl', 'juic', 'juiicybabiixx', 'juin', 'julesbianchi', 'juli', 'juliab', 'julialush', 'julianahatfield', 'juliankim', 'julianneiann', 'juliaroy', 'julieallinson', 'julieand', 'julieandth', 'juliejoli', 'juliejujube', 'juliekoh', 'juliet', 'juliwooli', 'julyyyyi', 'jump', 'jumper', 'june', 'juneaurock', 'juneeith', 'juneth', 'jungl', 'juni', 'junior', 'junk', 'junkiecat', 'juntar', 'jupin', 'jur', 'juri', 'jusluvinlif', 'juss', 'jusssstt', 'justad', 'justchat', 'justd', 'justdaydream', 'justg', 'justheard', 'justher', 'justi', 'justic', 'justif', 'justin', 'justinbieb', 'justindem', 'justingr', 'justinhayward', 'justreal', 'justreva', 'juz', 'jw', 'jwillock', 'jz', 'jzdziarski', 'jzfflm', 'jáº', 'jã', 'k', 'ka', 'kaayphon', 'kacimaureen', 'kacymariema', 'kade', 'kadenc', 'kai', 'kaifeng', 'kaikhao', 'kailun', 'kaiser', 'kakï', 'kal', 'kaleenka', 'kalemeow', 'kalenamil', 'kalpenn', 'kameelahwrit', 'kami', 'kanina', 'kannagi', 'kannib', 'kany', 'kapsali', 'karah', 'karakarth', 'karanbir', 'karaok', 'karaokï', 'karat', 'kardashian', 'karhi', 'kariegli', 'karin', 'karina', 'karishma', 'karlaynzon', 'karleigh', 'karma', 'karmadillo', 'karna', 'karraaaawr', 'karrisfoxi', 'karro', 'karrrin', 'karsentheslat', 'kart', 'kasal', 'kasi', 'kaspershow', 'kat', 'katawa', 'katayi', 'katdog', 'kate', 'kateedward', 'katehugh', 'katekendal', 'katesparti', 'katexuereb', 'kati', 'katiebugwho', 'katiehay', 'katiejohnston', 'katiepiatt', 'katieporrello', 'katla', 'katn', 'katnkyeri', 'katpap', 'katreim', 'katrinabikini', 'kattcom', 'katybudgetbook', 'kaushal', 'kavismus', 'kawan', 'kay', 'kayak', 'kaybella', 'kaykay', 'kayle', 'kayleigh', 'kayota', 'kazeemmus', 'kb', 'kbb', 'kben', 'kbow', 'kbp', 'kbtg', 'kc', 'kcarruth', 'kcc', 'kcoffici', 'kdubbb', 'kealli', 'keeen', 'keenorga', 'keep', 'keepal', 'keeperquot', 'keepin', 'keepinupwkri', 'keesitt', 'keidi', 'kein', 'keith', 'keithdsouza', 'keithprivett', 'kelisha', 'kell', 'kelli', 'kellierasberri', 'kellyhgay', 'kellykendal', 'kellyleahi', 'kellyng', 'kellynva', 'kellyrowland', 'kelsitesta', 'ken', 'kena', 'kenarmstrong', 'kendallmassey', 'kenday', 'kendravvv', 'kenichan', 'kenjbarn', 'kennel', 'kennethreitz', 'kenni', 'kennysnow', 'kensutz', 'kent', 'kentucki', 'kenya', 'kenyonluk', 'kept', 'ker', 'keri', 'kerr', 'kerrikuklinski', 'kerrilouis', 'kesavareddi', 'keskiyo', 'kevin', 'kevinhart', 'kevinros', 'kevinruddpm', 'kevinswitz', 'kevlar', 'kevykevykelvin', 'kewl', 'key', 'keyannaaa', 'keyboard', 'keygenkeyg', 'keynot', 'keyr', 'keyword', 'kfanyc', 'kfest', 'kh', 'khaliblach', 'khan', 'khi', 'khichdi', 'khloefarrah', 'khloekardashian', 'kick', 'kickbox', 'kickdrum', 'kickslol', 'kid', 'kiddin', 'kiddo', 'kidnap', 'kidney', 'kidsclean', 'kidsgoap', 'kierdarbi', 'kieren', 'kieronlan', 'kieshacarrmodel', 'kiki', 'kikivald', 'kilian', 'kill', 'killer', 'kim', 'kimalon', 'kimbeeism', 'kimberfac', 'kimberleycanada', 'kimiah', 'kimkardashian', 'kimmiedavid', 'kimmygib', 'kimsedman', 'kinabalu', 'kinagranni', 'kind', 'kinda', 'kindergarten', 'kinderporno', 'kindl', 'kindoff', 'kindr', 'king', 'kingarlen', 'kingda', 'kingdomguard', 'kingii', 'kingston', 'kingunicorn', 'kinki', 'kinokuniya', 'kinokuniyaaust', 'kippygo', 'kir', 'kira', 'kiraaampi', 'kirilenko', 'kirisutegomen', 'kirsssti', 'kirsti', 'kirstyr', 'kisha', 'kisi', 'kiss', 'kisswithatear', 'kit', 'kita', 'kitchen', 'kitt', 'kitte', 'kitteh', 'kitten', 'kittenz', 'kitti', 'kittieskiddi', 'kittybuffiekat', 'kittystiletto', 'kiwi', 'kiya', 'kiyastar', 'kjaslgja', 'kjong', 'klari', 'kleenex', 'kleinjinx', 'klg', 'klowndogg', 'km', 'kmacableyour', 'kmancobhc', 'kming', 'kml', 'knee', 'knew', 'knife', 'knight', 'knighti', 'knightowl', 'knihi', 'knit', 'knitluck', 'knitplaywithfir', 'knitster', 'knive', 'knnow', 'kno', 'knob', 'knock', 'knocki', 'knoooooooo', 'knorr', 'knot', 'know', 'knoweven', 'knowi', 'known', 'knownot', 'knowperson', 'knowpig', 'knoww', 'knowwhat', 'knowww', 'knw', 'knwo', 'ko', 'koala', 'kodachrom', 'kodoliga', 'koffeekosmo', 'kogibbq', 'koi', 'kok', 'kol', 'kong', 'konqueror', 'kook', 'koolaid', 'koolgirl', 'kooli', 'koon', 'korea', 'korean', 'koreekreep', 'koreesadsad', 'korey', 'koriannespeak', 'korionmorri', 'kotor', 'kourtneykardash', 'kp', 'kpvd', 'kram', 'krisallenmus', 'krisbuytaert', 'krisgarvey', 'kristacolvin', 'kristanichol', 'kristenjstewart', 'kristenwdw', 'kristim', 'kristinebam', 'kristinekilljoy', 'krisym', 'krod', 'krudd', 'kryptonit', 'krystalatwork', 'kryten', 'kshakya', 'ktbeeper', 'ktsaurusrex', 'ktsummer', 'ku', 'kuch', 'kudo', 'kuliah', 'kumar', 'kumarhk', 'kung', 'kupkakein', 'kurb', 'kurli', 'kurtsho', 'kurttheoutsid', 'kutcher', 'kutekr', 'kutner', 'kuwait', 'kuya', 'kwaito', 'kworkman', 'ky', 'kyabean', 'kyiv', 'kyle', 'kyleandjackieo', 'kylefox', 'kyork', 'kyoto', 'kyte', 'kyuhyunni', 'kz', 'kã½', 'kï', 'l', 'la', 'laalaa', 'laalice', 'laatina', 'lab', 'labelhmm', 'labellemusik', 'labeouf', 'labor', 'labour', 'labyrinth', 'laci', 'lack', 'lad', 'ladi', 'ladydoc', 'ladyerlynn', 'ladyexec', 'ladygaga', 'ladyhawk', 'ladykatiejan', 'ladyparadi', 'ladytron', 'ladytwitst', 'laerwen', 'laff', 'lafilmfest', 'lagiggl', 'laguna', 'lah', 'lahr', 'laid', 'laina', 'lake', 'lakermami', 'lakh', 'laksa', 'lalaki', 'lalala', 'lallalalla', 'lalocamario', 'lamb', 'lambgirl', 'lambsquot', 'lame', 'lamehahaha', 'lammb', 'lana', 'lanaclevermomm', 'lanafromoz', 'lanaveenk', 'lancast', 'lancearmstrong', 'land', 'landrew', 'lane', 'lang', 'langford', 'langley', 'languag', 'languang', 'lanka', 'laoof', 'lap', 'lapcat', 'laptop', 'lar', 'larg', 'larger', 'larissabina', 'larri', 'larrycarrol', 'larryczerwonka', 'larrydavid', 'larsthomsen', 'lasagna', 'lasandracim', 'laser', 'lass', 'last', 'lastlikelylad', 'lastnight', 'lastyearsgirl', 'lata', 'late', 'latealarm', 'lateeee', 'latelyi', 'latenight', 'later', 'laterfuner', 'latest', 'latetoo', 'latexfetish', 'lathkildal', 'latishabechko', 'latt', 'lattex', 'lau', 'laugh', 'laughabl', 'laughen', 'laughin', 'laughjokesdepress', 'laughter', 'launch', 'laundri', 'laura', 'lauracol', 'lauracutajar', 'lauraeatworld', 'lauralacross', 'lauralkgw', 'lauramcauliff', 'laurameckl', 'lauramumford', 'laurang', 'lauraw', 'laurax', 'lauredhel', 'lauren', 'laurenazio', 'laurenconrad', 'laurenemilyy', 'laurenrodriguez', 'lauruy', 'lautner', 'lava', 'lavanyaj', 'lavend', 'lavsmohan', 'law', 'lawd', 'lawl', 'lawrenceden', 'laxbellaxsim', 'lay', 'layer', 'layin', 'layout', 'layov', 'lazard', 'lazi', 'lazygiraff', 'lazytri', 'lb', 'lbaq', 'lbda', 'lbheartjessica', 'lbp', 'lbran', 'lbugnion', 'lc', 'lchin', 'lcr', 'ldydisney', 'le', 'lead', 'leader', 'leagu', 'leak', 'leakjeez', 'lean', 'leann', 'leannepowel', 'leapt', 'learn', 'learnitonlin', 'learnt', 'least', 'leav', 'leavequot', 'leaver', 'leavin', 'lectur', 'ledisi', 'lee', 'leeantz', 'leebeadel', 'leebrownhil', 'leeknight', 'leer', 'leesaftw', 'leetj', 'leeww', 'leezearray', 'left', 'leftand', 'leftov', 'leg', 'legaci', 'legal', 'legend', 'legendari', 'legit', 'legmar', 'leia', 'leiabox', 'leicest', 'leighton', 'lejeff', 'lejuiceman', 'lelahg', 'lemeeeee', 'lemlina', 'lemm', 'lemon', 'lemonad', 'lemonknick', 'lemur', 'len', 'lend', 'lendmeyourey', 'lendon', 'length', 'lengthi', 'lennel', 'leno', 'lens', 'lent', 'lenten', 'leogaggl', 'leon', 'leoncitobonito', 'leozombi', 'lepor', 'leppard', 'leprechaun', 'leran', 'lesbian', 'lesley', 'lesleym', 'lesliemalason', 'leslienassar', 'leslieroark', 'lesrw', 'less', 'lesson', 'let', 'letharg', 'letoyaluckett', 'letter', 'letterman', 'letti', 'levarburton', 'level', 'levelboss', 'levi', 'levimoral', 'levoncouldnt', 'lewi', 'lewisbostock', 'lexaah', 'lexi', 'lexichow', 'lexiesteven', 'lexington', 'lexykiddl', 'lfta', 'lfzh', 'lga', 'lhawthorn', 'lhr', 'liaaajan', 'liarquot', 'lib', 'libaudioso', 'libbi', 'libbyoliv', 'libcameraso', 'libey', 'libigannaaaash', 'librari', 'librarywork', 'licens', 'lichfieldblog', 'lid', 'liddo', 'lidewij', 'lie', 'liein', 'life', 'lifebelt', 'lifechangingliv', 'lifedont', 'lifee', 'lifeguard', 'lifei', 'lifeif', 'lifequot', 'lifesav', 'lifetimedont', 'lifex', 'light', 'lightblu', 'lightbox', 'lighten', 'lighter', 'lightintheski', 'lightn', 'lightnin', 'lightsquot', 'ligo', 'liiiiiiiiiiiiisten', 'liiiittl', 'liiper', 'liiveguddiebadd', 'like', 'likeeversad', 'likesoon', 'likewis', 'lil', 'lili', 'lilish', 'lillyluna', 'lilyish', 'lilyroseallen', 'lime', 'limit', 'limp', 'limyh', 'linarianj', 'linc', 'lincoln', 'lindi', 'lindsay', 'lindsey', 'lindyjomac', 'lindznicol', 'line', 'lineart', 'linebreak', 'linen', 'liner', 'linesmannerismsvoic', 'lineup', 'linger', 'link', 'linkin', 'linnix', 'linu', 'linux', 'lion', 'lip', 'lipton', 'liqour', 'liquid', 'liquidfyregam', 'liquidquot', 'liquor', 'lisa', 'lisabul', 'lisaholm', 'lisahopecyru', 'lisakimflemingwork', 'lisamishel', 'lisamurray', 'lisanoelruocco', 'lisanova', 'lisap', 'lisarinna', 'lisash', 'lishafan', 'lissi', 'lissym', 'list', 'listen', 'listento', 'listquot', 'lit', 'liter', 'literati', 'lithuania', 'litrik', 'littl', 'littlebird', 'littledotti', 'littlefish', 'littlefletch', 'littlelumen', 'littlemisscupcak', 'littlemissnat', 'littlemunchkin', 'littlerabbit', 'littleunr', 'littlewideworld', 'littrellfan', 'live', 'livejourn', 'liver', 'livestream', 'livin', 'livingsecret', 'livr', 'liza', 'lizard', 'lizgiangrand', 'lizlin', 'lizmyer', 'lizp', 'lizpdx', 'lizroz', 'lizzardescobar', 'lizzi', 'lizzielib', 'lj', 'ljboni', 'ljubljana', 'llama', 'llawen', 'llcooldav', 'llittl', 'lll', 'llove', 'lmao', 'lmaoo', 'lmaooo', 'lmaoooo', 'lmaoughhhhh', 'lmdvintag', 'lmfao', 'lmk', 'ln', 'lo', 'load', 'loadsa', 'loampfmt', 'loan', 'loath', 'lobbi', 'lobster', 'local', 'locat', 'locavor', 'lock', 'lockbox', 'log', 'logan', 'logicalthought', 'login', 'logo', 'lohan', 'loic', 'lokki', 'lol', 'lolahhther', 'lolbad', 'lolim', 'lolit', 'lolkat', 'lolli', 'lollipop', 'lollyjay', 'lolm', 'lolmi', 'lolno', 'lolol', 'loltarwhaa', 'loltothepow', 'lolwhen', 'lolx', 'lolz', 'lon', 'london', 'londonsymphoni', 'lone', 'loneli', 'lonely', 'lonelyandroid', 'lonelybob', 'loner', 'lonesom', 'long', 'longer', 'longgettin', 'longgg', 'longhorn', 'longtim', 'lonley', 'look', 'looke', 'lookhappi', 'lookin', 'lool', 'loom', 'loooong', 'looooong', 'loooooonnnng', 'looooooong', 'loooooooong', 'looooooooooooooov', 'looooov', 'looos', 'looov', 'looow', 'loop', 'loopi', 'loos', 'loosin', 'loot', 'lopez', 'lora', 'lord', 'lorddeacon', 'lordpov', 'lordshap', 'loreleispenc', 'loren', 'lorennn', 'loriett', 'lorigama', 'lorissa', 'lornamcampbel', 'lorrainestanick', 'lose', 'loser', 'loserthat', 'losiento', 'loss', 'lost', 'lot', 'lotion', 'lotquot', 'lotsa', 'lottanew', 'lotteri', 'lotti', 'lou', 'loud', 'loudli', 'loudspeak', 'loui', 'louis', 'louisepb', 'louisgagliardi', 'louisvil', 'louizah', 'loung', 'loungechil', 'lousi', 'lova', 'lovato', 'love', 'loveajamay', 'loveandlabel', 'loveeee', 'loveeeeeeeeeee', 'lovefromrandom', 'loveh', 'loveistoarta', 'loveliest', 'lovepap', 'lover', 'lovesbrooklyn', 'lovesgreyboy', 'lovesick', 'lovewhitmari', 'lovex', 'loveyoult', 'lovin', 'lovvv', 'low', 'lower', 'loyal', 'loyalti', 'loz', 'lp', 'lrv', 'ls', 'lsd', 'lsekoiak', 'lsfashionista', 'lsndr', 'lspearmanii', 'lstrob', 'lt', 'ltblah', 'ltceliaelis', 'ltcriesgt', 'ltd', 'ltlolgtso', 'ltlt', 'ltltlt', 'ltsadder', 'ltsilli', 'ltthat', 'luca', 'lucasblack', 'lucascruikshank', 'lucasdiaz', 'luchianotrack', 'luci', 'luck', 'lucki', 'luckili', 'luckykristin', 'luckyyyy', 'lucu', 'luggag', 'luigi', 'luka', 'lukaskywalk', 'luke', 'lukestephen', 'lulu', 'lulzangel', 'lumea', 'lump', 'lunch', 'lunchand', 'lunchbreak', 'lunchdinn', 'lunchi', 'lunchieee', 'lunchso', 'lunchtim', 'lunchyeah', 'lund', 'lung', 'lupo', 'lupu', 'lurk', 'lurker', 'lurkey', 'lush', 'lushltd', 'lust', 'lutheranlucciol', 'luuuuuuuuuuuuuv', 'luv', 'luvdamal', 'luvdollicia', 'luve', 'luvmandi', 'luyá', 'lvesckmelodi', 'lvl', 'lvli', 'lwmedium', 'lx', 'ly', 'lyanna', 'lybrari', 'lycan', 'lyce', 'lyfout', 'lygon', 'lyk', 'lyncinda', 'lyndeeezi', 'lyndoman', 'lyndseyamanda', 'lynj', 'lynn', 'lynnder', 'lynnnnnn', 'lynnserafinn', 'lyonn', 'lyric', 'lyricsask', 'lyrradnahc', 'lyve', 'lyy', 'læ', 'lï', 'maaan', 'maaf', 'maam', 'maann', 'mabellek', 'mabrown', 'mac', 'macaddict', 'macaroniqu', 'macbook', 'macca', 'macekmakeupart', 'macheist', 'machiam', 'machiato', 'machin', 'machinewhen', 'mackey', 'macki', 'mackmain', 'macon', 'macosken', 'macrican', 'macricannoth', 'macro', 'mactalk', 'maczter', 'mad', 'madamg', 'madden', 'maddi', 'maddox', 'maddysen', 'made', 'mademoisellede', 'madeofston', 'madevolut', 'madhmmi', 'madinalak', 'madison', 'madisonmitchel', 'madpierrot', 'madra', 'madrid', 'maduck', 'maemo', 'mafia', 'mag', 'magazin', 'magento', 'mageofzhalfir', 'maggi', 'maggotron', 'magic', 'magicdandelion', 'magner', 'magnet', 'magneto', 'magnum', 'magnumdollar', 'magopu', 'mah', 'mahafre', 'mahasin', 'maheep', 'mahjong', 'mahlonlandi', 'maid', 'maikeru', 'maikoann', 'maikwl', 'mail', 'mailbox', 'main', 'mainland', 'mainli', 'mainstream', 'maintain', 'maintanc', 'maintenc', 'major', 'majorgutterbal', 'majorli', 'majornelson', 'makakasama', 'makayla', 'make', 'makemineamac', 'makeov', 'maker', 'makeshift', 'makeup', 'makeupbylinvia', 'makeuplov', 'makeuptalk', 'makin', 'makiri', 'malachi', 'malaysia', 'malaysian', 'malbank', 'malcmail', 'malcolli', 'malcolm', 'maldiv', 'male', 'maleehaa', 'males', 'mall', 'malpractic', 'malt', 'maltes', 'maluni', 'malygo', 'mam', 'mama', 'mamacitax', 'mamenn', 'mamlamarquis', 'mammi', 'mampm', 'man', 'manag', 'manbit', 'manchest', 'manda', 'mandatori', 'mandi', 'mandiebear', 'mandyblak', 'mandyemmerson', 'mandyyjirouxx', 'manechy', 'manfail', 'manga', 'mangia', 'mango', 'manhattan', 'manhatten', 'mani', 'mania', 'manicur', 'manila', 'manipul', 'mankind', 'manli', 'mann', 'manner', 'manni', 'mannn', 'manomio', 'manth', 'mantia', 'mantlepiec', 'mantra', 'manual', 'manunitedvss', 'manya', 'maotai', 'map', 'mapl', 'mar', 'marabg', 'marathon', 'maraud', 'marc', 'marcammann', 'marcfennel', 'marciano', 'marcooth', 'marcozeh', 'marcperel', 'marcucci', 'marcvibbert', 'mareodomo', 'margaret', 'margaretcho', 'margarita', 'margeandpud', 'margxwand', 'mari', 'maria', 'mariaandro', 'mariamillion', 'mariannemarlow', 'mariapetersen', 'marichiquitita', 'marielxo', 'mariii', 'marilyn', 'marin', 'marini', 'marinigh', 'mario', 'maripeneh', 'marissacr', 'mariuca', 'mariusz', 'marjamma', 'marjorayi', 'mark', 'markaaronjam', 'markblomeley', 'markbraunstein', 'markdan', 'markegli', 'market', 'markethappi', 'marketingclass', 'marketplac', 'markhenri', 'markhoppu', 'markjarvi', 'markmcnulti', 'markosm', 'markpavwt', 'markress', 'marktil', 'marktweep', 'markusreut', 'markvanbaal', 'marlonribun', 'marlycat', 'marmalad', 'marnier', 'maronelgisel', 'marothon', 'marrag', 'marraig', 'marri', 'marriag', 'marriott', 'marrow', 'marsacademi', 'marshalu', 'marshawrit', 'marshmallow', 'marshmellow', 'marss', 'martha', 'marthafresh', 'martin', 'martini', 'martinjgal', 'marv', 'marvel', 'marvin', 'marvvv', 'marweinaay', 'maryjanesatt', 'maryland', 'marymayblood', 'mascara', 'mascot', 'mashinka', 'masi', 'mask', 'maskedkali', 'masroof', 'mass', 'massachusett', 'massag', 'massaj', 'massieshiiza', 'massiv', 'masterballerina', 'mastergab', 'masyaa', 'match', 'matchreach', 'mate', 'materi', 'materialbitch', 'matey', 'math', 'mathew', 'mathewanthoni', 'mathi', 'mathildev', 'matress', 'matrix', 'matswada', 'matswif', 'matt', 'mattass', 'mattbraga', 'mattcopp', 'mattdavelewi', 'matter', 'matterbox', 'mattersquot', 'mattfrostband', 'mattgalloway', 'matthew', 'matthewstclair', 'matti', 'mattiasink', 'mattimassacr', 'mattinsa', 'mattmag', 'mattodonnel', 'mattplac', 'mattress', 'mattsoutatown', 'mattstevensloop', 'mattthegreat', 'mattwayneceleb', 'mattyza', 'matur', 'mau', 'mauibeech', 'mauigina', 'mauimichael', 'maurensoar', 'mauresmo', 'mav', 'mavisfipp', 'maw', 'max', 'maxandcat', 'maxcelcat', 'maxiec', 'maxmut', 'maxxiecat', 'may', 'maya', 'mayb', 'maybejust', 'mayday', 'mayer', 'mayhemstudio', 'maymaym', 'mazda', 'maze', 'mb', 'mba', 'mbt', 'mc', 'mcandi', 'mcawilliam', 'mccainblogett', 'mcd', 'mcdeezer', 'mcdonald', 'mcentir', 'mcfli', 'mcflykaiserflik', 'mcgangbang', 'mcherrywv', 'mcitp', 'mcm', 'mcmahon', 'mcoord', 'mcriddlahp', 'mcrmom', 'mcshep', 'mcsquar', 'mcteach', 'md', 'mdbraber', 'mdear', 'mea', 'meadow', 'meagain', 'meaghancarrol', 'meaghanellen', 'meal', 'mean', 'meani', 'meaning', 'meaningless', 'meansno', 'meanspirit', 'meant', 'meanthi', 'meantim', 'meat', 'meatbal', 'meatloaf', 'mebb', 'mechan', 'mechscap', 'meck', 'med', 'media', 'mediatempl', 'medic', 'medicin', 'medit', 'mediterranean', 'medium', 'mee', 'meebo', 'meee', 'meeee', 'meeeeee', 'meegan', 'meeko', 'meerkat', 'meerut', 'meester', 'meet', 'meetin', 'meetup', 'meezyx', 'mef', 'mega', 'megadestructo', 'megan', 'meganjoan', 'meganltfuck', 'megaupload', 'megcabot', 'megeld', 'megtest', 'megzx', 'meh', 'mehhh', 'mehulbhuva', 'mehulv', 'mei', 'mein', 'mel', 'mela', 'melaniemerkoski', 'melb', 'melbourn', 'melbrehl', 'melendez', 'melerr', 'meli', 'melina', 'melissa', 'melissaashle', 'melissaegilbert', 'melli', 'mellow', 'mellyford', 'melodi', 'melodyfle', 'melshay', 'melt', 'meltdown', 'member', 'memor', 'memori', 'memphi', 'men', 'menchi', 'mening', 'menna', 'mennard', 'mensdomain', 'ment', 'mental', 'mention', 'mentionquot', 'menu', 'meow', 'meperfect', 'mequot', 'mer', 'mercedesj', 'merch', 'merci', 'merclev', 'mere', 'merovingian', 'merrier', 'mesa', 'mesammi', 'mesmer', 'mesquitez', 'mess', 'messag', 'messeng', 'messi', 'messin', 'met', 'metal', 'metallica', 'metalmo', 'metaphor', 'methink', 'method', 'metnightowl', 'metria', 'metric', 'metro', 'metroknow', 'mettador', 'metth', 'mexican', 'mexico', 'mexicobelizeguatemala', 'mey', 'meyer', 'meyuy', 'mfc', 'mfeatherston', 'mgf', 'mgpotter', 'mgrmike', 'mh', 'mhanlon', 'mhm', 'mhz', 'mi', 'mia', 'miabug', 'miadhu', 'miami', 'miamiadc', 'mib', 'mic', 'mica', 'micar', 'micbarb', 'mice', 'mich', 'michael', 'michaelbrandon', 'michaeldevelli', 'michaelgraing', 'michaelkwan', 'michaelmag', 'michaelmknight', 'micheal', 'michel', 'micheleasauru', 'michelehbc', 'michellardi', 'michellebeckham', 'michellecotti', 'michellekl', 'michellepearl', 'michellesmil', 'michelpoulain', 'michigan', 'michiganquot', 'mick', 'micktleyden', 'micresendo', 'micro', 'microblog', 'microphon', 'microscop', 'microsd', 'microsoft', 'mid', 'midatlant', 'midday', 'middl', 'middleclassgirl', 'midgley', 'midlifecrunch', 'midnight', 'midnightplu', 'midol', 'midshow', 'midsn', 'midstream', 'midterm', 'midway', 'midwif', 'mie', 'mieranadhirah', 'miget', 'might', 'mighti', 'migrain', 'migrat', 'mihaim', 'mii', 'miie', 'miiinn', 'mikasound', 'mike', 'mikearthur', 'mikecj', 'mikedowswel', 'mikeexist', 'mikefranklin', 'mikegentil', 'mikegreen', 'mikemakin', 'mikenyff', 'mikeseddon', 'miketomalari', 'mikeyj', 'mikeyway', 'mil', 'milagro', 'milan', 'milar', 'mildlyer', 'mile', 'miletbak', 'miley', 'mileycyru', 'mileyim', 'milezzzzzz', 'milk', 'milkbon', 'milkrr', 'milkymoomoo', 'mill', 'millerwentworth', 'million', 'millionair', 'millionth', 'miltonsolano', 'miltykiss', 'milzygurl', 'mime', 'mimi', 'mimidanc', 'mimihotlip', 'mimimi', 'min', 'minalagarw', 'minameow', 'mind', 'mindi', 'mindno', 'mindsalong', 'mindso', 'mindwat', 'mindyneedshubbi', 'mine', 'minehead', 'minerchri', 'mini', 'miniatur', 'minichocol', 'minicon', 'minifi', 'minim', 'minimum', 'miniolog', 'minist', 'minor', 'minorca', 'minskey', 'mint', 'mintcool', 'minto', 'minu', 'minut', 'minuteman', 'minx', 'mipo', 'miracl', 'mirasmit', 'mireika', 'miri', 'mirror', 'mischa', 'miser', 'miseri', 'misfit', 'mish', 'mishacollin', 'mism', 'misplac', 'miss', 'missb', 'misschuchu', 'missconway', 'missdra', 'missek', 'missgc', 'missgoogl', 'missi', 'missin', 'missinthia', 'missjeffreestar', 'misskellyo', 'missnappyboy', 'missouri', 'misspel', 'missrogu', 'misss', 'misssssssss', 'missssssssss', 'misssybilsimon', 'misstattoo', 'misstoriblack', 'missu', 'missvic', 'missxmarisa', 'missxu', 'missygail', 'mist', 'mistak', 'mistaken', 'mistakequot', 'mistergoomba', 'misterjack', 'mistersoft', 'misterwallac', 'mistook', 'mistress', 'mistressathenax', 'mistressdragon', 'mistydavi', 'mistygirlph', 'mit', 'mitchel', 'mitchelmusso', 'mite', 'mitter', 'mix', 'mixer', 'mixtap', 'miyavi', 'miyazaki', 'mizuo', 'mizzdanger', 'mj', 'mjamm', 'mjdancer', 'mjoseff', 'mkaigwa', 'mkay', 'mkcc', 'mkccrenovationsrogerscom', 'mkh', 'mkim', 'mkl', 'mklopez', 'mkrob', 'mlb', 'mlexiehayden', 'mlm', 'mload', 'mlp', 'mlvalentin', 'mm', 'mmcallen', 'mmekin', 'mmi', 'mmka', 'mmkay', 'mmm', 'mmmbailey', 'mmmm', 'mmmmhmmm', 'mmmmm', 'mmmmmm', 'mmo', 'mmorrow', 'mmuk', 'mmwine', 'mnm', 'mo', 'moanyboot', 'mobbler', 'mobil', 'mobilem', 'mobtv', 'mocha', 'mock', 'modd', 'mode', 'modejunki', 'model', 'modelmandylynn', 'modern', 'modest', 'modguess', 'modiv', 'modl', 'moeoverkil', 'moffitt', 'mofo', 'moi', 'moin', 'moistur', 'mojolab', 'mojosanjay', 'mold', 'molecat', 'molli', 'mollydotcom', 'mollyflagtail', 'moltz', 'mom', 'moment', 'momentbymo', 'momentquot', 'momgtm', 'mominisrael', 'momma', 'mommi', 'mommybrain', 'mommykin', 'momoneybiggi', 'momspark', 'momyour', 'mon', 'monaliisa', 'mondaaay', 'monday', 'mondayboo', 'mondayski', 'mondizzl', 'moneceann', 'money', 'moneybut', 'moneydel', 'moneyno', 'monha', 'moni', 'monicahugh', 'monitor', 'monk', 'monke', 'monkeylov', 'monkeymoo', 'mono', 'monogomi', 'monro', 'monster', 'montag', 'montana', 'montel', 'month', 'monthbarbiebibiana', 'monthbut', 'montreal', 'montrera', 'moo', 'mooch', 'mood', 'moodi', 'moodl', 'moold', 'moommi', 'moon', 'moonfry', 'moonpantz', 'moooooooood', 'mooosh', 'moor', 'moot', 'mootool', 'moovarolag', 'mor', 'morbid', 'moreth', 'morgan', 'morgand', 'morganwolf', 'mormon', 'morn', 'mornin', 'morninggggg', 'morninggggggg', 'morningi', 'morningquot', 'morningsh', 'morningsnicesunnyhota', 'morningstil', 'morninnnnn', 'moro', 'moron', 'morri', 'morrica', 'morrison', 'morrissey', 'morro', 'morrow', 'mortal', 'mortgag', 'mortonfox', 'mosquito', 'mosrit', 'moss', 'mostli', 'mostlik', 'mot', 'motel', 'moth', 'mother', 'motherflip', 'motherfuck', 'motion', 'motionx', 'motiv', 'motor', 'motorbik', 'motorcycl', 'motown', 'motto', 'mount', 'mountain', 'mountford', 'mourn', 'mous', 'mouseisthew', 'mouth', 'mouthquot', 'move', 'movement', 'movi', 'moviess', 'moviessssss', 'movin', 'mow', 'moyl', 'moz', 'mozambiqu', 'mozi', 'mozilla', 'mozunk', 'mp', 'mpconnolli', 'mpesc', 'mph', 'mpit', 'mqt', 'mr', 'mraskboutm', 'mrballist', 'mrchinbsc', 'mrgaryle', 'mri', 'mrjamesfortun', 'mrjone', 'mrking', 'mrmadsen', 'mrmcdougal', 'mrmikeg', 'mro', 'mrpeterandr', 'mrpilat', 'mrrobbym', 'mrrooni', 'mrsa', 'mrsabur', 'mrsdarwin', 'mrsjasperhal', 'mrskutcher', 'mrsocial', 'mrspb', 'mrspifurnaste', 'mrsstaratkin', 'mrtweet', 'mrtweetalert', 'mrw', 'mrwiggli', 'mryeah', 'mryoungharlem', 'ms', 'msaleem', 'msamayoa', 'msbadu', 'mscemontgomeri', 'mschaffel', 'msdebramay', 'msg', 'msgoofi', 'mshiphop', 'msia', 'msmeme', 'msmoss', 'msn', 'msnbc', 'msnichol', 'msu', 'mswilliamsmus', 'mswindow', 'msyen', 'mt', 'mtb', 'mtg', 'mth', 'mtp', 'mtsiaklid', 'mtv', 'mtvbuzzworthi', 'mu', 'muah', 'mucch', 'much', 'muchglad', 'muchh', 'muchli', 'mucho', 'muchthank', 'muchï', 'mucvhli', 'mud', 'muffin', 'muffler', 'mufti', 'mug', 'muh', 'mulatta', 'mule', 'multi', 'multipag', 'multipl', 'multiplay', 'multipli', 'multitask', 'multivitamin', 'mum', 'mumma', 'mummi', 'munch', 'munchkin', 'mundo', 'munro', 'mural', 'murder', 'murderland', 'muriã³', 'murray', 'muscl', 'muse', 'museum', 'musewir', 'mushroom', 'music', 'musicaddikt', 'musician', 'musicmonday', 'musicologist', 'musicthelev', 'musikquot', 'musiqvixen', 'muskegon', 'muslim', 'musnt', 'mussomitchel', 'must', 'musta', 'mustloveanim', 'mustv', 'mutant', 'mute', 'mutha', 'mv', 'mwah', 'mwtsnx', 'mxtmedia', 'myapplestuff', 'mycamera', 'myclothngcalndr', 'mydesir', 'myeverydayhero', 'myfolia', 'myfwarhurst', 'myheartx', 'myhocuspocu', 'myk', 'myki', 'mykitchenstor', 'mykl', 'myla', 'mylifeandart', 'myloveisamaz', 'mynameisgerard', 'mynameisingrid', 'mynew', 'myopicjo', 'myselfahhhhno', 'myselfmi', 'myselfne', 'mysojucom', 'myspac', 'myspacecomadissonapparel', 'myspacecomevilcr', 'myspacecomlookthund', 'myspacecomrussianrullet', 'mysql', 'mysterygirl', 'mystifiedlala', 'mytho', 'mytoo', 'mytwinsnm', 'myy', 'mz', 'mzdavi', 'mzjessicat', 'mzmadelin', 'má', 'mã', 'mã¼de', 'mï', 'n', 'na', 'nacel', 'nacho', 'nada', 'nadyaniqu', 'nag', 'nah', 'nahi', 'nail', 'naim', 'nairapemberton', 'naisha', 'naiv', 'naivelondongirl', 'najicalov', 'najoo', 'nake', 'nakialjackson', 'naman', 'nambu', 'name', 'namrw', 'nan', 'nana', 'nanalipzz', 'nanci', 'nancykohl', 'nandinidevar', 'nanett', 'nangi', 'nanni', 'nanu', 'nao', 'nap', 'naptim', 'narr', 'narrat', 'nash', 'nashipear', 'nashvil', 'nasib', 'nassyusof', 'nasti', 'nat', 'nataliela', 'natalielim', 'natalieox', 'natalietran', 'natasha', 'natashad', 'nateflynn', 'nathalienl', 'nathanchas', 'nathangilm', 'nathankam', 'nathanrdotca', 'nathantwitch', 'natikirk', 'nation', 'nativ', 'natlbug', 'natneagl', 'natti', 'natur', 'natztheflip', 'naughti', 'naughtygirl', 'naughtyhaughti', 'navyboyylt', 'naw', 'nawww', 'naybur', 'naydeeen', 'naz', 'nazi', 'nba', 'nbacom', 'nbn', 'nc', 'ncaa', 'ncvbxfgf', 'nd', 'nday', 'nder', 'ndollaaa', 'ndubz', 'ne', 'near', 'nearbi', 'nearbynobodi', 'nearest', 'nearli', 'neat', 'necc', 'necessari', 'neck', 'necklac', 'nectarin', 'neda', 'nede', 'need', 'needa', 'neededthank', 'needl', 'needlestack', 'neeffresh', 'neer', 'neetbal', 'neg', 'negar', 'neglect', 'negrita', 'neh', 'neighbor', 'neighbour', 'neil', 'neilduckett', 'neilingli', 'neither', 'nelena', 'neljay', 'nemo', 'neon', 'neoncon', 'neonplasma', 'nephew', 'nephewgodson', 'nerafarfalla', 'nerd', 'nerdd', 'nerdist', 'nerf', 'neri', 'nerimon', 'nero', 'nerrisalaugh', 'nerrrd', 'nerv', 'nervou', 'nesarajah', 'nescaf', 'nescessari', 'nespresso', 'nessep', 'nessi', 'nessnitti', 'nessun', 'neszlifeasmcrmi', 'net', 'netflix', 'netherland', 'netik', 'nett', 'nettiedgreat', 'network', 'neuqua', 'neuralclon', 'neva', 'neveeeeeeeeeeer', 'never', 'nevermind', 'neverwint', 'nevillez', 'new', 'newbi', 'newborn', 'newbsfaja', 'newc', 'newcastl', 'newegg', 'newest', 'newish', 'newnownext', 'news', 'newsap', 'newscast', 'newsfarrah', 'newslett', 'newspap', 'newssad', 'neww', 'newwat', 'nex', 'next', 'nextdoor', 'nexxt', 'neyluv', 'ng', 'nga', 'nggreenguid', 'ngi', 'ngáº', 'ngã', 'ngæ', 'nh', 'nht', 'nhwang', 'ni', 'niagara', 'nicci', 'niccidgaf', 'nice', 'nicefacemitchi', 'nicer', 'nicest', 'nicetal', 'nicheladi', 'nicholasbraun', 'nicht', 'nick', 'nickcart', 'nickdifilippo', 'nickelback', 'nicki', 'nickicawood', 'nickitynatnat', 'nickjonlin', 'nickpadmor', 'nickserv', 'nicli', 'nicnina', 'nicokwanart', 'nicol', 'nicoladetisi', 'nicolaprigg', 'nicolejordan', 'nicolerichi', 'nicolevilar', 'nicolewilson', 'nidhaa', 'nidsonlin', 'nielsen', 'nig', 'night', 'nightcant', 'nightcard', 'nightday', 'nighter', 'nighthawkj', 'nighti', 'nightim', 'nightli', 'nightlt', 'nightm', 'nightmar', 'nightreal', 'nightsh', 'nightthi', 'nighttim', 'nightunfortun', 'nightwatta', 'niiic', 'nikan', 'nike', 'nikhilnarayanan', 'nikitaand', 'nikkatron', 'nikki', 'nikkidecoy', 'nikkidowi', 'nikkyfac', 'nilagyan', 'niley', 'nileyjemilov', 'nileyjileyluv', 'nimbl', 'nimbupani', 'nimu', 'nimuefromtheweb', 'nin', 'ninaalbertsengmailcom', 'ninabelk', 'ninag', 'ninalorrain', 'ninaneverknew', 'ninasplayground', 'nine', 'ninetailefox', 'ninghil', 'ninguem', 'ninjaguitarsex', 'ninjen', 'ninmod', 'nino', 'nip', 'nipplectc', 'niptuck', 'niqqa', 'nir', 'nirosh', 'nirvana', 'nisha', 'nit', 'nitchxo', 'nite', 'niteflirt', 'niterã³i', 'nitey', 'niub', 'nj', 'njame', 'njpaust', 'nk', 'nkotb', 'nkow', 'nkprb', 'nlpride', 'nm', 'nmbdlookup', 'nmgq', 'nminer', 'nmogha', 'nn', 'nnnntttttthh', 'nnnooooooo', 'no', 'noahflem', 'noaliber', 'noarmsjam', 'nob', 'nobodi', 'nobodyï', 'noch', 'nodam', 'noe', 'nois', 'noiseboyartist', 'nokia', 'nokiamessag', 'nom', 'nomadicmatt', 'nomatt', 'nomin', 'nomung', 'non', 'none', 'nonetheless', 'nonfict', 'nonjajosh', 'nonow', 'nonrecycl', 'nonsens', 'nonstop', 'noodl', 'noodlebox', 'noon', 'nooo', 'nooodl', 'noooo', 'nooooo', 'noooooo', 'nooooooo', 'noooooooo', 'nooooooooo', 'nooosh', 'noop', 'noordinarygurl', 'nope', 'nopefrom', 'nopei', 'nopethat', 'nora', 'nordstrom', 'normal', 'normalis', 'normgregori', 'normylohan', 'north', 'northeast', 'northwest', 'norwel', 'norwich', 'nose', 'noseble', 'nosey', 'nossoateli', 'nostalg', 'notaboutlov', 'note', 'notebook', 'notenoughtoeat', 'noth', 'nothat', 'nothin', 'notic', 'notim', 'notion', 'notno', 'notori', 'notr', 'notsooglam', 'nott', 'nottingham', 'notwithstand', 'notytoni', 'nour', 'nouveau', 'nov', 'nova', 'novablu', 'novel', 'novemb', 'nowaday', 'nowaft', 'nowandforevermn', 'nowbut', 'nowcongrat', 'nowher', 'nowhugzzzzzzz', 'nowi', 'nowjessicakosasih', 'nownot', 'nowor', 'nowquot', 'nowshel', 'nowthes', 'nowtweet', 'nowwait', 'nowwwww', 'np', 'nph', 'nq', 'nr', 'nrlfanclub', 'nru', 'nsastrasasmita', 'nsfw', 'nspotter', 'nst', 'nt', 'nti', 'nu', 'nudg', 'nugget', 'nuke', 'null', 'numb', 'number', 'nurb', 'nurofen', 'nurs', 'nursemott', 'nut', 'nuthin', 'nutritionist', 'nuuki', 'nv', 'nvm', 'nw', 'nxt', 'ny', 'nya', 'nyc', 'nycdol', 'nyet', 'nylonpleas', 'nyquil', 'nyt', 'nytim', 'nz', 'nã', 'nï', 'oa', 'oach', 'oaf', 'oana', 'oap', 'oat', 'oatmeal', 'obama', 'obi', 'obitfawcettindexhtml', 'object', 'obliter', 'oblivi', 'oblivion', 'obnoxi', 'obscur', 'observ', 'observatori', 'obsess', 'obshop', 'obv', 'obvious', 'occupi', 'occur', 'occurr', 'ocean', 'oct', 'octan', 'octob', 'octopu', 'od', 'odd', 'oddli', 'ode', 'odo', 'odosnapemaven', 'odstartov', 'oedesign', 'oem', 'ofcours', 'offec', 'offend', 'offendedblogg', 'offer', 'offeredughmay', 'offic', 'officegreat', 'officeit', 'officework', 'offici', 'officialbb', 'officialbf', 'officialcol', 'officialjagex', 'officialkat', 'officialkathyg', 'officialmgnfox', 'officialprofoz', 'officialspchuck', 'officialtila', 'officialtl', 'offlin', 'offyou', 'ofici', 'often', 'og', 'ogflawless', 'oh', 'ohaik', 'ohemgeeeee', 'ohh', 'ohhh', 'ohhhh', 'ohhhhhh', 'ohhhhhhhhhhh', 'ohhxchristma', 'ohio', 'ohit', 'ohmi', 'ohmygod', 'ohmygoddddi', 'ohsamann', 'ohshit', 'ohwel', 'ohwow', 'oi', 'oil', 'ok', 'okaeri', 'okay', 'okcthunderi', 'oki', 'okieanni', 'okmomentarili', 'oknow', 'okon', 'okonli', 'okquot', 'oksleepi', 'okyou', 'ol', 'olaf', 'olbermannl', 'old', 'older', 'oldi', 'oldin', 'ole', 'olea', 'oleee', 'olimould', 'oliv', 'oliverturn', 'oliviaclarkxx', 'oliviacosmet', 'olivosartstudio', 'omagu', 'omeon', 'omfg', 'omg', 'omgcan', 'omgili', 'omgitsafox', 'omgpichu', 'omgponi', 'omgsh', 'omin', 'omo', 'onairnois', 'ond', 'one', 'oneal', 'onebt', 'onebut', 'onecal', 'onech', 'onefinepinoyboy', 'oneil', 'oneim', 'oneluvgurl', 'oneofthosefac', 'onesoulfulnegro', 'ongina', 'onion', 'onish', 'onli', 'onlin', 'online', 'onlineget', 'onlineish', 'onlinekuantanmalaysiamacdonald', 'onlyinhuman', 'onmejack', 'onquot', 'onslaught', 'ontario', 'onthemapp', 'ontheoverpass', 'onto', 'onward', 'onyxxb', 'oo', 'ooh', 'ook', 'ooo', 'oooh', 'oooo', 'ooooh', 'oooooh', 'ooooohh', 'ooooooh', 'oooooohhhhh', 'oooooooh', 'ooooooooooommmmmmmmmmmm', 'oooow', 'oop', 'oopsi', 'op', 'opdrpi', 'open', 'openaustralia', 'opengl', 'openingday', 'openmoko', 'openoffic', 'openskymedia', 'oper', 'opera', 'opick', 'opinion', 'opp', 'opportun', 'oppress', 'opt', 'opteron', 'optician', 'optim', 'optimist', 'optin', 'option', 'oracl', 'oral', 'orang', 'oranyth', 'orbitz', 'orchestr', 'orchestra', 'orddcaordclt', 'ordel', 'order', 'ordinari', 'ordinarygirl', 'oreoquot', 'organ', 'organicali', 'organizationtheyv', 'orient', 'origin', 'orkut', 'orlando', 'orourk', 'orphan', 'orqasm', 'orthadonist', 'ortho', 'orthodontist', 'os', 'osea', 'oskar', 'osojuiici', 'ossag', 'oswegochick', 'ot', 'otalia', 'otaliaef', 'oth', 'other', 'otherwis', 'otrencrypt', 'ottawa', 'ottumwa', 'ou', 'ouccch', 'ouch', 'ouchi', 'ouchouchouch', 'ought', 'ouh', 'ourdav', 'ouroffic', 'oustcat', 'out', 'outa', 'outag', 'outamp', 'outand', 'outburst', 'outby', 'outcum', 'outdoor', 'outfit', 'outgo', 'outgrown', 'outi', 'outing', 'outlet', 'outlin', 'outlook', 'outomgthat', 'outrag', 'outreach', 'outsid', 'outside', 'outsideth', 'outt', 'outta', 'outti', 'outtttt', 'outwtf', 'ova', 'oven', 'overal', 'overcast', 'overcom', 'overdo', 'overdosin', 'overdraft', 'overdu', 'overdueagainmor', 'overh', 'overher', 'overitnowlt', 'overlook', 'overr', 'overrrr', 'oversea', 'overslept', 'overthank', 'overtim', 'overtir', 'overweight', 'overwelm', 'overwhelm', 'ow', 'owe', 'owlord', 'own', 'owner', 'ownlik', 'oww', 'owwchhh', 'owwi', 'owww', 'owwww', 'owwwwwww', 'ox', 'oxegen', 'oxford', 'oxygenradio', 'oz', 'ozark', 'ozzi', 'p', 'pa', 'pacif', 'pack', 'packag', 'packbut', 'packet', 'packpackpack', 'pad', 'paddington', 'paddydonnelli', 'padova', 'padr', 'padurea', 'pagankinktress', 'page', 'paid', 'pailou', 'pain', 'painless', 'paint', 'painter', 'pair', 'paisley', 'pajama', 'pal', 'pala', 'palahniuk', 'pale', 'palefir', 'palinod', 'palinspir', 'palm', 'palmol', 'palov', 'pam', 'pambuccian', 'pamfr', 'pamjob', 'pammi', 'pampc', 'pamper', 'pana', 'panama', 'pancak', 'panda', 'pandora', 'panel', 'panic', 'panick', 'pano', 'pant', 'pantherrh', 'panton', 'paomiami', 'papa', 'papadimitri', 'papal', 'papalazar', 'pape', 'paper', 'paperb', 'paperheat', 'paperwork', 'papi', 'par', 'para', 'parad', 'paradesleep', 'paradis', 'paragon', 'paraleg', 'parallel', 'paralys', 'paramor', 'paramoreeeee', 'paranorm', 'paraphras', 'parasit', 'parcel', 'pardon', 'parent', 'parentinghanda', 'parentsi', 'parentteach', 'paretn', 'pareto', 'pari', 'parish', 'parisroubaix', 'park', 'parkman', 'parkrat', 'parkwil', 'parlament', 'parliamentari', 'parol', 'parrothead', 'parser', 'part', 'partay', 'parti', 'particip', 'particular', 'particularli', 'partner', 'partsbut', 'partt', 'parttim', 'partywat', 'partywithneha', 'partyy', 'pass', 'passeng', 'passingsadden', 'passion', 'passionatley', 'passov', 'passport', 'password', 'passwork', 'past', 'pasta', 'pastay', 'pastor', 'pat', 'patch', 'path', 'pathet', 'pathrewrit', 'patienc', 'patient', 'patphelan', 'patric', 'patrick', 'patrickeatworld', 'pattern', 'patti', 'pattidigh', 'pattiecarlin', 'pattinson', 'pattypuk', 'pau', 'paul', 'paula', 'paulaabdulfan', 'paulabbey', 'paulapaig', 'pauldawalibi', 'paulewatt', 'paulewog', 'paulfeig', 'pauli', 'paulissima', 'paulmasek', 'paulmason', 'paulmonkey', 'paulshadwel', 'paulyum', 'pausei', 'paw', 'pawoot', 'paxman', 'pay', 'paycheck', 'payday', 'payment', 'paypal', 'pbnjen', 'pc', 'pch', 'pchafeehili', 'pcit', 'pco', 'pcwoessner', 'pd', 'pdbregman', 'pdf', 'pdfhtml', 'pdnonlin', 'pduffman', 'pdurham', 'peac', 'peacedout', 'peacelovepink', 'peach', 'peachi', 'peak', 'peal', 'peanut', 'pear', 'pearl', 'pearshapebodygirl', 'peck', 'pecker', 'peddi', 'peddl', 'pediatr', 'pediatrician', 'pedicur', 'pee', 'peek', 'peekay', 'peektur', 'peel', 'peep', 'peeper', 'peepsgt', 'peepssometh', 'peepswoohoo', 'peet', 'peg', 'pekalongan', 'pelosi', 'pen', 'penang', 'penclip', 'penguin', 'peni', 'penn', 'penni', 'peon', 'peopl', 'peopleand', 'peoplebrowsr', 'peoplecom', 'peoplemapsjuli', 'peoplequot', 'peopleth', 'pepper', 'pepperand', 'peppermint', 'peppysophia', 'pepsi', 'pepstein', 'per', 'percent', 'perez', 'pereza', 'perezhilton', 'perezhiltonrip', 'perfec', 'perfect', 'perfectel', 'perfectli', 'perfecto', 'perform', 'perhap', 'period', 'perl', 'perm', 'permiss', 'permit', 'pero', 'perpetu', 'perri', 'perrin', 'persiankiwi', 'persist', 'person', 'personalhudgen', 'personallyid', 'perspect', 'persuad', 'perth', 'peru', 'pervas', 'pervert', 'pesamob', 'peso', 'pester', 'pet', 'petaeurop', 'petal', 'pete', 'petemc', 'peter', 'peteramckay', 'peterdeetm', 'peterfacinelli', 'peterjdilorenzo', 'peterwalk', 'petewentz', 'petsaretalk', 'pezholio', 'pf', 'pfer', 'pfspleen', 'pg', 'phage', 'phahahah', 'phase', 'phatelara', 'phd', 'phenomenon', 'pherb', 'phew', 'phewww', 'phil', 'philbolsta', 'philin', 'philip', 'philli', 'phillip', 'phillipin', 'phillpric', 'phillyan', 'phillyd', 'philo', 'philosophi', 'philpeac', 'philthatremain', 'phinea', 'phish', 'phjo', 'phoenix', 'phome', 'phone', 'phoneboy', 'phonedomm', 'phoneless', 'phopoqueen', 'phoro', 'photo', 'photoboth', 'photobugf', 'photograph', 'photographi', 'photojack', 'photoshoot', 'photoshop', 'photosmart', 'php', 'phpslacker', 'phptal', 'phwoar', 'phx', 'physic', 'physiotherapi', 'pháº', 'pi', 'pia', 'piano', 'pianoboex', 'piawaugh', 'pibbi', 'pibworth', 'pic', 'picadilli', 'picci', 'pick', 'picki', 'pickin', 'pickup', 'picnic', 'pictcom', 'pictur', 'pictureand', 'pictureit', 'picturepostcard', 'piczo', 'pidgin', 'pie', 'piec', 'pierc', 'piercethev', 'piff', 'pig', 'pigeon', 'piggin', 'pijrt', 'piktcha', 'piktor', 'pill', 'pillow', 'pilot', 'pim', 'pimp', 'pimpl', 'pin', 'pina', 'pinch', 'pineappl', 'pingfm', 'pinguino', 'pink', 'pinkavenu', 'pinkberri', 'pinkcat', 'pinki', 'pinkjoey', 'pinkmoccasin', 'pinksealight', 'pint', 'pintth', 'pipe', 'piraci', 'piriyah', 'piss', 'pissoff', 'pita', 'pitch', 'piti', 'pix', 'pixel', 'pixelexecut', 'pixelpip', 'pixeltrevor', 'pixi', 'pixiepan', 'pizza', 'pj', 'pjaficionado', 'pjsra', 'pkahleeb', 'pkay', 'pkd', 'pl', 'place', 'placement', 'placenta', 'placer', 'placess', 'plain', 'plan', 'plane', 'planet', 'plannedmi', 'plannersusanna', 'plano', 'planplan', 'plansss', 'plant', 'plantã', 'plasma', 'plastic', 'plasticfuzzi', 'plate', 'platform', 'plato', 'play', 'playbyplay', 'player', 'playground', 'playin', 'playingggg', 'playlist', 'playtimerx', 'pleaaas', 'pleaas', 'pleas', 'pleasant', 'pleaseee', 'pleaseim', 'pleasur', 'pledg', 'plenti', 'plg', 'plindman', 'pllleeeeaaassssee', 'ploca', 'plu', 'plue', 'plug', 'plugin', 'plumb', 'plumber', 'plurk', 'pluto', 'plutobob', 'plz', 'pm', 'pmeanwellralph', 'pmerric', 'pmmidnight', 'pmmp', 'pmt', 'pneumonia', 'pnuemonia', 'pnut', 'po', 'pobr', 'pochaccoyoli', 'pocket', 'pocketfulofm', 'pocklock', 'pod', 'podcast', 'poepl', 'pogo', 'pogosaito', 'poi', 'poindexter', 'point', 'pointbut', 'pointless', 'pointlessword', 'pointmoot', 'poison', 'poke', 'pokemon', 'poker', 'pokerstar', 'pokomon', 'poland', 'polaroidskylin', 'pole', 'poli', 'polic', 'polici', 'polish', 'polit', 'politician', 'poll', 'pollen', 'polli', 'pollock', 'polluxsj', 'polo', 'polyest', 'pomona', 'pond', 'ponder', 'pongopoor', 'poni', 'poo', 'poof', 'pooh', 'pooki', 'pool', 'poolsid', 'poolwish', 'poool', 'poooooool', 'poop', 'poor', 'poorer', 'poorli', 'poorquot', 'pop', 'popcorn', 'popcultur', 'popemello', 'poppi', 'poppin', 'poppydog', 'poprock', 'poptopvw', 'popul', 'popular', 'popup', 'por', 'porch', 'porn', 'porqu', 'porridg', 'port', 'portabl', 'portfolio', 'portia', 'portland', 'portlet', 'porto', 'portsmouth', 'portugues', 'posd', 'pose', 'posei', 'posi', 'posibl', 'posit', 'possess', 'possibl', 'post', 'postcard', 'postear', 'poster', 'postman', 'postmidnight', 'posttweet', 'pot', 'potato', 'potc', 'potdeyahourt', 'potenti', 'potro', 'potter', 'pouco', 'pound', 'poundchalleng', 'poundingfirst', 'pour', 'pout', 'powder', 'power', 'powerbook', 'powercutblackout', 'powerless', 'powoop', 'poynter', 'ppc', 'ppl', 'pplist', 'ppra', 'ppukm', 'pr', 'practic', 'pradyotgh', 'pragu', 'praiaaaaaaa', 'prairi', 'prais', 'prankster', 'prannybindc', 'pray', 'prayer', 'prayin', 'pre', 'preachdotcom', 'preachi', 'preciou', 'precis', 'preciso', 'predicitv', 'predict', 'predlet', 'preempt', 'preexist', 'prefer', 'prefix', 'preggog', 'pregnanc', 'pregnant', 'prejudic', 'prek', 'premier', 'premium', 'premonit', 'preoccupi', 'prep', 'prepar', 'prepeel', 'prerc', 'presal', 'present', 'presid', 'presrib', 'press', 'pressi', 'pressingbutton', 'pressur', 'pretend', 'pretoria', 'pretti', 'prettiest', 'prettti', 'prettyso', 'prettyyymess', 'pretzel', 'preview', 'previou', 'previous', 'prezbo', 'prezij', 'prgh', 'pri', 'pric', 'price', 'prick', 'prictic', 'pride', 'priest', 'prilzezitosti', 'prima', 'primari', 'prime', 'primev', 'primros', 'princ', 'princep', 'princess', 'princessdi', 'princessmeliss', 'princesssuperc', 'princetim', 'princip', 'principal', 'principl', 'print', 'printer', 'printhead', 'prioriti', 'prisofreedom', 'prison', 'pristin', 'privaci', 'privarma', 'privat', 'privatedoc', 'privileg', 'prize', 'pro', 'prob', 'probabl', 'problem', 'problemalway', 'problematik', 'probli', 'probz', 'procedur', 'proceed', 'process', 'processaft', 'processah', 'procod', 'procrastin', 'prodigi', 'produc', 'product', 'productoffear', 'productstheyr', 'profess', 'profession', 'professor', 'professorhazard', 'profetengu', 'proffesion', 'profil', 'profit', 'program', 'programm', 'progress', 'prohibit', 'project', 'projector', 'prolli', 'prom', 'promes', 'promgraduationgunna', 'promis', 'promisei', 'promisin', 'promo', 'promot', 'prompt', 'pron', 'pronto', 'proof', 'prop', 'proper', 'properli', 'propmasta', 'propos', 'proscout', 'prospect', 'protect', 'protest', 'prototyp', 'proud', 'prov', 'prove', 'provid', 'provinci', 'prowrestl', 'proxi', 'prudentinvestor', 'ps', 'psfk', 'pshh', 'psn', 'psp', 'psquar', 'pssh', 'pssweetcheek', 'pst', 'psych', 'psychiccrayon', 'psycho', 'psychobilli', 'psychologist', 'pting', 'pto', 'pub', 'public', 'publicist', 'publicwhip', 'publish', 'publix', 'puchita', 'puchong', 'pucker', 'pud', 'puddin', 'puddl', 'puerrom', 'puff', 'pug', 'puke', 'pukkelpop', 'pull', 'pullin', 'pulpton', 'pump', 'pumpkin', 'pun', 'punch', 'punish', 'punjabi', 'punk', 'punkmedia', 'punkphink', 'pup', 'pupil', 'puppi', 'puppyjamaica', 'purchas', 'purdi', 'purdu', 'pure', 'purpl', 'purplebear', 'purplepianolov', 'purplepleath', 'purrplexa', 'purs', 'push', 'pushplaynick', 'pussi', 'pussycat', 'put', 'puter', 'puttputt', 'puurrrcausa', 'puzzl', 'pviktor', 'pvponlin', 'pw', 'px', 'pyromantik', 'pyt', 'python', 'q', 'qanni', 'qc', 'qdax', 'qik', 'qitti', 'qiwq', 'qku', 'qld', 'qo', 'qoh', 'qoosfr', 'qq', 'qs', 'qtbrowney', 'qteepy', 'qu', 'quad', 'quadrupl', 'qualiti', 'qualityto', 'quanti', 'quantiti', 'quarantin', 'quartercup', 'quartet', 'quasi', 'que', 'queden', 'queen', 'queeni', 'queeninmyc', 'queenkv', 'queenzita', 'queezi', 'queri', 'question', 'queu', 'quick', 'quickli', 'quid', 'quiet', 'quilt', 'quinn', 'quintessenti', 'quirki', 'quit', 'quiz', 'quizbut', 'quizez', 'quizmania', 'quizz', 'qulli', 'quot', 'quota', 'quotablebuffi', 'quotaccessoryquot', 'quotaerodynam', 'quotal', 'quotangel', 'quotanthonyquot', 'quotapologizequot', 'quotarab', 'quotat', 'quotawesom', 'quotb', 'quotbendquot', 'quotbenjamin', 'quotbest', 'quotbodi', 'quotbusinessquot', 'quotbusyquot', 'quotbutterflyquot', 'quotcatterickquot', 'quotcello', 'quotcharli', 'quotchina', 'quotciti', 'quotcomcasticquot', 'quotcommunicationquot', 'quotcont', 'quotconveniencequot', 'quotcutequot', 'quotcyrusquot', 'quotdisappearquot', 'quotdo', 'quotdont', 'quotdownquot', 'quotdrink', 'quoteallyquot', 'quotearlyquot', 'quotelmo', 'quotent', 'quoteveryth', 'quotexcus', 'quotfacebookquot', 'quotfat', 'quotforgotquot', 'quotfquot', 'quotfreequot', 'quotfunnest', 'quotgadgetsquot', 'quotgay', 'quotghost', 'quotgiv', 'quotgoldenhair', 'quotgood', 'quotgoodnightquot', 'quotgoodquot', 'quotgrandpa', 'quothazard', 'quothead', 'quothelloquot', 'quothey', 'quothii', 'quothilari', 'quothomequot', 'quothow', 'quoti', 'quoticequot', 'quotidiotquot', 'quotif', 'quotim', 'quotinterestingquot', 'quotinvis', 'quotiouquot', 'quotit', 'quotjust', 'quotkewlmoodedquot', 'quotkindaquot', 'quotkonquot', 'quotla', 'quotland', 'quotlapquot', 'quotlegitimatequot', 'quotlett', 'quotlif', 'quotlikequot', 'quotlittl', 'quotlost', 'quotlï', 'quotmaikoquot', 'quotmarioquot', 'quotmassaquot', 'quotmentorsquot', 'quotmi', 'quotminist', 'quotmissingquot', 'quotmonsieur', 'quotmonsterquot', 'quotmumsquot', 'quotmyspacequot', 'quotnev', 'quotno', 'quotnokla', 'quotnorfolk', 'quotnot', 'quotnow', 'quotobsessedquot', 'quotofflinequot', 'quotoh', 'quotold', 'quoton', 'quotourquot', 'quotpassengersquot', 'quotpeopl', 'quotpersonalquot', 'quotplanet', 'quotpleas', 'quotplug', 'quotplumpquot', 'quotpquot', 'quotput', 'quotquot', 'quotrangerquot', 'quotreadquot', 'quotreplyquot', 'quotreset', 'quotright', 'quotrivetingquot', 'quotrquot', 'quotrun', 'quotsam', 'quotsatchquot', 'quotschoolquot', 'quotscreamquot', 'quotseek', 'quotsexybackquot', 'quotsexyquot', 'quotsh', 'quotshooterquot', 'quotsickquot', 'quotsil', 'quotsnatch', 'quotsnobquot', 'quotsorri', 'quotsourc', 'quotspeechquot', 'quotstandingquot', 'quotstar', 'quotstuckquot', 'quotsubwayquot', 'quotsumm', 'quotsweetquot', 'quotswopperquot', 'quottast', 'quottat', 'quotth', 'quotthank', 'quotthat', 'quotther', 'quottherequot', 'quotthi', 'quotthingquot', 'quotthrough', 'quotthrow', 'quotto', 'quottrib', 'quottweetedquot', 'quottweniusquot', 'quottwiitzquot', 'quottwitt', 'quottwitterspherequot', 'quotunfollowedquot', 'quotunknownquot', 'quotunverifiedquot', 'quotupallnightquot', 'quotvivianquot', 'quotwak', 'quotwaterproof', 'quotwel', 'quotwelcom', 'quotwhat', 'quotwhen', 'quotwhi', 'quotwho', 'quotwick', 'quotwishquot', 'quotwomen', 'quotworld', 'quotwreck', 'quotwrit', 'quotxquot', 'quotyesterday', 'quotyou', 'quotyquot', 'quriousze', 'qxuo', 'r', 'raatek', 'rabbid', 'rabbit', 'race', 'racellomaria', 'rach', 'rachel', 'rachellondon', 'rachelnew', 'rachelramsay', 'rachhiie', 'rachrouch', 'racinghippo', 'racist', 'rack', 'rad', 'radar', 'radardog', 'radarlisten', 'radc', 'radford', 'radiat', 'radio', 'radiograph', 'radiogrinch', 'radiossav', 'raethoven', 'raf', 'rafter', 'rage', 'ragsmadison', 'rah', 'raha', 'raid', 'raiha', 'railroad', 'rain', 'raina', 'rainbow', 'rainbowjo', 'rainbowsoulpoet', 'raini', 'rainingsometh', 'rainni', 'rainnwilson', 'rainreal', 'rainyran', 'rais', 'raiser', 'raisin', 'ralphieaversa', 'ram', 'ramadhan', 'rambl', 'ramblelit', 'ramdomthought', 'ramereth', 'ramirezdavid', 'ramoso', 'rampantheart', 'ran', 'ranch', 'random', 'randomg', 'randomi', 'randomli', 'randomretweet', 'randomthought', 'randyybenic', 'rang', 'rank', 'rant', 'rap', 'rape', 'rapey', 'rapid', 'rapidshar', 'rappin', 'rararachel', 'rare', 'rashmi', 'rashmibans', 'rashmid', 'raspberri', 'rat', 'rate', 'rather', 'rau', 'ravensymon', 'ravenxtragedi', 'ravin', 'ravioli', 'ravish', 'raw', 'rawkze', 'rawnessjon', 'rawr', 'rawrimatoast', 'ray', 'raya', 'raynin', 'raytoro', 'raywjohnson', 'razorblad', 'rb', 'rc', 'rd', 'rdizzl', 'rdp', 'rdparti', 'rdpomona', 'reach', 'reaction', 'read', 'reader', 'readi', 'readjust', 'readthi', 'readyalthough', 'real', 'realbrookewhit', 'realchrissystar', 'realdmitchel', 'realeas', 'realhughjackman', 'reali', 'realis', 'realisedit', 'realiti', 'realiz', 'reallamarodom', 'realli', 'reallli', 'realllllyyi', 'realllyy', 'reallylik', 'reallyyi', 'realment', 'realpaulrudd', 'reason', 'reasonbut', 'rebecca', 'rebeccaclark', 'rebeccalang', 'rebeccaramsdal', 'rebelsean', 'rebirth', 'reboot', 'rebuild', 'rec', 'reccomend', 'receiv', 'recent', 'recept', 'recess', 'recip', 'recit', 'reckon', 'reclaim', 'recogn', 'recognis', 'recoil', 'recommend', 'recommendationquot', 'reconsid', 'record', 'recov', 'recoveri', 'recur', 'recv', 'recycl', 'red', 'redbul', 'redbulltherisksandsideeffect', 'redeem', 'redesign', 'rediscov', 'redmond', 'redonesp', 'redsox', 'redtoffe', 'reduc', 'redvelv', 'redã', 'reeeal', 'reel', 'rees', 'reesh', 'refactoringvycet', 'refer', 'referenc', 'referr', 'reflect', 'refresh', 'refreshedquot', 'refuel', 'refus', 'regar', 'regard', 'regga', 'reggbstro', 'reginamedina', 'reginamina', 'region', 'regist', 'registr', 'regress', 'regret', 'reguard', 'regular', 'regularli', 'regyat', 'rehears', 'rehydr', 'reikifurbabi', 'reinstal', 'reising', 'reject', 'rekid', 'rel', 'relat', 'relationship', 'relax', 'relay', 'releas', 'releg', 'reli', 'relianc', 'reliev', 'religion', 'religiousgod', 'reliv', 'rell', 'relli', 'reloc', 'reluct', 'remain', 'remainamysteri', 'remarri', 'remedi', 'rememb', 'rememberat', 'remembertheday', 'remind', 'reminisc', 'remix', 'remodel', 'remot', 'remov', 'ren', 'renato', 'renda', 'rendang', 'render', 'renderingi', 'rendit', 'renegad', 'renegadegrrl', 'renesebastian', 'renew', 'renewout', 'renov', 'renren', 'rent', 'rental', 'rentan', 'reopen', 'rep', 'repair', 'repav', 'repeat', 'repeaterband', 'replac', 'replay', 'repli', 'report', 'repost', 'reppin', 'repres', 'repris', 'reprot', 'republ', 'republican', 'req', 'request', 'requir', 'requisit', 'reread', 'rereleas', 'rerun', 'reruntherac', 'reschedul', 'rescu', 'research', 'resel', 'resend', 'reserv', 'reset', 'reshar', 'resharp', 'resid', 'resign', 'resist', 'resit', 'resnic', 'resolut', 'resolv', 'reson', 'respect', 'respectthewest', 'respiratori', 'respond', 'respons', 'rest', 'restart', 'restaur', 'restless', 'restor', 'restyou', 'result', 'resum', 'retail', 'retain', 'retard', 'retir', 'retract', 'retreat', 'retro', 'return', 'retweet', 'reunion', 'reunionhow', 'reunit', 'reuter', 'rev', 'revamp', 'reveal', 'reveckzeff', 'revers', 'review', 'revimhotep', 'revis', 'revolt', 'revolut', 'revolv', 'rewossi', 'rewrit', 'rex', 'rheap', 'rhian', 'rhiand', 'rhiannaat', 'rhiannonrevolt', 'rhifreakx', 'rhondabrown', 'rhyme', 'ri', 'ria', 'riaa', 'rialist', 'riamathew', 'riax', 'rib', 'ribbon', 'ribeana', 'ricardo', 'ricardooooo', 'rice', 'rich', 'richard', 'richardatnapton', 'richardbak', 'richardbel', 'richardpbacon', 'richardson', 'richberra', 'richer', 'richi', 'richschefren', 'richward', 'rick', 'ricklondon', 'rickman', 'rickmav', 'ricksanchezcnn', 'rickshaw', 'ricksltlsist', 'rickydehaa', 'rid', 'ride', 'ridec', 'rider', 'ridicul', 'riedel', 'right', 'rightgirl', 'rightnowradio', 'rightquot', 'rikku', 'rilespuppi', 'riley', 'rileyyy', 'rim', 'ring', 'ringcon', 'rington', 'rip', 'ripfarrahfawcett', 'rise', 'rishabhphagr', 'risk', 'riski', 'riskybusinessmb', 'ritchey', 'rite', 'ritter', 'ritzcrack', 'rival', 'river', 'riverwalk', 'rivet', 'rkeithhil', 'rlangel', 'rlfloyd', 'rlli', 'rm', 'rmb', 'rmolden', 'rn', 'rnd', 'rnmetti', 'ro', 'roach', 'road', 'roadkil', 'roadtrip', 'roam', 'roar', 'roast', 'rob', 'robberi', 'robert', 'robertgibb', 'robertwis', 'robgokeemus', 'robgrim', 'robi', 'robin', 'robjjon', 'robkardashian', 'robluket', 'robot', 'robpattinson', 'robsmaid', 'robtheshep', 'robthriv', 'rochvergara', 'rock', 'rockband', 'rocketriot', 'rocketriotxbla', 'rocki', 'rockin', 'rocknmommi', 'rockstar', 'rockthebel', 'rockthejay', 'rococo', 'rod', 'rode', 'rodeo', 'rodnet', 'rodney', 'rodrigograna', 'rofl', 'rofliron', 'roflmao', 'roger', 'rogiek', 'rogu', 'roguedarkli', 'rokchic', 'rolando', 'role', 'roll', 'rollercoast', 'rolli', 'rolllryt', 'rollon', 'rolyatoj', 'rolytaylor', 'rom', 'romanc', 'romanian', 'romant', 'romanxcandl', 'rome', 'romeo', 'rominafahem', 'romm', 'romper', 'romulan', 'ron', 'ronash', 'rongetzlucki', 'roof', 'rooftop', 'room', 'roomi', 'roommat', 'roomquot', 'roonie', 'root', 'rootbeerfloat', 'rootin', 'rope', 'ror', 'rosaapril', 'rosalielhal', 'rosauro', 'rose', 'roseahmad', 'roseand', 'rosekimknit', 'rosenstand', 'rosesar', 'roshnimo', 'rosi', 'rosiegarland', 'rosiesd', 'ross', 'rossi', 'rosski', 'rossrobinson', 'rosstrich', 'rotat', 'rotf', 'rough', 'roughli', 'round', 'roundsparrow', 'rout', 'routhietooti', 'routin', 'rovio', 'row', 'rowanberri', 'rowanponi', 'rowr', 'roxannejean', 'roxi', 'roxiegirl', 'roxx', 'roxycraft', 'royal', 'royalguardofoz', 'royksopp', 'rrankinwalk', 'rri', 'rrohac', 'rrrrrr', 'rs', 'rss', 'rt', 'rtolido', 'rtot', 'rtr', 'rtwinger', 'ru', 'rub', 'rubber', 'rubbin', 'rubbish', 'rubi', 'rubin', 'rubypurpl', 'rudd', 'ruddi', 'rude', 'rue', 'rug', 'ruhanirabin', 'ruin', 'rule', 'rulerofdazzl', 'rulesss', 'rum', 'rumah', 'rumlov', 'rumor', 'run', 'runaround', 'runaway', 'rundown', 'runi', 'runkeep', 'runner', 'runnin', 'rupaul', 'rupe', 'rupert', 'rush', 'rushworth', 'ruskin', 'russ', 'russcargil', 'russel', 'russellcrowbar', 'russian', 'russiansinuk', 'russin', 'russmarshalek', 'rust', 'rustyrocket', 'ruthbeedl', 'ruthylani', 'rva', 'rveturi', 'rwa', 'rwbeagl', 'rxpuj', 'ry', 'ryan', 'ryanaudit', 'ryanhopesudi', 'ryanjschmidt', 'ryanlesli', 'ryanmwilson', 'ryanodonnel', 'ryanrfish', 'ryanrossfanz', 'ryanseacrest', 'ryanstar', 'rye', 'ryuuenx', 'rá', 'sa', 'saad', 'saamanthajaan', 'sac', 'sacramento', 'sad', 'sadbut', 'sadd', 'sadden', 'saddest', 'saddl', 'saden', 'sadfac', 'sadfarrah', 'sadi', 'sadiepetunia', 'sadist', 'sadli', 'sadnervousscareduncertain', 'sadnessjust', 'sadsh', 'safari', 'safariquot', 'safe', 'safeti', 'saga', 'sage', 'sagebrennan', 'said', 'saidquot', 'saidquotu', 'saifsiddiqui', 'saikosakura', 'sainsburi', 'saint', 'sakiemiri', 'salad', 'saladthank', 'salam', 'salari', 'salclement', 'sale', 'salesfashionpalettecomau', 'salesi', 'salesjshopcouk', 'salespeopl', 'saling', 'sallyhbewsey', 'sallyinnorfolk', 'salman', 'salsa', 'salt', 'saltash', 'salti', 'sam', 'sama', 'samaaa', 'samandfuzzi', 'samantha', 'samb', 'sameday', 'sameergupta', 'sami', 'samir', 'sammi', 'sammyc', 'sammylynnk', 'sammymax', 'samosa', 'sampbwould', 'sampl', 'samquerrey', 'samscotti', 'samthepoodl', 'samuelisaac', 'samwoodslol', 'san', 'sana', 'sancha', 'sanchez', 'sand', 'sandman', 'sandra', 'sandrabernhard', 'sandwhich', 'sandwich', 'sandypaw', 'sanford', 'sang', 'sanjayshah', 'sannewielenga', 'santa', 'santiago', 'sanu', 'sao', 'saphinfect', 'sappi', 'sappos', 'sara', 'sarah', 'sarahatwood', 'sarahjericho', 'sarahjgoldsack', 'sarahmorrmorr', 'sarahsan', 'saraht', 'sarahthebamf', 'sarakge', 'sarallenconsult', 'saramooney', 'sarapan', 'saratoga', 'saravananp', 'sarcasm', 'sarcasmagor', 'saritaonlin', 'sarri', 'sasha', 'sashakan', 'saskatchewan', 'sassi', 'sasultana', 'sat', 'sathyabhat', 'satur', 'saturdaayyy', 'saturday', 'saturdayfriday', 'sauc', 'saud', 'saudarile', 'saulashbi', 'saulbhp', 'sauna', 'sausag', 'sauzagold', 'savannahs', 'savannahxo', 'save', 'savitri', 'saw', 'sawa', 'sawdust', 'sawww', 'sax', 'saxon', 'say', 'sayanosaura', 'sayhaitojen', 'sayi', 'sayin', 'sayso', 'sayâ', 'sbmczh', 'sbprkr', 'sc', 'scab', 'scam', 'scamper', 'scan', 'scandal', 'scanner', 'scare', 'scared', 'scaredoppa', 'scareofwaterday', 'scarf', 'scari', 'scariest', 'scarlett', 'scarlettdan', 'scarlettx', 'scaryyi', 'sce', 'scee', 'scenario', 'scenariogirl', 'scene', 'sceneri', 'scentsat', 'schade', 'sched', 'schedul', 'schedulebut', 'scheme', 'schindler', 'schkou', 'schlimm', 'schmeer', 'schofe', 'scholarli', 'school', 'sci', 'scienc', 'sciencegoddess', 'scientif', 'scifi', 'scifiv', 'scissor', 'scobl', 'scone', 'sconstantin', 'scoobi', 'scoopemup', 'scope', 'scorch', 'score', 'scorpioey', 'scotchmist', 'scotland', 'scott', 'scotthardi', 'scottish', 'scottsand', 'scowl', 'scracho', 'scrapbook', 'scrapiana', 'scratch', 'scream', 'screen', 'screencap', 'screenquot', 'screw', 'screwup', 'scribe', 'script', 'scriptureit', 'scriven', 'scroog', 'scroung', 'scrub', 'scrufu', 'scum', 'scummi', 'scuttl', 'scuttlebuzz', 'scyranth', 'sd', 'sdnevent', 'sdotkdotc', 'sdown', 'sdpaddi', 'sdw', 'se', 'sea', 'seahors', 'seal', 'seamonkey', 'seamushay', 'sean', 'seanmhay', 'search', 'searcheslam', 'season', 'seasonnnnnn', 'seat', 'seater', 'seattl', 'seawe', 'seb', 'sebastian', 'sebinom', 'sec', 'secaduff', 'secbarbi', 'second', 'secret', 'secretagentmama', 'secretari', 'secretfanofu', 'secretli', 'section', 'secur', 'sedang', 'sednemav', 'see', 'seed', 'seeeehr', 'seeeeriou', 'seegg', 'seek', 'seeker', 'seem', 'seemingli', 'seen', 'seenandsaid', 'seep', 'seesmic', 'seeya', 'sehr', 'seiz', 'sel', 'select', 'selena', 'selenagomez', 'self', 'selfinflict', 'selinux', 'sell', 'selmarieg', 'sem', 'semblanc', 'semest', 'semibreezi', 'seminarcours', 'semm', 'senat', 'senc', 'send', 'sendchocol', 'seng', 'sengm', 'senior', 'sennen', 'sennheis', 'sens', 'sensit', 'sensor', 'sent', 'senter', 'separ', 'seper', 'sept', 'septemb', 'sequel', 'sequelquot', 'serendip', 'serenitysold', 'serg', 'seri', 'serial', 'seriou', 'serious', 'seriousconcern', 'seriouslyquot', 'seriouslythat', 'sermoa', 'sermon', 'serrano', 'serv', 'server', 'servic', 'sesh', 'session', 'sessionim', 'set', 'settl', 'settler', 'settlewr', 'setup', 'setwozniacki', 'seven', 'sever', 'severin', 'sew', 'sex', 'sexi', 'sexiest', 'sexiicon', 'sexinstiletto', 'sexpens', 'sexxi', 'sexxyblackines', 'sexxyindividu', 'sexybeach', 'sexysheryl', 'sexysubkayle', 'sezdawg', 'sf', 'sfspca', 'sgflutegirl', 'sh', 'shachar', 'shadow', 'shafi', 'shag', 'shaggi', 'shaggyoh', 'shah', 'shaido', 'shake', 'shakey', 'shaki', 'shakn', 'shaliniqu', 'shall', 'shame', 'shameless', 'shammond', 'shamwow', 'shana', 'shandi', 'shanedawson', 'shaney', 'shangri', 'shannamoakl', 'shannaniscool', 'shannanstedman', 'shannon', 'shannonelizab', 'shannonleetwe', 'shannonokeeff', 'shannonrene', 'shantiernan', 'shantymanfan', 'shanzer', 'shape', 'shapequot', 'shaq', 'shaqtu', 'sharagrif', 'sharapova', 'shardemonet', 'share', 'shareasalenew', 'sharepoint', 'sharifedak', 'shark', 'sharnaci', 'sharon', 'sharonhay', 'sharp', 'sharpei', 'sharpish', 'shart', 'shat', 'shatter', 'shatterednot', 'shaun', 'shaunahfuegen', 'shaunamifsud', 'shaunathat', 'shaundiviney', 'shaunjumpnow', 'shaunsmith', 'shaunyfresko', 'shawn', 'shawnk', 'shawnorourk', 'shaya', 'shayera', 'shazzam', 'she', 'sheamu', 'shed', 'sheep', 'sheesh', 'sheet', 'sheezey', 'sheffield', 'shehnsha', 'sheindi', 'shelbi', 'shelbycasanova', 'shelbytyszka', 'sheldawg', 'shelia', 'shell', 'shelley', 'shelleyra', 'shellyh', 'shellz', 'shem', 'shemah', 'shenagian', 'shenangagain', 'sheppard', 'sheri', 'sherlockjr', 'shermanhu', 'shesouldeep', 'sheâ', 'shh', 'shhhhhhhhhhtime', 'shi', 'shia', 'shiara', 'shick', 'shield', 'shieldquot', 'shift', 'shiftywooten', 'shiggiti', 'shihan', 'shiiit', 'shikhabirdi', 'shilshi', 'shimasho', 'shimmi', 'shin', 'shindig', 'shine', 'shinedropdim', 'shiner', 'shini', 'shinyhappyhead', 'shinyshini', 'ship', 'shipovalov', 'shirt', 'shit', 'shite', 'shiteer', 'shitless', 'shitload', 'shitquot', 'shitti', 'shittt', 'shittttti', 'shitz', 'shiver', 'shizzit', 'shizzz', 'shmerin', 'sho', 'shock', 'shoe', 'shoedazzl', 'shoefan', 'shoeson', 'shoesquot', 'shontellelayn', 'shoooow', 'shooot', 'shoot', 'shop', 'shopahol', 'shopp', 'shore', 'short', 'shorter', 'shortest', 'shortli', 'shortlist', 'shot', 'shotdown', 'shotlaw', 'shoulda', 'shoulder', 'shouldnt', 'shouldv', 'shout', 'shoutout', 'shove', 'show', 'showbizcousin', 'showbiztv', 'showcas', 'shower', 'showeri', 'showerit', 'showerrrrrr', 'shown', 'showreal', 'showseri', 'showsleep', 'showtim', 'shozu', 'shrimp', 'shrink', 'shrinkedso', 'shroom', 'shruticut', 'sht', 'shuck', 'shud', 'shuffl', 'shumarani', 'shut', 'shutter', 'shvi', 'shystieuk', 'si', 'siames', 'sian', 'sianthemous', 'siavash', 'sibl', 'sicilian', 'sick', 'sicki', 'sickno', 'sickpleas', 'sickwiththepen', 'sid', 'side', 'sidebar', 'sideit', 'sidekick', 'sideway', 'sidv', 'sietar', 'sig', 'sigaret', 'sigh', 'sighhh', 'sighhhh', 'sighsad', 'sight', 'sightssound', 'sign', 'signal', 'signatur', 'sike', 'silenc', 'silent', 'silicon', 'silk', 'silkcharm', 'silkdark', 'silli', 'sillypucci', 'silverlin', 'silverwat', 'sim', 'similar', 'similiar', 'simon', 'simonbot', 'simoncherian', 'simonelliott', 'simonmcconico', 'simpl', 'simplebut', 'simplenomad', 'simpli', 'simplic', 'simplystar', 'simplystardust', 'simpson', 'simx', 'sin', 'sinc', 'sinca', 'sind', 'sine', 'sing', 'singapor', 'singer', 'singh', 'singingkj', 'singingquotlonelyim', 'singl', 'sinisterdraven', 'sink', 'sinnamon', 'sinner', 'sinon', 'sinu', 'sip', 'sipdrink', 'sir', 'sirgoos', 'sirhow', 'siriu', 'sirloz', 'sirpsycho', 'sisker', 'sistah', 'sister', 'sisterpatterson', 'sit', 'sitch', 'site', 'siteit', 'sitsgirl', 'sittin', 'situat', 'sivasothi', 'six', 'sixninja', 'sixti', 'size', 'sj', 'sjcnkotb', 'sjo', 'sk', 'ska', 'skank', 'skarsol', 'skate', 'skatinggg', 'skavoove', 'skepticabin', 'sketch', 'ski', 'skiddybabyyi', 'skidsmudflap', 'skill', 'skim', 'skin', 'skinmag', 'skinni', 'skinnylatt', 'skinnymonki', 'skint', 'skip', 'skirt', 'skittl', 'skive', 'skl', 'skoo', 'skool', 'skoop', 'skultold', 'skwi', 'sky', 'skye', 'skyhd', 'skylerev', 'skylin', 'skylo', 'skype', 'skysthalimit', 'skytrain', 'skytram', 'sl', 'slack', 'slackin', 'slam', 'slapadabass', 'slate', 'slave', 'slavetoanim', 'slc', 'sleazi', 'sleeeeeeeeeep', 'sleeeeeep', 'sleeeeep', 'sleeeep', 'sleeeepchattin', 'sleeeepin', 'sleeep', 'sleeepyy', 'sleep', 'sleephaha', 'sleepi', 'sleepin', 'sleepingi', 'sleepingit', 'sleepov', 'sleepsuggestionif', 'sleepystil', 'sleev', 'slept', 'slesai', 'slg', 'slice', 'slick', 'slide', 'slidesharedan', 'slighti', 'slightli', 'slim', 'sling', 'slingplay', 'slinki', 'slip', 'sloanelawdog', 'sloooow', 'sloppi', 'slow', 'slowli', 'slowww', 'slp', 'slumber', 'slumdog', 'slump', 'slushi', 'sluthood', 'sm', 'sma', 'smaaack', 'smack', 'small', 'smalleymi', 'smang', 'smart', 'smartdashboard', 'smarter', 'smartiej', 'smash', 'smashedthehomi', 'smell', 'smeykunz', 'smh', 'smhim', 'smile', 'smileriff', 'smiley', 'smith', 'smmmealllyalaaatarzzz', 'smock', 'smoke', 'smokingclub', 'smooth', 'smoothest', 'smoothi', 'smoothli', 'smother', 'smradu', 'smug', 'smuggl', 'smugmug', 'sn', 'snack', 'snag', 'snake', 'snakehit', 'snap', 'snapi', 'snapshotsoflov', 'snarkandfuri', 'snarkattack', 'sneak', 'sneaker', 'sneez', 'sng', 'snibston', 'snicker', 'sniff', 'sniffl', 'snigdha', 'snitch', 'snolli', 'snoopi', 'snooti', 'snore', 'snori', 'snow', 'snowboardlit', 'snowday', 'snowflakeuniqu', 'snowi', 'snowqueen', 'snufsnuf', 'so', 'soak', 'soap', 'soar', 'sob', 'sober', 'sobrieti', 'socal', 'socalgurl', 'soccer', 'soccerbal', 'social', 'socialrobot', 'societi', 'sock', 'sockington', 'sod', 'soda', 'soemon', 'sofa', 'sofi', 'sofia', 'sofifii', 'soft', 'softbal', 'softi', 'softwar', 'sofylovejb', 'soho', 'soin', 'soinma', 'soir', 'soire', 'soju', 'sojual', 'sokeri', 'solari', 'solcolorado', 'sold', 'soldhop', 'soldier', 'sole', 'solid', 'solkana', 'sollitair', 'solo', 'solomon', 'solut', 'soma', 'some', 'somebodi', 'someday', 'somedevil', 'somehow', 'somemandi', 'someon', 'someoneplac', 'somesaydav', 'someth', 'somethin', 'somethinggg', 'somethingi', 'somethinglol', 'sometim', 'somewhat', 'somewher', 'somewherequot', 'son', 'song', 'songquot', 'songsbythedot', 'songxx', 'songz', 'soni', 'sonialexandra', 'sonicreduc', 'sonnigen', 'soo', 'sookiebontemp', 'soon', 'soondeechua', 'sooner', 'sooni', 'soonish', 'soonlook', 'soonsleep', 'sooo', 'sooon', 'soooo', 'sooooo', 'soooooo', 'sooooooo', 'sooooooon', 'soooooooo', 'sooooooooo', 'sooooooooooo', 'soooooooooooo', 'sooooooooooooo', 'soooooooooooooooooo', 'sooooooooooooooooooo', 'sooooooooooooooooooooooo', 'soooooooooooooooooooooooooo', 'soooorrryyi', 'sooooul', 'soooper', 'sooth', 'sophi', 'sophieveronica', 'sophist', 'sorbet', 'sorcha', 'sore', 'sorinna', 'sorri', 'sorrri', 'sorryna', 'sort', 'sorta', 'sotod', 'sotomi', 'sotwitti', 'soul', 'souleyede', 'soulforc', 'souljaboytellem', 'soulrip', 'sound', 'soundlik', 'soundtrack', 'soundwav', 'soup', 'sour', 'sourc', 'south', 'southal', 'southpark', 'southwest', 'souuuup', 'sow', 'sowavi', 'soweee', 'sowrongitsjason', 'sowwi', 'soy', 'sp', 'spa', 'space', 'spacecowboyi', 'spacehotel', 'spacepirateril', 'spaceship', 'spagetisamich', 'spain', 'spaina', 'spam', 'spammer', 'spammi', 'span', 'spanish', 'spanishmann', 'spank', 'spanx', 'spare', 'spark', 'sparkler', 'sparkli', 'sparrow', 'spartanlov', 'spat', 'spatel', 'spawn', 'spbpuk', 'speak', 'speaker', 'spear', 'spearslol', 'special', 'specialampadmir', 'specialesumpen', 'specif', 'spect', 'speechlessthank', 'speed', 'speeddid', 'speedi', 'speedread', 'spell', 'spencerordonez', 'spencerpratt', 'spend', 'spenriv', 'spent', 'spi', 'spici', 'spider', 'spidor', 'spike', 'spill', 'spin', 'spinnerett', 'spinoff', 'spinvox', 'spiral', 'spirit', 'spiritu', 'spit', 'spj', 'spk', 'splahe', 'splantiago', 'splash', 'splashi', 'splendid', 'split', 'splite', 'splitreact', 'splurg', 'spode', 'spoil', 'spoiler', 'spoilt', 'spoke', 'spoken', 'spokesman', 'spokesnwheel', 'spongebob', 'sponsor', 'sponten', 'spoon', 'spoonbend', 'spore', 'spork', 'sport', 'sportsbroad', 'spose', 'spot', 'spotifi', 'spotonpr', 'spotzl', 'sprain', 'spray', 'spread', 'spring', 'springhillroyc', 'springmeadowssc', 'springtim', 'sprint', 'spruce', 'sptechcon', 'spur', 'spush', 'spybot', 'spyrosvj', 'spywar', 'squar', 'squarespac', 'squash', 'squeaki', 'squeez', 'squirm', 'squirrel', 'squirrelsunit', 'squishymatt', 'squot', 'sri', 'srri', 'sscchhoolll', 'st', 'sta', 'stab', 'stacci', 'stacemeist', 'stacey', 'staceysoleil', 'stach', 'stacielan', 'stacimari', 'stack', 'stacylav', 'stadium', 'staff', 'stage', 'stai', 'staight', 'stair', 'stale', 'stalk', 'stalker', 'stall', 'stamp', 'stamped', 'stan', 'stand', 'standalon', 'standard', 'stanki', 'stanleytang', 'staplemuffin', 'star', 'starbright', 'starbuck', 'starchileahhhalright', 'stare', 'starin', 'starker', 'staronlin', 'starrbbi', 'starrkiss', 'starryblueski', 'starshin', 'starship', 'start', 'starter', 'startin', 'startrekmovi', 'starv', 'starvin', 'starvinggggggg', 'starz', 'stasch', 'stash', 'stat', 'state', 'statearealoc', 'statepretti', 'station', 'stationstop', 'statist', 'statravel', 'statu', 'statusnotifi', 'stay', 'stayin', 'steadi', 'steak', 'steal', 'stealth', 'stealtheshow', 'steam', 'steap', 'stee', 'steel', 'steeltrain', 'steep', 'steev', 'steevdav', 'stef', 'stefanieerin', 'stefaniltx', 'stefanmk', 'stefanooldeman', 'stefanvd', 'stefanyouï', 'stefftsk', 'steiger', 'stellar', 'stellenbosch', 'stench', 'step', 'steph', 'stephaneeey', 'stephani', 'stephaniek', 'stephanya', 'stephenchallen', 'stephendon', 'stephenfri', 'stephenpearn', 'stephjw', 'stephlandri', 'stephmccal', 'stephunnyjan', 'stephysit', 'stepmom', 'stepquot', 'stereo', 'steve', 'steveage', 'stevebuscemi', 'stevecla', 'stevecogan', 'stevemoakl', 'steven', 'stevenag', 'stevenliemberg', 'stevetpow', 'stevi', 'stevonelson', 'stewart', 'stewarttownsend', 'stewartwad', 'stewi', 'stewilliam', 'stfu', 'sti', 'stick', 'sticker', 'sticki', 'still', 'stilllost', 'stimula', 'stimulacra', 'stink', 'stinkin', 'stinksvil', 'stinson', 'stir', 'stitch', 'stix', 'stixizza', 'stm', 'stml', 'stock', 'stockholm', 'stod', 'stoke', 'stold', 'stole', 'stolen', 'stomach', 'stomachach', 'stomp', 'stond', 'stone', 'stonedi', 'stoner', 'stoopid', 'stop', 'stopahmadi', 'stoppin', 'stopwhat', 'storag', 'store', 'stori', 'storiesofmac', 'storm', 'stormn', 'stormsmi', 'stove', 'stpolki', 'straight', 'straighten', 'straightno', 'straiiight', 'strain', 'strampelt', 'strand', 'strang', 'stranger', 'strangest', 'strap', 'strateg', 'strategi', 'strathclyd', 'strawberishak', 'strawberri', 'strawberrieswond', 'strawburri', 'stray', 'streak', 'stream', 'street', 'streetcar', 'streetlevelfoto', 'streetwizemag', 'strength', 'strep', 'stress', 'stretch', 'strict', 'stride', 'strike', 'string', 'stripper', 'strive', 'stroke', 'strong', 'stronger', 'struggl', 'stryder', 'stu', 'stuborn', 'stuck', 'stuckgotta', 'stuckindagroov', 'stuckwit', 'studarbi', 'student', 'studi', 'studio', 'studiomag', 'studioxiii', 'studyinghmm', 'stuedent', 'stuf', 'stuff', 'stufff', 'stuffi', 'stuffin', 'stuffnow', 'stugreenham', 'stuk', 'stumbl', 'stumbleboth', 'stun', 'stunningphotographsofscotland', 'stunt', 'stupid', 'stupidest', 'stupidflowerbitchfromhampawhogetsimpregnatedbyevilcult', 'stupidli', 'stupidlydilari', 'sturbuck', 'stweet', 'style', 'stylekid', 'stylemom', 'styler', 'stylist', 'sua', 'suai', 'suavez', 'sub', 'subcrib', 'subiaco', 'subject', 'sublicon', 'submit', 'submitand', 'subscrib', 'subscript', 'subsid', 'suburbandollar', 'suburbanhipst', 'subway', 'succeed', 'success', 'successquot', 'succinct', 'succkkksss', 'succumb', 'sucht', 'suck', 'sucker', 'sucki', 'suckish', 'sucksso', 'sucksss', 'sucksthat', 'sudah', 'sudden', 'suddenli', 'sudhamshu', 'sue', 'suehenri', 'suffer', 'sugadeaux', 'sugar', 'sugardaddi', 'sugarfreensa', 'sugarlandfan', 'suggest', 'suicid', 'suicidebut', 'suit', 'suitabl', 'suitcas', 'suitelifeofkel', 'sulk', 'sultana', 'sultri', 'sum', 'summah', 'summaraiin', 'summari', 'summer', 'summerbailey', 'summercd', 'summerfest', 'summerthi', 'summit', 'summmer', 'summmerr', 'sumn', 'sumon', 'sumthin', 'sumthn', 'sumtim', 'sumwher', 'sun', 'sunbeam', 'sunburn', 'sunburnt', 'sunda', 'sunday', 'sundayyy', 'sunflow', 'sunglass', 'sunir', 'sunisa', 'sunn', 'sunni', 'sunnn', 'sunnni', 'sunris', 'sunscreen', 'sunset', 'sunshin', 'sunshinefin', 'suntir', 'sup', 'supafast', 'super', 'superb', 'superbowl', 'supergrl', 'superhero', 'superhotti', 'supermac', 'superman', 'supermarket', 'superpok', 'superr', 'supersexyladi', 'superstardjray', 'superstit', 'supertim', 'superwif', 'suplada', 'suposs', 'supp', 'suppli', 'support', 'supportstructur', 'suppos', 'supposedli', 'supralumin', 'supratinyurlcom', 'supris', 'sur', 'surakarta', 'sure', 'surei', 'surelet', 'surewhich', 'surf', 'surfac', 'surfclubhit', 'surgeri', 'surgic', 'surial', 'surnam', 'surpris', 'surprisingli', 'surpsippineilen', 'surrend', 'surround', 'survey', 'survic', 'surviv', 'susan', 'susanstn', 'sush', 'sushi', 'sushiannnn', 'susielin', 'suspect', 'sustain', 'sutter', 'suv', 'sux', 'suz', 'suzann', 'suziam', 'suzierobb', 'sv', 'svgrob', 'svn', 'swag', 'swagtast', 'swam', 'swamp', 'swan', 'swanki', 'swap', 'sway', 'swayz', 'swear', 'swearsmuch', 'sweat', 'sweater', 'sweati', 'swedish', 'sweeeeden', 'sweeeeet', 'sweet', 'sweetemmaxxx', 'sweeter', 'sweetheart', 'sweethomestyletumblrcom', 'sweeti', 'sweetladyg', 'sweetloc', 'sweetneatcooletc', 'sweetpeax', 'sweetyea', 'swell', 'swetdreamss', 'swift', 'swim', 'swimmermag', 'swimmingbut', 'swine', 'swing', 'swirlyart', 'swiss', 'switch', 'switchitnow', 'switzerland', 'swizec', 'swlambr', 'swole', 'swollen', 'sybil', 'syd', 'sydney', 'sydneyholiday', 'syednaqib', 'syf', 'syhinfo', 'sylver', 'sylverstar', 'symbol', 'symbolizequot', 'symbolquot', 'sympathi', 'sync', 'syntax', 'synth', 'syracus', 'syrup', 'systan', 'system', 'sytycda', 'syz', 'sãºt', 'ta', 'tab', 'tabi', 'tabitca', 'tabl', 'tablet', 'tacki', 'tackl', 'taco', 'tacobel', 'tacoluv', 'tad', 'tafe', 'tafelzoetstof', 'tag', 'tagalog', 'tagin', 'tagu', 'tahch', 'taho', 'taiji', 'taik', 'tail', 'tairrieb', 'tak', 'takamasu', 'takboleh', 'take', 'taken', 'takianballard', 'takin', 'takt', 'talent', 'talk', 'talkback', 'talkin', 'talkingdear', 'talkinq', 'talkmast', 'tall', 'talli', 'tallkisscom', 'tamarlovesu', 'tamekaraymond', 'tammila', 'tammydavid', 'tammymunson', 'tammzi', 'tamori', 'tampin', 'tan', 'tang', 'tanggung', 'tango', 'tank', 'tantamani', 'tanya', 'tanyabrook', 'tap', 'tape', 'tapeand', 'tapequot', 'tapo', 'tar', 'tara', 'target', 'tartan', 'tasharri', 'tashi', 'tashika', 'task', 'tast', 'tastey', 'tasti', 'tatianneesq', 'tatti', 'tattoo', 'taught', 'tawagpromot', 'tax', 'taxi', 'taxonomyi', 'tayjasp', 'taylor', 'taylordreg', 'taylorianscom', 'taylorswift', 'tayswift', 'tb', 'tbabe', 'tbd', 'tbh', 'tc', 'tcabeen', 'tck', 'tcouto', 'tcslive', 'td', 'tday', 'tdf', 'te', 'tea', 'teach', 'teacher', 'teachernev', 'teahcer', 'team', 'teamastana', 'teamdaveday', 'teamddemilovato', 'teamtibet', 'teamwork', 'teanah', 'teaneck', 'teapotquot', 'tear', 'teari', 'teas', 'tech', 'techbab', 'technic', 'technolog', 'technologist', 'techquo', 'techwraith', 'tecki', 'teddi', 'tedium', 'tee', 'teemonst', 'teemwilliam', 'teen', 'teenag', 'teeni', 'teenth', 'teeth', 'tegan', 'teh', 'tehe', 'teinegotta', 'teka', 'teknetia', 'tel', 'tele', 'teleken', 'televis', 'tell', 'telli', 'tellin', 'tem', 'temarrio', 'temp', 'temperatur', 'templat', 'temporad', 'temporari', 'temporarili', 'tempt', 'temptat', 'ten', 'tend', 'tendenc', 'tennant', 'tenni', 'tens', 'tent', 'tenth', 'tequila', 'tequilasam', 'term', 'termin', 'terminar', 'terrac', 'terrencej', 'terri', 'terribl', 'terricook', 'terrifi', 'territori', 'terrorist', 'terryfre', 'terwillegar', 'tesco', 'tesla', 'tessle', 'test', 'testament', 'testen', 'testimoni', 'testno', 'testuhhh', 'tetri', 'texa', 'texan', 'texaszman', 'text', 'textbook', 'textin', 'textmat', 'textskyp', 'textur', 'textwrangl', 'teyanataylor', 'tezzer', 'tferthoma', 'tfl', 'tfletcher', 'tgib', 'th', 'tha', 'thaa', 'thaaaaang', 'thaaaat', 'thaaank', 'thackeray', 'thahalo', 'thahani', 'thak', 'thalovebug', 'thamawat', 'than', 'thang', 'thank', 'thanki', 'thanksit', 'thankslet', 'thanksm', 'thankssss', 'thanktank', 'thankyou', 'thanx', 'thanxx', 'tharoor', 'thastevieg', 'that', 'thatd', 'thatdream', 'thatgiv', 'thatguygil', 'thatll', 'thatnow', 'thatswhack', 'thatttt', 'thatwa', 'thatâ', 'thatï', 'theapprentic', 'theaptour', 'theartistt', 'theashbal', 'theater', 'theatr', 'thebarn', 'thebeanboy', 'thebettersexdoc', 'thebigfelafel', 'theblackwreath', 'thecrazyjogg', 'thedailygriff', 'thedebbyryan', 'thee', 'theed', 'theeee', 'theelitejustin', 'theellenshow', 'theengteach', 'theexclam', 'theextravag', 'thefemgeek', 'thefilmstag', 'theft', 'thefuturehead', 'thegadgetshow', 'thegazzman', 'thehaumean', 'theheartsong', 'thehodg', 'theirishguy', 'theiv', 'thejacksonfil', 'thejest', 'thejo', 'thejuiceisgood', 'thekatvond', 'thelaststorm', 'thell', 'theme', 'themiddleman', 'themindoftippi', 'themnot', 'themodernreef', 'themsuck', 'thenewschick', 'thenn', 'thenot', 'thenub', 'theo', 'theollymann', 'theori', 'theorybut', 'theotherrickp', 'thepartyscen', 'thepatr', 'theprincebem', 'theragingocean', 'therangelon', 'therapi', 'therapynutrit', 'there', 'thereaft', 'therealbasterd', 'therealcorybach', 'therealjspac', 'therealmischa', 'therealnph', 'therealsavannah', 'therealshaq', 'therealstoogl', 'therefor', 'therel', 'thereokay', 'therequot', 'theresa', 'theresarockfac', 'thereso', 'therewish', 'theroundup', 'therudetypist', 'theshannonbrand', 'theshowgram', 'thesi', 'thesouthernstar', 'thestar', 'thestubca', 'thestylepa', 'thetaipan', 'theviperroom', 'theworld', 'theyd', 'theyll', 'theyr', 'theyv', 'thgave', 'thi', 'thick', 'thief', 'thin', 'thing', 'thinggi', 'thingi', 'thingnight', 'thingo', 'thingquot', 'thingsshesaid', 'think', 'thinkn', 'third', 'thirstforwin', 'thirsti', 'thisboyelroy', 'thisgoesher', 'thisismyiq', 'thisisrobthoma', 'thisll', 'thiss', 'thissinc', 'thiswho', 'thnx', 'tho', 'thoi', 'thomasaugusto', 'thomasedward', 'thomasgudgeon', 'thomashensel', 'thong', 'thorax', 'thornbek', 'thorp', 'those', 'thot', 'though', 'thoughhh', 'thoughmi', 'thought', 'thoughti', 'thoughtsandyesw', 'thoughtwhi', 'thousand', 'thph', 'thread', 'threadless', 'threaten', 'three', 'thresholdrpg', 'threw', 'thrill', 'thro', 'throat', 'throatey', 'throb', 'throughout', 'throughput', 'throught', 'throw', 'throwboy', 'thrown', 'thru', 'thrush', 'thso', 'tht', 'thu', 'thum', 'thumb', 'thump', 'thumper', 'thunder', 'thunderbird', 'thunderi', 'thunderstorm', 'thunderstruck', 'thuquoc', 'thur', 'thurday', 'thursday', 'thursdayyy', 'thursdayyyi', 'thusgaard', 'thx', 'tháº', 'thã', 'thï', 'ti', 'tiandranc', 'tiannanixon', 'tibetan', 'tick', 'ticket', 'tickingtimebomb', 'tickvg', 'tidbit', 'tidend', 'tie', 'tierd', 'tierrabarb', 'tiffaney', 'tiffanysvaughan', 'tiger', 'tight', 'til', 'tile', 'tileset', 'till', 'tim', 'timberlak', 'timdp', 'time', 'timedecay', 'timegirl', 'timegnit', 'timehop', 'timeless', 'timeor', 'timetravellerx', 'timhawkfan', 'timjennion', 'timkit', 'timlovejoy', 'timmi', 'timnoonan', 'tin', 'tina', 'tinchi', 'ting', 'tingl', 'tingli', 'tini', 'tink', 'tinker', 'tinkerdel', 'tinkissarah', 'tinsel', 'tinuolavictoria', 'tinylittlebear', 'tinylollipop', 'tinypurplefish', 'tip', 'tipsen', 'tipsi', 'tiptop', 'tire', 'tiredbabysat', 'tiredtoo', 'tissietc', 'tissu', 'tita', 'titan', 'titanium', 'titi', 'titl', 'tivon', 'tiwit', 'tix', 'tizzi', 'tjsopher', 'tjthetruckdrivr', 'tk', 'tkofthewildboyz', 'tlk', 'tlot', 'tlr', 'tm', 'tmac', 'tmere', 'tmi', 'tmobil', 'tmofe', 'tmoneyscul', 'tmorrow', 'tmoz', 'tmr', 'tmrw', 'tnccinsd', 'tnggal', 'tnite', 'tnkgrl', 'tnt', 'tnx', 'toad', 'toast', 'toaster', 'toat', 'tobysteven', 'todaaaaay', 'todaaaayi', 'todaii', 'today', 'todaya', 'todaybr', 'todaybut', 'todayi', 'todayim', 'todaynev', 'todayshel', 'todayshow', 'todaytonight', 'todayuntil', 'todayveri', 'todaywasnt', 'todaywith', 'todayyy', 'todayyyyy', 'toe', 'toenail', 'toffernelson', 'togeth', 'toilet', 'toit', 'toke', 'token', 'tokusatsu', 'told', 'toledo', 'tolsonii', 'tom', 'toma', 'tomaiac', 'tomarow', 'tomblackuk', 'tomboytigress', 'tomfelton', 'tommcfli', 'tommorow', 'tommorowweekend', 'tommorrow', 'tommrw', 'tommyreilli', 'tommyruffin', 'tomo', 'tomoroooo', 'tomorow', 'tomorroooooooow', 'tomorrow', 'tomorrowani', 'tomorrowmayb', 'tomorrowtoday', 'tomorrowwwwwww', 'tomorrowwwwwwwwww', 'tomorrw', 'tomoz', 'ton', 'toncil', 'tonebeep', 'tongseng', 'tongu', 'toni', 'tonighet', 'tonight', 'tonightfelt', 'tonighthmad', 'tonighti', 'tonightit', 'tonit', 'toniteif', 'tonjac', 'tonyaam', 'tonyatko', 'tonyhawk', 'tonyhenson', 'tonytay', 'toobut', 'tooemili', 'toohop', 'tooit', 'took', 'tool', 'toolbar', 'toolstechniquesbut', 'toon', 'toono', 'tooo', 'tooom', 'toooo', 'toooom', 'tooooo', 'tooooooo', 'tooooooooooo', 'tooot', 'toosh', 'tooth', 'toothach', 'toothpast', 'toowith', 'top', 'topic', 'toprank', 'topshop', 'tori', 'toritruslow', 'torn', 'toronto', 'torontosymphoni', 'torr', 'torranc', 'torso', 'tortur', 'toss', 'total', 'totd', 'tote', 'tothepc', 'totur', 'touch', 'touchi', 'touchmus', 'touchï', 'tough', 'tought', 'tour', 'touringrid', 'tourist', 'toward', 'towel', 'toweli', 'tower', 'town', 'townlol', 'towson', 'toxinid', 'toy', 'tp', 'tq', 'tra', 'trace', 'tracecyru', 'tracey', 'track', 'trackl', 'trackstargibson', 'tractor', 'tractorqueen', 'tracyfieldsdlaalaa', 'trade', 'tradinggoddess', 'traffic', 'trafford', 'traffuck', 'tragic', 'trail', 'trailer', 'train', 'trainer', 'trampoin', 'tranform', 'transfer', 'transform', 'transfus', 'transit', 'translat', 'transmiss', 'transmit', 'transport', 'trap', 'trash', 'trauma', 'travel', 'traveladdict', 'travelin', 'travellin', 'travelstart', 'travismtv', 'travl', 'travolut', 'treadmil', 'treat', 'treatment', 'trebl', 'tredmil', 'tree', 'tregorysullivan', 'trek', 'trekki', 'tremend', 'trench', 'trend', 'trendhunt', 'trendmicro', 'trent', 'trentvanega', 'trenutek', 'trevieno', 'trey', 'treyderb', 'tri', 'trial', 'triathlon', 'tribe', 'tribut', 'triciapsguard', 'trick', 'triedstil', 'triffeh', 'trigger', 'trillion', 'trilog', 'triniti', 'trio', 'trip', 'tripl', 'triplejhack', 'trishi', 'trishvici', 'trismac', 'triumph', 'troppo', 'troubl', 'troublequot', 'troubleshoot', 'trouser', 'trovu', 'trstfndbbi', 'tru', 'truck', 'trudi', 'true', 'truegab', 'truerandomg', 'trugiaz', 'truli', 'trulyrest', 'trussit', 'trust', 'truste', 'trusti', 'trustquot', 'truth', 'tryin', 'tryinggg', 'tryna', 'tryout', 'tsaksonaki', 'tsarnick', 'tshirt', 'tsila', 'tstorm', 'tsunamiskweek', 'tt', 'tte', 'tten', 'tttt', 'ttual', 'tu', 'tub', 'tube', 'tudi', 'tue', 'tuesday', 'tuesdayblu', 'tuesdaynot', 'tuition', 'tuloy', 'tumaini', 'tumbl', 'tumblar', 'tumblr', 'tummi', 'tumor', 'tuna', 'tune', 'tunesgood', 'tunnel', 'ture', 'turkey', 'turkish', 'turn', 'turnedar', 'turner', 'turtl', 'turtlebu', 'tuscaloosa', 'tutor', 'tutori', 'tutorialquot', 'tv', 'tva', 'tvc', 'tvdnew', 'tvshack', 'tvshow', 'tw', 'twa', 'twat', 'tweday', 'tweed', 'tweep', 'tweet', 'tweetar', 'tweetbook', 'tweetdeck', 'tweeter', 'tweetercom', 'tweeterdiva', 'tweetfriendsit', 'tweetheart', 'tweeti', 'tweetiesmi', 'tweetiesse', 'tweetil', 'tweetin', 'tweetland', 'tweetpic', 'tweetramona', 'tweetshrink', 'tweetstat', 'tweetup', 'tweezey', 'twenti', 'tweopl', 'twhirl', 'twice', 'twidroid', 'twigscharli', 'twiiterr', 'twilight', 'twilightish', 'twilightlexicon', 'twin', 'twine', 'twinfatu', 'twinkeesquot', 'twinkler', 'twinnadryl', 'twist', 'twit', 'twitchhik', 'twitearth', 'twitel', 'twitpic', 'twitt', 'twittdud', 'twitter', 'twitterberri', 'twittercom', 'twitterfb', 'twitterfieberbeiebay', 'twitterfon', 'twitterfox', 'twitteri', 'twitterif', 'twitteris', 'twitterland', 'twitterlk', 'twittern', 'twitterpattercom', 'twitterpeep', 'twitterricolsss', 'twitterspac', 'twitterspher', 'twittersspsoul', 'twitterthumb', 'twittertip', 'twittervers', 'twittervil', 'twitterwhor', 'twitterworld', 'twitthead', 'twitti', 'twittin', 'twitvim', 'twitzap', 'twivert', 'twix', 'twixi', 'twlicious', 'twlightt', 'twll', 'two', 'twoosh', 'twweeeet', 'tx', 'txqwcjc', 'txshelbytx', 'txt', 'ty', 'tyefight', 'tyfe', 'tygerwaterfront', 'tyo', 'type', 'typeraceronc', 'typezero', 'typhoid', 'typic', 'tyres', 'tysonj', 'tzq', 'u', 'uandpet', 'ub', 'ubanktu', 'uber', 'ubertwitt', 'ubiqu', 'ubiquit', 'ubuntu', 'ud', 'udah', 'udh', 'udong', 'uefa', 'ug', 'ugg', 'ugggggggggggghhhh', 'uggghh', 'uggghhhhh', 'uggh', 'ugh', 'ughh', 'ughher', 'ughhh', 'ughhhh', 'ughhhhh', 'ughi', 'ugli', 'uh', 'uhh', 'uhhfansit', 'uhhh', 'uhhhh', 'uhhkay', 'ui', 'uitati', 'uj', 'ujj', 'uk', 'ukdivorc', 'uke', 'ukey', 'ukjapan', 'ukx', 'ulcer', 'ulit', 'ull', 'ultim', 'um', 'umadamgotlost', 'umbrella', 'umm', 'ummahfilm', 'ummm', 'ummmm', 'umtweeti', 'un', 'unaavion', 'unabl', 'unawar', 'unbar', 'unbear', 'unbeliev', 'unblock', 'unborn', 'unbrick', 'unbrok', 'unc', 'unchart', 'uncl', 'und', 'undaground', 'undead', 'undergrad', 'undergradu', 'underground', 'underneith', 'underoath', 'underplay', 'underr', 'undersid', 'understand', 'understandthat', 'understat', 'understood', 'undi', 'undu', 'unearth', 'unemploy', 'unemployedbush', 'unench', 'unexpect', 'unexpectedlyquot', 'unexplain', 'unfair', 'unfaith', 'unfavorit', 'unfinish', 'unfollow', 'unfortun', 'unfortunatli', 'ung', 'ungoverok', 'uni', 'unicorn', 'unimagin', 'uniqu', 'uniquevampir', 'unisonamp', 'unit', 'unitechi', 'unitej', 'unitzeroon', 'univers', 'unlawshaha', 'unlchallengecom', 'unless', 'unlik', 'unlock', 'unlov', 'unlshtehtrnip', 'unluckiest', 'unmarket', 'unmotiv', 'uno', 'unpack', 'unpaid', 'unpardon', 'unplan', 'unpleas', 'unplug', 'unprepar', 'unravel', 'unread', 'unreal', 'unredact', 'unscath', 'unseen', 'unspeak', 'unsubscrib', 'unsuccess', 'untangl', 'unthink', 'until', 'untim', 'untouchabletq', 'unus', 'unusu', 'unveil', 'unwant', 'up', 'upand', 'upcom', 'updat', 'updateflat', 'updatesbut', 'upe', 'upfeel', 'upfor', 'upgrad', 'upguess', 'uphav', 'upi', 'upish', 'upit', 'upload', 'uploadr', 'uplook', 'upmarket', 'upne', 'upnot', 'upon', 'upp', 'upper', 'uppp', 'upset', 'upsid', 'upso', 'upstair', 'upstat', 'upstream', 'upto', 'uptown', 'upway', 'uquot', 'uquotjust', 'ur', 'urain', 'urbabygurrl', 'urbanpinkpixi', 'urbanski', 'urbanthai', 'urg', 'urgent', 'urgg', 'urkl', 'url', 'urrrggg', 'urself', 'urselfn', 'us', 'usa', 'usb', 'uscold', 'use', 'useabl', 'usednonusa', 'useless', 'user', 'usernam', 'usi', 'usin', 'usk', 'usmeal', 'usp', 'usual', 'usualc', 'uswhatev', 'ut', 'utah', 'util', 'utopiaarmouri', 'utrecht', 'utterhip', 'utterli', 'uufd', 'uuhg', 'uuu', 'uuuuuuuuggghhhhhh', 'uv', 'uwk', 'uxsoup', 'uzm', 'uá', 'v', 'va', 'vacanc', 'vacat', 'vacationquot', 'vacationsss', 'vacay', 'vaction', 'vacuum', 'vaempyr', 'vagina', 'vaig', 'vaild', 'valdez', 'valenbfm', 'valencia', 'valentin', 'valeri', 'valeriekhoo', 'valiant', 'valid', 'valium', 'valleyi', 'valorandvellum', 'valuabl', 'valvert', 'valxx', 'vampa', 'vampir', 'vampiravalo', 'vampirebil', 'van', 'vancooooooov', 'vancouv', 'vanessamari', 'vanesssa', 'vanilla', 'vanillab', 'vanish', 'vanni', 'vargee', 'variabl', 'variat', 'variou', 'variti', 'varshamohan', 'varujan', 'varunsriram', 'vasco', 'vascul', 'vaselin', 'vat', 'vatd', 'vavroom', 'vbcfm', 'vc', 'vdichev', 've', 'vectip', 'vector', 'veda', 'veee', 'veekalvsjbx', 'veg', 'vega', 'vegan', 'veganboy', 'veganza', 'vegasquot', 'veget', 'vegetarian', 'vegeterian', 'veggi', 'vehicl', 'veil', 'vella', 'veloc', 'velvet', 'vend', 'vendor', 'vene', 'venic', 'ventnor', 'ventnorblog', 'ventur', 'ventureoutlook', 'venu', 'ver', 'verb', 'verfolgern', 'verg', 'verif', 'verifi', 'verizon', 'veronica', 'vers', 'versa', 'version', 'versu', 'verticalviolet', 'verwon', 'veryawen', 'vesper', 'vet', 'veteran', 'veto', 'vetod', 'vg', 'vh', 'vi', 'via', 'viabl', 'viaduct', 'viahourt', 'vibe', 'vibrant', 'vibrat', 'vic', 'vice', 'viceversayoul', 'vicin', 'vicki', 'victim', 'victori', 'victoria', 'victoriaerin', 'vid', 'video', 'videoscommentampsuscrib', 'videotlv', 'vidzon', 'vielleicht', 'vienna', 'vietnam', 'view', 'viewabl', 'viewcuz', 'vigor', 'vike', 'vilpponen', 'vin', 'vindiekin', 'vine', 'vinternol', 'vinum', 'vinyl', 'violat', 'violenc', 'vip', 'vippartyplann', 'virgin', 'virginfest', 'virtu', 'virtual', 'virtualewit', 'virtuallin', 'viru', 'virus', 'visa', 'visibl', 'visionari', 'visit', 'visita', 'visitor', 'visor', 'vista', 'visual', 'vital', 'vitamin', 'viva', 'vivalanina', 'vivid', 'vivipfeif', 'vivvid', 'viz', 'vjl', 'vlegand', 'vlog', 'vlogbroth', 'vlong', 'vm', 'vmc', 'vmprfreak', 'vo', 'vocabulari', 'vocal', 'vodka', 'vodou', 'voic', 'voicemail', 'voidet', 'voip', 'voipov', 'volleybal', 'volt', 'volterra', 'volum', 'volunt', 'voluntarili', 'volvic', 'von', 'vonster', 'voodoo', 'voodooexp', 'vote', 'voucher', 'vow', 'vox', 'voyeurismthos', 'vpz', 'vqp', 'vs', 'vsaharya', 'vt', 'vuittonretard', 'vulcanella', 'vulgar', 'vvxj', 'vwell', 'vwii', 'vx', 'vy', 'vzw', 'vã', 'w', 'wa', 'waaaaaa', 'waaaay', 'waaalk', 'waah', 'waant', 'waay', 'wadeheh', 'waffl', 'wafflesgirl', 'wag', 'wagah', 'wage', 'wagger', 'wah', 'waheyi', 'wahhey', 'wahlamora', 'wahlberg', 'wahoooooo', 'waistcoat', 'wait', 'waiter', 'waitin', 'waitingsoso', 'waivethesal', 'wake', 'wakeboard', 'wakeupcal', 'wale', 'walgreen', 'walk', 'walker', 'walkman', 'wall', 'wallac', 'wallet', 'wallewhoa', 'wallpap', 'wallquot', 'wallydwallow', 'walmart', 'walnut', 'walter', 'wam', 'wana', 'wandaharland', 'wander', 'wanderingfairi', 'waney', 'wang', 'wank', 'wankelrx', 'wanker', 'wanna', 'want', 'war', 'ward', 'warden', 'wardrob', 'wardybit', 'warfar', 'wargam', 'warlord', 'warm', 'warn', 'warneronstin', 'warp', 'warranti', 'warrenelli', 'warrenparkinson', 'warrior', 'warsquot', 'warti', 'warwraith', 'wasent', 'wash', 'washcloth', 'washedi', 'wasnt', 'wass', 'wast', 'wat', 'wata', 'watch', 'watchem', 'watchin', 'watchingi', 'watchmen', 'watchquot', 'wate', 'water', 'waterbi', 'waterfront', 'watermelon', 'waterproof', 'watim', 'watsess', 'watzatsong', 'wave', 'wax', 'way', 'wayand', 'wayn', 'wayquot', 'wayyy', 'wayyyyy', 'wbaustin', 'wbc', 'wbn', 'wbpodcast', 'wbu', 'wbuyou', 'wc', 'wcg', 'wcgx', 'wdemciaox', 'we', 'weak', 'weapon', 'wear', 'wearebutlin', 'weather', 'weatherobvi', 'weav', 'web', 'webb', 'webcam', 'webdotwiz', 'webdotwizard', 'webfreelanc', 'websit', 'webspher', 'webvetcom', 'webvis', 'wed', 'wedgi', 'wedgienet', 'wednesday', 'wednesdaynit', 'wee', 'weed', 'weee', 'weeeee', 'weeeeeeeeim', 'weeeeeeh', 'weeeek', 'weeeird', 'week', 'weekend', 'weekendagain', 'weekendi', 'weekendl', 'weekli', 'weekmayb', 'weekquot', 'weekshav', 'weenith', 'weenke', 'weep', 'weetabix', 'wehn', 'weight', 'weilin', 'wein', 'weird', 'weisslu', 'weith', 'welcom', 'well', 'wellhad', 'wellhonestli', 'welli', 'welllook', 'wellquot', 'wellso', 'wellthat', 'wellwher', 'wellwith', 'wellywood', 'welp', 'welpj', 'wemb', 'wembley', 'wen', 'wend', 'wendi', 'wenditv', 'wendybows', 'wendygyoung', 'wenlock', 'wenna', 'went', 'wer', 'werear', 'werent', 'wernt', 'werwolf', 'wesley', 'wesleycarr', 'west', 'westburi', 'westcoast', 'western', 'westminst', 'westney', 'westneyrhindxx', 'wesupportniley', 'wet', 'wethetravi', 'wetpaint', 'weve', 'weyburn', 'wfan', 'wfverkerk', 'wgl', 'wgray', 'wgtya', 'whaaaa', 'whaaaat', 'whack', 'whackim', 'whaever', 'whale', 'whaley', 'whancock', 'wharf', 'whassup', 'what', 'whatadam', 'whatch', 'whatcha', 'whatd', 'whatev', 'whatgt', 'whatleydud', 'whatr', 'whatswhatsian', 'whatta', 'whattt', 'whatwak', 'whatxx', 'wheat', 'whee', 'wheel', 'wheelbarrowquot', 'wheelworx', 'when', 'whenev', 'whent', 'whenyougethigh', 'wherd', 'where', 'whereiskevinn', 'wherev', 'whether', 'whew', 'whheerreee', 'whhhooohoo', 'whichev', 'whileand', 'whilst', 'whine', 'whip', 'whiski', 'whistl', 'white', 'whiteguysdancin', 'whitetigernora', 'whitneyhess', 'whitrt', 'who', 'whoa', 'whoever', 'whole', 'wholee', 'wholefood', 'wholeheartedli', 'wholl', 'whoo', 'whooo', 'whoop', 'whoope', 'whoopi', 'whore', 'whose', 'whosomeon', 'whoâ', 'whrrrruuuuuu', 'whupee', 'whyi', 'whytri', 'whyyyy', 'wic', 'wick', 'wickedd', 'wid', 'wide', 'widest', 'widget', 'widout', 'wierd', 'wife', 'wifey', 'wiff', 'wifi', 'wiggin', 'wight', 'wigsi', 'wii', 'wiii', 'wiiiiiish', 'wiiskey', 'wikiepedai', 'wil', 'wilco', 'wild', 'wildpeeta', 'wildquot', 'wildwood', 'wile', 'wilhelminaaah', 'will', 'willadam', 'willatt', 'willcarl', 'willhowel', 'willi', 'william', 'williamsledd', 'willieday', 'willkuhn', 'willl', 'willmiss', 'willoughbyc', 'willsur', 'willtompsett', 'willyjoegreen', 'willyour', 'wilson', 'wimbi', 'wimbledon', 'wimcoekaert', 'wimledon', 'wimp', 'win', 'winc', 'wind', 'windi', 'window', 'windshield', 'windysmeet', 'wine', 'winer', 'wing', 'wingsperezhilton', 'wink', 'winkey', 'winkfrombluey', 'winner', 'winquot', 'winter', 'wipe', 'wipl', 'wire', 'wireless', 'wisconsin', 'wisdom', 'wise', 'wisequeen', 'wisesigh', 'wish', 'wishhhh', 'wishin', 'wishlist', 'wit', 'witch', 'with', 'withdraw', 'withdrawl', 'withdrawnun', 'withheld', 'within', 'withlovekristin', 'withouit', 'without', 'witmol', 'witti', 'wive', 'wizard', 'wizpig', 'wk', 'wkend', 'wknd', 'wkndoh', 'wmedia', 'wmmarc', 'wmultipl', 'wnashvil', 'wnt', 'wntd', 'wnza', 'wo', 'woah', 'wobbl', 'woe', 'woeful', 'wogan', 'woganmay', 'woh', 'wohoooo', 'woke', 'woken', 'wokr', 'wold', 'wolf', 'wolfgangfrank', 'wolfman', 'wolfsoul', 'wollepb', 'wolverhampton', 'wolverin', 'wolvo', 'woman', 'women', 'wond', 'wonder', 'wonderful', 'wonderingsorri', 'wonka', 'wont', 'woo', 'wood', 'woof', 'wooh', 'wooho', 'woohoo', 'wool', 'wooo', 'wooohhooo', 'wooohooo', 'woooo', 'woooohooooo', 'wooooo', 'woooooooooooo', 'woooooooow', 'woooooow', 'wooooorrrddd', 'wooooosaaaa', 'woooowait', 'wooot', 'woop', 'woopwoop', 'woosang', 'woot', 'wootcom', 'wor', 'word', 'wordahead', 'wordl', 'wordpress', 'wordwhizkid', 'wore', 'work', 'workabl', 'workagainmiss', 'workahol', 'workboo', 'workcarolin', 'workdesk', 'worker', 'workgo', 'worki', 'workingif', 'workjust', 'workkki', 'workkkk', 'worklab', 'workmat', 'workne', 'workonli', 'workour', 'workout', 'workplac', 'workpray', 'workrol', 'workshop', 'worksshouldnt', 'workstat', 'world', 'worldand', 'worldhahahha', 'worldpray', 'worldthey', 'worldwid', 'worm', 'worn', 'worri', 'worrk', 'worryi', 'wors', 'worser', 'worst', 'worth', 'worthi', 'worthif', 'worthwhil', 'wossi', 'wot', 'would', 'woulda', 'woulddd', 'wouldnt', 'wouldnâ', 'wouldv', 'wound', 'woundcar', 'wout', 'wow', 'wowawesom', 'wowfarrah', 'wowi', 'wowthat', 'wowthi', 'wowzer', 'wp', 'wpddigit', 'wpf', 'wpwebhost', 'wr', 'wrangler', 'wrap', 'wrapper', 'wrath', 'wreak', 'wreck', 'wreckam', 'wrecker', 'wrestlemanianot', 'wrigley', 'wrist', 'write', 'writemelov', 'writemonkey', 'writer', 'writersblock', 'writerspri', 'writingdiva', 'written', 'wrk', 'wrking', 'wrong', 'wrongsmh', 'wrost', 'wrote', 'ws', 'wta', 'wtching', 'wtf', 'wtff', 'wth', 'wtheck', 'wu', 'wubsnet', 'wud', 'wudruff', 'wulffboy', 'wullufdud', 'wurk', 'wut', 'wuzzl', 'wv', 'wwailord', 'wwater', 'wwdc', 'wwjpat', 'wwpc', 'wwwbloggirlsbydesigncom', 'wwwbloxxxnet', 'wwwcagasinfo', 'wwwcocktailourcom', 'wwwfacesbyrozzjcom', 'wwwgirlsbydesigncom', 'wwwgroupthingorg', 'wwwimediaconnectioncom', 'wwwkillerjonet', 'wwwmyspacecomdxckinyamouth', 'wwwoffthechartradiocouk', 'wwwpolarisrentalscom', 'wwwraideilcom', 'wwwsurveypiratecom', 'wwwtheandybumataishowcom', 'wwwtolicesdoorkutcom', 'wwwtoutlemondesurcfblogspotcom', 'wwwtvcom', 'wwwtwittercomgo', 'wwwyoutubecomtitomi', 'wy', 'wyh', 'wyld', 'wymsywynx', 'wyn', 'wynstayfli', 'wyvern', 'x', 'xa', 'xaax', 'xalisa', 'xallthatjazzx', 'xandyyi', 'xavier', 'xbeckaxockx', 'xbianc', 'xbox', 'xcbi', 'xclairecullenx', 'xcolinx', 'xd', 'xdancer', 'xdddd', 'xddl', 'xdeadbeef', 'xdrive', 'xe', 'xedlo', 'xenex', 'xf', 'xfftl', 'xfreshtodeathx', 'xg', 'xhkt', 'xi', 'xikhai', 'ximefre', 'xjaeva', 'xjaix', 'xjane', 'xjizzlebabix', 'xk', 'xlad', 'xlouiserx', 'xlr', 'xma', 'xmasquerad', 'xmen', 'xmileycyrusx', 'xml', 'xndidi', 'xo', 'xojessie', 'xox', 'xoxo', 'xoxox', 'xoxoxoxoxo', 'xp', 'xpaulina', 'xperia', 'xphile', 'xr', 'xray', 'xrayspec', 'xrichard', 'xroldx', 'xshorti', 'xsophiejan', 'xstefaniele', 'xszg', 'xt', 'xtfx', 'xthemus', 'xthewhalerx', 'xthislov', 'xtinaaaa', 'xtineismyhero', 'xtra', 'xumj', 'xvdh', 'xw', 'xwae', 'xwen', 'xwi', 'xwu', 'xx', 'xxdrew', 'xxl', 'xxmeglovesyoux', 'xxneonninjaxx', 'xxstephi', 'xxx', 'xxxgmailcom', 'xxxx', 'xxxxxxx', 'xxxxxxxxxx', 'xxzx', 'xyqc', 'xyyd', 'xz', 'xzl', 'xznf', 'xzoe', 'ya', 'yaaaa', 'yaaaaayyy', 'yaaaay', 'yaar', 'yaay', 'yab', 'yac', 'yael', 'yah', 'yahoo', 'yahooooo', 'yahoop', 'yaldi', 'yaletown', 'yall', 'yamin', 'yamstersg', 'yandl', 'yang', 'yanke', 'yannionlin', 'yard', 'yardwork', 'yarn', 'yasmeiin', 'yasmin', 'yasmineyvett', 'yaumannn', 'yawn', 'yay', 'yayassexxxi', 'yayayayay', 'yayerrrrzzzzz', 'yayi', 'yayjon', 'yaym', 'yayyay', 'yayyy', 'yayyyi', 'yayyyyy', 'yayyyyyyy', 'yba', 'ycf', 'ycsing', 'ye', 'yea', 'yeaaaaaa', 'yeaaaaaaaaaaaaaaaaaaah', 'yeaah', 'yeaeveryon', 'yeah', 'yeahh', 'yeahher', 'yeahhh', 'yeahhhh', 'yeahit', 'yeahomg', 'yeahw', 'yeahyeah', 'yeanot', 'yeap', 'year', 'yearbook', 'yearquot', 'yearr', 'yearslolsocieti', 'yeay', 'yeeeeeeeey', 'yeezo', 'yeheeyyy', 'yehhaaa', 'yehhh', 'yell', 'yellow', 'yellowpark', 'yeow', 'yep', 'yeplol', 'yepoff', 'yeptht', 'yesh', 'yesquot', 'yess', 'yessirrr', 'yesss', 'yesssss', 'yessssssss', 'yessssssssssss', 'yest', 'yesterday', 'yesterdaywana', 'yesturday', 'yet', 'yetil', 'yetit', 'yetthat', 'yettt', 'yetttt', 'yey', 'yeyyy', 'yg', 'yh', 'yi', 'yiayia', 'yike', 'yipikiyayey', 'yknow', 'ylo', 'ym', 'ymu', 'ynaf', 'ynamusico', 'ynob', 'yo', 'yoavseg', 'yobeeon', 'yod', 'yoda', 'yoeyfreshi', 'yoga', 'yogadork', 'yoghurt', 'yogurt', 'yomamamamela', 'yoo', 'yooooou', 'yoouuu', 'yop', 'yor', 'york', 'yorker', 'yoself', 'yoshigi', 'you', 'youand', 'youbabi', 'youd', 'youhow', 'youi', 'youim', 'youknowbett', 'youlgreav', 'youll', 'youmi', 'youmiss', 'young', 'youngaq', 'youngdipset', 'younger', 'youngster', 'youquot', 'your', 'youreba', 'yourselfw', 'yourselfwond', 'youscentm', 'youth', 'youtub', 'youtubemark', 'youu', 'youuu', 'youuuu', 'youuuuu', 'youv', 'youx', 'youï', 'yoyoma', 'yr', 'yrold', 'ysl', 'ysnjen', 'ysterda', 'yt', 'yu', 'yud', 'yukki', 'yum', 'yumm', 'yummi', 'yummmminesssssss', 'yummo', 'yummymammi', 'yummyon', 'yumo', 'yunakin', 'yung', 'yungflip', 'yunja', 'yunoo', 'yup', 'yuph', 'yurhigh', 'yuri', 'yurr', 'yuyu', 'yvonn', 'yw', 'z', 'zacetl', 'zachriel', 'zack', 'zackalltimelow', 'zadr', 'zakkbak', 'zakootieso', 'zappyro', 'zara', 'zbender', 'zc', 'zdnx', 'zealand', 'zebra', 'zee', 'zeet', 'zeker', 'zelazelo', 'zelut', 'zengoali', 'zenrhino', 'zergmoney', 'zero', 'zeryck', 'zgso', 'zhzq', 'zi', 'ziggysego', 'zike', 'zillaman', 'zimbabw', 'zinedistro', 'ziphtml', 'zippi', 'zk', 'zo', 'zoe', 'zoecello', 'zogft', 'zombi', 'zombieninja', 'zomg', 'zone', 'zoo', 'zooooooooo', 'zpak', 'zrul', 'zs', 'zta', 'zu', 'zue', 'zukyleigh', 'zune', 'zurich', 'zurplemoon', 'zyber', 'zygoatsalami', 'zz', 'zzap', 'zzz', 'zzzz', 'zzzzzzz', '½', '½ai', '½ainï', '½ar', '½c', '½complet', '½dselsdagquot', '½en', '½haiyaa', '½i', '½ll', '½m', '½n', '½nefï', '½nquot', '½o', '½r', '½re', '½rmï', '½s', '½se', '½stand', '½t', '½tï', '½y', '½ï', 'á', 'â', 'ã', 'ã¼ã', 'ä', 'äƒng', 'å', 'ï', 'ï¾ÿc', 'ï¾ÿf']\n"
     ]
    }
   ],
   "source": [
    "print(tfidf.get_feature_names())"
   ]
  },
  {
   "cell_type": "code",
   "execution_count": 41,
   "metadata": {
    "colab": {},
    "colab_type": "code",
    "id": "920YtCPK6DqO"
   },
   "outputs": [
    {
     "data": {
      "text/html": [
       "<div>\n",
       "<style scoped>\n",
       "    .dataframe tbody tr th:only-of-type {\n",
       "        vertical-align: middle;\n",
       "    }\n",
       "\n",
       "    .dataframe tbody tr th {\n",
       "        vertical-align: top;\n",
       "    }\n",
       "\n",
       "    .dataframe thead th {\n",
       "        text-align: right;\n",
       "    }\n",
       "</style>\n",
       "<table border=\"1\" class=\"dataframe\">\n",
       "  <thead>\n",
       "    <tr style=\"text-align: right;\">\n",
       "      <th></th>\n",
       "      <th></th>\n",
       "      <th>aaaaag</th>\n",
       "      <th>aaaaahhh</th>\n",
       "      <th>aaaaahhhh</th>\n",
       "      <th>aaaall</th>\n",
       "      <th>aaaand</th>\n",
       "      <th>aaaawwwhey</th>\n",
       "      <th>aaah</th>\n",
       "      <th>aaajaayradd</th>\n",
       "      <th>aaargh</th>\n",
       "      <th>...</th>\n",
       "      <th>á</th>\n",
       "      <th>â</th>\n",
       "      <th>ã</th>\n",
       "      <th>ã¼ã</th>\n",
       "      <th>ä</th>\n",
       "      <th>äƒng</th>\n",
       "      <th>å</th>\n",
       "      <th>ï</th>\n",
       "      <th>ï¾ÿc</th>\n",
       "      <th>ï¾ÿf</th>\n",
       "    </tr>\n",
       "  </thead>\n",
       "  <tbody>\n",
       "    <tr>\n",
       "      <th>0</th>\n",
       "      <td>0.000000</td>\n",
       "      <td>0.0</td>\n",
       "      <td>0.0</td>\n",
       "      <td>0.0</td>\n",
       "      <td>0.0</td>\n",
       "      <td>0.0</td>\n",
       "      <td>0.0</td>\n",
       "      <td>0.0</td>\n",
       "      <td>0.0</td>\n",
       "      <td>0.0</td>\n",
       "      <td>...</td>\n",
       "      <td>0.0</td>\n",
       "      <td>0.0</td>\n",
       "      <td>0.0</td>\n",
       "      <td>0.0</td>\n",
       "      <td>0.0</td>\n",
       "      <td>0.0</td>\n",
       "      <td>0.0</td>\n",
       "      <td>0.0</td>\n",
       "      <td>0.0</td>\n",
       "      <td>0.0</td>\n",
       "    </tr>\n",
       "    <tr>\n",
       "      <th>1</th>\n",
       "      <td>0.049242</td>\n",
       "      <td>0.0</td>\n",
       "      <td>0.0</td>\n",
       "      <td>0.0</td>\n",
       "      <td>0.0</td>\n",
       "      <td>0.0</td>\n",
       "      <td>0.0</td>\n",
       "      <td>0.0</td>\n",
       "      <td>0.0</td>\n",
       "      <td>0.0</td>\n",
       "      <td>...</td>\n",
       "      <td>0.0</td>\n",
       "      <td>0.0</td>\n",
       "      <td>0.0</td>\n",
       "      <td>0.0</td>\n",
       "      <td>0.0</td>\n",
       "      <td>0.0</td>\n",
       "      <td>0.0</td>\n",
       "      <td>0.0</td>\n",
       "      <td>0.0</td>\n",
       "      <td>0.0</td>\n",
       "    </tr>\n",
       "    <tr>\n",
       "      <th>2</th>\n",
       "      <td>0.052199</td>\n",
       "      <td>0.0</td>\n",
       "      <td>0.0</td>\n",
       "      <td>0.0</td>\n",
       "      <td>0.0</td>\n",
       "      <td>0.0</td>\n",
       "      <td>0.0</td>\n",
       "      <td>0.0</td>\n",
       "      <td>0.0</td>\n",
       "      <td>0.0</td>\n",
       "      <td>...</td>\n",
       "      <td>0.0</td>\n",
       "      <td>0.0</td>\n",
       "      <td>0.0</td>\n",
       "      <td>0.0</td>\n",
       "      <td>0.0</td>\n",
       "      <td>0.0</td>\n",
       "      <td>0.0</td>\n",
       "      <td>0.0</td>\n",
       "      <td>0.0</td>\n",
       "      <td>0.0</td>\n",
       "    </tr>\n",
       "    <tr>\n",
       "      <th>3</th>\n",
       "      <td>0.037961</td>\n",
       "      <td>0.0</td>\n",
       "      <td>0.0</td>\n",
       "      <td>0.0</td>\n",
       "      <td>0.0</td>\n",
       "      <td>0.0</td>\n",
       "      <td>0.0</td>\n",
       "      <td>0.0</td>\n",
       "      <td>0.0</td>\n",
       "      <td>0.0</td>\n",
       "      <td>...</td>\n",
       "      <td>0.0</td>\n",
       "      <td>0.0</td>\n",
       "      <td>0.0</td>\n",
       "      <td>0.0</td>\n",
       "      <td>0.0</td>\n",
       "      <td>0.0</td>\n",
       "      <td>0.0</td>\n",
       "      <td>0.0</td>\n",
       "      <td>0.0</td>\n",
       "      <td>0.0</td>\n",
       "    </tr>\n",
       "    <tr>\n",
       "      <th>4</th>\n",
       "      <td>0.054089</td>\n",
       "      <td>0.0</td>\n",
       "      <td>0.0</td>\n",
       "      <td>0.0</td>\n",
       "      <td>0.0</td>\n",
       "      <td>0.0</td>\n",
       "      <td>0.0</td>\n",
       "      <td>0.0</td>\n",
       "      <td>0.0</td>\n",
       "      <td>0.0</td>\n",
       "      <td>...</td>\n",
       "      <td>0.0</td>\n",
       "      <td>0.0</td>\n",
       "      <td>0.0</td>\n",
       "      <td>0.0</td>\n",
       "      <td>0.0</td>\n",
       "      <td>0.0</td>\n",
       "      <td>0.0</td>\n",
       "      <td>0.0</td>\n",
       "      <td>0.0</td>\n",
       "      <td>0.0</td>\n",
       "    </tr>\n",
       "    <tr>\n",
       "      <th>5</th>\n",
       "      <td>0.000000</td>\n",
       "      <td>0.0</td>\n",
       "      <td>0.0</td>\n",
       "      <td>0.0</td>\n",
       "      <td>0.0</td>\n",
       "      <td>0.0</td>\n",
       "      <td>0.0</td>\n",
       "      <td>0.0</td>\n",
       "      <td>0.0</td>\n",
       "      <td>0.0</td>\n",
       "      <td>...</td>\n",
       "      <td>0.0</td>\n",
       "      <td>0.0</td>\n",
       "      <td>0.0</td>\n",
       "      <td>0.0</td>\n",
       "      <td>0.0</td>\n",
       "      <td>0.0</td>\n",
       "      <td>0.0</td>\n",
       "      <td>0.0</td>\n",
       "      <td>0.0</td>\n",
       "      <td>0.0</td>\n",
       "    </tr>\n",
       "    <tr>\n",
       "      <th>6</th>\n",
       "      <td>0.113833</td>\n",
       "      <td>0.0</td>\n",
       "      <td>0.0</td>\n",
       "      <td>0.0</td>\n",
       "      <td>0.0</td>\n",
       "      <td>0.0</td>\n",
       "      <td>0.0</td>\n",
       "      <td>0.0</td>\n",
       "      <td>0.0</td>\n",
       "      <td>0.0</td>\n",
       "      <td>...</td>\n",
       "      <td>0.0</td>\n",
       "      <td>0.0</td>\n",
       "      <td>0.0</td>\n",
       "      <td>0.0</td>\n",
       "      <td>0.0</td>\n",
       "      <td>0.0</td>\n",
       "      <td>0.0</td>\n",
       "      <td>0.0</td>\n",
       "      <td>0.0</td>\n",
       "      <td>0.0</td>\n",
       "    </tr>\n",
       "    <tr>\n",
       "      <th>7</th>\n",
       "      <td>0.049790</td>\n",
       "      <td>0.0</td>\n",
       "      <td>0.0</td>\n",
       "      <td>0.0</td>\n",
       "      <td>0.0</td>\n",
       "      <td>0.0</td>\n",
       "      <td>0.0</td>\n",
       "      <td>0.0</td>\n",
       "      <td>0.0</td>\n",
       "      <td>0.0</td>\n",
       "      <td>...</td>\n",
       "      <td>0.0</td>\n",
       "      <td>0.0</td>\n",
       "      <td>0.0</td>\n",
       "      <td>0.0</td>\n",
       "      <td>0.0</td>\n",
       "      <td>0.0</td>\n",
       "      <td>0.0</td>\n",
       "      <td>0.0</td>\n",
       "      <td>0.0</td>\n",
       "      <td>0.0</td>\n",
       "    </tr>\n",
       "    <tr>\n",
       "      <th>8</th>\n",
       "      <td>0.000000</td>\n",
       "      <td>0.0</td>\n",
       "      <td>0.0</td>\n",
       "      <td>0.0</td>\n",
       "      <td>0.0</td>\n",
       "      <td>0.0</td>\n",
       "      <td>0.0</td>\n",
       "      <td>0.0</td>\n",
       "      <td>0.0</td>\n",
       "      <td>0.0</td>\n",
       "      <td>...</td>\n",
       "      <td>0.0</td>\n",
       "      <td>0.0</td>\n",
       "      <td>0.0</td>\n",
       "      <td>0.0</td>\n",
       "      <td>0.0</td>\n",
       "      <td>0.0</td>\n",
       "      <td>0.0</td>\n",
       "      <td>0.0</td>\n",
       "      <td>0.0</td>\n",
       "      <td>0.0</td>\n",
       "    </tr>\n",
       "    <tr>\n",
       "      <th>9</th>\n",
       "      <td>0.098652</td>\n",
       "      <td>0.0</td>\n",
       "      <td>0.0</td>\n",
       "      <td>0.0</td>\n",
       "      <td>0.0</td>\n",
       "      <td>0.0</td>\n",
       "      <td>0.0</td>\n",
       "      <td>0.0</td>\n",
       "      <td>0.0</td>\n",
       "      <td>0.0</td>\n",
       "      <td>...</td>\n",
       "      <td>0.0</td>\n",
       "      <td>0.0</td>\n",
       "      <td>0.0</td>\n",
       "      <td>0.0</td>\n",
       "      <td>0.0</td>\n",
       "      <td>0.0</td>\n",
       "      <td>0.0</td>\n",
       "      <td>0.0</td>\n",
       "      <td>0.0</td>\n",
       "      <td>0.0</td>\n",
       "    </tr>\n",
       "  </tbody>\n",
       "</table>\n",
       "<p>10 rows × 15989 columns</p>\n",
       "</div>"
      ],
      "text/plain": [
       "             aaaaag  aaaaahhh  aaaaahhhh  aaaall  aaaand  aaaawwwhey  aaah  \\\n",
       "0  0.000000     0.0       0.0        0.0     0.0     0.0         0.0   0.0   \n",
       "1  0.049242     0.0       0.0        0.0     0.0     0.0         0.0   0.0   \n",
       "2  0.052199     0.0       0.0        0.0     0.0     0.0         0.0   0.0   \n",
       "3  0.037961     0.0       0.0        0.0     0.0     0.0         0.0   0.0   \n",
       "4  0.054089     0.0       0.0        0.0     0.0     0.0         0.0   0.0   \n",
       "5  0.000000     0.0       0.0        0.0     0.0     0.0         0.0   0.0   \n",
       "6  0.113833     0.0       0.0        0.0     0.0     0.0         0.0   0.0   \n",
       "7  0.049790     0.0       0.0        0.0     0.0     0.0         0.0   0.0   \n",
       "8  0.000000     0.0       0.0        0.0     0.0     0.0         0.0   0.0   \n",
       "9  0.098652     0.0       0.0        0.0     0.0     0.0         0.0   0.0   \n",
       "\n",
       "   aaajaayradd  aaargh  ...    á    â    ã  ã¼ã    ä  äƒng    å    ï  ï¾ÿc  \\\n",
       "0          0.0     0.0  ...  0.0  0.0  0.0  0.0  0.0   0.0  0.0  0.0   0.0   \n",
       "1          0.0     0.0  ...  0.0  0.0  0.0  0.0  0.0   0.0  0.0  0.0   0.0   \n",
       "2          0.0     0.0  ...  0.0  0.0  0.0  0.0  0.0   0.0  0.0  0.0   0.0   \n",
       "3          0.0     0.0  ...  0.0  0.0  0.0  0.0  0.0   0.0  0.0  0.0   0.0   \n",
       "4          0.0     0.0  ...  0.0  0.0  0.0  0.0  0.0   0.0  0.0  0.0   0.0   \n",
       "5          0.0     0.0  ...  0.0  0.0  0.0  0.0  0.0   0.0  0.0  0.0   0.0   \n",
       "6          0.0     0.0  ...  0.0  0.0  0.0  0.0  0.0   0.0  0.0  0.0   0.0   \n",
       "7          0.0     0.0  ...  0.0  0.0  0.0  0.0  0.0   0.0  0.0  0.0   0.0   \n",
       "8          0.0     0.0  ...  0.0  0.0  0.0  0.0  0.0   0.0  0.0  0.0   0.0   \n",
       "9          0.0     0.0  ...  0.0  0.0  0.0  0.0  0.0   0.0  0.0  0.0   0.0   \n",
       "\n",
       "   ï¾ÿf  \n",
       "0   0.0  \n",
       "1   0.0  \n",
       "2   0.0  \n",
       "3   0.0  \n",
       "4   0.0  \n",
       "5   0.0  \n",
       "6   0.0  \n",
       "7   0.0  \n",
       "8   0.0  \n",
       "9   0.0  \n",
       "\n",
       "[10 rows x 15989 columns]"
      ]
     },
     "execution_count": 41,
     "metadata": {},
     "output_type": "execute_result"
    }
   ],
   "source": [
    "df2 = pd.DataFrame(P.toarray(), columns = tfidf.get_feature_names())\n",
    "df2.head(10)"
   ]
  },
  {
   "cell_type": "code",
   "execution_count": 42,
   "metadata": {
    "colab": {},
    "colab_type": "code",
    "id": "03SF00LB6Dms"
   },
   "outputs": [
    {
     "data": {
      "text/html": [
       "<div>\n",
       "<style scoped>\n",
       "    .dataframe tbody tr th:only-of-type {\n",
       "        vertical-align: middle;\n",
       "    }\n",
       "\n",
       "    .dataframe tbody tr th {\n",
       "        vertical-align: top;\n",
       "    }\n",
       "\n",
       "    .dataframe thead th {\n",
       "        text-align: right;\n",
       "    }\n",
       "</style>\n",
       "<table border=\"1\" class=\"dataframe\">\n",
       "  <thead>\n",
       "    <tr style=\"text-align: right;\">\n",
       "      <th></th>\n",
       "      <th></th>\n",
       "      <th>aaaaag</th>\n",
       "      <th>aaaaahhh</th>\n",
       "      <th>aaaaahhhh</th>\n",
       "      <th>aaaall</th>\n",
       "      <th>aaaand</th>\n",
       "      <th>aaaawwwhey</th>\n",
       "      <th>aaah</th>\n",
       "      <th>aaajaayradd</th>\n",
       "      <th>aaargh</th>\n",
       "      <th>...</th>\n",
       "      <th>â</th>\n",
       "      <th>ã</th>\n",
       "      <th>ã¼ã</th>\n",
       "      <th>ä</th>\n",
       "      <th>äƒng</th>\n",
       "      <th>å</th>\n",
       "      <th>ï</th>\n",
       "      <th>ï¾ÿc</th>\n",
       "      <th>ï¾ÿf</th>\n",
       "      <th>label</th>\n",
       "    </tr>\n",
       "  </thead>\n",
       "  <tbody>\n",
       "    <tr>\n",
       "      <th>0</th>\n",
       "      <td>0.000000</td>\n",
       "      <td>0.0</td>\n",
       "      <td>0.0</td>\n",
       "      <td>0.0</td>\n",
       "      <td>0.0</td>\n",
       "      <td>0.0</td>\n",
       "      <td>0.0</td>\n",
       "      <td>0.0</td>\n",
       "      <td>0.0</td>\n",
       "      <td>0.0</td>\n",
       "      <td>...</td>\n",
       "      <td>0.0</td>\n",
       "      <td>0.0</td>\n",
       "      <td>0.0</td>\n",
       "      <td>0.0</td>\n",
       "      <td>0.0</td>\n",
       "      <td>0.0</td>\n",
       "      <td>0.0</td>\n",
       "      <td>0.0</td>\n",
       "      <td>0.0</td>\n",
       "      <td>0</td>\n",
       "    </tr>\n",
       "    <tr>\n",
       "      <th>1</th>\n",
       "      <td>0.049242</td>\n",
       "      <td>0.0</td>\n",
       "      <td>0.0</td>\n",
       "      <td>0.0</td>\n",
       "      <td>0.0</td>\n",
       "      <td>0.0</td>\n",
       "      <td>0.0</td>\n",
       "      <td>0.0</td>\n",
       "      <td>0.0</td>\n",
       "      <td>0.0</td>\n",
       "      <td>...</td>\n",
       "      <td>0.0</td>\n",
       "      <td>0.0</td>\n",
       "      <td>0.0</td>\n",
       "      <td>0.0</td>\n",
       "      <td>0.0</td>\n",
       "      <td>0.0</td>\n",
       "      <td>0.0</td>\n",
       "      <td>0.0</td>\n",
       "      <td>0.0</td>\n",
       "      <td>0</td>\n",
       "    </tr>\n",
       "    <tr>\n",
       "      <th>2</th>\n",
       "      <td>0.052199</td>\n",
       "      <td>0.0</td>\n",
       "      <td>0.0</td>\n",
       "      <td>0.0</td>\n",
       "      <td>0.0</td>\n",
       "      <td>0.0</td>\n",
       "      <td>0.0</td>\n",
       "      <td>0.0</td>\n",
       "      <td>0.0</td>\n",
       "      <td>0.0</td>\n",
       "      <td>...</td>\n",
       "      <td>0.0</td>\n",
       "      <td>0.0</td>\n",
       "      <td>0.0</td>\n",
       "      <td>0.0</td>\n",
       "      <td>0.0</td>\n",
       "      <td>0.0</td>\n",
       "      <td>0.0</td>\n",
       "      <td>0.0</td>\n",
       "      <td>0.0</td>\n",
       "      <td>0</td>\n",
       "    </tr>\n",
       "    <tr>\n",
       "      <th>3</th>\n",
       "      <td>0.037961</td>\n",
       "      <td>0.0</td>\n",
       "      <td>0.0</td>\n",
       "      <td>0.0</td>\n",
       "      <td>0.0</td>\n",
       "      <td>0.0</td>\n",
       "      <td>0.0</td>\n",
       "      <td>0.0</td>\n",
       "      <td>0.0</td>\n",
       "      <td>0.0</td>\n",
       "      <td>...</td>\n",
       "      <td>0.0</td>\n",
       "      <td>0.0</td>\n",
       "      <td>0.0</td>\n",
       "      <td>0.0</td>\n",
       "      <td>0.0</td>\n",
       "      <td>0.0</td>\n",
       "      <td>0.0</td>\n",
       "      <td>0.0</td>\n",
       "      <td>0.0</td>\n",
       "      <td>0</td>\n",
       "    </tr>\n",
       "    <tr>\n",
       "      <th>4</th>\n",
       "      <td>0.054089</td>\n",
       "      <td>0.0</td>\n",
       "      <td>0.0</td>\n",
       "      <td>0.0</td>\n",
       "      <td>0.0</td>\n",
       "      <td>0.0</td>\n",
       "      <td>0.0</td>\n",
       "      <td>0.0</td>\n",
       "      <td>0.0</td>\n",
       "      <td>0.0</td>\n",
       "      <td>...</td>\n",
       "      <td>0.0</td>\n",
       "      <td>0.0</td>\n",
       "      <td>0.0</td>\n",
       "      <td>0.0</td>\n",
       "      <td>0.0</td>\n",
       "      <td>0.0</td>\n",
       "      <td>0.0</td>\n",
       "      <td>0.0</td>\n",
       "      <td>0.0</td>\n",
       "      <td>0</td>\n",
       "    </tr>\n",
       "    <tr>\n",
       "      <th>...</th>\n",
       "      <td>...</td>\n",
       "      <td>...</td>\n",
       "      <td>...</td>\n",
       "      <td>...</td>\n",
       "      <td>...</td>\n",
       "      <td>...</td>\n",
       "      <td>...</td>\n",
       "      <td>...</td>\n",
       "      <td>...</td>\n",
       "      <td>...</td>\n",
       "      <td>...</td>\n",
       "      <td>...</td>\n",
       "      <td>...</td>\n",
       "      <td>...</td>\n",
       "      <td>...</td>\n",
       "      <td>...</td>\n",
       "      <td>...</td>\n",
       "      <td>...</td>\n",
       "      <td>...</td>\n",
       "      <td>...</td>\n",
       "      <td>...</td>\n",
       "    </tr>\n",
       "    <tr>\n",
       "      <th>9995</th>\n",
       "      <td>0.041095</td>\n",
       "      <td>0.0</td>\n",
       "      <td>0.0</td>\n",
       "      <td>0.0</td>\n",
       "      <td>0.0</td>\n",
       "      <td>0.0</td>\n",
       "      <td>0.0</td>\n",
       "      <td>0.0</td>\n",
       "      <td>0.0</td>\n",
       "      <td>0.0</td>\n",
       "      <td>...</td>\n",
       "      <td>0.0</td>\n",
       "      <td>0.0</td>\n",
       "      <td>0.0</td>\n",
       "      <td>0.0</td>\n",
       "      <td>0.0</td>\n",
       "      <td>0.0</td>\n",
       "      <td>0.0</td>\n",
       "      <td>0.0</td>\n",
       "      <td>0.0</td>\n",
       "      <td>1</td>\n",
       "    </tr>\n",
       "    <tr>\n",
       "      <th>9996</th>\n",
       "      <td>0.058907</td>\n",
       "      <td>0.0</td>\n",
       "      <td>0.0</td>\n",
       "      <td>0.0</td>\n",
       "      <td>0.0</td>\n",
       "      <td>0.0</td>\n",
       "      <td>0.0</td>\n",
       "      <td>0.0</td>\n",
       "      <td>0.0</td>\n",
       "      <td>0.0</td>\n",
       "      <td>...</td>\n",
       "      <td>0.0</td>\n",
       "      <td>0.0</td>\n",
       "      <td>0.0</td>\n",
       "      <td>0.0</td>\n",
       "      <td>0.0</td>\n",
       "      <td>0.0</td>\n",
       "      <td>0.0</td>\n",
       "      <td>0.0</td>\n",
       "      <td>0.0</td>\n",
       "      <td>1</td>\n",
       "    </tr>\n",
       "    <tr>\n",
       "      <th>9997</th>\n",
       "      <td>0.099614</td>\n",
       "      <td>0.0</td>\n",
       "      <td>0.0</td>\n",
       "      <td>0.0</td>\n",
       "      <td>0.0</td>\n",
       "      <td>0.0</td>\n",
       "      <td>0.0</td>\n",
       "      <td>0.0</td>\n",
       "      <td>0.0</td>\n",
       "      <td>0.0</td>\n",
       "      <td>...</td>\n",
       "      <td>0.0</td>\n",
       "      <td>0.0</td>\n",
       "      <td>0.0</td>\n",
       "      <td>0.0</td>\n",
       "      <td>0.0</td>\n",
       "      <td>0.0</td>\n",
       "      <td>0.0</td>\n",
       "      <td>0.0</td>\n",
       "      <td>0.0</td>\n",
       "      <td>1</td>\n",
       "    </tr>\n",
       "    <tr>\n",
       "      <th>9998</th>\n",
       "      <td>0.050544</td>\n",
       "      <td>0.0</td>\n",
       "      <td>0.0</td>\n",
       "      <td>0.0</td>\n",
       "      <td>0.0</td>\n",
       "      <td>0.0</td>\n",
       "      <td>0.0</td>\n",
       "      <td>0.0</td>\n",
       "      <td>0.0</td>\n",
       "      <td>0.0</td>\n",
       "      <td>...</td>\n",
       "      <td>0.0</td>\n",
       "      <td>0.0</td>\n",
       "      <td>0.0</td>\n",
       "      <td>0.0</td>\n",
       "      <td>0.0</td>\n",
       "      <td>0.0</td>\n",
       "      <td>0.0</td>\n",
       "      <td>0.0</td>\n",
       "      <td>0.0</td>\n",
       "      <td>1</td>\n",
       "    </tr>\n",
       "    <tr>\n",
       "      <th>9999</th>\n",
       "      <td>0.063120</td>\n",
       "      <td>0.0</td>\n",
       "      <td>0.0</td>\n",
       "      <td>0.0</td>\n",
       "      <td>0.0</td>\n",
       "      <td>0.0</td>\n",
       "      <td>0.0</td>\n",
       "      <td>0.0</td>\n",
       "      <td>0.0</td>\n",
       "      <td>0.0</td>\n",
       "      <td>...</td>\n",
       "      <td>0.0</td>\n",
       "      <td>0.0</td>\n",
       "      <td>0.0</td>\n",
       "      <td>0.0</td>\n",
       "      <td>0.0</td>\n",
       "      <td>0.0</td>\n",
       "      <td>0.0</td>\n",
       "      <td>0.0</td>\n",
       "      <td>0.0</td>\n",
       "      <td>1</td>\n",
       "    </tr>\n",
       "  </tbody>\n",
       "</table>\n",
       "<p>10000 rows × 15990 columns</p>\n",
       "</div>"
      ],
      "text/plain": [
       "                aaaaag  aaaaahhh  aaaaahhhh  aaaall  aaaand  aaaawwwhey  aaah  \\\n",
       "0     0.000000     0.0       0.0        0.0     0.0     0.0         0.0   0.0   \n",
       "1     0.049242     0.0       0.0        0.0     0.0     0.0         0.0   0.0   \n",
       "2     0.052199     0.0       0.0        0.0     0.0     0.0         0.0   0.0   \n",
       "3     0.037961     0.0       0.0        0.0     0.0     0.0         0.0   0.0   \n",
       "4     0.054089     0.0       0.0        0.0     0.0     0.0         0.0   0.0   \n",
       "...        ...     ...       ...        ...     ...     ...         ...   ...   \n",
       "9995  0.041095     0.0       0.0        0.0     0.0     0.0         0.0   0.0   \n",
       "9996  0.058907     0.0       0.0        0.0     0.0     0.0         0.0   0.0   \n",
       "9997  0.099614     0.0       0.0        0.0     0.0     0.0         0.0   0.0   \n",
       "9998  0.050544     0.0       0.0        0.0     0.0     0.0         0.0   0.0   \n",
       "9999  0.063120     0.0       0.0        0.0     0.0     0.0         0.0   0.0   \n",
       "\n",
       "      aaajaayradd  aaargh  ...    â    ã  ã¼ã    ä  äƒng    å    ï  ï¾ÿc  \\\n",
       "0             0.0     0.0  ...  0.0  0.0  0.0  0.0   0.0  0.0  0.0   0.0   \n",
       "1             0.0     0.0  ...  0.0  0.0  0.0  0.0   0.0  0.0  0.0   0.0   \n",
       "2             0.0     0.0  ...  0.0  0.0  0.0  0.0   0.0  0.0  0.0   0.0   \n",
       "3             0.0     0.0  ...  0.0  0.0  0.0  0.0   0.0  0.0  0.0   0.0   \n",
       "4             0.0     0.0  ...  0.0  0.0  0.0  0.0   0.0  0.0  0.0   0.0   \n",
       "...           ...     ...  ...  ...  ...  ...  ...   ...  ...  ...   ...   \n",
       "9995          0.0     0.0  ...  0.0  0.0  0.0  0.0   0.0  0.0  0.0   0.0   \n",
       "9996          0.0     0.0  ...  0.0  0.0  0.0  0.0   0.0  0.0  0.0   0.0   \n",
       "9997          0.0     0.0  ...  0.0  0.0  0.0  0.0   0.0  0.0  0.0   0.0   \n",
       "9998          0.0     0.0  ...  0.0  0.0  0.0  0.0   0.0  0.0  0.0   0.0   \n",
       "9999          0.0     0.0  ...  0.0  0.0  0.0  0.0   0.0  0.0  0.0   0.0   \n",
       "\n",
       "      ï¾ÿf  label  \n",
       "0      0.0      0  \n",
       "1      0.0      0  \n",
       "2      0.0      0  \n",
       "3      0.0      0  \n",
       "4      0.0      0  \n",
       "...    ...    ...  \n",
       "9995   0.0      1  \n",
       "9996   0.0      1  \n",
       "9997   0.0      1  \n",
       "9998   0.0      1  \n",
       "9999   0.0      1  \n",
       "\n",
       "[10000 rows x 15990 columns]"
      ]
     },
     "execution_count": 42,
     "metadata": {},
     "output_type": "execute_result"
    }
   ],
   "source": [
    "df2['label'] = tweets_less['label'].values\n",
    "df2"
   ]
  },
  {
   "cell_type": "code",
   "execution_count": 43,
   "metadata": {
    "colab": {},
    "colab_type": "code",
    "id": "wqZZ4xyd6DjJ"
   },
   "outputs": [
    {
     "data": {
      "text/plain": [
       "(10000, 15989)"
      ]
     },
     "execution_count": 43,
     "metadata": {},
     "output_type": "execute_result"
    }
   ],
   "source": [
    "X = pd.DataFrame(df2.iloc[:,:-1])\n",
    "y = pd.DataFrame(df2.iloc[:,-1])\n",
    "X.shape"
   ]
  },
  {
   "cell_type": "code",
   "execution_count": 44,
   "metadata": {
    "colab": {},
    "colab_type": "code",
    "id": "ufQzIP6X6BAu"
   },
   "outputs": [
    {
     "data": {
      "text/plain": [
       "(10000, 1)"
      ]
     },
     "execution_count": 44,
     "metadata": {},
     "output_type": "execute_result"
    }
   ],
   "source": [
    "y.shape"
   ]
  },
  {
   "cell_type": "code",
   "execution_count": 45,
   "metadata": {
    "colab": {},
    "colab_type": "code",
    "id": "QY-mKQts6A8k"
   },
   "outputs": [
    {
     "data": {
      "text/plain": [
       "1    5001\n",
       "0    4999\n",
       "Name: label, dtype: int64"
      ]
     },
     "execution_count": 45,
     "metadata": {},
     "output_type": "execute_result"
    }
   ],
   "source": [
    "df2['label'].value_counts()"
   ]
  },
  {
   "cell_type": "markdown",
   "metadata": {},
   "source": [
    "# Logistic regression"
   ]
  },
  {
   "cell_type": "code",
   "execution_count": 46,
   "metadata": {
    "colab": {},
    "colab_type": "code",
    "id": "Tcq_D2sX6A4z"
   },
   "outputs": [
    {
     "data": {
      "text/plain": [
       "LogisticRegression()"
      ]
     },
     "execution_count": 46,
     "metadata": {},
     "output_type": "execute_result"
    }
   ],
   "source": [
    "#spliting into train and test data\n",
    "X_train, X_test, y_train, y_test = train_test_split(X, y, test_size = 0.2, random_state = 1)\n",
    "#random state is used when data is collected form different sources, so trainin and testing will be randomly chosen\n",
    "#also, you can give any number to randm state, to make sure, the data taken is same eveytime, we took 1\n",
    "model = LogisticRegression()\n",
    "#https://stackoverflow.com/questions/34165731/a-column-vector-y-was-passed-when-a-1d-array-was-expected\n",
    "model.fit(X_train, y_train.values.ravel())"
   ]
  },
  {
   "cell_type": "code",
   "execution_count": 47,
   "metadata": {
    "colab": {},
    "colab_type": "code",
    "id": "q8oNLD4Q6A1f"
   },
   "outputs": [
    {
     "name": "stdout",
     "output_type": "stream",
     "text": [
      "Train Accuracy is 0.8955\n",
      "Test Accuracy is 0.7515\n"
     ]
    }
   ],
   "source": [
    "print(\"Train Accuracy is\", model.score(X_train, y_train))\n",
    "print(\"Test Accuracy is\", model.score(X_test, y_test))"
   ]
  },
  {
   "cell_type": "markdown",
   "metadata": {},
   "source": [
    "# Multinomial NB"
   ]
  },
  {
   "cell_type": "code",
   "execution_count": 48,
   "metadata": {
    "colab": {},
    "colab_type": "code",
    "id": "Z7ucO-Wg6Ays"
   },
   "outputs": [
    {
     "name": "stdout",
     "output_type": "stream",
     "text": [
      "Train Accuracy is 0.93325\n",
      "Test Accuracy is 0.7595\n"
     ]
    }
   ],
   "source": [
    "from sklearn.naive_bayes import MultinomialNB\n",
    "nb = MultinomialNB()\n",
    "nb.fit(X_train, y_train.values.ravel())\n",
    "print(\"Train Accuracy is\", nb.score(X_train, y_train))\n",
    "print(\"Test Accuracy is\", nb.score(X_test, y_test))"
   ]
  },
  {
   "cell_type": "markdown",
   "metadata": {},
   "source": [
    "# Random Forest"
   ]
  },
  {
   "cell_type": "code",
   "execution_count": 49,
   "metadata": {
    "colab": {},
    "colab_type": "code",
    "id": "PUleB-JF6Aut"
   },
   "outputs": [
    {
     "name": "stdout",
     "output_type": "stream",
     "text": [
      "Train Accuracy is 0.99975\n",
      "Test Accuracy is 0.7345\n"
     ]
    }
   ],
   "source": [
    "from sklearn.ensemble import RandomForestClassifier\n",
    "rf = RandomForestClassifier()\n",
    "rf.fit(X_train, y_train.values.ravel())\n",
    "print(\"Train Accuracy is\", rf.score(X_train, y_train))\n",
    "print(\"Test Accuracy is\", rf.score(X_test, y_test))"
   ]
  },
  {
   "cell_type": "code",
   "execution_count": null,
   "metadata": {
    "colab": {},
    "colab_type": "code",
    "id": "ih51GGoc6ArI"
   },
   "outputs": [],
   "source": []
  },
  {
   "cell_type": "code",
   "execution_count": 50,
   "metadata": {
    "colab": {},
    "colab_type": "code",
    "id": "AXME8BrQ6Anx"
   },
   "outputs": [],
   "source": [
    "import tweepy"
   ]
  },
  {
   "cell_type": "code",
   "execution_count": 51,
   "metadata": {
    "colab": {},
    "colab_type": "code",
    "id": "ljR489MK6AkW"
   },
   "outputs": [],
   "source": [
    "access_token = '740071211523264512-a4CDoXv6L3ZP8v41QyLnWo2rTW0Rum7'\n",
    "access_token_secret = 'Eu3qrJNGL3ocGZNOt7dm3bG4LvwjBxNfLeIsaveqPCmRT'\n",
    "\n",
    "api_key = '6CjV0v3Fl63O1uhBKiUbuHUux'\n",
    "api_secret_key = 'rlRxuUl5nBRAG7hY3wAf1NeCQgNwa3bGtJgV9fgQDoZDl2AQOx'"
   ]
  },
  {
   "cell_type": "code",
   "execution_count": 52,
   "metadata": {
    "colab": {},
    "colab_type": "code",
    "id": "V4pApmxu6Ag2"
   },
   "outputs": [],
   "source": [
    "auth = tweepy.OAuthHandler(api_key, api_secret_key)\n",
    "auth.set_access_token(access_token, access_token_secret)"
   ]
  },
  {
   "cell_type": "code",
   "execution_count": 53,
   "metadata": {
    "colab": {},
    "colab_type": "code",
    "id": "iGxThXLF6AaR"
   },
   "outputs": [],
   "source": [
    "api = tweepy.API(auth)"
   ]
  },
  {
   "cell_type": "code",
   "execution_count": 144,
   "metadata": {
    "colab": {},
    "colab_type": "code",
    "id": "uFWAT3ZI6AXI"
   },
   "outputs": [
    {
     "data": {
      "text/html": [
       "<div>\n",
       "<style scoped>\n",
       "    .dataframe tbody tr th:only-of-type {\n",
       "        vertical-align: middle;\n",
       "    }\n",
       "\n",
       "    .dataframe tbody tr th {\n",
       "        vertical-align: top;\n",
       "    }\n",
       "\n",
       "    .dataframe thead th {\n",
       "        text-align: right;\n",
       "    }\n",
       "</style>\n",
       "<table border=\"1\" class=\"dataframe\">\n",
       "  <thead>\n",
       "    <tr style=\"text-align: right;\">\n",
       "      <th></th>\n",
       "      <th>special_tweets</th>\n",
       "    </tr>\n",
       "  </thead>\n",
       "  <tbody>\n",
       "    <tr>\n",
       "      <th>0</th>\n",
       "      <td>RT @amandaleighlaw: The police state wasn’t built in 1 day or imagined by 1 person. It will not ...</td>\n",
       "    </tr>\n",
       "    <tr>\n",
       "      <th>1</th>\n",
       "      <td>@rakz_27 Hi mam,\\nCan reliance fall or not.?\\nWhat can we do buy or sell?</td>\n",
       "    </tr>\n",
       "    <tr>\n",
       "      <th>2</th>\n",
       "      <td>@so_says_sally @SharonBrennan 9. And are homes already had significant issues with funding, work...</td>\n",
       "    </tr>\n",
       "    <tr>\n",
       "      <th>3</th>\n",
       "      <td>RT @amandaleighlaw: The police state wasn’t built in 1 day or imagined by 1 person. It will not ...</td>\n",
       "    </tr>\n",
       "    <tr>\n",
       "      <th>4</th>\n",
       "      <td>RT @MylesMcNulty: ...such a huge amount of funding for it completely removes any reliance on the...</td>\n",
       "    </tr>\n",
       "    <tr>\n",
       "      <th>5</th>\n",
       "      <td>RT @begin_invest: The Biggies 😌\\n\\nVisit: https://t.co/VJzCqtupVT\\n\\n#begininvest #BeASmartInves...</td>\n",
       "    </tr>\n",
       "    <tr>\n",
       "      <th>6</th>\n",
       "      <td>RT @amandaleighlaw: The police state wasn’t built in 1 day or imagined by 1 person. It will not ...</td>\n",
       "    </tr>\n",
       "    <tr>\n",
       "      <th>7</th>\n",
       "      <td>New article in Ethics and Information Technology where I argue that over-reliance on internal me...</td>\n",
       "    </tr>\n",
       "    <tr>\n",
       "      <th>8</th>\n",
       "      <td>RT @krishnalubb: In a nutshell, it's a great one indeed...✌️😊🙏superb and wonderful indeed...\\nA ...</td>\n",
       "    </tr>\n",
       "    <tr>\n",
       "      <th>9</th>\n",
       "      <td>Amid COVID-19, Investors Bet On Mukesh Ambani's Jio And Its Giant-Killer Playbook https://t.co/i...</td>\n",
       "    </tr>\n",
       "    <tr>\n",
       "      <th>10</th>\n",
       "      <td>RT @HajariJain: Aatmanirbhar Bharat: India's self-reliance to be based on five pillars, says PM ...</td>\n",
       "    </tr>\n",
       "    <tr>\n",
       "      <th>11</th>\n",
       "      <td>RT @amandaleighlaw: The police state wasn’t built in 1 day or imagined by 1 person. It will not ...</td>\n",
       "    </tr>\n",
       "    <tr>\n",
       "      <th>12</th>\n",
       "      <td>Sell Bharti /Infratel /Idea/Reliance for 80-90% free fall</td>\n",
       "    </tr>\n",
       "    <tr>\n",
       "      <th>13</th>\n",
       "      <td>RT @VijayKedia1: #ThursdayThought \\nWhenever a big Public offering has happened the same sector ...</td>\n",
       "    </tr>\n",
       "    <tr>\n",
       "      <th>14</th>\n",
       "      <td>@reliancejio Ultimate Job done by Mr. Sushil Dixit &amp;amp; team during COVID-19 lockdown period by...</td>\n",
       "    </tr>\n",
       "  </tbody>\n",
       "</table>\n",
       "</div>"
      ],
      "text/plain": [
       "                                                                                         special_tweets\n",
       "0   RT @amandaleighlaw: The police state wasn’t built in 1 day or imagined by 1 person. It will not ...\n",
       "1                             @rakz_27 Hi mam,\\nCan reliance fall or not.?\\nWhat can we do buy or sell?\n",
       "2   @so_says_sally @SharonBrennan 9. And are homes already had significant issues with funding, work...\n",
       "3   RT @amandaleighlaw: The police state wasn’t built in 1 day or imagined by 1 person. It will not ...\n",
       "4   RT @MylesMcNulty: ...such a huge amount of funding for it completely removes any reliance on the...\n",
       "5   RT @begin_invest: The Biggies 😌\\n\\nVisit: https://t.co/VJzCqtupVT\\n\\n#begininvest #BeASmartInves...\n",
       "6   RT @amandaleighlaw: The police state wasn’t built in 1 day or imagined by 1 person. It will not ...\n",
       "7   New article in Ethics and Information Technology where I argue that over-reliance on internal me...\n",
       "8   RT @krishnalubb: In a nutshell, it's a great one indeed...✌️😊🙏superb and wonderful indeed...\\nA ...\n",
       "9   Amid COVID-19, Investors Bet On Mukesh Ambani's Jio And Its Giant-Killer Playbook https://t.co/i...\n",
       "10  RT @HajariJain: Aatmanirbhar Bharat: India's self-reliance to be based on five pillars, says PM ...\n",
       "11  RT @amandaleighlaw: The police state wasn’t built in 1 day or imagined by 1 person. It will not ...\n",
       "12                                            Sell Bharti /Infratel /Idea/Reliance for 80-90% free fall\n",
       "13  RT @VijayKedia1: #ThursdayThought \\nWhenever a big Public offering has happened the same sector ...\n",
       "14  @reliancejio Ultimate Job done by Mr. Sushil Dixit &amp; team during COVID-19 lockdown period by..."
      ]
     },
     "execution_count": 144,
     "metadata": {},
     "output_type": "execute_result"
    }
   ],
   "source": [
    "public_tweets = api.search(q = 'reliance')\n",
    "df = pd.DataFrame(columns=['special_tweets'])\n",
    "for tweet in public_tweets:\n",
    "    df = df.append({'special_tweets': tweet.text}, ignore_index=True)\n",
    "df"
   ]
  },
  {
   "cell_type": "code",
   "execution_count": 145,
   "metadata": {},
   "outputs": [
    {
     "data": {
      "text/plain": [
       "(15, 1)"
      ]
     },
     "execution_count": 145,
     "metadata": {},
     "output_type": "execute_result"
    }
   ],
   "source": [
    "df.shape"
   ]
  },
  {
   "cell_type": "code",
   "execution_count": 157,
   "metadata": {},
   "outputs": [],
   "source": [
    "# def remove_punct(text):\n",
    "#     text  = \"\".join([char for char in text if char not in string.punctuation])\n",
    "#     text = re.sub('[0-9]+', '', text)\n",
    "#     return text"
   ]
  },
  {
   "cell_type": "code",
   "execution_count": 156,
   "metadata": {},
   "outputs": [],
   "source": [
    "# #https://stackoverflow.com/questions/20625582/how-to-deal-with-settingwithcopywarning-in-pandas\n",
    "# pd.options.mode.chained_assignment = None  # default='warn'\n",
    "\n",
    "# df['special_tweets'] = df['special_tweets'].apply(lambda x: remove_punct(x))\n",
    "# df['special_tweets'][0]"
   ]
  },
  {
   "cell_type": "code",
   "execution_count": 148,
   "metadata": {},
   "outputs": [],
   "source": [
    "# def tokenization(text):\n",
    "#     text = re.split('\\W+', text)\n",
    "#     return text\n",
    "\n",
    "# df['special_tweets'] = df['special_tweets'].apply(lambda x: tokenization(x.lower()))"
   ]
  },
  {
   "cell_type": "code",
   "execution_count": 155,
   "metadata": {},
   "outputs": [],
   "source": [
    "# #removing stopword\n",
    "\n",
    "# stopword = nltk.corpus.stopwords.words('english')\n",
    "\n",
    "# def remove_stopwords(text):\n",
    "#     text = [word for word in text if word not in stopword]\n",
    "#     return text\n",
    "\n",
    "# df['special_tweets'] = df['special_tweets'].apply(lambda x: remove_stopwords(x))\n",
    "# df['special_tweets'][0]"
   ]
  },
  {
   "cell_type": "code",
   "execution_count": 152,
   "metadata": {},
   "outputs": [],
   "source": [
    "# #stemming and Lammetization\n",
    "# ps = nltk.PorterStemmer()\n",
    "\n",
    "# def stemming(text):\n",
    "#     text = [ps.stem(word) for word in text]\n",
    "#     return text\n",
    "\n",
    "# df['special_tweets_stem'] = df['special_tweets_stop'].apply(lambda x: stemming(x))\n",
    "# df['special_tweets_stem'][0]"
   ]
  },
  {
   "cell_type": "code",
   "execution_count": null,
   "metadata": {},
   "outputs": [],
   "source": []
  },
  {
   "cell_type": "code",
   "execution_count": 154,
   "metadata": {},
   "outputs": [],
   "source": [
    "# df['special_tweets'][0]"
   ]
  },
  {
   "cell_type": "code",
   "execution_count": 153,
   "metadata": {},
   "outputs": [],
   "source": [
    "# tweet = df['special_tweets'][0]\n",
    "# tweet"
   ]
  },
  {
   "cell_type": "markdown",
   "metadata": {},
   "source": [
    "# tweet example"
   ]
  },
  {
   "cell_type": "code",
   "execution_count": 158,
   "metadata": {},
   "outputs": [],
   "source": [
    "tweet_example = \" This is a good minor project\""
   ]
  },
  {
   "cell_type": "code",
   "execution_count": 160,
   "metadata": {},
   "outputs": [
    {
     "name": "stdout",
     "output_type": "stream",
     "text": [
      "1\n"
     ]
    }
   ],
   "source": [
    "print(model.predict(tfidf.transform([tweet_example]))[0])"
   ]
  },
  {
   "cell_type": "code",
   "execution_count": 161,
   "metadata": {},
   "outputs": [
    {
     "name": "stdout",
     "output_type": "stream",
     "text": [
      "1\n"
     ]
    }
   ],
   "source": [
    "print(rf.predict(tfidf.transform([tweet_example]))[0])"
   ]
  },
  {
   "cell_type": "code",
   "execution_count": 162,
   "metadata": {},
   "outputs": [
    {
     "name": "stdout",
     "output_type": "stream",
     "text": [
      "1\n"
     ]
    }
   ],
   "source": [
    "print(nb.predict(tfidf.transform([tweet_example]))[0])"
   ]
  },
  {
   "cell_type": "code",
   "execution_count": null,
   "metadata": {},
   "outputs": [],
   "source": []
  }
 ],
 "metadata": {
  "colab": {
   "collapsed_sections": [],
   "name": "Vectorizer",
   "provenance": []
  },
  "kernelspec": {
   "display_name": "Python 3",
   "language": "python",
   "name": "python3"
  },
  "language_info": {
   "codemirror_mode": {
    "name": "ipython",
    "version": 3
   },
   "file_extension": ".py",
   "mimetype": "text/x-python",
   "name": "python",
   "nbconvert_exporter": "python",
   "pygments_lexer": "ipython3",
   "version": "3.7.7"
  }
 },
 "nbformat": 4,
 "nbformat_minor": 1
}
